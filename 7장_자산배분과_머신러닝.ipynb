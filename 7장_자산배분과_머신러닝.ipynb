{
  "nbformat": 4,
  "nbformat_minor": 0,
  "metadata": {
    "colab": {
      "name": "7장 자산배분과 머신러닝",
      "provenance": [],
      "collapsed_sections": [],
      "authorship_tag": "ABX9TyNXluGyP0k51Uu6Hq4TAZsM",
      "include_colab_link": true
    },
    "kernelspec": {
      "name": "python3",
      "display_name": "Python 3"
    }
  },
  "cells": [
    {
      "cell_type": "markdown",
      "metadata": {
        "id": "view-in-github",
        "colab_type": "text"
      },
      "source": [
        "<a href=\"https://colab.research.google.com/github/jimsjoo/gilbut_portfolio/blob/master/7%EC%9E%A5_%EC%9E%90%EC%82%B0%EB%B0%B0%EB%B6%84%EA%B3%BC_%EB%A8%B8%EC%8B%A0%EB%9F%AC%EB%8B%9D.ipynb\" target=\"_parent\"><img src=\"https://colab.research.google.com/assets/colab-badge.svg\" alt=\"Open In Colab\"/></a>"
      ]
    },
    {
      "cell_type": "markdown",
      "metadata": {
        "id": "x0m8YVisT9o_"
      },
      "source": [
        "##7.2\t머신러닝 맛보기, 선형회귀"
      ]
    },
    {
      "cell_type": "code",
      "metadata": {
        "id": "SxtSo0wPKNEi"
      },
      "source": [
        "import numpy as np"
      ],
      "execution_count": null,
      "outputs": []
    },
    {
      "cell_type": "code",
      "metadata": {
        "id": "032NHNaTKc1p"
      },
      "source": [
        "# x 값과 y값\n",
        "x = np.array( [1, 2, 3 ] )\n",
        "y = np.array( [3, 5, 7 ] )"
      ],
      "execution_count": null,
      "outputs": []
    },
    {
      "cell_type": "code",
      "metadata": {
        "id": "5KKJQsc2Kgxp",
        "colab": {
          "base_uri": "https://localhost:8080/"
        },
        "outputId": "102158fa-1e04-4ef6-e1c1-d69e9d11058b"
      },
      "source": [
        "# x와 y의 평균값\n",
        "mx = np.mean(x)\n",
        "my = np.mean(y)\n",
        "print(\"x의 평균값:\", mx)\n",
        "print(\"y의 평균값:\", my)"
      ],
      "execution_count": null,
      "outputs": [
        {
          "output_type": "stream",
          "text": [
            "x의 평균값: 2.0\n",
            "y의 평균값: 5.0\n"
          ],
          "name": "stdout"
        }
      ]
    },
    {
      "cell_type": "code",
      "metadata": {
        "id": "UDzgkm2NKjlA"
      },
      "source": [
        "# 기울기 공식의 분모\n",
        "divisor = sum([(mx - i)**2 for i in x])"
      ],
      "execution_count": null,
      "outputs": []
    },
    {
      "cell_type": "code",
      "metadata": {
        "id": "MByK8lZaKmJs"
      },
      "source": [
        "# 기울기 공식의 분자\n",
        "# d = 0\n",
        "# for i in range(len(x)):\n",
        "#    d += (x[i] - mx) * (y[i] - my)\n",
        "\n",
        "# dividend = d\n",
        "\n",
        "dividend = sum([ (xi-mx)*(yi-my) for xi, yi in zip(x, y) ] )"
      ],
      "execution_count": null,
      "outputs": []
    },
    {
      "cell_type": "code",
      "metadata": {
        "id": "yeS3p4ccKoos",
        "colab": {
          "base_uri": "https://localhost:8080/"
        },
        "outputId": "cc0f15c3-883f-4f79-a39c-2b015d049b6c"
      },
      "source": [
        "print(\"분모:\", divisor)\n",
        "print(\"분자:\", dividend)"
      ],
      "execution_count": null,
      "outputs": [
        {
          "output_type": "stream",
          "text": [
            "분모: 2.0\n",
            "분자: 4.0\n"
          ],
          "name": "stdout"
        }
      ]
    },
    {
      "cell_type": "code",
      "metadata": {
        "id": "P4I_KschKrEy"
      },
      "source": [
        "# 기울기와 y 절편 구하기\n",
        "W = dividend / divisor\n",
        "b = my - (mx*W)"
      ],
      "execution_count": null,
      "outputs": []
    },
    {
      "cell_type": "code",
      "metadata": {
        "id": "8aiC7ov0KtJZ",
        "colab": {
          "base_uri": "https://localhost:8080/"
        },
        "outputId": "47bf45c9-e398-408c-820f-01232fa57896"
      },
      "source": [
        "# 출력으로 확인\n",
        "print(\"기울기 W =\", W)\n",
        "print(\"y 절편 b =\", b)"
      ],
      "execution_count": null,
      "outputs": [
        {
          "output_type": "stream",
          "text": [
            "기울기 W = 2.0\n",
            "y 절편 b = 1.0\n"
          ],
          "name": "stdout"
        }
      ]
    },
    {
      "cell_type": "code",
      "metadata": {
        "id": "ec8SIx-nqkiT",
        "colab": {
          "base_uri": "https://localhost:8080/"
        },
        "outputId": "33284674-b8cb-4de5-ccf8-fb97eec44b41"
      },
      "source": [
        "# 오차 \n",
        "import numpy as np\n",
        "# x 값과 y값\n",
        "x = np.array( [1, 2, 3 ] )\n",
        "y = np.array( [4, 7, 9 ] )\n",
        "# 기울기 W, 절편 b\n",
        "W = 2.0\n",
        "b = 1.0\n",
        "# x값을 주고 예측값(y_hat)을 구한다\n",
        "for xi, yi in zip(x, y):\n",
        "  y_hat = W * xi + b\n",
        "  # 실제값(y)과 예측값(y_hat)이 오차이다\n",
        "  err = yi - y_hat\n",
        "  print('%.f = %.f - %.f ' % (err, yi, y_hat))"
      ],
      "execution_count": null,
      "outputs": [
        {
          "output_type": "stream",
          "text": [
            "1 = 4 - 3 \n",
            "2 = 7 - 5 \n",
            "2 = 9 - 7 \n"
          ],
          "name": "stdout"
        }
      ]
    },
    {
      "cell_type": "code",
      "metadata": {
        "id": "UHHhVIK3pAmg",
        "colab": {
          "base_uri": "https://localhost:8080/"
        },
        "outputId": "5354f08c-7795-4d37-82fa-61033ef21999"
      },
      "source": [
        "import numpy as np\n",
        "# MSE 함수\n",
        "\n",
        "def mse(y, y_hat):\n",
        "   return ((y - y_hat) ** 2).mean()\n",
        "\n",
        "# x 값과 y값\n",
        "x = np.array([1, 2, 3 ])\n",
        "y = np.array([4, 7, 9 ])\n",
        "W = 2.0\n",
        "b = 1.0\n",
        "y_hat = []\n",
        "\n",
        "for xi, yi in zip(x, y):\n",
        "  y_hat.append( W * xi + b )\n",
        "\n",
        "y_hat = np.array(y_hat)\n",
        "mse_val = mse(y, y_hat) \n",
        "print('MSE = %.f' % (mse_val))"
      ],
      "execution_count": null,
      "outputs": [
        {
          "output_type": "stream",
          "text": [
            "MSE = 3\n"
          ],
          "name": "stdout"
        }
      ]
    },
    {
      "cell_type": "markdown",
      "metadata": {
        "id": "ox2WJwEvBpwj"
      },
      "source": [
        "###7.2.1\t비용함수와 경사하강법"
      ]
    },
    {
      "cell_type": "code",
      "metadata": {
        "id": "Vu9JpqIhBTrv",
        "colab": {
          "base_uri": "https://localhost:8080/",
          "height": 320
        },
        "outputId": "ad499693-fc79-46e3-f0ac-3ab8e1a2343f"
      },
      "source": [
        "import numpy as np\n",
        "import matplotlib.pyplot as plt\n",
        "\n",
        "x_data = np.array([1., 2., 3., 4., 5., 6.])\n",
        "y_data = np.array([9., 12., 15., 18., 21., 24.])\n",
        " \n",
        "#그래프로 나타내 봅니다.\n",
        "plt.figure(figsize=(8,5))\n",
        "plt.scatter(x_data, y_data)\n",
        "plt.show()"
      ],
      "execution_count": null,
      "outputs": [
        {
          "output_type": "display_data",
          "data": {
            "image/png": "[encoded data removed]",
            "text/plain": [
              "<Figure size 576x360 with 1 Axes>"
            ]
          },
          "metadata": {
            "tags": [],
            "needs_background": "light"
          }
        }
      ]
    },
    {
      "cell_type": "code",
      "metadata": {
        "id": "VwEaeA0uB7qz",
        "colab": {
          "base_uri": "https://localhost:8080/"
        },
        "outputId": "4cf27d96-5068-4527-fcc8-648210e3ae78"
      },
      "source": [
        "#리스트로 되어 있는 x와 y값을 넘파이 배열로 바꾸어 줍니다.(인덱스를 주어 하나씩 불러와 계산이 가능해 지도록 하기 위함입니다.)\n",
        "# x_data = np.array(x)\n",
        "# y_data = np.array(y)\n",
        " \n",
        "# 기울기 W와 절편 b의 값을 초기화 합니다.\n",
        "W = 0\n",
        "b = 0\n",
        " \n",
        "#학습률을 정합니다.\n",
        "lr = 0.05 \n",
        " \n",
        "#몇 번 반복될지를 설정합니다.(0부터 세므로 원하는 반복 횟수에 +1을 해 주어야 합니다.)\n",
        "epochs = 1000 \n",
        " \n",
        "#경사 하강법을 시작합니다.\n",
        "for i in range(epochs): # epoch 수 만큼 반복\n",
        "    y_hat = W * x_data + b  #y를 구하는 식을 세웁니다\n",
        "    error = y_data - y_hat  #오차를 구하는 식입니다.\n",
        "    W_diff = -(1/len(x_data)) * sum(x_data * (error)) # 오차함수를 a로 미분한 값입니다. \n",
        "    b_diff = -(1/len(x_data)) * sum(error)  # 오차함수를 b로 미분한 값입니다. \n",
        "    W = W - lr * W_diff  # 학습률을 곱해 기존의 a값을 업데이트합니다.\n",
        "    b = b - lr * b_diff  # 학습률을 곱해 기존의 b값을 업데이트합니다.\n",
        "    if i % 100 == 0:    # 100번 반복될 때마다 현재의 a값, b값을 출력합니다.\n",
        "        print(\"epoch=%.f, 기울기=%.04f, 절편=%.04f\" % (i, W, b))"
      ],
      "execution_count": null,
      "outputs": [
        {
          "output_type": "stream",
          "text": [
            "epoch=0, 기울기=3.3250, 절편=0.8250\n",
            "epoch=100, 기울기=3.4651, 절편=4.0088\n",
            "epoch=200, 기울기=3.1860, 절편=5.2037\n",
            "epoch=300, 기울기=3.0744, 절편=5.6816\n",
            "epoch=400, 기울기=3.0297, 절편=5.8727\n",
            "epoch=500, 기울기=3.0119, 절편=5.9491\n",
            "epoch=600, 기울기=3.0048, 절편=5.9796\n",
            "epoch=700, 기울기=3.0019, 절편=5.9919\n",
            "epoch=800, 기울기=3.0008, 절편=5.9967\n",
            "epoch=900, 기울기=3.0003, 절편=5.9987\n"
          ],
          "name": "stdout"
        }
      ]
    },
    {
      "cell_type": "code",
      "metadata": {
        "id": "YYCTyX-tCD7T",
        "colab": {
          "base_uri": "https://localhost:8080/",
          "height": 265
        },
        "outputId": "dc8c59f2-47c8-456e-8801-698f78999f48"
      },
      "source": [
        "# 앞서 구한 기울기와 절편을 이용해 그래프를 그려 봅니다.\n",
        "y_pred = W * x_data + b\n",
        "plt.scatter(x_data, y_data)\n",
        "plt.plot([min(x_data), max(x_data)], [min(y_pred), max(y_pred)])\n",
        "plt.show()"
      ],
      "execution_count": null,
      "outputs": [
        {
          "output_type": "display_data",
          "data": {
            "image/png": "[encoded data removed]",
            "text/plain": [
              "<Figure size 432x288 with 1 Axes>"
            ]
          },
          "metadata": {
            "tags": [],
            "needs_background": "light"
          }
        }
      ]
    },
    {
      "cell_type": "markdown",
      "metadata": {
        "id": "B4etxVn-Tm9p"
      },
      "source": [
        "###7.2.3\t유클리드 거리"
      ]
    },
    {
      "cell_type": "code",
      "metadata": {
        "id": "3Xi58qz5R1zE",
        "colab": {
          "base_uri": "https://localhost:8080/"
        },
        "outputId": "85ed99d6-6c58-47d7-fac7-06e2fae7f3b6"
      },
      "source": [
        "# K최근접이웃 알고리즘\n",
        "def euclidean_distance(pt1, pt2):\n",
        "  distance = 0\n",
        "  for i in range(len(pt1)):\n",
        "    distance += (pt1[i] - pt2[i]) ** 2\n",
        "  return distance ** 0.5\n",
        "\n",
        "print(euclidean_distance([5, 4, 3], [1, 7, 9]))"
      ],
      "execution_count": null,
      "outputs": [
        {
          "output_type": "stream",
          "text": [
            "7.810249675906654\n"
          ],
          "name": "stdout"
        }
      ]
    },
    {
      "cell_type": "code",
      "metadata": {
        "id": "gUTQGvyL6BIA",
        "colab": {
          "base_uri": "https://localhost:8080/"
        },
        "outputId": "3fde4e97-265a-4336-cac6-f1c3e9c2d06e"
      },
      "source": [
        "import math\n",
        "\n",
        "def euclidean_distance(pt1, pt2):\n",
        "  return math.sqrt(sum([(d1-d2)**2 for d1, d2 in zip(pt1,pt2)]))\n",
        "\n",
        "print(euclidean_distance([5, 4, 3], [1, 7, 9]))  "
      ],
      "execution_count": null,
      "outputs": [
        {
          "output_type": "stream",
          "text": [
            "7.810249675906654\n"
          ],
          "name": "stdout"
        }
      ]
    },
    {
      "cell_type": "markdown",
      "metadata": {
        "id": "5Ob361blTf--"
      },
      "source": [
        "###7.2.4\t박쥐를 분류하는 K최근접이웃 알고리즘"
      ]
    },
    {
      "cell_type": "code",
      "metadata": {
        "id": "nJiWkyCh6Pif"
      },
      "source": [
        "# Test distance function\n",
        "# [x, y, type]\n",
        "zoo = [\n",
        "  [ 2.78 , 2.55 , 0 ],\n",
        "\t[ 1.46 , 2.36 , 0 ],\n",
        "\t[ 3.39 , 4.40 , 0 ],\n",
        "\t[ 1.38 , 1.85 , 0 ],\n",
        "\t[ 3.06 , 3.00 , 0 ],\n",
        "\t[ 7.62 , 2.75 , 1 ],\n",
        "\t[ 5.33 , 2.08 , 1 ],\n",
        "\t[ 6.92 , 1.77 , 1 ],\n",
        "\t[ 8.67 ,-0.24 , 1 ],\n",
        "\t[ 7.67 , 3.50 , 1 ] \n",
        "]"
      ],
      "execution_count": null,
      "outputs": []
    },
    {
      "cell_type": "code",
      "metadata": {
        "id": "20-ovi8T6XR8",
        "colab": {
          "base_uri": "https://localhost:8080/"
        },
        "outputId": "f398ce9d-328c-4d67-e63d-e714ecfed45f"
      },
      "source": [
        "bat = [3,4]\n",
        "\n",
        "for animal in zoo:\n",
        "\td = euclidean_distance(bat, animal)\n",
        "\tprint(d)"
      ],
      "execution_count": null,
      "outputs": [
        {
          "output_type": "stream",
          "text": [
            "1.4665946952038251\n",
            "2.249711092562776\n",
            "0.5586591089385372\n",
            "2.6920066864701506\n",
            "1.0017983829094554\n",
            "4.786115335008132\n",
            "3.0191555110659674\n",
            "4.509911307331886\n",
            "7.080007062143371\n",
            "4.696690324047349\n"
          ],
          "name": "stdout"
        }
      ]
    },
    {
      "cell_type": "code",
      "metadata": {
        "id": "UmOU7c1E6tDp",
        "colab": {
          "base_uri": "https://localhost:8080/"
        },
        "outputId": "d42fec91-42b3-43b5-8dad-3a5a5b6e6595"
      },
      "source": [
        "distances = []\n",
        "\n",
        "bat = [3,4]\n",
        "\n",
        "for animal in zoo:\n",
        "\td = euclidean_distance( bat, animal )\n",
        "\tdistances.append( ( animal, d ) )\n",
        "\n",
        "distances.sort( key=lambda tup: tup[1] )\n",
        "\n",
        "k = 3\n",
        "for i in range(k):  \n",
        "  print(distances[i])"
      ],
      "execution_count": null,
      "outputs": [
        {
          "output_type": "stream",
          "text": [
            "([3.39, 4.4, 0], 0.5586591089385372)\n",
            "([3.06, 3.0, 0], 1.0017983829094554)\n",
            "([2.78, 2.55, 0], 1.4665946952038251)\n"
          ],
          "name": "stdout"
        }
      ]
    },
    {
      "cell_type": "code",
      "metadata": {
        "id": "-HU1D2Aj7key",
        "colab": {
          "base_uri": "https://localhost:8080/"
        },
        "outputId": "6587ebe0-f357-48fe-ce4c-2a4828449285"
      },
      "source": [
        "# Locate the most similar neighbors\n",
        "def get_neighbors(train, new_one, k):\n",
        "\tdistances = []\n",
        "\tfor t in train:\n",
        "\t\td = euclidean_distance(new_one, t)\t\n",
        "\t\tdistances.append((t, d))\n",
        "\tdistances.sort(key=lambda tup: tup[1])\n",
        "\tneighbors = []\n",
        "\tfor i in range(k):\n",
        "\t\tneighbors.append(distances[i][0])\n",
        "\treturn neighbors\n",
        "\n",
        "k = 3\n",
        "neighbors = get_neighbors(zoo, bat, k)\n",
        "for neighbor in neighbors:\n",
        "\tprint(neighbor)"
      ],
      "execution_count": null,
      "outputs": [
        {
          "output_type": "stream",
          "text": [
            "[3.39, 4.4, 0]\n",
            "[3.06, 3.0, 0]\n",
            "[2.78, 2.55, 0]\n"
          ],
          "name": "stdout"
        }
      ]
    },
    {
      "cell_type": "markdown",
      "metadata": {
        "id": "ZN2h9zPsGFYU"
      },
      "source": [
        "##7.3\tK-최근접이웃 알고리즘을 이용한 회귀"
      ]
    },
    {
      "cell_type": "markdown",
      "metadata": {
        "id": "uivjJfdUTXLQ"
      },
      "source": [
        "###7.3.1\t라이브러리 임포트"
      ]
    },
    {
      "cell_type": "code",
      "metadata": {
        "id": "3kEvXohtGEvw"
      },
      "source": [
        "import warnings\n",
        "warnings.filterwarnings(action='ignore')\n",
        "# warnings.filterwarnings(action='default')\n",
        "\n",
        "import numpy as np\n",
        "import matplotlib.pyplot as plt\n",
        "import pandas as pd\n",
        "from pandas_datareader import data as web\n",
        "from sklearn.neighbors import KNeighborsClassifier\n",
        "from sklearn.metrics import accuracy_score"
      ],
      "execution_count": null,
      "outputs": []
    },
    {
      "cell_type": "markdown",
      "metadata": {
        "id": "RX41CpNjTRhu"
      },
      "source": [
        "###7.3.2\t주가지수 데이터 가져오기"
      ]
    },
    {
      "cell_type": "code",
      "metadata": {
        "id": "0zkE6Xl_GE1y",
        "colab": {
          "base_uri": "https://localhost:8080/",
          "height": 433
        },
        "outputId": "2498cdd1-6478-46d4-8ad2-fd70b8f64842"
      },
      "source": [
        "symbol, source, start, end = 'SPY', 'yahoo', '2016-01-01', '2020-01-01'\n",
        "df = web.DataReader(symbol, source, start, end)[['Open', 'High', 'Low', 'Close']]\n",
        "\n",
        "# 또는\n",
        "# df = web.DataReader('SPY', data_source='yahoo',start='2016-01-01', end='2020-01-01')[['Open', 'High', 'Low', 'Close']]\n",
        "\n",
        "# 또는\n",
        "# df = web.DataReader('SPY', data_source='yahoo',start='2016-01-01', end='2020-01-01')\n",
        "# df = df[['Open', 'High', 'Low', 'Close']]\n",
        "display(df.head(), df.tail())"
      ],
      "execution_count": null,
      "outputs": [
        {
          "output_type": "display_data",
          "data": {
            "text/html": [
              "<div>\n",
              "<style scoped>\n",
              "    .dataframe tbody tr th:only-of-type {\n",
              "        vertical-align: middle;\n",
              "    }\n",
              "\n",
              "    .dataframe tbody tr th {\n",
              "        vertical-align: top;\n",
              "    }\n",
              "\n",
              "    .dataframe thead th {\n",
              "        text-align: right;\n",
              "    }\n",
              "</style>\n",
              "<table border=\"1\" class=\"dataframe\">\n",
              "  <thead>\n",
              "    <tr style=\"text-align: right;\">\n",
              "      <th></th>\n",
              "      <th>Open</th>\n",
              "      <th>High</th>\n",
              "      <th>Low</th>\n",
              "      <th>Close</th>\n",
              "    </tr>\n",
              "    <tr>\n",
              "      <th>Date</th>\n",
              "      <th></th>\n",
              "      <th></th>\n",
              "      <th></th>\n",
              "      <th></th>\n",
              "    </tr>\n",
              "  </thead>\n",
              "  <tbody>\n",
              "    <tr>\n",
              "      <th>2016-01-04</th>\n",
              "      <td>200.490005</td>\n",
              "      <td>201.029999</td>\n",
              "      <td>198.589996</td>\n",
              "      <td>201.020004</td>\n",
              "    </tr>\n",
              "    <tr>\n",
              "      <th>2016-01-05</th>\n",
              "      <td>201.399994</td>\n",
              "      <td>201.899994</td>\n",
              "      <td>200.050003</td>\n",
              "      <td>201.360001</td>\n",
              "    </tr>\n",
              "    <tr>\n",
              "      <th>2016-01-06</th>\n",
              "      <td>198.339996</td>\n",
              "      <td>200.059998</td>\n",
              "      <td>197.600006</td>\n",
              "      <td>198.820007</td>\n",
              "    </tr>\n",
              "    <tr>\n",
              "      <th>2016-01-07</th>\n",
              "      <td>195.330002</td>\n",
              "      <td>197.440002</td>\n",
              "      <td>193.589996</td>\n",
              "      <td>194.050003</td>\n",
              "    </tr>\n",
              "    <tr>\n",
              "      <th>2016-01-08</th>\n",
              "      <td>195.190002</td>\n",
              "      <td>195.850006</td>\n",
              "      <td>191.580002</td>\n",
              "      <td>191.919998</td>\n",
              "    </tr>\n",
              "  </tbody>\n",
              "</table>\n",
              "</div>"
            ],
            "text/plain": [
              "                  Open        High         Low       Close\n",
              "Date                                                      \n",
              "2016-01-04  200.490005  201.029999  198.589996  201.020004\n",
              "2016-01-05  201.399994  201.899994  200.050003  201.360001\n",
              "2016-01-06  198.339996  200.059998  197.600006  198.820007\n",
              "2016-01-07  195.330002  197.440002  193.589996  194.050003\n",
              "2016-01-08  195.190002  195.850006  191.580002  191.919998"
            ]
          },
          "metadata": {
            "tags": []
          }
        },
        {
          "output_type": "display_data",
          "data": {
            "text/html": [
              "<div>\n",
              "<style scoped>\n",
              "    .dataframe tbody tr th:only-of-type {\n",
              "        vertical-align: middle;\n",
              "    }\n",
              "\n",
              "    .dataframe tbody tr th {\n",
              "        vertical-align: top;\n",
              "    }\n",
              "\n",
              "    .dataframe thead th {\n",
              "        text-align: right;\n",
              "    }\n",
              "</style>\n",
              "<table border=\"1\" class=\"dataframe\">\n",
              "  <thead>\n",
              "    <tr style=\"text-align: right;\">\n",
              "      <th></th>\n",
              "      <th>Open</th>\n",
              "      <th>High</th>\n",
              "      <th>Low</th>\n",
              "      <th>Close</th>\n",
              "    </tr>\n",
              "    <tr>\n",
              "      <th>Date</th>\n",
              "      <th></th>\n",
              "      <th></th>\n",
              "      <th></th>\n",
              "      <th></th>\n",
              "    </tr>\n",
              "  </thead>\n",
              "  <tbody>\n",
              "    <tr>\n",
              "      <th>2019-12-24</th>\n",
              "      <td>321.470001</td>\n",
              "      <td>321.519989</td>\n",
              "      <td>320.899994</td>\n",
              "      <td>321.230011</td>\n",
              "    </tr>\n",
              "    <tr>\n",
              "      <th>2019-12-26</th>\n",
              "      <td>321.649994</td>\n",
              "      <td>322.950012</td>\n",
              "      <td>321.640015</td>\n",
              "      <td>322.940002</td>\n",
              "    </tr>\n",
              "    <tr>\n",
              "      <th>2019-12-27</th>\n",
              "      <td>323.739990</td>\n",
              "      <td>323.799988</td>\n",
              "      <td>322.279999</td>\n",
              "      <td>322.859985</td>\n",
              "    </tr>\n",
              "    <tr>\n",
              "      <th>2019-12-30</th>\n",
              "      <td>322.950012</td>\n",
              "      <td>323.100006</td>\n",
              "      <td>320.549988</td>\n",
              "      <td>321.079987</td>\n",
              "    </tr>\n",
              "    <tr>\n",
              "      <th>2019-12-31</th>\n",
              "      <td>320.529999</td>\n",
              "      <td>322.130005</td>\n",
              "      <td>320.149994</td>\n",
              "      <td>321.859985</td>\n",
              "    </tr>\n",
              "  </tbody>\n",
              "</table>\n",
              "</div>"
            ],
            "text/plain": [
              "                  Open        High         Low       Close\n",
              "Date                                                      \n",
              "2019-12-24  321.470001  321.519989  320.899994  321.230011\n",
              "2019-12-26  321.649994  322.950012  321.640015  322.940002\n",
              "2019-12-27  323.739990  323.799988  322.279999  322.859985\n",
              "2019-12-30  322.950012  323.100006  320.549988  321.079987\n",
              "2019-12-31  320.529999  322.130005  320.149994  321.859985"
            ]
          },
          "metadata": {
            "tags": []
          }
        }
      ]
    },
    {
      "cell_type": "markdown",
      "metadata": {
        "id": "_dmm9brVTNw9"
      },
      "source": [
        "###7.3.3\t예측변수 설정"
      ]
    },
    {
      "cell_type": "code",
      "metadata": {
        "id": "HZrkWp4pICC2",
        "colab": {
          "base_uri": "https://localhost:8080/",
          "height": 225
        },
        "outputId": "4aa0e6ea-e250-4b75-9bce-f600e7a41f33"
      },
      "source": [
        "df = df.dropna()\n",
        "df['Open-Close'] = df.Open - df.Close\n",
        "df['High-Low'] = df.High - df.Low\n",
        "X = df[['Open-Close', 'High-Low']]\n",
        "X.head()"
      ],
      "execution_count": null,
      "outputs": [
        {
          "output_type": "execute_result",
          "data": {
            "text/html": [
              "<div>\n",
              "<style scoped>\n",
              "    .dataframe tbody tr th:only-of-type {\n",
              "        vertical-align: middle;\n",
              "    }\n",
              "\n",
              "    .dataframe tbody tr th {\n",
              "        vertical-align: top;\n",
              "    }\n",
              "\n",
              "    .dataframe thead th {\n",
              "        text-align: right;\n",
              "    }\n",
              "</style>\n",
              "<table border=\"1\" class=\"dataframe\">\n",
              "  <thead>\n",
              "    <tr style=\"text-align: right;\">\n",
              "      <th></th>\n",
              "      <th>Open-Close</th>\n",
              "      <th>High-Low</th>\n",
              "    </tr>\n",
              "    <tr>\n",
              "      <th>Date</th>\n",
              "      <th></th>\n",
              "      <th></th>\n",
              "    </tr>\n",
              "  </thead>\n",
              "  <tbody>\n",
              "    <tr>\n",
              "      <th>2016-01-04</th>\n",
              "      <td>-0.529999</td>\n",
              "      <td>2.440002</td>\n",
              "    </tr>\n",
              "    <tr>\n",
              "      <th>2016-01-05</th>\n",
              "      <td>0.039993</td>\n",
              "      <td>1.849991</td>\n",
              "    </tr>\n",
              "    <tr>\n",
              "      <th>2016-01-06</th>\n",
              "      <td>-0.480011</td>\n",
              "      <td>2.459991</td>\n",
              "    </tr>\n",
              "    <tr>\n",
              "      <th>2016-01-07</th>\n",
              "      <td>1.279999</td>\n",
              "      <td>3.850006</td>\n",
              "    </tr>\n",
              "    <tr>\n",
              "      <th>2016-01-08</th>\n",
              "      <td>3.270004</td>\n",
              "      <td>4.270004</td>\n",
              "    </tr>\n",
              "  </tbody>\n",
              "</table>\n",
              "</div>"
            ],
            "text/plain": [
              "            Open-Close  High-Low\n",
              "Date                            \n",
              "2016-01-04   -0.529999  2.440002\n",
              "2016-01-05    0.039993  1.849991\n",
              "2016-01-06   -0.480011  2.459991\n",
              "2016-01-07    1.279999  3.850006\n",
              "2016-01-08    3.270004  4.270004"
            ]
          },
          "metadata": {
            "tags": []
          },
          "execution_count": 78
        }
      ]
    },
    {
      "cell_type": "markdown",
      "metadata": {
        "id": "8asMxV1_TIR4"
      },
      "source": [
        "###7.3.4\t목적변수 설정"
      ]
    },
    {
      "cell_type": "code",
      "metadata": {
        "id": "Xww8MZAuIIsw",
        "colab": {
          "base_uri": "https://localhost:8080/"
        },
        "outputId": "59ecc4cf-23c8-4f41-b1de-8b7b0f24540d"
      },
      "source": [
        "Y = np.where( df['Close'].shift(-1) > df['Close'],1,-1)\n",
        "Y"
      ],
      "execution_count": null,
      "outputs": [
        {
          "output_type": "execute_result",
          "data": {
            "text/plain": [
              "array([ 1, -1, -1, ..., -1,  1, -1])"
            ]
          },
          "metadata": {
            "tags": []
          },
          "execution_count": 79
        }
      ]
    },
    {
      "cell_type": "markdown",
      "metadata": {
        "id": "zo0VA35jTEN2"
      },
      "source": [
        "###7.3.5\t데이터셋 분할"
      ]
    },
    {
      "cell_type": "code",
      "metadata": {
        "id": "mi5UHZIcIOHJ"
      },
      "source": [
        "train_pct = 0.7\n",
        "\n",
        "split = int( train_pct*len(df) )\n",
        "\n",
        "X_train = X[:split]\n",
        "Y_train = Y[:split]\n",
        "\n",
        "X_test = X[split:]\n",
        "Y_test = Y[split:]\n",
        "\n",
        "# 위의 코드는 간략하게\n",
        "#X_train, X_test, y_train, y_test = X[:split], X[split:], y[:split], y[split:]"
      ],
      "execution_count": null,
      "outputs": []
    },
    {
      "cell_type": "markdown",
      "metadata": {
        "id": "nQ8PLZiTIitn"
      },
      "source": [
        "###7.3.6\tKNN모델 설정"
      ]
    },
    {
      "cell_type": "code",
      "metadata": {
        "id": "yYQG0p_uIUda",
        "colab": {
          "base_uri": "https://localhost:8080/"
        },
        "outputId": "ee5ae8db-b395-46e7-8cfc-83d9272fc0f9"
      },
      "source": [
        "knn = KNeighborsClassifier(n_neighbors = 15)\n",
        "knn.fit(X_train, Y_train)\n",
        "accuracy_train = accuracy_score(Y_train, knn.predict(X_train))\n",
        "accuracy_test = accuracy_score(Y_test, knn.predict(X_test))\n",
        "\n",
        "print('Train data Accuracy: %.2f' % accuracy_train)\n",
        "print('Test  data Accuracy: %.2f' % accuracy_test)"
      ],
      "execution_count": null,
      "outputs": [
        {
          "output_type": "stream",
          "text": [
            "Train data Accuracy: 0.59\n",
            "Test  data Accuracy: 0.50\n"
          ],
          "name": "stdout"
        }
      ]
    },
    {
      "cell_type": "markdown",
      "metadata": {
        "id": "ry7etfQlIoS_"
      },
      "source": [
        "###7.3.7\t모델을 바탕으로 전략 실행"
      ]
    },
    {
      "cell_type": "code",
      "metadata": {
        "id": "VWLQmt08Iexy",
        "colab": {
          "base_uri": "https://localhost:8080/",
          "height": 320
        },
        "outputId": "ab35a5e5-9a3f-40ad-bd35-20fa2c0bf75c"
      },
      "source": [
        "df['Signal'] = knn.predict(X)\n",
        "df['SPY_Returns'] = np.log(df['Close']/df['Close'].shift(1))\n",
        "Cum_SPY_Returns = df[split:]['SPY_Returns'].cumsum()*100\n",
        "\n",
        "df['STR_Returns'] = df['SPY_Returns']*df['Signal'].shift(1)\n",
        "Cum_STR_Returns = df[split:]['STR_Returns'].cumsum()*100\n",
        "\n",
        "plt.figure(figsize=(10,5))\n",
        "plt.plot(Cum_SPY_Returns, color='r', label='SPY Returns')\n",
        "plt.plot(Cum_STR_Returns, color='b', label='Strategy Returns')\n",
        "plt.legend()\n",
        "plt.show()"
      ],
      "execution_count": null,
      "outputs": [
        {
          "output_type": "display_data",
          "data": {
            "image/png": "[encoded data removed]",
            "text/plain": [
              "<Figure size 720x360 with 1 Axes>"
            ]
          },
          "metadata": {
            "tags": [],
            "needs_background": "light"
          }
        }
      ]
    },
    {
      "cell_type": "markdown",
      "metadata": {
        "id": "e55-HHGaI4E3"
      },
      "source": [
        "###7.3.8\t샤프비율 계산"
      ]
    },
    {
      "cell_type": "code",
      "metadata": {
        "id": "cqftw69WIwX3",
        "colab": {
          "base_uri": "https://localhost:8080/"
        },
        "outputId": "b4ddc990-970f-4921-febb-994857c4a3d9"
      },
      "source": [
        "Std = Cum_STR_Returns.std()\n",
        "Sharpe = (Cum_STR_Returns - Cum_SPY_Returns)/Std\n",
        "Sharpe = Sharpe.mean()\n",
        "print('Sharpe ratio: %.2f' % Sharpe)"
      ],
      "execution_count": null,
      "outputs": [
        {
          "output_type": "stream",
          "text": [
            "Sharpe ratio: -3.39\n"
          ],
          "name": "stdout"
        }
      ]
    },
    {
      "cell_type": "markdown",
      "metadata": {
        "id": "oHCukdzBJFJP"
      },
      "source": [
        "##7.4\t로지스틱 회귀"
      ]
    },
    {
      "cell_type": "code",
      "metadata": {
        "id": "rhmILA4xJGf5"
      },
      "source": [
        "import matplotlib.pyplot as plt\n",
        "import numpy as np\n",
        "import math"
      ],
      "execution_count": null,
      "outputs": []
    },
    {
      "cell_type": "code",
      "metadata": {
        "id": "vreAsCuLJnIk"
      },
      "source": [
        "def sigmoid(x):\n",
        "    v = []\n",
        "    for item in x:\n",
        "        v.append(1/(1+math.exp(-item)))\n",
        "    return v"
      ],
      "execution_count": null,
      "outputs": []
    },
    {
      "cell_type": "code",
      "metadata": {
        "id": "H_AAKy98Jp9P"
      },
      "source": [
        "x = np.arange(-10., 10., 0.2)\n",
        "sig = sigmoid(x)"
      ],
      "execution_count": null,
      "outputs": []
    },
    {
      "cell_type": "code",
      "metadata": {
        "id": "a8mDMATyJue3",
        "colab": {
          "base_uri": "https://localhost:8080/",
          "height": 265
        },
        "outputId": "12f8682d-f454-47cd-dff2-cecd529c7309"
      },
      "source": [
        "plt.plot(x,sig)\n",
        "plt.show()"
      ],
      "execution_count": null,
      "outputs": [
        {
          "output_type": "display_data",
          "data": {
            "image/png": "[encoded data removed]",
            "text/plain": [
              "<Figure size 432x288 with 1 Axes>"
            ]
          },
          "metadata": {
            "tags": [],
            "needs_background": "light"
          }
        }
      ]
    },
    {
      "cell_type": "markdown",
      "metadata": {
        "id": "btJERRryS0X3"
      },
      "source": [
        "###7.4.1\t라이브러리 임포트"
      ]
    },
    {
      "cell_type": "code",
      "metadata": {
        "id": "1SxS6zLYJ5TI"
      },
      "source": [
        "import numpy as np\n",
        "import pandas as pd\n",
        "from pandas_datareader import data as web\n",
        "import matplotlib.pyplot as plt\n",
        "\n",
        "from sklearn.linear_model import LogisticRegression\n",
        "from sklearn import metrics\n",
        "from sklearn.model_selection import cross_val_score"
      ],
      "execution_count": null,
      "outputs": []
    },
    {
      "cell_type": "markdown",
      "metadata": {
        "id": "dmjhPz0wSwap"
      },
      "source": [
        "###7.4.2\t데이터 가져오기"
      ]
    },
    {
      "cell_type": "code",
      "metadata": {
        "id": "P2DDHRpUJ_QH"
      },
      "source": [
        "symbol, source, start, end = 'SPY', 'yahoo', '2016-01-01', '2020-01-01'\n",
        "df = web.DataReader(symbol, source, start, end)[['Open', 'High', 'Low', 'Close']]\n",
        "df = df.dropna()"
      ],
      "execution_count": null,
      "outputs": []
    },
    {
      "cell_type": "markdown",
      "metadata": {
        "id": "b-ahI4Z_SoLF"
      },
      "source": [
        "###7.4.3\t예측변수/독립변수 설정"
      ]
    },
    {
      "cell_type": "code",
      "metadata": {
        "id": "AE2i2B6RKZ5V"
      },
      "source": [
        "df['MA10'] = df['Close'].rolling(window=10).mean()\n",
        "df['Corr'] = df['Close'].rolling(window=10).corr(df['MA10'])\n",
        "\n",
        "df['OpenClose'] = df['Open'] - df['Close'].shift(1)\n",
        "df['OpenOpen'] = df['Open'] - df['Open'].shift(1)\n",
        "df = df.dropna()\n",
        "X = df[['Open', 'High', 'Low', 'Close', 'MA10', 'Corr', 'OpenClose', 'OpenOpen']]"
      ],
      "execution_count": null,
      "outputs": []
    },
    {
      "cell_type": "markdown",
      "metadata": {
        "id": "yguv-bdZPgyg"
      },
      "source": [
        "###7.4.4\t목표변수/종속변수 설정"
      ]
    },
    {
      "cell_type": "code",
      "metadata": {
        "id": "NeR7zA6ePiHj"
      },
      "source": [
        "y = np.where(df['Close'].shift(-1) > df['Close'],1,-1)"
      ],
      "execution_count": null,
      "outputs": []
    },
    {
      "cell_type": "markdown",
      "metadata": {
        "id": "a6ZriyKGPotr"
      },
      "source": [
        "###7.4.5\t데이터셋 분할 "
      ]
    },
    {
      "cell_type": "code",
      "metadata": {
        "id": "j2yk63GkPqXN"
      },
      "source": [
        "train_pct = 0.7\n",
        "split = int(train_pct * len(df))\n",
        "X_train, X_test, y_train, y_test = X[:split], X[split:], y[:split], y[split:]"
      ],
      "execution_count": null,
      "outputs": []
    },
    {
      "cell_type": "markdown",
      "metadata": {
        "id": "MPqCAgI6PvHz"
      },
      "source": [
        "###7.4.6\t로지스틱 회귀모델 설정 및 훈련 "
      ]
    },
    {
      "cell_type": "code",
      "metadata": {
        "id": "mhha2KBZPy4L",
        "colab": {
          "base_uri": "https://localhost:8080/",
          "height": 284
        },
        "outputId": "baf7f28e-3d33-46f5-d018-f0936ba62b6f"
      },
      "source": [
        "model = LogisticRegression()\n",
        "model = model.fit(X_train, y_train)\n",
        "pd.DataFrame(zip(X.columns, np.transpose(model.coef_)))"
      ],
      "execution_count": null,
      "outputs": [
        {
          "output_type": "execute_result",
          "data": {
            "text/html": [
              "<div>\n",
              "<style scoped>\n",
              "    .dataframe tbody tr th:only-of-type {\n",
              "        vertical-align: middle;\n",
              "    }\n",
              "\n",
              "    .dataframe tbody tr th {\n",
              "        vertical-align: top;\n",
              "    }\n",
              "\n",
              "    .dataframe thead th {\n",
              "        text-align: right;\n",
              "    }\n",
              "</style>\n",
              "<table border=\"1\" class=\"dataframe\">\n",
              "  <thead>\n",
              "    <tr style=\"text-align: right;\">\n",
              "      <th></th>\n",
              "      <th>0</th>\n",
              "      <th>1</th>\n",
              "    </tr>\n",
              "  </thead>\n",
              "  <tbody>\n",
              "    <tr>\n",
              "      <th>0</th>\n",
              "      <td>Open</td>\n",
              "      <td>[0.18200059268683258]</td>\n",
              "    </tr>\n",
              "    <tr>\n",
              "      <th>1</th>\n",
              "      <td>High</td>\n",
              "      <td>[-0.1132033056503593]</td>\n",
              "    </tr>\n",
              "    <tr>\n",
              "      <th>2</th>\n",
              "      <td>Low</td>\n",
              "      <td>[-0.1681570589711914]</td>\n",
              "    </tr>\n",
              "    <tr>\n",
              "      <th>3</th>\n",
              "      <td>Close</td>\n",
              "      <td>[0.0754754206884071]</td>\n",
              "    </tr>\n",
              "    <tr>\n",
              "      <th>4</th>\n",
              "      <td>MA10</td>\n",
              "      <td>[0.024284459058261952]</td>\n",
              "    </tr>\n",
              "    <tr>\n",
              "      <th>5</th>\n",
              "      <td>Corr</td>\n",
              "      <td>[-0.07054912838276667]</td>\n",
              "    </tr>\n",
              "    <tr>\n",
              "      <th>6</th>\n",
              "      <td>OpenClose</td>\n",
              "      <td>[-0.095957248468815]</td>\n",
              "    </tr>\n",
              "    <tr>\n",
              "      <th>7</th>\n",
              "      <td>OpenOpen</td>\n",
              "      <td>[0.0104387407963758]</td>\n",
              "    </tr>\n",
              "  </tbody>\n",
              "</table>\n",
              "</div>"
            ],
            "text/plain": [
              "           0                       1\n",
              "0       Open   [0.18200059268683258]\n",
              "1       High   [-0.1132033056503593]\n",
              "2        Low   [-0.1681570589711914]\n",
              "3      Close    [0.0754754206884071]\n",
              "4       MA10  [0.024284459058261952]\n",
              "5       Corr  [-0.07054912838276667]\n",
              "6  OpenClose    [-0.095957248468815]\n",
              "7   OpenOpen    [0.0104387407963758]"
            ]
          },
          "metadata": {
            "tags": []
          },
          "execution_count": 93
        }
      ]
    },
    {
      "cell_type": "markdown",
      "metadata": {
        "id": "tlq56GmnP7yl"
      },
      "source": [
        "###7.4.7\t클래스 확률 예측"
      ]
    },
    {
      "cell_type": "code",
      "metadata": {
        "id": "nAmH5LxrhX0k",
        "colab": {
          "base_uri": "https://localhost:8080/"
        },
        "outputId": "baf66451-59c6-4300-d9c1-f69a2119a8d1"
      },
      "source": [
        "len(X_test)"
      ],
      "execution_count": null,
      "outputs": [
        {
          "output_type": "execute_result",
          "data": {
            "text/plain": [
              "297"
            ]
          },
          "metadata": {
            "tags": []
          },
          "execution_count": 99
        }
      ]
    },
    {
      "cell_type": "code",
      "metadata": {
        "id": "10MK-UQzP9Gj",
        "colab": {
          "base_uri": "https://localhost:8080/"
        },
        "outputId": "0f58f674-71ee-4a4c-bd5e-e29217514f67"
      },
      "source": [
        "probability = model.predict_proba(X_test)\n",
        "print(probability)\n",
        "predicted = model.predict(X_test)\n",
        "print(predicted)"
      ],
      "execution_count": null,
      "outputs": [
        {
          "output_type": "stream",
          "text": [
            "[[0.51321788 0.48678212]\n",
            " [0.33510325 0.66489675]\n",
            " [0.29490966 0.70509034]\n",
            " [0.45897911 0.54102089]\n",
            " [0.57070271 0.42929729]\n",
            " [0.46514312 0.53485688]\n",
            " [0.36280566 0.63719434]\n",
            " [0.46633302 0.53366698]\n",
            " [0.47853861 0.52146139]\n",
            " [0.54555197 0.45444803]\n",
            " [0.45346608 0.54653392]\n",
            " [0.36938576 0.63061424]\n",
            " [0.34767498 0.65232502]\n",
            " [0.47444983 0.52555017]\n",
            " [0.34763781 0.65236219]\n",
            " [0.37711378 0.62288622]\n",
            " [0.41418917 0.58581083]\n",
            " [0.30096197 0.69903803]\n",
            " [0.31264225 0.68735775]\n",
            " [0.47714719 0.52285281]\n",
            " [0.42936614 0.57063386]\n",
            " [0.5067006  0.4932994 ]\n",
            " [0.41423545 0.58576455]\n",
            " [0.47719411 0.52280589]\n",
            " [0.4444576  0.5555424 ]\n",
            " [0.49334276 0.50665724]\n",
            " [0.50841814 0.49158186]\n",
            " [0.30028631 0.69971369]\n",
            " [0.2637087  0.7362913 ]\n",
            " [0.30933958 0.69066042]\n",
            " [0.27216308 0.72783692]\n",
            " [0.36364324 0.63635676]\n",
            " [0.50153089 0.49846911]\n",
            " [0.40973491 0.59026509]\n",
            " [0.3345151  0.6654849 ]\n",
            " [0.29051168 0.70948832]\n",
            " [0.38257869 0.61742131]\n",
            " [0.39268633 0.60731367]\n",
            " [0.29257058 0.70742942]\n",
            " [0.33136955 0.66863045]\n",
            " [0.31378305 0.68621695]\n",
            " [0.42744563 0.57255437]\n",
            " [0.25129114 0.74870886]\n",
            " [0.44716596 0.55283404]\n",
            " [0.44325738 0.55674262]\n",
            " [0.43588896 0.56411104]\n",
            " [0.31863367 0.68136633]\n",
            " [0.58702268 0.41297732]\n",
            " [0.49141199 0.50858801]\n",
            " [0.43981735 0.56018265]\n",
            " [0.487578   0.512422  ]\n",
            " [0.4544281  0.5455719 ]\n",
            " [0.45040734 0.54959266]\n",
            " [0.44983593 0.55016407]\n",
            " [0.5274531  0.4725469 ]\n",
            " [0.52145847 0.47854153]\n",
            " [0.51581517 0.48418483]\n",
            " [0.48588206 0.51411794]\n",
            " [0.34971467 0.65028533]\n",
            " [0.41216425 0.58783575]\n",
            " [0.45198135 0.54801865]\n",
            " [0.4797113  0.5202887 ]\n",
            " [0.36397115 0.63602885]\n",
            " [0.43998462 0.56001538]\n",
            " [0.52386704 0.47613296]\n",
            " [0.50111726 0.49888274]\n",
            " [0.48316705 0.51683295]\n",
            " [0.48379827 0.51620173]\n",
            " [0.50045875 0.49954125]\n",
            " [0.47074105 0.52925895]\n",
            " [0.36818815 0.63181185]\n",
            " [0.41907936 0.58092064]\n",
            " [0.45453319 0.54546681]\n",
            " [0.53764699 0.46235301]\n",
            " [0.50622582 0.49377418]\n",
            " [0.45173293 0.54826707]\n",
            " [0.52794609 0.47205391]\n",
            " [0.49701764 0.50298236]\n",
            " [0.4847577  0.5152423 ]\n",
            " [0.43364861 0.56635139]\n",
            " [0.48858435 0.51141565]\n",
            " [0.51267322 0.48732678]\n",
            " [0.49618055 0.50381945]\n",
            " [0.43049562 0.56950438]\n",
            " [0.45809637 0.54190363]\n",
            " [0.46191744 0.53808256]\n",
            " [0.36136949 0.63863051]\n",
            " [0.44555053 0.55444947]\n",
            " [0.40798944 0.59201056]\n",
            " [0.35874908 0.64125092]\n",
            " [0.3792126  0.6207874 ]\n",
            " [0.48215295 0.51784705]\n",
            " [0.47608705 0.52391295]\n",
            " [0.51725484 0.48274516]\n",
            " [0.45788268 0.54211732]\n",
            " [0.47731313 0.52268687]\n",
            " [0.48204773 0.51795227]\n",
            " [0.46577919 0.53422081]\n",
            " [0.44715318 0.55284682]\n",
            " [0.49753153 0.50246847]\n",
            " [0.3549155  0.6450845 ]\n",
            " [0.42342629 0.57657371]\n",
            " [0.45897272 0.54102728]\n",
            " [0.36163586 0.63836414]\n",
            " [0.42389404 0.57610596]\n",
            " [0.44620332 0.55379668]\n",
            " [0.52529819 0.47470181]\n",
            " [0.45100466 0.54899534]\n",
            " [0.48508551 0.51491449]\n",
            " [0.48264049 0.51735951]\n",
            " [0.50336577 0.49663423]\n",
            " [0.45661998 0.54338002]\n",
            " [0.43243535 0.56756465]\n",
            " [0.47568628 0.52431372]\n",
            " [0.44756114 0.55243886]\n",
            " [0.45892843 0.54107157]\n",
            " [0.44184472 0.55815528]\n",
            " [0.45980001 0.54019999]\n",
            " [0.44724854 0.55275146]\n",
            " [0.43820293 0.56179707]\n",
            " [0.4597056  0.5402944 ]\n",
            " [0.49720675 0.50279325]\n",
            " [0.4666151  0.5333849 ]\n",
            " [0.43805963 0.56194037]\n",
            " [0.4535635  0.5464365 ]\n",
            " [0.49542598 0.50457402]\n",
            " [0.41859288 0.58140712]\n",
            " [0.4353429  0.5646571 ]\n",
            " [0.41187085 0.58812915]\n",
            " [0.45477408 0.54522592]\n",
            " [0.36439983 0.63560017]\n",
            " [0.26823091 0.73176909]\n",
            " [0.44789133 0.55210867]\n",
            " [0.32760443 0.67239557]\n",
            " [0.3194752  0.6805248 ]\n",
            " [0.27086304 0.72913696]\n",
            " [0.51344649 0.48655351]\n",
            " [0.43155352 0.56844648]\n",
            " [0.51981871 0.48018129]\n",
            " [0.47845046 0.52154954]\n",
            " [0.42792602 0.57207398]\n",
            " [0.50579966 0.49420034]\n",
            " [0.44748133 0.55251867]\n",
            " [0.31279736 0.68720264]\n",
            " [0.44590835 0.55409165]\n",
            " [0.42582996 0.57417004]\n",
            " [0.35606445 0.64393555]\n",
            " [0.43827209 0.56172791]\n",
            " [0.38104302 0.61895698]\n",
            " [0.39790435 0.60209565]\n",
            " [0.51907213 0.48092787]\n",
            " [0.42721371 0.57278629]\n",
            " [0.48373728 0.51626272]\n",
            " [0.54339946 0.45660054]\n",
            " [0.55525104 0.44474896]\n",
            " [0.47876179 0.52123821]\n",
            " [0.47487095 0.52512905]\n",
            " [0.4939175  0.5060825 ]\n",
            " [0.46127204 0.53872796]\n",
            " [0.49357868 0.50642132]\n",
            " [0.5551322  0.4448678 ]\n",
            " [0.46481105 0.53518895]\n",
            " [0.45362341 0.54637659]\n",
            " [0.47697202 0.52302798]\n",
            " [0.47963955 0.52036045]\n",
            " [0.41031683 0.58968317]\n",
            " [0.47226788 0.52773212]\n",
            " [0.4771318  0.5228682 ]\n",
            " [0.47549528 0.52450472]\n",
            " [0.47936159 0.52063841]\n",
            " [0.44084342 0.55915658]\n",
            " [0.50295068 0.49704932]\n",
            " [0.40825695 0.59174305]\n",
            " [0.45509802 0.54490198]\n",
            " [0.46797158 0.53202842]\n",
            " [0.51210062 0.48789938]\n",
            " [0.45883401 0.54116599]\n",
            " [0.48855412 0.51144588]\n",
            " [0.46070174 0.53929826]\n",
            " [0.44959489 0.55040511]\n",
            " [0.42783684 0.57216316]\n",
            " [0.45249648 0.54750352]\n",
            " [0.41608244 0.58391756]\n",
            " [0.45999084 0.54000916]\n",
            " [0.44579174 0.55420826]\n",
            " [0.44659822 0.55340178]\n",
            " [0.38777064 0.61222936]\n",
            " [0.49866003 0.50133997]\n",
            " [0.44293936 0.55706064]\n",
            " [0.43988081 0.56011919]\n",
            " [0.31272118 0.68727882]\n",
            " [0.45413254 0.54586746]\n",
            " [0.33169142 0.66830858]\n",
            " [0.18831963 0.81168037]\n",
            " [0.41848149 0.58151851]\n",
            " [0.29745529 0.70254471]\n",
            " [0.47459211 0.52540789]\n",
            " [0.34506271 0.65493729]\n",
            " [0.37909224 0.62090776]\n",
            " [0.51057658 0.48942342]\n",
            " [0.27426935 0.72573065]\n",
            " [0.39002179 0.60997821]\n",
            " [0.44461003 0.55538997]\n",
            " [0.53157431 0.46842569]\n",
            " [0.43349694 0.56650306]\n",
            " [0.51208182 0.48791818]\n",
            " [0.41380847 0.58619153]\n",
            " [0.30468617 0.69531383]\n",
            " [0.45446314 0.54553686]\n",
            " [0.41242109 0.58757891]\n",
            " [0.43345271 0.56654729]\n",
            " [0.50826547 0.49173453]\n",
            " [0.44072914 0.55927086]\n",
            " [0.40774361 0.59225639]\n",
            " [0.51008545 0.48991455]\n",
            " [0.48184653 0.51815347]\n",
            " [0.50182164 0.49817836]\n",
            " [0.46804953 0.53195047]\n",
            " [0.42533698 0.57466302]\n",
            " [0.48208234 0.51791766]\n",
            " [0.51185035 0.48814965]\n",
            " [0.48297365 0.51702635]\n",
            " [0.46726352 0.53273648]\n",
            " [0.47131361 0.52868639]\n",
            " [0.37776845 0.62223155]\n",
            " [0.48895854 0.51104146]\n",
            " [0.37490065 0.62509935]\n",
            " [0.44512431 0.55487569]\n",
            " [0.35551565 0.64448435]\n",
            " [0.39483668 0.60516332]\n",
            " [0.36219595 0.63780405]\n",
            " [0.34783028 0.65216972]\n",
            " [0.49150505 0.50849495]\n",
            " [0.39330365 0.60669635]\n",
            " [0.28980229 0.71019771]\n",
            " [0.33484543 0.66515457]\n",
            " [0.48887904 0.51112096]\n",
            " [0.46162842 0.53837158]\n",
            " [0.37465874 0.62534126]\n",
            " [0.51131854 0.48868146]\n",
            " [0.48951569 0.51048431]\n",
            " [0.59956372 0.40043628]\n",
            " [0.46495983 0.53504017]\n",
            " [0.52585271 0.47414729]\n",
            " [0.46149142 0.53850858]\n",
            " [0.486501   0.513499  ]\n",
            " [0.4318904  0.5681096 ]\n",
            " [0.50678978 0.49321022]\n",
            " [0.46498742 0.53501258]\n",
            " [0.47128377 0.52871623]\n",
            " [0.45307433 0.54692567]\n",
            " [0.49020028 0.50979972]\n",
            " [0.5261843  0.4738157 ]\n",
            " [0.50133312 0.49866688]\n",
            " [0.44530465 0.55469535]\n",
            " [0.39887379 0.60112621]\n",
            " [0.52633447 0.47366553]\n",
            " [0.50805273 0.49194727]\n",
            " [0.48114449 0.51885551]\n",
            " [0.45416574 0.54583426]\n",
            " [0.51951907 0.48048093]\n",
            " [0.4526754  0.5473246 ]\n",
            " [0.44647439 0.55352561]\n",
            " [0.48935609 0.51064391]\n",
            " [0.4589614  0.5410386 ]\n",
            " [0.44288672 0.55711328]\n",
            " [0.48707131 0.51292869]\n",
            " [0.46522754 0.53477246]\n",
            " [0.4518784  0.5481216 ]\n",
            " [0.39620579 0.60379421]\n",
            " [0.42526926 0.57473074]\n",
            " [0.44217136 0.55782864]\n",
            " [0.50545473 0.49454527]\n",
            " [0.47048455 0.52951545]\n",
            " [0.48745362 0.51254638]\n",
            " [0.44684496 0.55315504]\n",
            " [0.39658343 0.60341657]\n",
            " [0.33324414 0.66675586]\n",
            " [0.47985739 0.52014261]\n",
            " [0.40499009 0.59500991]\n",
            " [0.52595707 0.47404293]\n",
            " [0.45209562 0.54790438]\n",
            " [0.44038358 0.55961642]\n",
            " [0.46085977 0.53914023]\n",
            " [0.50982519 0.49017481]\n",
            " [0.48027293 0.51972707]\n",
            " [0.47357358 0.52642642]\n",
            " [0.49928374 0.50071626]\n",
            " [0.4935922  0.5064078 ]\n",
            " [0.48836862 0.51163138]\n",
            " [0.46265323 0.53734677]\n",
            " [0.48856349 0.51143651]\n",
            " [0.46760518 0.53239482]\n",
            " [0.49807164 0.50192836]\n",
            " [0.4562389  0.5437611 ]\n",
            " [0.4202534  0.5797466 ]\n",
            " [0.4575832  0.5424168 ]]\n",
            "[-1  1  1  1 -1  1  1  1  1 -1  1  1  1  1  1  1  1  1  1  1  1 -1  1  1\n",
            "  1  1 -1  1  1  1  1  1 -1  1  1  1  1  1  1  1  1  1  1  1  1  1  1 -1\n",
            "  1  1  1  1  1  1 -1 -1 -1  1  1  1  1  1  1  1 -1 -1  1  1 -1  1  1  1\n",
            "  1 -1 -1  1 -1  1  1  1  1 -1  1  1  1  1  1  1  1  1  1  1  1 -1  1  1\n",
            "  1  1  1  1  1  1  1  1  1  1 -1  1  1  1 -1  1  1  1  1  1  1  1  1  1\n",
            "  1  1  1  1  1  1  1  1  1  1  1  1  1  1  1  1 -1  1 -1  1  1 -1  1  1\n",
            "  1  1  1  1  1  1 -1  1  1 -1 -1  1  1  1  1  1 -1  1  1  1  1  1  1  1\n",
            "  1  1  1 -1  1  1  1 -1  1  1  1  1  1  1  1  1  1  1  1  1  1  1  1  1\n",
            "  1  1  1  1  1  1  1 -1  1  1  1 -1  1 -1  1  1  1  1  1 -1  1  1 -1  1\n",
            " -1  1  1  1 -1  1  1  1  1  1  1  1  1  1  1  1  1  1  1  1  1  1  1 -1\n",
            "  1 -1  1 -1  1  1  1 -1  1  1  1  1 -1 -1  1  1 -1 -1  1  1 -1  1  1  1\n",
            "  1  1  1  1  1  1  1  1 -1  1  1  1  1  1  1  1 -1  1  1  1 -1  1  1  1\n",
            "  1  1  1  1  1  1  1  1  1]\n"
          ],
          "name": "stdout"
        }
      ]
    },
    {
      "cell_type": "markdown",
      "metadata": {
        "id": "VUxMNB3jQEAK"
      },
      "source": [
        "###7.4.8\t모델평가"
      ]
    },
    {
      "cell_type": "code",
      "metadata": {
        "id": "J4L32bufQFOL",
        "colab": {
          "base_uri": "https://localhost:8080/"
        },
        "outputId": "f5bb1dec-b313-4aa7-8cc1-f8e76bf5ead5"
      },
      "source": [
        "print(metrics.confusion_matrix(y_test, predicted))\n",
        "print(metrics.classification_report(y_test, predicted))"
      ],
      "execution_count": null,
      "outputs": [
        {
          "output_type": "stream",
          "text": [
            "[[ 23 105]\n",
            " [ 25 144]]\n",
            "              precision    recall  f1-score   support\n",
            "\n",
            "          -1       0.48      0.18      0.26       128\n",
            "           1       0.58      0.85      0.69       169\n",
            "\n",
            "    accuracy                           0.56       297\n",
            "   macro avg       0.53      0.52      0.48       297\n",
            "weighted avg       0.54      0.56      0.50       297\n",
            "\n"
          ],
          "name": "stdout"
        }
      ]
    },
    {
      "cell_type": "code",
      "metadata": {
        "id": "5he2drCxQhzC",
        "colab": {
          "base_uri": "https://localhost:8080/"
        },
        "outputId": "5aad334f-2046-40a0-ffce-33bfd543809c"
      },
      "source": [
        "print(model.score(X_test,y_test))"
      ],
      "execution_count": null,
      "outputs": [
        {
          "output_type": "stream",
          "text": [
            "0.5622895622895623\n"
          ],
          "name": "stdout"
        }
      ]
    },
    {
      "cell_type": "code",
      "metadata": {
        "id": "fMJDUMQiQimb",
        "colab": {
          "base_uri": "https://localhost:8080/"
        },
        "outputId": "80657f54-7700-4b52-c7a0-458fc723c278"
      },
      "source": [
        "cross_val = cross_val_score(LogisticRegression(), X, y, scoring='accuracy', cv=10)\n",
        "print(cross_val)\n",
        "print(cross_val.mean())"
      ],
      "execution_count": null,
      "outputs": [
        {
          "output_type": "stream",
          "text": [
            "[0.56565657 0.54545455 0.56565657 0.55555556 0.56565657 0.57575758\n",
            " 0.49494949 0.49494949 0.55102041 0.57142857]\n",
            "0.54860853432282\n"
          ],
          "name": "stdout"
        }
      ]
    },
    {
      "cell_type": "markdown",
      "metadata": {
        "id": "2Gi3AHO9QSZk"
      },
      "source": [
        "###7.4.9\t매매전략"
      ]
    },
    {
      "cell_type": "code",
      "metadata": {
        "id": "yWtSo2sSQTiD",
        "colab": {
          "base_uri": "https://localhost:8080/",
          "height": 320
        },
        "outputId": "4bcd4616-d25e-4ac5-9057-993868e886ba"
      },
      "source": [
        "df['Signal'] = model.predict(X)\n",
        "df['SPY_returns'] = np.log(df['Close']/df['Close'].shift(1))\n",
        "Cumulative_SPY_returns = np.cumsum(df[split:]['SPY_returns'])\n",
        "\n",
        "df['STR_returns'] = df['SPY_returns']* df['Signal'].shift(1)\n",
        "Cumulative_STR_returns = np.cumsum(df[split:]['STR_returns'])\n",
        "\n",
        "plt.figure(figsize=(10,5))\n",
        "plt.plot(Cumulative_SPY_returns, color='r',label = 'SPY Returns')\n",
        "plt.plot(Cumulative_STR_returns, color='b', label = 'Strategy Returns')\n",
        "plt.legend()\n",
        "plt.show()"
      ],
      "execution_count": null,
      "outputs": [
        {
          "output_type": "display_data",
          "data": {
            "image/png": "[encoded data removed]",
            "text/plain": [
              "<Figure size 720x360 with 1 Axes>"
            ]
          },
          "metadata": {
            "tags": [],
            "needs_background": "light"
          }
        }
      ]
    }
  ]
}