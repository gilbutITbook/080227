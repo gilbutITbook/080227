{
  "nbformat": 4,
  "nbformat_minor": 0,
  "metadata": {
    "colab": {
      "name": "6장 파마-프렌치 모델.ipynb",
      "provenance": [],
      "collapsed_sections": [],
      "authorship_tag": "ABX9TyOEtDI1G0nd9SyIS2gbYPDt",
      "include_colab_link": true
    },
    "kernelspec": {
      "name": "python3",
      "display_name": "Python 3"
    }
  },
  "cells": [
    {
      "cell_type": "markdown",
      "metadata": {
        "id": "view-in-github",
        "colab_type": "text"
      },
      "source": [
        "<a href=\"https://colab.research.google.com/github/jimsjoo/gilbut_portfolio/blob/master/6%EC%9E%A5_%ED%8C%8C%EB%A7%88_%ED%94%84%EB%A0%8C%EC%B9%98_%EB%AA%A8%EB%8D%B8.ipynb\" target=\"_parent\"><img src=\"https://colab.research.google.com/assets/colab-badge.svg\" alt=\"Open In Colab\"/></a>"
      ]
    },
    {
      "cell_type": "markdown",
      "metadata": {
        "id": "4l9sx6Ai5g55"
      },
      "source": [
        "# 6장 파마-프렌치 모델"
      ]
    },
    {
      "cell_type": "markdown",
      "metadata": {
        "id": "WmDdcBISzYXH"
      },
      "source": [
        "## 6.5.1\t팩터 데이터 구하기"
      ]
    },
    {
      "cell_type": "code",
      "metadata": {
        "id": "InQlbRpK6TeE"
      },
      "source": [
        "import pandas_datareader.data as web  # module for reading datasets directly from the web\n",
        "import pandas_datareader.famafrench as ff "
      ],
      "execution_count": 1,
      "outputs": []
    },
    {
      "cell_type": "code",
      "metadata": {
        "id": "NkVJb4ay5dnb",
        "outputId": "66469e67-48f3-4f5c-89af-ee398c41f1d2",
        "colab": {
          "base_uri": "https://localhost:8080/"
        }
      },
      "source": [
        "datasets = ff.get_available_datasets()\n",
        "print('No. of datasets:{0}'.format(len(datasets)))"
      ],
      "execution_count": 2,
      "outputs": [
        {
          "output_type": "stream",
          "text": [
            "No. of datasets:297\n"
          ],
          "name": "stdout"
        }
      ]
    },
    {
      "cell_type": "code",
      "metadata": {
        "id": "nYHxFyBV10Xb",
        "outputId": "dac120a7-a1a4-4850-9559-ebd4b9b99490",
        "colab": {
          "base_uri": "https://localhost:8080/"
        }
      },
      "source": [
        "print(datasets)"
      ],
      "execution_count": 3,
      "outputs": [
        {
          "output_type": "stream",
          "text": [
            "['F-F_Research_Data_Factors', 'F-F_Research_Data_Factors_weekly', 'F-F_Research_Data_Factors_daily', 'F-F_Research_Data_5_Factors_2x3', 'F-F_Research_Data_5_Factors_2x3_daily', 'Portfolios_Formed_on_ME', 'Portfolios_Formed_on_ME_Wout_Div', 'Portfolios_Formed_on_ME_Daily', 'Portfolios_Formed_on_BE-ME', 'Portfolios_Formed_on_BE-ME_Wout_Div', 'Portfolios_Formed_on_BE-ME_Daily', 'Portfolios_Formed_on_OP', 'Portfolios_Formed_on_OP_Wout_Div', 'Portfolios_Formed_on_OP_Daily', 'Portfolios_Formed_on_INV', 'Portfolios_Formed_on_INV_Wout_Div', 'Portfolios_Formed_on_INV_Daily', '6_Portfolios_2x3', '6_Portfolios_2x3_Wout_Div', '6_Portfolios_2x3_weekly', '6_Portfolios_2x3_daily', '25_Portfolios_5x5', '25_Portfolios_5x5_Wout_Div', '25_Portfolios_5x5_Daily', '100_Portfolios_10x10', '100_Portfolios_10x10_Wout_Div', '100_Portfolios_10x10_Daily', '6_Portfolios_ME_OP_2x3', '6_Portfolios_ME_OP_2x3_Wout_Div', '6_Portfolios_ME_OP_2x3_daily', '25_Portfolios_ME_OP_5x5', '25_Portfolios_ME_OP_5x5_Wout_Div', '25_Portfolios_ME_OP_5x5_daily', '100_Portfolios_ME_OP_10x10', '100_Portfolios_10x10_ME_OP_Wout_Div', '100_Portfolios_ME_OP_10x10_daily', '6_Portfolios_ME_INV_2x3', '6_Portfolios_ME_INV_2x3_Wout_Div', '6_Portfolios_ME_INV_2x3_daily', '25_Portfolios_ME_INV_5x5', '25_Portfolios_ME_INV_5x5_Wout_Div', '25_Portfolios_ME_INV_5x5_daily', '100_Portfolios_ME_INV_10x10', '100_Portfolios_10x10_ME_INV_Wout_Div', '100_Portfolios_ME_INV_10x10_daily', '25_Portfolios_BEME_OP_5x5', '25_Portfolios_BEME_OP_5x5_Wout_Div', '25_Portfolios_BEME_OP_5x5_daily', '25_Portfolios_BEME_INV_5x5', '25_Portfolios_BEME_INV_5x5_Wout_Div', '25_Portfolios_BEME_INV_5x5_daily', '25_Portfolios_OP_INV_5x5', '25_Portfolios_OP_INV_5x5_Wout_Div', '25_Portfolios_OP_INV_5x5_daily', '32_Portfolios_ME_BEME_OP_2x4x4', '32_Portfolios_ME_BEME_OP_2x4x4_Wout_Div', '32_Portfolios_ME_BEME_INV_2x4x4', '32_Portfolios_ME_BEME_INV_2x4x4_Wout_Div', '32_Portfolios_ME_OP_INV_2x4x4', '32_Portfolios_ME_OP_INV_2x4x4_Wout_Div', 'Portfolios_Formed_on_E-P', 'Portfolios_Formed_on_E-P_Wout_Div', 'Portfolios_Formed_on_CF-P', 'Portfolios_Formed_on_CF-P_Wout_Div', 'Portfolios_Formed_on_D-P', 'Portfolios_Formed_on_D-P_Wout_Div', '6_Portfolios_ME_EP_2x3', '6_Portfolios_ME_EP_2x3_Wout_Div', '6_Portfolios_ME_CFP_2x3', '6_Portfolios_ME_CFP_2x3_Wout_Div', '6_Portfolios_ME_DP_2x3', '6_Portfolios_ME_DP_2x3_Wout_Div', 'F-F_Momentum_Factor', 'F-F_Momentum_Factor_daily', '6_Portfolios_ME_Prior_12_2', '6_Portfolios_ME_Prior_12_2_Daily', '25_Portfolios_ME_Prior_12_2', '25_Portfolios_ME_Prior_12_2_Daily', '10_Portfolios_Prior_12_2', '10_Portfolios_Prior_12_2_Daily', 'F-F_ST_Reversal_Factor', 'F-F_ST_Reversal_Factor_daily', '6_Portfolios_ME_Prior_1_0', '6_Portfolios_ME_Prior_1_0_Daily', '25_Portfolios_ME_Prior_1_0', '25_Portfolios_ME_Prior_1_0_Daily', '10_Portfolios_Prior_1_0', '10_Portfolios_Prior_1_0_Daily', 'F-F_LT_Reversal_Factor', 'F-F_LT_Reversal_Factor_daily', '6_Portfolios_ME_Prior_60_13', '6_Portfolios_ME_Prior_60_13_Daily', '25_Portfolios_ME_Prior_60_13', '25_Portfolios_ME_Prior_60_13_Daily', '10_Portfolios_Prior_60_13', '10_Portfolios_Prior_60_13_Daily', 'Portfolios_Formed_on_AC', '25_Portfolios_ME_AC_5x5', 'Portfolios_Formed_on_BETA', '25_Portfolios_ME_BETA_5x5', 'Portfolios_Formed_on_NI', '25_Portfolios_ME_NI_5x5', 'Portfolios_Formed_on_VAR', '25_Portfolios_ME_VAR_5x5', 'Portfolios_Formed_on_RESVAR', '25_Portfolios_ME_RESVAR_5x5', '5_Industry_Portfolios', '5_Industry_Portfolios_Wout_Div', '5_Industry_Portfolios_daily', '10_Industry_Portfolios', '10_Industry_Portfolios_Wout_Div', '10_Industry_Portfolios_daily', '12_Industry_Portfolios', '12_Industry_Portfolios_Wout_Div', '12_Industry_Portfolios_daily', '17_Industry_Portfolios', '17_Industry_Portfolios_Wout_Div', '17_Industry_Portfolios_daily', '30_Industry_Portfolios', '30_Industry_Portfolios_Wout_Div', '30_Industry_Portfolios_daily', '38_Industry_Portfolios', '38_Industry_Portfolios_Wout_Div', '38_Industry_Portfolios_daily', '48_Industry_Portfolios', '48_Industry_Portfolios_Wout_Div', '48_Industry_Portfolios_daily', '49_Industry_Portfolios', '49_Industry_Portfolios_Wout_Div', '49_Industry_Portfolios_daily', 'ME_Breakpoints', 'BE-ME_Breakpoints', 'OP_Breakpoints', 'INV_Breakpoints', 'E-P_Breakpoints', 'CF-P_Breakpoints', 'D-P_Breakpoints', 'Prior_2-12_Breakpoints', 'Developed_3_Factors', 'Developed_3_Factors_Daily', 'Developed_ex_US_3_Factors', 'Developed_ex_US_3_Factors_Daily', 'Europe_3_Factors', 'Europe_3_Factors_Daily', 'Japan_3_Factors', 'Japan_3_Factors_Daily', 'Asia_Pacific_ex_Japan_3_Factors', 'Asia_Pacific_ex_Japan_3_Factors_Daily', 'North_America_3_Factors', 'North_America_3_Factors_Daily', 'Developed_5_Factors', 'Developed_5_Factors_Daily', 'Developed_ex_US_5_Factors', 'Developed_ex_US_5_Factors_Daily', 'Europe_5_Factors', 'Europe_5_Factors_Daily', 'Japan_5_Factors', 'Japan_5_Factors_Daily', 'Asia_Pacific_ex_Japan_5_Factors', 'Asia_Pacific_ex_Japan_5_Factors_Daily', 'North_America_5_Factors', 'North_America_5_Factors_Daily', 'Developed_Mom_Factor', 'Developed_Mom_Factor_Daily', 'Developed_ex_US_Mom_Factor', 'Developed_ex_US_Mom_Factor_Daily', 'Europe_Mom_Factor', 'Europe_Mom_Factor_Daily', 'Japan_Mom_Factor', 'Japan_Mom_Factor_Daily', 'Asia_Pacific_ex_Japan_MOM_Factor', 'Asia_Pacific_ex_Japan_MOM_Factor_Daily', 'North_America_Mom_Factor', 'North_America_Mom_Factor_Daily', 'Developed_6_Portfolios_ME_BE-ME', 'Developed_6_Portfolios_ME_BE-ME_daily', 'Developed_ex_US_6_Portfolios_ME_BE-ME', 'Developed_ex_US_6_Portfolios_ME_BE-ME_daily', 'Europe_6_Portfolios_ME_BE-ME', 'Europe_6_Portfolios_ME_BE-ME_daily', 'Japan_6_Portfolios_ME_BE-ME', 'Japan_6_Portfolios_ME_BE-ME_daily', 'Asia_Pacific_ex_Japan_6_Portfolios_ME_BE-ME', 'Asia_Pacific_ex_Japan_6_Portfolios_ME_BE-ME_daily', 'North_America_6_Portfolios_ME_BE-ME', 'North_America_6_Portfolios_ME_BE-ME_daily', 'Developed_25_Portfolios_ME_BE-ME', 'Developed_25_Portfolios_ME_BE-ME_daily', 'Developed_ex_US_25_Portfolios_ME_BE-ME', 'Developed_ex_US_25_Portfolios_ME_BE-ME_daily', 'Europe_25_Portfolios_ME_BE-ME', 'Europe_25_Portfolios_ME_BE-ME_daily', 'Japan_25_Portfolios_ME_BE-ME', 'Japan_25_Portfolios_ME_BE-ME_daily', 'Asia_Pacific_ex_Japan_25_Portfolios_ME_BE-ME', 'Asia_Pacific_ex_Japan_25_Portfolios_ME_BE-ME_daily', 'North_America_25_Portfolios_ME_BE-ME', 'North_America_25_Portfolios_ME_BE-ME_daily', 'Developed_6_Portfolios_ME_OP', 'Developed_6_Portfolios_ME_OP_Daily', 'Developed_ex_US_6_Portfolios_ME_OP', 'Developed_ex_US_6_Portfolios_ME_OP_Daily', 'Europe_6_Portfolios_ME_OP', 'Europe_6_Portfolios_ME_OP_Daily', 'Japan_6_Portfolios_ME_OP', 'Japan_6_Portfolios_ME_OP_Daily', 'Asia_Pacific_ex_Japan_6_Portfolios_ME_OP', 'Asia_Pacific_ex_Japan_6_Portfolios_ME_OP_Daily', 'North_America_6_Portfolios_ME_OP', 'North_America_6_Portfolios_ME_OP_Daily', 'Developed_25_Portfolios_ME_OP', 'Developed_25_Portfolios_ME_OP_Daily', 'Developed_ex_US_25_Portfolios_ME_OP', 'Developed_ex_US_25_Portfolios_ME_OP_Daily', 'Europe_25_Portfolios_ME_OP', 'Europe_25_Portfolios_ME_OP_Daily', 'Japan_25_Portfolios_ME_OP', 'Japan_25_Portfolios_ME_OP_Daily', 'Asia_Pacific_ex_Japan_25_Portfolios_ME_OP', 'Asia_Pacific_ex_Japan_25_Portfolios_ME_OP_Daily', 'North_America_25_Portfolios_ME_OP', 'North_America_25_Portfolios_ME_OP_Daily', 'Developed_6_Portfolios_ME_INV', 'Developed_6_Portfolios_ME_INV_Daily', 'Developed_ex_US_6_Portfolios_ME_INV', 'Developed_ex_US_6_Portfolios_ME_INV_Daily', 'Europe_6_Portfolios_ME_INV', 'Europe_6_Portfolios_ME_INV_Daily', 'Japan_6_Portfolios_ME_INV', 'Japan_6_Portfolios_ME_INV_Daily', 'Asia_Pacific_ex_Japan_6_Portfolios_ME_INV', 'Asia_Pacific_ex_Japan_6_Portfolios_ME_INV_Daily', 'North_America_6_Portfolios_ME_INV', 'North_America_6_Portfolios_ME_INV_Daily', 'Developed_25_Portfolios_ME_INV', 'Developed_25_Portfolios_ME_INV_Daily', 'Developed_ex_US_25_Portfolios_ME_INV', 'Developed_ex_US_25_Portfolios_ME_INV_Daily', 'Europe_25_Portfolios_ME_INV', 'Europe_25_Portfolios_ME_INV_Daily', 'Japan_25_Portfolios_ME_INV', 'Japan_25_Portfolios_ME_INV_Daily', 'Asia_Pacific_ex_Japan_25_Portfolios_ME_INV', 'Asia_Pacific_ex_Japan_25_Portfolios_ME_INV_Daily', 'North_America_25_Portfolios_ME_INV', 'North_America_25_Portfolios_ME_INV_Daily', 'Developed_6_Portfolios_ME_Prior_12_2', 'Developed_6_Portfolios_ME_Prior_250_20_daily', 'Developed_ex_US_6_Portfolios_ME_Prior_12_2', 'Developed_ex_US_6_Portfolios_ME_Prior_250_20_daily', 'Europe_6_Portfolios_ME_Prior_12_2', 'Europe_6_Portfolios_ME_Prior_250_20_daily', 'Japan_6_Portfolios_ME_Prior_12_2', 'Japan_6_Portfolios_ME_Prior_250_20_daily', 'Asia_Pacific_ex_Japan_6_Portfolios_ME_Prior_12_2', 'Asia_Pacific_ex_Japan_6_Portfolios_ME_Prior_250_20_daily', 'North_America_6_Portfolios_ME_Prior_12_2', 'North_America_6_Portfolios_ME_Prior_250_20_daily', 'Developed_25_Portfolios_ME_Prior_12_2', 'Developed_25_Portfolios_ME_Prior_250_20_daily', 'Developed_ex_US_25_Portfolios_ME_Prior_12_2', 'Developed_ex_US_25_Portfolios_ME_Prior_250_20_daily', 'Europe_25_Portfolios_ME_Prior_12_2', 'Europe_25_Portfolios_ME_Prior_250_20_daily', 'Japan_25_Portfolios_ME_Prior_12_2', 'Japan_25_Portfolios_ME_Prior_250_20_daily', 'Asia_Pacific_ex_Japan_25_Portfolios_ME_Prior_12_2', 'Asia_Pacific_ex_Japan_25_Portfolios_ME_Prior_250_20_daily', 'North_America_25_Portfolios_ME_Prior_12_2', 'North_America_25_Portfolios_ME_Prior_250_20_daily', 'Developed_32_Portfolios_ME_BE-ME_OP_2x4x4', 'Developed_ex_US_32_Portfolios_ME_BE-ME_OP_2x4x4', 'Europe_32_Portfolios_ME_BE-ME_OP_2x4x4', 'Japan_32_Portfolios_ME_BE-ME_OP_2x4x4', 'Asia_Pacific_ex_Japan_32_Portfolios_ME_BE-ME_OP_2x4x4', 'North_America_32_Portfolios_ME_BE-ME_OP_2x4x4', 'Developed_32_Portfolios_ME_BE-ME_INV(TA)_2x4x4', 'Developed_ex_US_32_Portfolios_ME_BE-ME_INV(TA)_2x4x4', 'Europe_32_Portfolios_ME_BE-ME_INV(TA)_2x4x4', 'Japan_32_Portfolios_ME_BE-ME_INV(TA)_2x4x4', 'Asia_Pacific_ex_Japan_32_Portfolios_ME_BE-ME_INV(TA)_2x4x4', 'North_America_32_Portfolios_ME_BE-ME_INV(TA)_2x4x4', 'Developed_32_Portfolios_ME_INV(TA)_OP_2x4x4', 'Developed_ex_US_32_Portfolios_ME_INV(TA)_OP_2x4x4', 'Europe_32_Portfolios_ME_INV(TA)_OP_2x4x4', 'Japan_32_Portfolios_ME_INV(TA)_OP_2x4x4', 'Asia_Pacific_ex_Japan_32_Portfolios_ME_INV(TA)_OP_2x4x4', 'North_America_32_Portfolios_ME_INV(TA)_OP_2x4x4', 'Emerging_5_Factors', 'Emerging_MOM_Factor', 'Emerging_Markets_6_Portfolios_ME_BE-ME', 'Emerging_Markets_6_Portfolios_ME_OP', 'Emerging_Markets_6_Portfolios_ME_INV', 'Emerging_Markets_6_Portfolios_ME_Prior_12_2', 'Emerging_Markets_4_Portfolios_BE-ME_OP', 'Emerging_Markets_4_Portfolios_OP_INV', 'Emerging_Markets_4_Portfolios_BE-ME_INV']\n"
          ],
          "name": "stdout"
        }
      ]
    },
    {
      "cell_type": "markdown",
      "metadata": {
        "id": "Ysxmfc_jziFW"
      },
      "source": [
        "### 10개의 인더스트리 포트폴리오에 대한 데이터셋 얻기"
      ]
    },
    {
      "cell_type": "code",
      "metadata": {
        "id": "nG6-zktb5z4p",
        "outputId": "08c43898-fe79-4b8c-bd04-6550b6ce6f85",
        "colab": {
          "base_uri": "https://localhost:8080/"
        }
      },
      "source": [
        "df_10_industry = [dataset for dataset in datasets if '10' in dataset and 'Industry' in dataset]\n",
        "print(df_10_industry)"
      ],
      "execution_count": 4,
      "outputs": [
        {
          "output_type": "stream",
          "text": [
            "['10_Industry_Portfolios', '10_Industry_Portfolios_Wout_Div', '10_Industry_Portfolios_daily']\n"
          ],
          "name": "stdout"
        }
      ]
    },
    {
      "cell_type": "code",
      "metadata": {
        "id": "9U84qbpRwtK4"
      },
      "source": [
        "ds_industry = web.DataReader(df_10_industry[0],'famafrench',start='2017-06-23',end='2019-11-01') # Taking [0] as extracting '10_Industry_Portfolios'"
      ],
      "execution_count": 22,
      "outputs": []
    },
    {
      "cell_type": "code",
      "metadata": {
        "id": "Zm-QkVA5w0bx",
        "outputId": "7c994249-3a64-46a2-ee39-fb720765b3bf",
        "colab": {
          "base_uri": "https://localhost:8080/"
        }
      },
      "source": [
        "print(type(ds_industry))\n",
        "ds_industry.keys()"
      ],
      "execution_count": 23,
      "outputs": [
        {
          "output_type": "stream",
          "text": [
            "<class 'dict'>\n"
          ],
          "name": "stdout"
        },
        {
          "output_type": "execute_result",
          "data": {
            "text/plain": [
              "dict_keys([0, 1, 2, 3, 4, 5, 6, 7, 'DESCR'])"
            ]
          },
          "metadata": {
            "tags": []
          },
          "execution_count": 23
        }
      ]
    },
    {
      "cell_type": "code",
      "metadata": {
        "id": "VCDgR668w4Wx",
        "outputId": "a3ef576e-727d-4ded-ecc7-87e04e1109ba",
        "colab": {
          "base_uri": "https://localhost:8080/"
        }
      },
      "source": [
        "print(ds_industry['DESCR'])"
      ],
      "execution_count": 24,
      "outputs": [
        {
          "output_type": "stream",
          "text": [
            "10 Industry Portfolios\n",
            "----------------------\n",
            "\n",
            "This file was created by CMPT_IND_RETS using the 202009 CRSP database. It contains value- and equal-weighted returns for 10 industry portfolios. The portfolios are constructed at the end of June. The annual returns are from January to December. Missing data are indicated by -99.99 or -999. Copyright 2020 Kenneth R. French\n",
            "\n",
            "  0 : Average Value Weighted Returns -- Monthly (30 rows x 10 cols)\n",
            "  1 : Average Equal Weighted Returns -- Monthly (30 rows x 10 cols)\n",
            "  2 : Average Value Weighted Returns -- Annual (3 rows x 10 cols)\n",
            "  3 : Average Equal Weighted Returns -- Annual (3 rows x 10 cols)\n",
            "  4 : Number of Firms in Portfolios (30 rows x 10 cols)\n",
            "  5 : Average Firm Size (30 rows x 10 cols)\n",
            "  6 : Sum of BE / Sum of ME (3 rows x 10 cols)\n",
            "  7 : Value-Weighted Average of BE/ME (3 rows x 10 cols)\n"
          ],
          "name": "stdout"
        }
      ]
    },
    {
      "cell_type": "code",
      "metadata": {
        "id": "moA-H3OdxJM3",
        "outputId": "26f2729a-294b-4bf1-8354-13dd92a89e18",
        "colab": {
          "base_uri": "https://localhost:8080/",
          "height": 225
        }
      },
      "source": [
        "ds_industry[0].head()"
      ],
      "execution_count": 25,
      "outputs": [
        {
          "output_type": "execute_result",
          "data": {
            "text/html": [
              "<div>\n",
              "<style scoped>\n",
              "    .dataframe tbody tr th:only-of-type {\n",
              "        vertical-align: middle;\n",
              "    }\n",
              "\n",
              "    .dataframe tbody tr th {\n",
              "        vertical-align: top;\n",
              "    }\n",
              "\n",
              "    .dataframe thead th {\n",
              "        text-align: right;\n",
              "    }\n",
              "</style>\n",
              "<table border=\"1\" class=\"dataframe\">\n",
              "  <thead>\n",
              "    <tr style=\"text-align: right;\">\n",
              "      <th></th>\n",
              "      <th>NoDur</th>\n",
              "      <th>Durbl</th>\n",
              "      <th>Manuf</th>\n",
              "      <th>Enrgy</th>\n",
              "      <th>HiTec</th>\n",
              "      <th>Telcm</th>\n",
              "      <th>Shops</th>\n",
              "      <th>Hlth</th>\n",
              "      <th>Utils</th>\n",
              "      <th>Other</th>\n",
              "    </tr>\n",
              "    <tr>\n",
              "      <th>Date</th>\n",
              "      <th></th>\n",
              "      <th></th>\n",
              "      <th></th>\n",
              "      <th></th>\n",
              "      <th></th>\n",
              "      <th></th>\n",
              "      <th></th>\n",
              "      <th></th>\n",
              "      <th></th>\n",
              "      <th></th>\n",
              "    </tr>\n",
              "  </thead>\n",
              "  <tbody>\n",
              "    <tr>\n",
              "      <th>2017-06</th>\n",
              "      <td>-0.98</td>\n",
              "      <td>3.51</td>\n",
              "      <td>1.28</td>\n",
              "      <td>-0.21</td>\n",
              "      <td>-2.11</td>\n",
              "      <td>-2.27</td>\n",
              "      <td>-1.90</td>\n",
              "      <td>5.56</td>\n",
              "      <td>-1.89</td>\n",
              "      <td>4.18</td>\n",
              "    </tr>\n",
              "    <tr>\n",
              "      <th>2017-07</th>\n",
              "      <td>-0.12</td>\n",
              "      <td>-1.12</td>\n",
              "      <td>2.16</td>\n",
              "      <td>2.11</td>\n",
              "      <td>3.78</td>\n",
              "      <td>5.30</td>\n",
              "      <td>0.06</td>\n",
              "      <td>0.53</td>\n",
              "      <td>2.96</td>\n",
              "      <td>1.44</td>\n",
              "    </tr>\n",
              "    <tr>\n",
              "      <th>2017-08</th>\n",
              "      <td>-1.71</td>\n",
              "      <td>-0.16</td>\n",
              "      <td>0.17</td>\n",
              "      <td>-5.17</td>\n",
              "      <td>3.04</td>\n",
              "      <td>-2.56</td>\n",
              "      <td>-1.66</td>\n",
              "      <td>1.79</td>\n",
              "      <td>2.15</td>\n",
              "      <td>-0.40</td>\n",
              "    </tr>\n",
              "    <tr>\n",
              "      <th>2017-09</th>\n",
              "      <td>-0.33</td>\n",
              "      <td>5.29</td>\n",
              "      <td>4.21</td>\n",
              "      <td>11.14</td>\n",
              "      <td>0.58</td>\n",
              "      <td>-1.68</td>\n",
              "      <td>2.50</td>\n",
              "      <td>1.50</td>\n",
              "      <td>-1.93</td>\n",
              "      <td>4.31</td>\n",
              "    </tr>\n",
              "    <tr>\n",
              "      <th>2017-10</th>\n",
              "      <td>0.10</td>\n",
              "      <td>1.20</td>\n",
              "      <td>2.85</td>\n",
              "      <td>0.29</td>\n",
              "      <td>6.86</td>\n",
              "      <td>-5.74</td>\n",
              "      <td>2.69</td>\n",
              "      <td>-2.24</td>\n",
              "      <td>3.05</td>\n",
              "      <td>2.03</td>\n",
              "    </tr>\n",
              "  </tbody>\n",
              "</table>\n",
              "</div>"
            ],
            "text/plain": [
              "         NoDur  Durbl  Manuf  Enrgy  HiTec  Telcm  Shops  Hlth   Utils  Other\n",
              "Date                                                                         \n",
              "2017-06  -0.98   3.51   1.28  -0.21  -2.11  -2.27  -1.90   5.56  -1.89   4.18\n",
              "2017-07  -0.12  -1.12   2.16   2.11   3.78   5.30   0.06   0.53   2.96   1.44\n",
              "2017-08  -1.71  -0.16   0.17  -5.17   3.04  -2.56  -1.66   1.79   2.15  -0.40\n",
              "2017-09  -0.33   5.29   4.21  11.14   0.58  -1.68   2.50   1.50  -1.93   4.31\n",
              "2017-10   0.10   1.20   2.85   0.29   6.86  -5.74   2.69  -2.24   3.05   2.03"
            ]
          },
          "metadata": {
            "tags": []
          },
          "execution_count": 25
        }
      ]
    },
    {
      "cell_type": "markdown",
      "metadata": {
        "id": "ZYLDg5ztzsK-"
      },
      "source": [
        "### 5개 팩터 데이터셋"
      ]
    },
    {
      "cell_type": "code",
      "metadata": {
        "id": "eDvctLn0xNW4"
      },
      "source": [
        "df_5_factor = [dataset for dataset in datasets if '5' in dataset and 'Factor' in dataset]\n",
        "print(df_5_factor)\n",
        "ds_factors = web.DataReader(df_5_factor[0],'famafrench',start='2017-06-23',end='2019-11-01') # Taking [0] as extracting 1F-F-Research_Data_Factors_2x3')\n",
        "print('\\nKEYS\\n{0}'.format(ds_factors.keys()))\n",
        "print('DATASET DESCRIPTION \\n {0}'.format(ds_factors['DESCR']))\n",
        "ds_factors[0].head()"
      ],
      "execution_count": null,
      "outputs": []
    },
    {
      "cell_type": "markdown",
      "metadata": {
        "id": "DqllPxJxz49l"
      },
      "source": [
        "## 6.5.2\t펀드 수익률과 팩터 데이터 회귀분석"
      ]
    },
    {
      "cell_type": "code",
      "metadata": {
        "id": "KR-Cs8DJzPBo"
      },
      "source": [
        "import pandas_datareader.data as web\n",
        "import pandas_datareader.famafrench as ff\n",
        "import pandas as pd\n",
        "\n",
        "# 이용가능한 데이터셋을 구한다\n",
        "datasets = ff.get_available_datasets()"
      ],
      "execution_count": 66,
      "outputs": []
    },
    {
      "cell_type": "code",
      "metadata": {
        "id": "R80i6G5kxEPQ",
        "outputId": "406356da-7bf3-4298-824b-4e53dd6713b9",
        "colab": {
          "base_uri": "https://localhost:8080/"
        }
      },
      "source": [
        "# 월간 3팩터(datasets[0])를 구한다\n",
        "df_3_factor = datasets[0]\n",
        "print(df_3_factor)"
      ],
      "execution_count": 67,
      "outputs": [
        {
          "output_type": "stream",
          "text": [
            "F-F_Research_Data_Factors\n"
          ],
          "name": "stdout"
        }
      ]
    },
    {
      "cell_type": "code",
      "metadata": {
        "id": "4bAQpgHcxRW2",
        "outputId": "11526af8-add8-4024-c883-f3ada5e664bd",
        "colab": {
          "base_uri": "https://localhost:8080/",
          "height": 36
        }
      },
      "source": [
        "df_3_factor"
      ],
      "execution_count": 68,
      "outputs": [
        {
          "output_type": "execute_result",
          "data": {
            "application/vnd.google.colaboratory.intrinsic+json": {
              "type": "string"
            },
            "text/plain": [
              "'F-F_Research_Data_Factors'"
            ]
          },
          "metadata": {
            "tags": []
          },
          "execution_count": 68
        }
      ]
    },
    {
      "cell_type": "code",
      "metadata": {
        "id": "IMsK3BacxIOX"
      },
      "source": [
        "# 1980년 2월부터 2019년 6월 팩터 데이터를 다운로드한다\n",
        "ds_factors = web.DataReader(df_3_factor,'famafrench', start='1980-02-01', end='2019-06-30')\n",
        "print('\\nKEYS\\n{0}'.format(ds_factors.keys()))\n",
        "print('DATASET DESCRIPTION \\n {0}'.format(ds_factors['DESCR']))"
      ],
      "execution_count": null,
      "outputs": []
    },
    {
      "cell_type": "code",
      "metadata": {
        "id": "hU-4VKZLtuBt",
        "outputId": "de1044dc-082a-415e-9b62-3aa4c1695362",
        "colab": {
          "base_uri": "https://localhost:8080/"
        }
      },
      "source": [
        "print(ds_factors)"
      ],
      "execution_count": 70,
      "outputs": [
        {
          "output_type": "stream",
          "text": [
            "{0:          Mkt-RF   SMB   HML    RF\n",
            "Date                             \n",
            "1980-02   -1.22 -1.82  0.62  0.89\n",
            "1980-03  -12.90 -6.64 -1.06  1.21\n",
            "1980-04    3.97  0.97  1.06  1.26\n",
            "1980-05    5.26  2.16  0.39  0.81\n",
            "1980-06    3.06  1.67 -0.89  0.61\n",
            "...         ...   ...   ...   ...\n",
            "2019-02    3.40  2.10 -2.72  0.18\n",
            "2019-03    1.10 -3.06 -4.20  0.19\n",
            "2019-04    3.96 -1.77  2.00  0.21\n",
            "2019-05   -6.94 -1.25 -2.15  0.21\n",
            "2019-06    6.93  0.20 -0.82  0.18\n",
            "\n",
            "[473 rows x 4 columns], 1:       Mkt-RF    SMB    HML     RF\n",
            "Date                             \n",
            "1980   22.13   5.57 -25.06  11.24\n",
            "1981  -18.13   7.23  25.01  14.71\n",
            "1982   10.66   8.89  13.59  10.54\n",
            "1983   13.74  13.67  20.85   8.80\n",
            "1984   -6.05  -8.31  19.63   9.85\n",
            "1985   24.91   0.12   1.35   7.72\n",
            "1986   10.12  -9.60   9.58   6.16\n",
            "1987   -3.87 -11.00  -1.64   5.47\n",
            "1988   11.55   5.90  14.77   6.35\n",
            "1989   20.49 -12.80  -4.35   8.37\n",
            "1990  -13.95 -14.17  -9.66   7.81\n",
            "1991   29.18  16.14 -14.67   5.60\n",
            "1992    6.23   7.55  24.62   3.51\n",
            "1993    8.21   6.42  16.99   2.90\n",
            "1994   -4.10  -0.40  -0.97   3.90\n",
            "1995   31.22 -10.23   6.59   5.60\n",
            "1996   15.96  -4.29   8.27   5.21\n",
            "1997   25.96  -8.20  19.35   5.26\n",
            "1998   19.46 -25.62  -9.64   4.86\n",
            "1999   20.57  15.16 -32.18   4.68\n",
            "2000  -17.60  -5.37  46.33   5.89\n",
            "2001  -15.20  17.90  19.14   3.83\n",
            "2002  -22.76   3.88   8.92   1.65\n",
            "2003   30.75  26.11   4.21   1.02\n",
            "2004   10.72   4.12   7.82   1.20\n",
            "2005    3.09  -2.41   9.44   2.98\n",
            "2006   10.60   0.12  11.95   4.80\n",
            "2007    1.04  -6.98 -17.08   4.66\n",
            "2008  -38.34   2.65   1.31   1.60\n",
            "2009   28.26   9.46  -9.18   0.10\n",
            "2010   17.37  13.85  -5.47   0.12\n",
            "2011    0.44  -5.87  -8.07   0.04\n",
            "2012   16.27  -1.25  10.01   0.06\n",
            "2013   35.20   6.78   2.54   0.02\n",
            "2014   11.71  -7.95  -1.54   0.02\n",
            "2015    0.08  -3.92  -9.73   0.02\n",
            "2016   13.30   6.59  22.42   0.20\n",
            "2017   21.51  -4.90 -13.70   0.80\n",
            "2018   -6.93  -3.35  -9.22   1.81\n",
            "2019   28.28  -6.32 -10.88   2.14, 'DESCR': 'F-F Research Data Factors\\n-------------------------\\n\\nThis file was created by CMPT_ME_BEME_RETS using the 202009 CRSP database. The 1-month TBill return is from Ibbotson and Associates, Inc. Copyright 2020 Kenneth R. French\\n\\n  0 : (473 rows x 4 cols)\\n  1 : Annual Factors: January-December (40 rows x 4 cols)'}\n"
          ],
          "name": "stdout"
        }
      ]
    },
    {
      "cell_type": "code",
      "metadata": {
        "id": "rVqUe9obthGI"
      },
      "source": [
        "# 나중에 구할 펀드수익률과 합치기 위해 인덱스 종류를 변경한다\n",
        "#ds_factors[0].index=ds_factors[0].index.strftime('%Y-%m')\n",
        "\n",
        "# ds_3_factors에 저장한다\n",
        "ds_3_factors = ds_factors[0]"
      ],
      "execution_count": 71,
      "outputs": []
    },
    {
      "cell_type": "code",
      "metadata": {
        "id": "YLssP9qvp-44"
      },
      "source": [
        "from pandas_datareader import data as web\n",
        "import pandas as pd"
      ],
      "execution_count": 72,
      "outputs": []
    },
    {
      "cell_type": "code",
      "metadata": {
        "id": "2LE-j2E9qKet"
      },
      "source": [
        "# Fidelity Contrafund Fund (FCNTX) \n",
        "ticker = \"FCNTX\" "
      ],
      "execution_count": 73,
      "outputs": []
    },
    {
      "cell_type": "code",
      "metadata": {
        "id": "uaDJzDXQqOF7"
      },
      "source": [
        "# 1980년 1월부터 2019년 6월까지 펀드 월간(interval='m') 과거 주가 중 수정주가()['Adj Close'])를 구한다.\n",
        "pxclose = web.get_data_yahoo(ticker, start='1980-01-01',end='2019-06-30',interval='m')['Adj Close']"
      ],
      "execution_count": 74,
      "outputs": []
    },
    {
      "cell_type": "code",
      "metadata": {
        "id": "fFGyq8zvqTXh"
      },
      "source": [
        "# 앞서 팩터 자료와 합치기 위해 인덱스 종류를 변경한다\n",
        "pxclose.index=pxclose.index.strftime('%Y-%m')"
      ],
      "execution_count": 75,
      "outputs": []
    },
    {
      "cell_type": "code",
      "metadata": {
        "id": "TSbcln4LqaFM"
      },
      "source": [
        "# 수익률을 계산한다\n",
        "ret_data = pxclose.pct_change()[1:]"
      ],
      "execution_count": 76,
      "outputs": []
    },
    {
      "cell_type": "code",
      "metadata": {
        "id": "aj25IlA7kKBU",
        "outputId": "576a0e0e-7906-403f-f34b-3e17926825c1",
        "colab": {
          "base_uri": "https://localhost:8080/",
          "height": 431
        }
      },
      "source": [
        "ret_data = pd.DataFrame(ret_data)\n",
        "ret_data.columns = ['portfolio']\n",
        "ret_data"
      ],
      "execution_count": 77,
      "outputs": [
        {
          "output_type": "execute_result",
          "data": {
            "text/html": [
              "<div>\n",
              "<style scoped>\n",
              "    .dataframe tbody tr th:only-of-type {\n",
              "        vertical-align: middle;\n",
              "    }\n",
              "\n",
              "    .dataframe tbody tr th {\n",
              "        vertical-align: top;\n",
              "    }\n",
              "\n",
              "    .dataframe thead th {\n",
              "        text-align: right;\n",
              "    }\n",
              "</style>\n",
              "<table border=\"1\" class=\"dataframe\">\n",
              "  <thead>\n",
              "    <tr style=\"text-align: right;\">\n",
              "      <th></th>\n",
              "      <th>portfolio</th>\n",
              "    </tr>\n",
              "    <tr>\n",
              "      <th>Date</th>\n",
              "      <th></th>\n",
              "    </tr>\n",
              "  </thead>\n",
              "  <tbody>\n",
              "    <tr>\n",
              "      <th>1980-02</th>\n",
              "      <td>-0.016874</td>\n",
              "    </tr>\n",
              "    <tr>\n",
              "      <th>1980-03</th>\n",
              "      <td>-0.089431</td>\n",
              "    </tr>\n",
              "    <tr>\n",
              "      <th>1980-04</th>\n",
              "      <td>0.017857</td>\n",
              "    </tr>\n",
              "    <tr>\n",
              "      <th>1980-05</th>\n",
              "      <td>0.078948</td>\n",
              "    </tr>\n",
              "    <tr>\n",
              "      <th>1980-06</th>\n",
              "      <td>0.011743</td>\n",
              "    </tr>\n",
              "    <tr>\n",
              "      <th>...</th>\n",
              "      <td>...</td>\n",
              "    </tr>\n",
              "    <tr>\n",
              "      <th>2019-02</th>\n",
              "      <td>0.014938</td>\n",
              "    </tr>\n",
              "    <tr>\n",
              "      <th>2019-03</th>\n",
              "      <td>0.031163</td>\n",
              "    </tr>\n",
              "    <tr>\n",
              "      <th>2019-04</th>\n",
              "      <td>0.048800</td>\n",
              "    </tr>\n",
              "    <tr>\n",
              "      <th>2019-05</th>\n",
              "      <td>-0.057208</td>\n",
              "    </tr>\n",
              "    <tr>\n",
              "      <th>2019-06</th>\n",
              "      <td>0.066343</td>\n",
              "    </tr>\n",
              "  </tbody>\n",
              "</table>\n",
              "<p>473 rows × 1 columns</p>\n",
              "</div>"
            ],
            "text/plain": [
              "         portfolio\n",
              "Date              \n",
              "1980-02  -0.016874\n",
              "1980-03  -0.089431\n",
              "1980-04   0.017857\n",
              "1980-05   0.078948\n",
              "1980-06   0.011743\n",
              "...            ...\n",
              "2019-02   0.014938\n",
              "2019-03   0.031163\n",
              "2019-04   0.048800\n",
              "2019-05  -0.057208\n",
              "2019-06   0.066343\n",
              "\n",
              "[473 rows x 1 columns]"
            ]
          },
          "metadata": {
            "tags": []
          },
          "execution_count": 77
        }
      ]
    },
    {
      "cell_type": "code",
      "metadata": {
        "id": "EbhLmZfD8ai8",
        "outputId": "6b03f439-30a8-4db7-dbed-ed2bee112602",
        "colab": {
          "base_uri": "https://localhost:8080/"
        }
      },
      "source": [
        "print(ret_data.head(), type(ret_data))\n",
        "print(ds_3_factors.head(), type(ds_3_factors))"
      ],
      "execution_count": 78,
      "outputs": [
        {
          "output_type": "stream",
          "text": [
            "         portfolio\n",
            "Date              \n",
            "1980-02  -0.016874\n",
            "1980-03  -0.089431\n",
            "1980-04   0.017857\n",
            "1980-05   0.078948\n",
            "1980-06   0.011743 <class 'pandas.core.frame.DataFrame'>\n",
            "         Mkt-RF   SMB   HML    RF\n",
            "Date                             \n",
            "1980-02   -1.22 -1.82  0.62  0.89\n",
            "1980-03  -12.90 -6.64 -1.06  1.21\n",
            "1980-04    3.97  0.97  1.06  1.26\n",
            "1980-05    5.26  2.16  0.39  0.81\n",
            "1980-06    3.06  1.67 -0.89  0.61 <class 'pandas.core.frame.DataFrame'>\n"
          ],
          "name": "stdout"
        }
      ]
    },
    {
      "cell_type": "code",
      "metadata": {
        "id": "Wr2Py8v_mBMl",
        "outputId": "04062c97-d236-4f3f-f5ed-9ae677b474b8",
        "colab": {
          "base_uri": "https://localhost:8080/",
          "height": 431
        }
      },
      "source": [
        "# 회귀분석을 위해 두 개의 데이터프레임(ret_data, ds_3_factors)을 합친다\n",
        "# 두 프레임의 인덱스를 기준으로 합치는 경우 매개변수 left_index와 right_index를 True로 한다.\n",
        "# 또 합치려는 두 프레임의 컬럼 데이터나 인덱스끼리 서로 일치하는 데이터만 합치는 경우 how 매개변수를 'inner'로 한다.\n",
        "\n",
        "regress_data=ret_data.merge(ds_3_factors, how = 'inner', left_index= True, right_index= True)\n",
        "regress_data"
      ],
      "execution_count": 79,
      "outputs": [
        {
          "output_type": "execute_result",
          "data": {
            "text/html": [
              "<div>\n",
              "<style scoped>\n",
              "    .dataframe tbody tr th:only-of-type {\n",
              "        vertical-align: middle;\n",
              "    }\n",
              "\n",
              "    .dataframe tbody tr th {\n",
              "        vertical-align: top;\n",
              "    }\n",
              "\n",
              "    .dataframe thead th {\n",
              "        text-align: right;\n",
              "    }\n",
              "</style>\n",
              "<table border=\"1\" class=\"dataframe\">\n",
              "  <thead>\n",
              "    <tr style=\"text-align: right;\">\n",
              "      <th></th>\n",
              "      <th>portfolio</th>\n",
              "      <th>Mkt-RF</th>\n",
              "      <th>SMB</th>\n",
              "      <th>HML</th>\n",
              "      <th>RF</th>\n",
              "    </tr>\n",
              "    <tr>\n",
              "      <th>Date</th>\n",
              "      <th></th>\n",
              "      <th></th>\n",
              "      <th></th>\n",
              "      <th></th>\n",
              "      <th></th>\n",
              "    </tr>\n",
              "  </thead>\n",
              "  <tbody>\n",
              "    <tr>\n",
              "      <th>1980-02</th>\n",
              "      <td>-0.016874</td>\n",
              "      <td>-1.22</td>\n",
              "      <td>-1.82</td>\n",
              "      <td>0.62</td>\n",
              "      <td>0.89</td>\n",
              "    </tr>\n",
              "    <tr>\n",
              "      <th>1980-03</th>\n",
              "      <td>-0.089431</td>\n",
              "      <td>-12.90</td>\n",
              "      <td>-6.64</td>\n",
              "      <td>-1.06</td>\n",
              "      <td>1.21</td>\n",
              "    </tr>\n",
              "    <tr>\n",
              "      <th>1980-04</th>\n",
              "      <td>0.017857</td>\n",
              "      <td>3.97</td>\n",
              "      <td>0.97</td>\n",
              "      <td>1.06</td>\n",
              "      <td>1.26</td>\n",
              "    </tr>\n",
              "    <tr>\n",
              "      <th>1980-05</th>\n",
              "      <td>0.078948</td>\n",
              "      <td>5.26</td>\n",
              "      <td>2.16</td>\n",
              "      <td>0.39</td>\n",
              "      <td>0.81</td>\n",
              "    </tr>\n",
              "    <tr>\n",
              "      <th>1980-06</th>\n",
              "      <td>0.011743</td>\n",
              "      <td>3.06</td>\n",
              "      <td>1.67</td>\n",
              "      <td>-0.89</td>\n",
              "      <td>0.61</td>\n",
              "    </tr>\n",
              "    <tr>\n",
              "      <th>...</th>\n",
              "      <td>...</td>\n",
              "      <td>...</td>\n",
              "      <td>...</td>\n",
              "      <td>...</td>\n",
              "      <td>...</td>\n",
              "    </tr>\n",
              "    <tr>\n",
              "      <th>2019-02</th>\n",
              "      <td>0.014938</td>\n",
              "      <td>3.40</td>\n",
              "      <td>2.10</td>\n",
              "      <td>-2.72</td>\n",
              "      <td>0.18</td>\n",
              "    </tr>\n",
              "    <tr>\n",
              "      <th>2019-03</th>\n",
              "      <td>0.031163</td>\n",
              "      <td>1.10</td>\n",
              "      <td>-3.06</td>\n",
              "      <td>-4.20</td>\n",
              "      <td>0.19</td>\n",
              "    </tr>\n",
              "    <tr>\n",
              "      <th>2019-04</th>\n",
              "      <td>0.048800</td>\n",
              "      <td>3.96</td>\n",
              "      <td>-1.77</td>\n",
              "      <td>2.00</td>\n",
              "      <td>0.21</td>\n",
              "    </tr>\n",
              "    <tr>\n",
              "      <th>2019-05</th>\n",
              "      <td>-0.057208</td>\n",
              "      <td>-6.94</td>\n",
              "      <td>-1.25</td>\n",
              "      <td>-2.15</td>\n",
              "      <td>0.21</td>\n",
              "    </tr>\n",
              "    <tr>\n",
              "      <th>2019-06</th>\n",
              "      <td>0.066343</td>\n",
              "      <td>6.93</td>\n",
              "      <td>0.20</td>\n",
              "      <td>-0.82</td>\n",
              "      <td>0.18</td>\n",
              "    </tr>\n",
              "  </tbody>\n",
              "</table>\n",
              "<p>473 rows × 5 columns</p>\n",
              "</div>"
            ],
            "text/plain": [
              "         portfolio  Mkt-RF   SMB   HML    RF\n",
              "Date                                        \n",
              "1980-02  -0.016874   -1.22 -1.82  0.62  0.89\n",
              "1980-03  -0.089431  -12.90 -6.64 -1.06  1.21\n",
              "1980-04   0.017857    3.97  0.97  1.06  1.26\n",
              "1980-05   0.078948    5.26  2.16  0.39  0.81\n",
              "1980-06   0.011743    3.06  1.67 -0.89  0.61\n",
              "...            ...     ...   ...   ...   ...\n",
              "2019-02   0.014938    3.40  2.10 -2.72  0.18\n",
              "2019-03   0.031163    1.10 -3.06 -4.20  0.19\n",
              "2019-04   0.048800    3.96 -1.77  2.00  0.21\n",
              "2019-05  -0.057208   -6.94 -1.25 -2.15  0.21\n",
              "2019-06   0.066343    6.93  0.20 -0.82  0.18\n",
              "\n",
              "[473 rows x 5 columns]"
            ]
          },
          "metadata": {
            "tags": []
          },
          "execution_count": 79
        }
      ]
    },
    {
      "cell_type": "code",
      "metadata": {
        "id": "QYeMn53GkL-b",
        "outputId": "0be715a3-9e27-471a-ac98-1e0b1ba52d76",
        "colab": {
          "base_uri": "https://localhost:8080/"
        }
      },
      "source": [
        "# \"Mkt-RF\" 컬럼 이름을 \"mkt_excess\"으로 변경한다\n",
        "regress_data.rename(columns={\"Mkt-RF\":\"mkt_excess\"}, inplace=True)\n",
        "# 초과수익율(펀드수익률-무위험수익률)을 계산하고 'port_excess' 컬럼을 만들어 저장한다\n",
        "regress_data['port_excess'] = regress_data['portfolio'] - regress_data['RF']\n",
        "print(regress_data.tail())"
      ],
      "execution_count": 80,
      "outputs": [
        {
          "output_type": "stream",
          "text": [
            "         portfolio  mkt_excess   SMB   HML    RF  port_excess\n",
            "Date                                                         \n",
            "2019-02   0.014938        3.40  2.10 -2.72  0.18    -0.165062\n",
            "2019-03   0.031163        1.10 -3.06 -4.20  0.19    -0.158837\n",
            "2019-04   0.048800        3.96 -1.77  2.00  0.21    -0.161200\n",
            "2019-05  -0.057208       -6.94 -1.25 -2.15  0.21    -0.267208\n",
            "2019-06   0.066343        6.93  0.20 -0.82  0.18    -0.113657\n"
          ],
          "name": "stdout"
        }
      ]
    },
    {
      "cell_type": "code",
      "metadata": {
        "id": "q58GOITjmv5e"
      },
      "source": [
        "import statsmodels.api as smf"
      ],
      "execution_count": 85,
      "outputs": []
    },
    {
      "cell_type": "code",
      "metadata": {
        "id": "99Ce_221m-7J"
      },
      "source": [
        "model = smf.formula.ols(formula = \"port_excess ~ mkt_excess + SMB + HML\", data = regress_data).fit()\n"
      ],
      "execution_count": 92,
      "outputs": []
    },
    {
      "cell_type": "code",
      "metadata": {
        "id": "HCljEYks9T07",
        "outputId": "fd2665f2-9bb4-4662-e733-954a86c1b20a",
        "colab": {
          "base_uri": "https://localhost:8080/"
        }
      },
      "source": [
        "print(model.params)"
      ],
      "execution_count": 94,
      "outputs": [
        {
          "output_type": "stream",
          "text": [
            "Intercept    -0.311119\n",
            "mkt_excess    0.008059\n",
            "SMB           0.010100\n",
            "HML           0.005635\n",
            "dtype: float64\n"
          ],
          "name": "stdout"
        }
      ]
    },
    {
      "cell_type": "code",
      "metadata": {
        "id": "0UTEIng4oBc4",
        "outputId": "681431d1-a282-4441-b5f2-92d6ff532040",
        "colab": {
          "base_uri": "https://localhost:8080/"
        }
      },
      "source": [
        "print(model.summary())"
      ],
      "execution_count": 90,
      "outputs": [
        {
          "output_type": "stream",
          "text": [
            "                            OLS Regression Results                            \n",
            "==============================================================================\n",
            "Dep. Variable:            port_excess   R-squared:                       0.005\n",
            "Model:                            OLS   Adj. R-squared:                 -0.001\n",
            "Method:                 Least Squares   F-statistic:                    0.8470\n",
            "Date:                Thu, 12 Nov 2020   Prob (F-statistic):              0.469\n",
            "Time:                        05:20:39   Log-Likelihood:                -472.48\n",
            "No. Observations:                 473   AIC:                             953.0\n",
            "Df Residuals:                     469   BIC:                             969.6\n",
            "Df Model:                           3                                         \n",
            "Covariance Type:            nonrobust                                         \n",
            "==============================================================================\n",
            "                 coef    std err          t      P>|t|      [0.025      0.975]\n",
            "------------------------------------------------------------------------------\n",
            "Intercept     -0.3111      0.031    -10.058      0.000      -0.372      -0.250\n",
            "mkt_excess     0.0081      0.007      1.110      0.268      -0.006       0.022\n",
            "SMB            0.0101      0.011      0.944      0.346      -0.011       0.031\n",
            "HML            0.0056      0.011      0.508      0.612      -0.016       0.027\n",
            "==============================================================================\n",
            "Omnibus:                      830.537   Durbin-Watson:                   1.671\n",
            "Prob(Omnibus):                  0.000   Jarque-Bera (JB):           432316.055\n",
            "Skew:                          10.778   Prob(JB):                         0.00\n",
            "Kurtosis:                     149.530   Cond. No.                         4.78\n",
            "==============================================================================\n",
            "\n",
            "Warnings:\n",
            "[1] Standard Errors assume that the covariance matrix of the errors is correctly specified.\n"
          ],
          "name": "stdout"
        }
      ]
    }
  ]
}