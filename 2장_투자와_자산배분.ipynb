{
  "nbformat": 4,
  "nbformat_minor": 0,
  "metadata": {
    "colab": {
      "name": "2장 투자와 자산배분",
      "provenance": [],
      "collapsed_sections": [],
      "authorship_tag": "ABX9TyPhfHnRKXgQFDclAY5n1rzg",
      "include_colab_link": true
    },
    "kernelspec": {
      "name": "python3",
      "display_name": "Python 3"
    }
  },
  "cells": [
    {
      "cell_type": "markdown",
      "metadata": {
        "id": "view-in-github",
        "colab_type": "text"
      },
      "source": [
        "<a href=\"https://colab.research.google.com/github/jimsjoo/gilbut_portfolio/blob/master/2%EC%9E%A5_%ED%88%AC%EC%9E%90%EC%99%80_%EC%9E%90%EC%82%B0%EB%B0%B0%EB%B6%84.ipynb\" target=\"_parent\"><img src=\"https://colab.research.google.com/assets/colab-badge.svg\" alt=\"Open In Colab\"/></a>"
      ]
    },
    {
      "cell_type": "markdown",
      "metadata": {
        "id": "fR6bM7q701vq",
        "colab_type": "text"
      },
      "source": [
        "##맥시멈드로다운(MaxDrawDown)"
      ]
    },
    {
      "cell_type": "code",
      "metadata": {
        "id": "b3WSbjy6qO_Q",
        "colab_type": "code",
        "colab": {}
      },
      "source": [
        "def cummax(nums):      \n",
        "  cum = []\n",
        "  max = 0\n",
        "  for item in nums:\n",
        "    if item > max:\n",
        "      max = item\n",
        "    cum.append(max)\n",
        "  return cum"
      ],
      "execution_count": 0,
      "outputs": []
    },
    {
      "cell_type": "code",
      "metadata": {
        "id": "csMlSbJuVONc",
        "colab_type": "code",
        "outputId": "8164c2e9-27d5-4cc1-aa0b-cadcbaf4b732",
        "colab": {
          "base_uri": "https://localhost:8080/",
          "height": 35
        }
      },
      "source": [
        ""
      ],
      "execution_count": 0,
      "outputs": [
        {
          "output_type": "execute_result",
          "data": {
            "text/plain": [
              "[100, 120, 130, 130, 130, 130, 130, 130, 140, 160]"
            ]
          },
          "metadata": {
            "tags": []
          },
          "execution_count": 22
        }
      ]
    },
    {
      "cell_type": "code",
      "metadata": {
        "id": "UGL3YRggVZSg",
        "colab_type": "code",
        "outputId": "fe09fdd7-a93b-4d83-c2c1-1b992d5b82b7",
        "colab": {
          "base_uri": "https://localhost:8080/",
          "height": 35
        }
      },
      "source": [
        "np.maximum.accumulate(np.array([100, 120, 130, 100, 65, 80, 100, 120, 140, 160]))"
      ],
      "execution_count": 0,
      "outputs": [
        {
          "output_type": "execute_result",
          "data": {
            "text/plain": [
              "array([100, 120, 130, 130, 130, 130, 130, 130, 140, 160])"
            ]
          },
          "metadata": {
            "tags": []
          },
          "execution_count": 23
        }
      ]
    },
    {
      "cell_type": "code",
      "metadata": {
        "id": "R80y9AWp24xC",
        "colab_type": "code",
        "outputId": "faa597e6-4740-4f85-c8a0-6e50c1e66fd9",
        "colab": {
          "base_uri": "https://localhost:8080/",
          "height": 35
        }
      },
      "source": [
        "values = [100, 120, 130, 100, 65, 80, 100, 120, 140, 160]\n",
        "values = [100,  80,  75,  90,140,180, 220, 160, 190]\n",
        "values = [500000,750000,400000,600000,350000]\n",
        "\n",
        "drawdown = [x - y for x, y in zip(values, cummax(values))]\n",
        "idx_lower = drawdown.index(min(drawdown)) \n",
        "idx_upper = values.index(max(values[:idx_lower])) \n",
        "print((values[idx_lower]-values[idx_upper])/values[idx_upper])"
      ],
      "execution_count": 0,
      "outputs": [
        {
          "output_type": "stream",
          "text": [
            "-0.5333333333333333\n"
          ],
          "name": "stdout"
        }
      ]
    },
    {
      "cell_type": "code",
      "metadata": {
        "id": "eOHJprG-nZKJ",
        "colab_type": "code",
        "outputId": "0f89892f-b811-4025-c379-8416eaad59bb",
        "colab": {
          "base_uri": "https://localhost:8080/",
          "height": 35
        }
      },
      "source": [
        "import numpy as np\n",
        "\n",
        "def mdd(x):\n",
        "    arr = np.array(x)    \n",
        "    idx_lower = np.argmin(arr - np.maximum.accumulate(arr))\n",
        "    idx_upper = np.argmax(arr[:idx_lower])\n",
        "    return (arr[idx_lower] - arr[idx_upper]) / arr[idx_upper]\n",
        "\n",
        "print(mdd(values))   "
      ],
      "execution_count": 0,
      "outputs": [
        {
          "output_type": "stream",
          "text": [
            "-0.5333333333333333\n"
          ],
          "name": "stdout"
        }
      ]
    },
    {
      "cell_type": "code",
      "metadata": {
        "id": "_UTTY3OZVmuw",
        "colab_type": "code",
        "outputId": "b1887855-4967-4244-be2a-093dc26cfa8f",
        "colab": {
          "base_uri": "https://localhost:8080/",
          "height": 54
        }
      },
      "source": [
        "values = [100, 120, 130, 100, 65, 80, 100, 120, 140, 160]\n",
        "print(cummax(values))\n",
        "print(np.maximum.accumulate(np.array(values)))"
      ],
      "execution_count": 0,
      "outputs": [
        {
          "output_type": "stream",
          "text": [
            "[100, 120, 130, 130, 130, 130, 130, 130, 140, 160]\n",
            "[100 120 130 130 130 130 130 130 140 160]\n"
          ],
          "name": "stdout"
        }
      ]
    }
  ]
}