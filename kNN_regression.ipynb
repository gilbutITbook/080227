{
  "nbformat": 4,
  "nbformat_minor": 0,
  "metadata": {
    "colab": {
      "name": "kNN_regression.ipynb",
      "provenance": [],
      "include_colab_link": true
    },
    "kernelspec": {
      "name": "python3",
      "display_name": "Python 3"
    }
  },
  "cells": [
    {
      "cell_type": "markdown",
      "metadata": {
        "id": "view-in-github",
        "colab_type": "text"
      },
      "source": [
        "<a href=\"https://colab.research.google.com/github/jimsjoo/gilbut_portfolio/blob/master/kNN_regression.ipynb\" target=\"_parent\"><img src=\"https://colab.research.google.com/assets/colab-badge.svg\" alt=\"Open In Colab\"/></a>"
      ]
    },
    {
      "cell_type": "code",
      "metadata": {
        "id": "ew-JWwEE9EyF",
        "colab_type": "code",
        "colab": {}
      },
      "source": [
        "import numpy as np\n",
        "import matplotlib.pyplot as plt\n",
        "import pandas as pd"
      ],
      "execution_count": 0,
      "outputs": []
    },
    {
      "cell_type": "code",
      "metadata": {
        "id": "3epDPics-B4A",
        "colab_type": "code",
        "colab": {}
      },
      "source": [
        "url = 'https://raw.githubusercontent.com/jimsjoo/gilbut_portfolio/master/stocks.csv'\n",
        "dataset = pd.read_csv(url)"
      ],
      "execution_count": 0,
      "outputs": []
    },
    {
      "cell_type": "code",
      "metadata": {
        "id": "XMAraeu29pft",
        "colab_type": "code",
        "outputId": "2b567864-31fb-4901-9e91-c43db4c5f765",
        "colab": {
          "base_uri": "https://localhost:8080/",
          "height": 204
        }
      },
      "source": [
        "dataset.head()"
      ],
      "execution_count": 3,
      "outputs": [
        {
          "output_type": "execute_result",
          "data": {
            "text/html": [
              "<div>\n",
              "<style scoped>\n",
              "    .dataframe tbody tr th:only-of-type {\n",
              "        vertical-align: middle;\n",
              "    }\n",
              "\n",
              "    .dataframe tbody tr th {\n",
              "        vertical-align: top;\n",
              "    }\n",
              "\n",
              "    .dataframe thead th {\n",
              "        text-align: right;\n",
              "    }\n",
              "</style>\n",
              "<table border=\"1\" class=\"dataframe\">\n",
              "  <thead>\n",
              "    <tr style=\"text-align: right;\">\n",
              "      <th></th>\n",
              "      <th>Date</th>\n",
              "      <th>Apple</th>\n",
              "      <th>Google</th>\n",
              "      <th>MSFT</th>\n",
              "      <th>Increase</th>\n",
              "    </tr>\n",
              "  </thead>\n",
              "  <tbody>\n",
              "    <tr>\n",
              "      <th>0</th>\n",
              "      <td>2010-01-04</td>\n",
              "      <td>214.009998</td>\n",
              "      <td>626.750011</td>\n",
              "      <td>30.950001</td>\n",
              "      <td>True</td>\n",
              "    </tr>\n",
              "    <tr>\n",
              "      <th>1</th>\n",
              "      <td>2010-01-05</td>\n",
              "      <td>214.379993</td>\n",
              "      <td>623.990017</td>\n",
              "      <td>30.959999</td>\n",
              "      <td>True</td>\n",
              "    </tr>\n",
              "    <tr>\n",
              "      <th>2</th>\n",
              "      <td>2010-01-06</td>\n",
              "      <td>210.969995</td>\n",
              "      <td>608.259974</td>\n",
              "      <td>30.770000</td>\n",
              "      <td>False</td>\n",
              "    </tr>\n",
              "    <tr>\n",
              "      <th>3</th>\n",
              "      <td>2010-01-07</td>\n",
              "      <td>210.580000</td>\n",
              "      <td>594.100015</td>\n",
              "      <td>30.450001</td>\n",
              "      <td>False</td>\n",
              "    </tr>\n",
              "    <tr>\n",
              "      <th>4</th>\n",
              "      <td>2010-01-08</td>\n",
              "      <td>211.980005</td>\n",
              "      <td>602.020005</td>\n",
              "      <td>30.660000</td>\n",
              "      <td>True</td>\n",
              "    </tr>\n",
              "  </tbody>\n",
              "</table>\n",
              "</div>"
            ],
            "text/plain": [
              "         Date       Apple      Google       MSFT  Increase\n",
              "0  2010-01-04  214.009998  626.750011  30.950001      True\n",
              "1  2010-01-05  214.379993  623.990017  30.959999      True\n",
              "2  2010-01-06  210.969995  608.259974  30.770000     False\n",
              "3  2010-01-07  210.580000  594.100015  30.450001     False\n",
              "4  2010-01-08  211.980005  602.020005  30.660000      True"
            ]
          },
          "metadata": {
            "tags": []
          },
          "execution_count": 3
        }
      ]
    },
    {
      "cell_type": "code",
      "metadata": {
        "id": "lbO7-4uE_J1N",
        "colab_type": "code",
        "outputId": "0b2c2e68-d734-4d67-b2b8-5c53d4d29107",
        "colab": {
          "base_uri": "https://localhost:8080/",
          "height": 221
        }
      },
      "source": [
        "crit_train=dataset['Date']<'2014'\n",
        "crit_test =dataset['Date']>='2014'\n",
        "print(dataset[crit_train].tail())\n",
        "print(dataset[crit_test].head())"
      ],
      "execution_count": 0,
      "outputs": [
        {
          "output_type": "stream",
          "text": [
            "            Date       Apple       Google       MSFT  Increase\n",
            "1001  2013-12-24  567.669975  1111.840064  37.080002     False\n",
            "1002  2013-12-26  563.900009  1117.460049  37.439999     False\n",
            "1003  2013-12-27  560.089989  1118.400026  37.290001     False\n",
            "1004  2013-12-30  554.519981  1109.460000  37.290001     False\n",
            "1005  2013-12-31  561.019997  1120.709970  37.410000      True\n",
            "            Date       Apple       Google       MSFT  Increase\n",
            "1006  2014-01-02  553.129990  1113.120033  37.160000     False\n",
            "1007  2014-01-03  540.980019  1104.999987  36.910000     False\n",
            "1008  2014-01-06  543.929993  1117.320052  36.130001      True\n",
            "1009  2014-01-07  540.040024  1138.860015  36.410000     False\n",
            "1010  2014-01-08  543.460022  1141.230079  35.759998      True\n"
          ],
          "name": "stdout"
        }
      ]
    },
    {
      "cell_type": "code",
      "metadata": {
        "id": "CNJ9QsifMvfx",
        "colab_type": "code",
        "colab": {}
      },
      "source": [
        "predictors = dataset[['Apple','Google','MSFT']]\n",
        "data_train = predictors[crit_train]\n",
        "data_test = predictors[crit_test]\n",
        "data_inc = dataset[['Increase']][crit_train]"
      ],
      "execution_count": 0,
      "outputs": []
    },
    {
      "cell_type": "code",
      "metadata": {
        "id": "z0OPDevSQKlA",
        "colab_type": "code",
        "outputId": "fd38754b-75d2-4aa4-cb8e-eed67b9bfaaf",
        "colab": {
          "base_uri": "https://localhost:8080/",
          "height": 323
        }
      },
      "source": [
        "X=dataset.iloc[:,1:-1]\n",
        "y=dataset.iloc[:,-1]\n",
        "print(dataset.head())\n",
        "print(X[:5])\n",
        "print(y[:5])"
      ],
      "execution_count": 15,
      "outputs": [
        {
          "output_type": "stream",
          "text": [
            "         Date       Apple      Google       MSFT  Increase\n",
            "0  2010-01-04  214.009998  626.750011  30.950001      True\n",
            "1  2010-01-05  214.379993  623.990017  30.959999      True\n",
            "2  2010-01-06  210.969995  608.259974  30.770000     False\n",
            "3  2010-01-07  210.580000  594.100015  30.450001     False\n",
            "4  2010-01-08  211.980005  602.020005  30.660000      True\n",
            "        Apple      Google       MSFT\n",
            "0  214.009998  626.750011  30.950001\n",
            "1  214.379993  623.990017  30.959999\n",
            "2  210.969995  608.259974  30.770000\n",
            "3  210.580000  594.100015  30.450001\n",
            "4  211.980005  602.020005  30.660000\n",
            "0     True\n",
            "1     True\n",
            "2    False\n",
            "3    False\n",
            "4     True\n",
            "Name: Increase, dtype: bool\n"
          ],
          "name": "stdout"
        }
      ]
    },
    {
      "cell_type": "code",
      "metadata": {
        "id": "O4rkpWra4ZP1",
        "colab_type": "code",
        "colab": {}
      },
      "source": [
        "from sklearn.model_selection import train_test_split\n",
        "X_train, X_test, y_train, y_test = train_test_split(X, y, test_size=0.20)"
      ],
      "execution_count": 0,
      "outputs": []
    },
    {
      "cell_type": "code",
      "metadata": {
        "id": "dr8vsts04cKr",
        "colab_type": "code",
        "colab": {
          "base_uri": "https://localhost:8080/",
          "height": 221
        },
        "outputId": "9c390162-6985-4364-c694-2e06720035c9"
      },
      "source": [
        "print(X_train[:5])\n",
        "print(X_test[:5])"
      ],
      "execution_count": 17,
      "outputs": [
        {
          "output_type": "stream",
          "text": [
            "          Apple      Google       MSFT\n",
            "384  358.019997  538.260036  26.629999\n",
            "653  622.550003  642.819985  29.950001\n",
            "234  318.210007  587.140002  26.870001\n",
            "365  326.749989  502.950014  23.740000\n",
            "570  636.229996  630.840033  31.100000\n",
            "           Apple      Google       MSFT\n",
            "1357  132.039993  554.250000  47.610001\n",
            "577   608.340012  607.449994  31.139999\n",
            "893   418.989990  903.800019  31.820000\n",
            "45    224.839993  576.450019  28.969999\n",
            "1373  127.879997  556.179993  46.720001\n"
          ],
          "name": "stdout"
        }
      ]
    },
    {
      "cell_type": "code",
      "metadata": {
        "id": "M1IzibGGdyr_",
        "colab_type": "code",
        "colab": {}
      },
      "source": [
        "from sklearn.preprocessing import StandardScaler\n",
        "scaler = StandardScaler()\n",
        "scaler.fit(X_train)\n",
        "\n",
        "X_train = scaler.transform(X_train)\n",
        "X_test = scaler.transform(X_test)"
      ],
      "execution_count": 0,
      "outputs": []
    },
    {
      "cell_type": "code",
      "metadata": {
        "id": "JILeHCtZz8Ba",
        "colab_type": "code",
        "outputId": "a466d088-9d9c-4b34-b116-7a91c09a2183",
        "colab": {
          "base_uri": "https://localhost:8080/",
          "height": 68
        }
      },
      "source": [
        "from sklearn.neighbors import KNeighborsClassifier\n",
        "classifier = KNeighborsClassifier(n_neighbors=5)\n",
        "classifier.fit(X_train, y_train)"
      ],
      "execution_count": 19,
      "outputs": [
        {
          "output_type": "execute_result",
          "data": {
            "text/plain": [
              "KNeighborsClassifier(algorithm='auto', leaf_size=30, metric='minkowski',\n",
              "                     metric_params=None, n_jobs=None, n_neighbors=5, p=2,\n",
              "                     weights='uniform')"
            ]
          },
          "metadata": {
            "tags": []
          },
          "execution_count": 19
        }
      ]
    },
    {
      "cell_type": "code",
      "metadata": {
        "id": "d0oFwtrO6TOL",
        "colab_type": "code",
        "colab": {}
      },
      "source": [
        "y_pred = classifier.predict(X_test)"
      ],
      "execution_count": 0,
      "outputs": []
    },
    {
      "cell_type": "code",
      "metadata": {
        "id": "f2LCijWi0Upb",
        "colab_type": "code",
        "outputId": "ce09e005-1794-490a-f345-54b42edc867b",
        "colab": {
          "base_uri": "https://localhost:8080/",
          "height": 204
        }
      },
      "source": [
        "from sklearn.metrics import classification_report, confusion_matrix\n",
        "print(confusion_matrix(y_test, y_pred))\n",
        "print(classification_report(y_test, y_pred))"
      ],
      "execution_count": 21,
      "outputs": [
        {
          "output_type": "stream",
          "text": [
            "[[64 79]\n",
            " [76 74]]\n",
            "              precision    recall  f1-score   support\n",
            "\n",
            "       False       0.46      0.45      0.45       143\n",
            "        True       0.48      0.49      0.49       150\n",
            "\n",
            "    accuracy                           0.47       293\n",
            "   macro avg       0.47      0.47      0.47       293\n",
            "weighted avg       0.47      0.47      0.47       293\n",
            "\n"
          ],
          "name": "stdout"
        }
      ]
    },
    {
      "cell_type": "code",
      "metadata": {
        "id": "ZzeWUaDJ6jDb",
        "colab_type": "code",
        "colab": {}
      },
      "source": [
        ""
      ],
      "execution_count": 0,
      "outputs": []
    },
    {
      "cell_type": "code",
      "metadata": {
        "id": "bysGM0rk0ie0",
        "colab_type": "code",
        "colab": {}
      },
      "source": [
        "error = []\n",
        "\n",
        "# Calculating error for K values between 1 and 40\n",
        "for i in range(1, 40):\n",
        "    knn = KNeighborsClassifier(n_neighbors=i)\n",
        "    knn.fit(X_train, y_train)\n",
        "    pred_i = knn.predict(X_test)\n",
        "    error.append(np.mean(pred_i != y_test))"
      ],
      "execution_count": 0,
      "outputs": []
    },
    {
      "cell_type": "code",
      "metadata": {
        "id": "deIVrhS66lCI",
        "colab_type": "code",
        "colab": {}
      },
      "source": [
        ""
      ],
      "execution_count": 0,
      "outputs": []
    },
    {
      "cell_type": "code",
      "metadata": {
        "id": "uVopo93c1Bxq",
        "colab_type": "code",
        "outputId": "1059a13a-5741-4de4-a5e1-52b8713d45b9",
        "colab": {
          "base_uri": "https://localhost:8080/",
          "height": 421
        }
      },
      "source": [
        "plt.figure(figsize=(12, 6))\n",
        "plt.plot(range(1, 40), error, color='red', linestyle='dashed', marker='o',\n",
        "         markerfacecolor='blue', markersize=10)\n",
        "plt.title('Error Rate K Value')\n",
        "plt.xlabel('K Value')\n",
        "plt.ylabel('Mean Error')"
      ],
      "execution_count": 23,
      "outputs": [
        {
          "output_type": "execute_result",
          "data": {
            "text/plain": [
              "Text(0, 0.5, 'Mean Error')"
            ]
          },
          "metadata": {
            "tags": []
          },
          "execution_count": 23
        },
        {
          "output_type": "display_data",
          "data": {
            "image/png": "[encoded data removed]",
            "text/plain": [
              "<Figure size 864x432 with 1 Axes>"
            ]
          },
          "metadata": {
            "tags": []
          }
        }
      ]
    }
  ]
}