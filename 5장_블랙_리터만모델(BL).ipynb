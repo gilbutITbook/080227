{
  "nbformat": 4,
  "nbformat_minor": 0,
  "metadata": {
    "colab": {
      "name": "5장 블랙-리터만모델(BL)",
      "provenance": [],
      "collapsed_sections": [],
      "include_colab_link": true
    },
    "kernelspec": {
      "name": "python3",
      "display_name": "Python 3"
    }
  },
  "cells": [
    {
      "cell_type": "markdown",
      "metadata": {
        "id": "view-in-github",
        "colab_type": "text"
      },
      "source": [
        "<a href=\"https://colab.research.google.com/github/jimsjoo/gilbut_portfolio/blob/master/5%EC%9E%A5_%EB%B8%94%EB%9E%99_%EB%A6%AC%ED%84%B0%EB%A7%8C%EB%AA%A8%EB%8D%B8(BL).ipynb\" target=\"_parent\"><img src=\"https://colab.research.google.com/assets/colab-badge.svg\" alt=\"Open In Colab\"/></a>"
      ]
    },
    {
      "cell_type": "code",
      "metadata": {
        "id": "Ki9FERIDLQhw"
      },
      "source": [
        "#%matplotlib inline\n",
        "import matplotlib.pylab as plt"
      ],
      "execution_count": 43,
      "outputs": []
    },
    {
      "cell_type": "code",
      "metadata": {
        "id": "M3pZtRPjsYm3"
      },
      "source": [
        "import numpy as np\n",
        "from numpy.linalg import inv\n",
        "import pandas as pd\n",
        "from pandas_datareader import data as web"
      ],
      "execution_count": 44,
      "outputs": []
    },
    {
      "cell_type": "code",
      "metadata": {
        "id": "BPu1SPQBSUWS"
      },
      "source": [
        "from scipy.optimize import minimize"
      ],
      "execution_count": 45,
      "outputs": []
    },
    {
      "cell_type": "code",
      "metadata": {
        "id": "ggmIBqm7SXeF"
      },
      "source": [
        "# 무위험수익률, 수익률,공분산으로\n",
        "# 샤프비율을 최대로 하는 접점포트폴리오 비중 계산 \n",
        "def solveWeights(R, C, rf):\n",
        "    \n",
        "    # 파이썬은 함수안에 함수를 정의할 수 있다\n",
        "    # 최적비중계산을 위해 다음과 같이 목적함수를 정의한다\n",
        "    def obj(W, R, C, rf):\n",
        "        mean = sum(R * W)\n",
        "        var = np.dot(np.dot(W, C), W)\n",
        "        #샤프비율을 효용함수로 한다\n",
        "        util = (mean - rf) / np.sqrt(var) \n",
        "        # 효용함수 극대화= 효용함수 역함수를 최소화하는 것이다.\n",
        "        return 1 / util  \n",
        "\n",
        "    n = len(R)  # 투자자산 갯수\n",
        "\n",
        "    # 동일비중으로 최적화 시작\n",
        "    W = np.ones([n]) / n  \n",
        "    # 비중범위는 0~100%사이(공매도나 차입조건이 없음)\n",
        "    bnds = [(0., 1.) for i in range(n)]  \n",
        "    # 제약조건은 비중합=100%\n",
        "    cons = ({'type': 'eq', 'fun': lambda W: sum(W) - 1.}) \n",
        "    # 최적화\n",
        "    res = minimize(obj, W, (R, C, rf), method='SLSQP', constraints=cons, bounds=bnds)\n",
        "    if not res.success:\n",
        "      # 최적화 실패한 경우 \n",
        "      raise BaseException(res.message)\n",
        "    # 최적화 결과를 돌려준다  \n",
        "    return res.x"
      ],
      "execution_count": 46,
      "outputs": []
    },
    {
      "cell_type": "code",
      "metadata": {
        "id": "Yp7Cfrr0SHeM"
      },
      "source": [
        "# 무위험수익률, 수익률,공분산으로 효율적 프런티어 계산\n",
        "def solveFrontier(R, C, rf):\n",
        "\n",
        "    # 파이썬은 함수안에 함수를 정의할 수 있다\n",
        "    # 최적비중계산을 위해 다음과 같이 목적함수를 정의한다\n",
        "    def obj(W, R, C, r):\n",
        "        # 주어진 수익률에서 분산을 최소로 하는 비중 계산\n",
        "        mean = sum(R * W)\n",
        "        var = np.dot(np.dot(W, C), W)\n",
        "        # 최적화 제약조건 페널티\n",
        "        penalty = 100 * abs(mean - r)             \n",
        "        return var + penalty\n",
        "\n",
        "    # 효율적 프론티어를 구성하는 평균-분산을 돌려줄\n",
        "    # 리스트를 미리 준비한다\n",
        "    frontier_mean, frontier_var = [], []\n",
        "\n",
        "    n = len(R)  # 투자자산 갯수\n",
        "\n",
        "    # 수익률 최저~최대 사이를 반복한다\n",
        "    for r in np.linspace(min(R), max(R), num=20):\n",
        "        # 최적화 함수에 전달할 초기값으로 동일비중으로 시작한다\n",
        "        W = np.ones([n]) / n \n",
        "\n",
        "        # 최적화 함수에 전달할 범위조건과 제약조건을 미리 준비한다\n",
        "        # 범위조건: 각 구성자산의 투자비중은 0~100% 사이이며\n",
        "        # 제약조건: 전체 투자비중은 100%이다.\n",
        "        bnds = [(0, 1) for i in range(n)]\n",
        "        cons = ({'type': 'eq', 'fun': lambda W: sum(W) - 1.})\n",
        "        \n",
        "        # 최적화 함수 minimize()은 최적화할 obj함수와 \n",
        "        # 최적화를 시작할 초깃값을 인수로 받는다.         \n",
        "        res = minimize(obj, W, (R, C, r), method='SLSQP', constraints=cons, bounds=bnds)\n",
        "        if not res.success:\n",
        "            # 최적화에 실패한 경우\n",
        "            raise BaseException(res.message)\n",
        "        \n",
        "        # 효율적 프런티어 평균과 분산리스트에 \n",
        "        # 최적포트폴리오 수익률과 분산 추가\n",
        "        frontier_mean.append(r)\n",
        "        frontier_var.append(np.dot(np.dot(res.x, C), res.x))\n",
        "    return np.array(frontier_mean), np.array(frontier_var)"
      ],
      "execution_count": 47,
      "outputs": []
    },
    {
      "cell_type": "code",
      "metadata": {
        "id": "AYd_sKYfSbA7"
      },
      "source": [
        "# 효율적 포트폴리오 최적화        \n",
        "def optimize_frontier(R, C, rf):\n",
        "\n",
        "    # 접점포트폴리오 계산\n",
        "    W = solveWeights(R, C, rf)\n",
        "    # 투자비중으로 계산한 평균과 분산\n",
        "    tan_mean = sum(R * W)\n",
        "    tan_var = np.dot(np.dot(W, C), W)    \n",
        "\n",
        "    # 효율적 포트폴리오 계산\n",
        "    eff_mean, eff_var = solveFrontier(R, C, rf)\n",
        "\n",
        "    # 비중, 접점포트폴리오의 평균/분산, 효율적 포트폴리오의 평균/분산을\n",
        "    # 딕셔너리 데이터형으로 돌려준다    \n",
        "    return {'weights':W, 'tan_mean':tan_mean, 'tan_var':tan_var, 'eff_mean':eff_mean, 'eff_var':eff_var}"
      ],
      "execution_count": 48,
      "outputs": []
    },
    {
      "cell_type": "code",
      "metadata": {
        "id": "DgaorQ_eUbWV"
      },
      "source": [
        "# 자산에 대한 투자자의 전망과 전망의 기대수익률을 행렬로 만든다\n",
        "def CreateMatrixPQ(names, views):\n",
        "    r, c = len(views), len(names)\n",
        "\n",
        "    # 투자전망과 기대수익률 행렬\n",
        "    # views[i][3]에는 기대수익률을 가리킴\n",
        "    Q = [views[i][3] for i in range(r)]     \n",
        "\n",
        "    # 전망행렬 P를 만들기 위해\n",
        "    # 구성자산 딕셔너리 작성\n",
        "    nameToIndex = dict()    \n",
        "    for i, n in enumerate(names):\n",
        "        nameToIndex[n] = i\n",
        "\n",
        "    # 투자전망 \n",
        "    P = np.zeros([r, c]) \n",
        "    for i, v in enumerate(views):\n",
        "        # 가령 전망이 ('MSFT', '>', 'GE', 0.02) 이라면\n",
        "        # views[i][0] <-- 'MSFT' --> name1\n",
        "        # views[i][1] <-- '>'\n",
        "        # views[i][2] <-- 'GE'   --> name2\n",
        "        # views[i][3] <-- '0.02'\n",
        "        name1, name2 = views[i][0], views[i][2]\n",
        "        P[i, nameToIndex[name1]] = +1 if views[i][1] == '>' else -1\n",
        "        P[i, nameToIndex[name2]] = -1 if views[i][1] == '>' else +1\n",
        "    return np.array(Q), P"
      ],
      "execution_count": 49,
      "outputs": []
    },
    {
      "cell_type": "markdown",
      "metadata": {
        "id": "QsQw9HwLspbF"
      },
      "source": [
        "데이터 읽기"
      ]
    },
    {
      "cell_type": "code",
      "metadata": {
        "id": "1SKxyCsYNEgu"
      },
      "source": [
        "tickers=['PFE','INTC','NFLX','JPM','XOM','GOOG','JNJ','AAPL','AMZN']\n",
        "cap = {'PFE':201102000000,'INTC':257259000000,'NFLX':184922000000,\n",
        "       'JPM':272178000000,'XOM':178228000000,'GOOG':866683000000,\n",
        "       'JNJ':403335000000,'AAPL':1208000000000,'AMZN':1178000000000\n",
        "      }\n",
        "prices, caps = [], []\n",
        "\n",
        "for s in tickers:    \n",
        "    pxclose = web.DataReader(s, data_source='yahoo',start='01-01-2018', end='31-12-2019')['Adj Close']\n",
        "    prices.append(list(pxclose))  \n",
        "    caps.append(cap[s])"
      ],
      "execution_count": 50,
      "outputs": []
    },
    {
      "cell_type": "markdown",
      "metadata": {
        "id": "sdYhhYlRsx40"
      },
      "source": [
        "최적화에 사용할 필요한 값을 미리 계산"
      ]
    },
    {
      "cell_type": "code",
      "metadata": {
        "id": "Zvuu4qJdNfl4"
      },
      "source": [
        "n = len(tickers)\n",
        "W = np.array(caps) / sum(caps) # 시가총액의 비율계산\n",
        "prices = np.matrix(prices)  # prices를 numpy matrix로 변환\n",
        "\n",
        "# 수익률 행렬을 만들어 계산\n",
        "rows, cols = prices.shape\n",
        "returns = np.empty([rows, cols - 1])\n",
        "for r in range(rows):\n",
        "    for c in range(cols - 1):\n",
        "        p0, p1 = prices[r, c], prices[r, c + 1]\n",
        "        returns[r, c] = (p1 / p0) - 1\n",
        "\n",
        "# 수익률계산\n",
        "expreturns = np.array([])\n",
        "for r in range(rows):\n",
        "    expreturns = np.append(expreturns, np.mean(returns[r]))\n",
        "\n",
        "# 공분산계산\n",
        "covars = np.cov(returns)\n",
        "R = (1 + expreturns) ** 250 - 1  # 연율화\n",
        "C = covars * 250  # 연율화\n",
        "\n",
        "# 무위험 이자율\n",
        "rf = .015 "
      ],
      "execution_count": 51,
      "outputs": []
    },
    {
      "cell_type": "code",
      "metadata": {
        "id": "dAZgMqYssliH",
        "outputId": "54a8c556-7b77-46fe-d388-734001eb70fa",
        "colab": {
          "base_uri": "https://localhost:8080/"
        }
      },
      "source": [
        "expreturns"
      ],
      "execution_count": 52,
      "outputs": [
        {
          "output_type": "execute_result",
          "data": {
            "text/plain": [
              "array([ 0.00036199,  0.00077313,  0.00127814,  0.00069936, -0.00013888,\n",
              "        0.00058917,  0.00027701,  0.00127331,  0.00105956])"
            ]
          },
          "metadata": {
            "tags": []
          },
          "execution_count": 52
        }
      ]
    },
    {
      "cell_type": "code",
      "metadata": {
        "id": "VYJHi2kyQeWU",
        "outputId": "221bf4a7-799e-422e-9e8b-a0153c15e0d5",
        "colab": {
          "base_uri": "https://localhost:8080/",
          "height": 108
        }
      },
      "source": [
        "display(pd.DataFrame({'Return': R, 'Weight (based on market cap)': W}, index=tickers).T)"
      ],
      "execution_count": 53,
      "outputs": [
        {
          "output_type": "display_data",
          "data": {
            "text/html": [
              "<div>\n",
              "<style scoped>\n",
              "    .dataframe tbody tr th:only-of-type {\n",
              "        vertical-align: middle;\n",
              "    }\n",
              "\n",
              "    .dataframe tbody tr th {\n",
              "        vertical-align: top;\n",
              "    }\n",
              "\n",
              "    .dataframe thead th {\n",
              "        text-align: right;\n",
              "    }\n",
              "</style>\n",
              "<table border=\"1\" class=\"dataframe\">\n",
              "  <thead>\n",
              "    <tr style=\"text-align: right;\">\n",
              "      <th></th>\n",
              "      <th>PFE</th>\n",
              "      <th>INTC</th>\n",
              "      <th>NFLX</th>\n",
              "      <th>JPM</th>\n",
              "      <th>XOM</th>\n",
              "      <th>GOOG</th>\n",
              "      <th>JNJ</th>\n",
              "      <th>AAPL</th>\n",
              "      <th>AMZN</th>\n",
              "    </tr>\n",
              "  </thead>\n",
              "  <tbody>\n",
              "    <tr>\n",
              "      <th>Return</th>\n",
              "      <td>9.47%</td>\n",
              "      <td>21.31%</td>\n",
              "      <td>37.62%</td>\n",
              "      <td>19.10%</td>\n",
              "      <td>-3.41%</td>\n",
              "      <td>15.86%</td>\n",
              "      <td>7.17%</td>\n",
              "      <td>37.45%</td>\n",
              "      <td>30.31%</td>\n",
              "    </tr>\n",
              "    <tr>\n",
              "      <th>Weight (based on market cap)</th>\n",
              "      <td>4.23%</td>\n",
              "      <td>5.42%</td>\n",
              "      <td>3.89%</td>\n",
              "      <td>5.73%</td>\n",
              "      <td>3.75%</td>\n",
              "      <td>18.25%</td>\n",
              "      <td>8.49%</td>\n",
              "      <td>25.43%</td>\n",
              "      <td>24.80%</td>\n",
              "    </tr>\n",
              "  </tbody>\n",
              "</table>\n",
              "</div>"
            ],
            "text/plain": [
              "                               PFE   INTC   NFLX  ...   JNJ   AAPL   AMZN\n",
              "Return                       9.47% 21.31% 37.62%  ... 7.17% 37.45% 30.31%\n",
              "Weight (based on market cap) 4.23%  5.42%  3.89%  ... 8.49% 25.43% 24.80%\n",
              "\n",
              "[2 rows x 9 columns]"
            ]
          },
          "metadata": {
            "tags": []
          }
        }
      ]
    },
    {
      "cell_type": "code",
      "metadata": {
        "id": "2TM4_aTCQi_S",
        "outputId": "d4de600b-f6c1-4486-de2a-c1cbe6445265",
        "colab": {
          "base_uri": "https://localhost:8080/",
          "height": 318
        }
      },
      "source": [
        "display(pd.DataFrame(C, columns=tickers, index=tickers))"
      ],
      "execution_count": 54,
      "outputs": [
        {
          "output_type": "display_data",
          "data": {
            "text/html": [
              "<div>\n",
              "<style scoped>\n",
              "    .dataframe tbody tr th:only-of-type {\n",
              "        vertical-align: middle;\n",
              "    }\n",
              "\n",
              "    .dataframe tbody tr th {\n",
              "        vertical-align: top;\n",
              "    }\n",
              "\n",
              "    .dataframe thead th {\n",
              "        text-align: right;\n",
              "    }\n",
              "</style>\n",
              "<table border=\"1\" class=\"dataframe\">\n",
              "  <thead>\n",
              "    <tr style=\"text-align: right;\">\n",
              "      <th></th>\n",
              "      <th>PFE</th>\n",
              "      <th>INTC</th>\n",
              "      <th>NFLX</th>\n",
              "      <th>JPM</th>\n",
              "      <th>XOM</th>\n",
              "      <th>GOOG</th>\n",
              "      <th>JNJ</th>\n",
              "      <th>AAPL</th>\n",
              "      <th>AMZN</th>\n",
              "    </tr>\n",
              "  </thead>\n",
              "  <tbody>\n",
              "    <tr>\n",
              "      <th>PFE</th>\n",
              "      <td>3.74%</td>\n",
              "      <td>2.17%</td>\n",
              "      <td>2.60%</td>\n",
              "      <td>1.58%</td>\n",
              "      <td>1.58%</td>\n",
              "      <td>1.85%</td>\n",
              "      <td>1.83%</td>\n",
              "      <td>1.97%</td>\n",
              "      <td>2.16%</td>\n",
              "    </tr>\n",
              "    <tr>\n",
              "      <th>INTC</th>\n",
              "      <td>2.17%</td>\n",
              "      <td>9.34%</td>\n",
              "      <td>5.44%</td>\n",
              "      <td>2.98%</td>\n",
              "      <td>2.70%</td>\n",
              "      <td>3.98%</td>\n",
              "      <td>1.75%</td>\n",
              "      <td>4.53%</td>\n",
              "      <td>4.24%</td>\n",
              "    </tr>\n",
              "    <tr>\n",
              "      <th>NFLX</th>\n",
              "      <td>2.60%</td>\n",
              "      <td>5.44%</td>\n",
              "      <td>16.53%</td>\n",
              "      <td>3.17%</td>\n",
              "      <td>2.76%</td>\n",
              "      <td>6.02%</td>\n",
              "      <td>2.10%</td>\n",
              "      <td>5.31%</td>\n",
              "      <td>8.14%</td>\n",
              "    </tr>\n",
              "    <tr>\n",
              "      <th>JPM</th>\n",
              "      <td>1.58%</td>\n",
              "      <td>2.98%</td>\n",
              "      <td>3.17%</td>\n",
              "      <td>4.18%</td>\n",
              "      <td>2.22%</td>\n",
              "      <td>2.80%</td>\n",
              "      <td>1.44%</td>\n",
              "      <td>2.76%</td>\n",
              "      <td>2.91%</td>\n",
              "    </tr>\n",
              "    <tr>\n",
              "      <th>XOM</th>\n",
              "      <td>1.58%</td>\n",
              "      <td>2.70%</td>\n",
              "      <td>2.76%</td>\n",
              "      <td>2.22%</td>\n",
              "      <td>4.03%</td>\n",
              "      <td>2.42%</td>\n",
              "      <td>1.44%</td>\n",
              "      <td>2.34%</td>\n",
              "      <td>2.25%</td>\n",
              "    </tr>\n",
              "    <tr>\n",
              "      <th>GOOG</th>\n",
              "      <td>1.85%</td>\n",
              "      <td>3.98%</td>\n",
              "      <td>6.02%</td>\n",
              "      <td>2.80%</td>\n",
              "      <td>2.42%</td>\n",
              "      <td>6.81%</td>\n",
              "      <td>1.63%</td>\n",
              "      <td>4.48%</td>\n",
              "      <td>5.44%</td>\n",
              "    </tr>\n",
              "    <tr>\n",
              "      <th>JNJ</th>\n",
              "      <td>1.83%</td>\n",
              "      <td>1.75%</td>\n",
              "      <td>2.10%</td>\n",
              "      <td>1.44%</td>\n",
              "      <td>1.44%</td>\n",
              "      <td>1.63%</td>\n",
              "      <td>3.72%</td>\n",
              "      <td>1.59%</td>\n",
              "      <td>1.64%</td>\n",
              "    </tr>\n",
              "    <tr>\n",
              "      <th>AAPL</th>\n",
              "      <td>1.97%</td>\n",
              "      <td>4.53%</td>\n",
              "      <td>5.31%</td>\n",
              "      <td>2.76%</td>\n",
              "      <td>2.34%</td>\n",
              "      <td>4.48%</td>\n",
              "      <td>1.59%</td>\n",
              "      <td>7.52%</td>\n",
              "      <td>5.13%</td>\n",
              "    </tr>\n",
              "    <tr>\n",
              "      <th>AMZN</th>\n",
              "      <td>2.16%</td>\n",
              "      <td>4.24%</td>\n",
              "      <td>8.14%</td>\n",
              "      <td>2.91%</td>\n",
              "      <td>2.25%</td>\n",
              "      <td>5.44%</td>\n",
              "      <td>1.64%</td>\n",
              "      <td>5.13%</td>\n",
              "      <td>9.05%</td>\n",
              "    </tr>\n",
              "  </tbody>\n",
              "</table>\n",
              "</div>"
            ],
            "text/plain": [
              "       PFE  INTC   NFLX   JPM   XOM  GOOG   JNJ  AAPL  AMZN\n",
              "PFE  3.74% 2.17%  2.60% 1.58% 1.58% 1.85% 1.83% 1.97% 2.16%\n",
              "INTC 2.17% 9.34%  5.44% 2.98% 2.70% 3.98% 1.75% 4.53% 4.24%\n",
              "NFLX 2.60% 5.44% 16.53% 3.17% 2.76% 6.02% 2.10% 5.31% 8.14%\n",
              "JPM  1.58% 2.98%  3.17% 4.18% 2.22% 2.80% 1.44% 2.76% 2.91%\n",
              "XOM  1.58% 2.70%  2.76% 2.22% 4.03% 2.42% 1.44% 2.34% 2.25%\n",
              "GOOG 1.85% 3.98%  6.02% 2.80% 2.42% 6.81% 1.63% 4.48% 5.44%\n",
              "JNJ  1.83% 1.75%  2.10% 1.44% 1.44% 1.63% 3.72% 1.59% 1.64%\n",
              "AAPL 1.97% 4.53%  5.31% 2.76% 2.34% 4.48% 1.59% 7.52% 5.13%\n",
              "AMZN 2.16% 4.24%  8.14% 2.91% 2.25% 5.44% 1.64% 5.13% 9.05%"
            ]
          },
          "metadata": {
            "tags": []
          }
        }
      ]
    },
    {
      "cell_type": "markdown",
      "metadata": {
        "id": "Ev3tlQIRYEl3"
      },
      "source": [
        "과거 데이터를 이용한 최적화"
      ]
    },
    {
      "cell_type": "code",
      "metadata": {
        "id": "PDSG0N29TjEU"
      },
      "source": [
        "opt1 = optimize_frontier(R, C, rf)  "
      ],
      "execution_count": 55,
      "outputs": []
    },
    {
      "cell_type": "markdown",
      "metadata": {
        "id": "rZgjZ8G0XYuA"
      },
      "source": [
        "블랙-리터만 역최적화"
      ]
    },
    {
      "cell_type": "code",
      "metadata": {
        "id": "WcS64RXYTccP"
      },
      "source": [
        "# 포트폴리오 수익률 평균 및 분산\n",
        "mean = sum(R * W)\n",
        "var = np.dot(np.dot(W, C), W)\n",
        "\n",
        "# 위험회피계수\n",
        "lmbda = (mean - rf) / var  \n",
        "\n",
        "# 균형초과수익률\n",
        "pi = np.dot(np.dot(lmbda, C), W) "
      ],
      "execution_count": 56,
      "outputs": []
    },
    {
      "cell_type": "markdown",
      "metadata": {
        "id": "ORxWHtrKX6dI"
      },
      "source": [
        "균형기대수익률로 최적화"
      ]
    },
    {
      "cell_type": "code",
      "metadata": {
        "id": "kSNszEIcXys4"
      },
      "source": [
        "opt2 = optimize_frontier(pi+rf, C, rf)"
      ],
      "execution_count": 60,
      "outputs": []
    },
    {
      "cell_type": "markdown",
      "metadata": {
        "id": "4_LySObttiwL"
      },
      "source": [
        "투자자 전망과 기대수익률 그리고 전망의 불확실성 계산"
      ]
    },
    {
      "cell_type": "code",
      "metadata": {
        "id": "vyBg9RlJXNx9"
      },
      "source": [
        "views = [('XOM', '>', 'JPM', 0.02),('NFLX', '<', 'JNJ', 0.02)]\n",
        "Q, P = CreateMatrixPQ(tickers, views)\n",
        "\n",
        "# 위험조정상수\n",
        "tau = .025  \n",
        "\n",
        "# 투자자 전망의 불확실성 계산\n",
        "# tau * P * C * transpose(P)\n",
        "omega = np.dot(np.dot(np.dot(tau, P), C), np.transpose(P))  "
      ],
      "execution_count": 61,
      "outputs": []
    },
    {
      "cell_type": "code",
      "metadata": {
        "id": "N6cItYu5hthz",
        "outputId": "ecb330c5-b0e3-4fa1-cc03-fc9a634e511b",
        "colab": {
          "base_uri": "https://localhost:8080/"
        }
      },
      "source": [
        "print(Q,P)"
      ],
      "execution_count": 62,
      "outputs": [
        {
          "output_type": "stream",
          "text": [
            "[0.02 0.02] [[ 0.  0.  0. -1.  1.  0.  0.  0.  0.]\n",
            " [ 0.  0. -1.  0.  0.  0.  1.  0.  0.]]\n"
          ],
          "name": "stdout"
        }
      ]
    },
    {
      "cell_type": "markdown",
      "metadata": {
        "id": "wO1bzVw5T3XA"
      },
      "source": [
        "블랙-리터만 모델 최적화"
      ]
    },
    {
      "cell_type": "code",
      "metadata": {
        "id": "puzVjsCEtsdy"
      },
      "source": [
        "# 투자자 전망과 합쳐진 균형초과수익률 계산\n",
        "bl1 = inv(np.dot(tau, C))\n",
        "bl2 = np.dot(np.dot(np.transpose(P), inv(omega)), P)\n",
        "bl3 = np.dot(inv(np.dot(tau, C)), pi)\n",
        "bl4 = np.dot(np.dot(np.transpose(P), inv(omega)), Q)\n",
        "pi_adj = np.dot(inv(bl1 + bl2), (bl3 + bl4))\n",
        "\n",
        "opt3 = optimize_frontier(pi_adj + rf, C, rf)"
      ],
      "execution_count": 63,
      "outputs": []
    },
    {
      "cell_type": "code",
      "metadata": {
        "id": "rXE6G6H1z-c9",
        "outputId": "d00ec298-d826-423b-e7bd-9329fb7c50f2",
        "colab": {
          "base_uri": "https://localhost:8080/",
          "height": 340
        }
      },
      "source": [
        "from IPython.core.display import display, HTML\n",
        "pd.options.display.float_format = '{:.2%}'.format\n",
        "\n",
        "# 1번째 최적화 결과\n",
        "display(HTML('<h2>Historical returns</h2>'))\n",
        "display(pd.DataFrame({'Weight': opt1['weights']}, index=tickers).T)\n",
        "\n",
        "# 2번째 최적화 결과\n",
        "display(HTML('<h2>Implied returns</h2>'))\n",
        "display(pd.DataFrame({'Weight': opt2['weights']}, index=tickers).T)\n",
        "\n",
        "# 3번째 최적화 결과\n",
        "display(HTML('<h2>Implied returns with adjusted views</h2>'))\n",
        "display(pd.DataFrame({'Weight': opt3['weights']}, index=tickers).T)"
      ],
      "execution_count": 64,
      "outputs": [
        {
          "output_type": "display_data",
          "data": {
            "text/html": [
              "<h2>Historical returns</h2>"
            ],
            "text/plain": [
              "<IPython.core.display.HTML object>"
            ]
          },
          "metadata": {
            "tags": []
          }
        },
        {
          "output_type": "display_data",
          "data": {
            "text/html": [
              "<div>\n",
              "<style scoped>\n",
              "    .dataframe tbody tr th:only-of-type {\n",
              "        vertical-align: middle;\n",
              "    }\n",
              "\n",
              "    .dataframe tbody tr th {\n",
              "        vertical-align: top;\n",
              "    }\n",
              "\n",
              "    .dataframe thead th {\n",
              "        text-align: right;\n",
              "    }\n",
              "</style>\n",
              "<table border=\"1\" class=\"dataframe\">\n",
              "  <thead>\n",
              "    <tr style=\"text-align: right;\">\n",
              "      <th></th>\n",
              "      <th>PFE</th>\n",
              "      <th>INTC</th>\n",
              "      <th>NFLX</th>\n",
              "      <th>JPM</th>\n",
              "      <th>XOM</th>\n",
              "      <th>GOOG</th>\n",
              "      <th>JNJ</th>\n",
              "      <th>AAPL</th>\n",
              "      <th>AMZN</th>\n",
              "    </tr>\n",
              "  </thead>\n",
              "  <tbody>\n",
              "    <tr>\n",
              "      <th>Weight</th>\n",
              "      <td>0.00%</td>\n",
              "      <td>0.00%</td>\n",
              "      <td>12.95%</td>\n",
              "      <td>19.30%</td>\n",
              "      <td>0.00%</td>\n",
              "      <td>0.00%</td>\n",
              "      <td>0.00%</td>\n",
              "      <td>67.75%</td>\n",
              "      <td>0.00%</td>\n",
              "    </tr>\n",
              "  </tbody>\n",
              "</table>\n",
              "</div>"
            ],
            "text/plain": [
              "         PFE  INTC   NFLX    JPM   XOM  GOOG   JNJ   AAPL  AMZN\n",
              "Weight 0.00% 0.00% 12.95% 19.30% 0.00% 0.00% 0.00% 67.75% 0.00%"
            ]
          },
          "metadata": {
            "tags": []
          }
        },
        {
          "output_type": "display_data",
          "data": {
            "text/html": [
              "<h2>Implied returns</h2>"
            ],
            "text/plain": [
              "<IPython.core.display.HTML object>"
            ]
          },
          "metadata": {
            "tags": []
          }
        },
        {
          "output_type": "display_data",
          "data": {
            "text/html": [
              "<div>\n",
              "<style scoped>\n",
              "    .dataframe tbody tr th:only-of-type {\n",
              "        vertical-align: middle;\n",
              "    }\n",
              "\n",
              "    .dataframe tbody tr th {\n",
              "        vertical-align: top;\n",
              "    }\n",
              "\n",
              "    .dataframe thead th {\n",
              "        text-align: right;\n",
              "    }\n",
              "</style>\n",
              "<table border=\"1\" class=\"dataframe\">\n",
              "  <thead>\n",
              "    <tr style=\"text-align: right;\">\n",
              "      <th></th>\n",
              "      <th>PFE</th>\n",
              "      <th>INTC</th>\n",
              "      <th>NFLX</th>\n",
              "      <th>JPM</th>\n",
              "      <th>XOM</th>\n",
              "      <th>GOOG</th>\n",
              "      <th>JNJ</th>\n",
              "      <th>AAPL</th>\n",
              "      <th>AMZN</th>\n",
              "    </tr>\n",
              "  </thead>\n",
              "  <tbody>\n",
              "    <tr>\n",
              "      <th>Weight</th>\n",
              "      <td>4.28%</td>\n",
              "      <td>5.40%</td>\n",
              "      <td>3.90%</td>\n",
              "      <td>5.74%</td>\n",
              "      <td>3.73%</td>\n",
              "      <td>18.26%</td>\n",
              "      <td>8.46%</td>\n",
              "      <td>25.43%</td>\n",
              "      <td>24.80%</td>\n",
              "    </tr>\n",
              "  </tbody>\n",
              "</table>\n",
              "</div>"
            ],
            "text/plain": [
              "         PFE  INTC  NFLX   JPM   XOM   GOOG   JNJ   AAPL   AMZN\n",
              "Weight 4.28% 5.40% 3.90% 5.74% 3.73% 18.26% 8.46% 25.43% 24.80%"
            ]
          },
          "metadata": {
            "tags": []
          }
        },
        {
          "output_type": "display_data",
          "data": {
            "text/html": [
              "<h2>Implied returns with adjusted views</h2>"
            ],
            "text/plain": [
              "<IPython.core.display.HTML object>"
            ]
          },
          "metadata": {
            "tags": []
          }
        },
        {
          "output_type": "display_data",
          "data": {
            "text/html": [
              "<div>\n",
              "<style scoped>\n",
              "    .dataframe tbody tr th:only-of-type {\n",
              "        vertical-align: middle;\n",
              "    }\n",
              "\n",
              "    .dataframe tbody tr th {\n",
              "        vertical-align: top;\n",
              "    }\n",
              "\n",
              "    .dataframe thead th {\n",
              "        text-align: right;\n",
              "    }\n",
              "</style>\n",
              "<table border=\"1\" class=\"dataframe\">\n",
              "  <thead>\n",
              "    <tr style=\"text-align: right;\">\n",
              "      <th></th>\n",
              "      <th>PFE</th>\n",
              "      <th>INTC</th>\n",
              "      <th>NFLX</th>\n",
              "      <th>JPM</th>\n",
              "      <th>XOM</th>\n",
              "      <th>GOOG</th>\n",
              "      <th>JNJ</th>\n",
              "      <th>AAPL</th>\n",
              "      <th>AMZN</th>\n",
              "    </tr>\n",
              "  </thead>\n",
              "  <tbody>\n",
              "    <tr>\n",
              "      <th>Weight</th>\n",
              "      <td>3.24%</td>\n",
              "      <td>3.61%</td>\n",
              "      <td>0.00%</td>\n",
              "      <td>0.00%</td>\n",
              "      <td>11.71%</td>\n",
              "      <td>15.74%</td>\n",
              "      <td>21.83%</td>\n",
              "      <td>25.67%</td>\n",
              "      <td>18.20%</td>\n",
              "    </tr>\n",
              "  </tbody>\n",
              "</table>\n",
              "</div>"
            ],
            "text/plain": [
              "         PFE  INTC  NFLX   JPM    XOM   GOOG    JNJ   AAPL   AMZN\n",
              "Weight 3.24% 3.61% 0.00% 0.00% 11.71% 15.74% 21.83% 25.67% 18.20%"
            ]
          },
          "metadata": {
            "tags": []
          }
        }
      ]
    },
    {
      "cell_type": "code",
      "metadata": {
        "id": "Sc_InPMtXj8w"
      },
      "source": [
        "def plotAssets(tickers, R, C, color='black'):\n",
        "    # 포트폴리오 구성자산 출력\n",
        "    plt.scatter([C[i, i] ** .5 for i in range(n)], R, marker='x', color=color)  \n",
        "    for i in range(n): \n",
        "        plt.text(C[i, i] ** .5, R[i], '  %s' % tickers[i], verticalalignment='center', color=color) \n",
        "\n",
        "def plotFrontier(result, label=None, color='black'):\n",
        "    # 최적화된 효율적 프런티어 출력\n",
        "    plt.text(result['tan_var'] ** .5, result['tan_mean'], 'tangent', verticalalignment='center', color=color)\n",
        "    plt.scatter(result['tan_var'] ** .5, result['tan_mean'], marker='o', color=color)\n",
        "    plt.plot(result['eff_var'] ** .5, result['eff_mean'], label=label, color=color, linewidth=2, marker='D', markersize=9) "
      ],
      "execution_count": 65,
      "outputs": []
    },
    {
      "cell_type": "code",
      "metadata": {
        "id": "QwsXjQnta0gq",
        "outputId": "870ce8a8-236e-43f7-a9ad-9b472f2e4bcb",
        "colab": {
          "base_uri": "https://localhost:8080/",
          "height": 297
        }
      },
      "source": [
        "# 1번째 최적화 결과를 차트로 출력\n",
        "plotAssets(tickers, R, C, color='blue')\n",
        "plotFrontier(opt1, label='Historical returns', color='blue')\n",
        "\n",
        "# 2번째 최적화 결과를 차트로 출력\n",
        "plotAssets(tickers, pi+rf, C, color='green')\n",
        "plotFrontier(opt2, label='Implied returns', color='green')\n",
        "\n",
        "# 3번째 최적화 결과를 차트로 출력\n",
        "plotAssets(tickers, pi_adj+rf, C, color='red')\n",
        "plotFrontier(opt3, label='Implied returns (adjusted views)', color='red')\n",
        "\n",
        "# 차트에 공통된 속성을 지정한다(차트크기, 제목, 범례, 축이름 등)\n",
        "plt.rcParams[\"figure.figsize\"] = (12, 10)\n",
        "plt.grid(alpha=0.3, color='gray', linestyle='--', linewidth=1)\n",
        "plt.title('Portfolio optimization')\n",
        "plt.legend(['Historical returns(blue)', 'Implied returns(green)','Implied returns with adjusted views(red)'])\n",
        "plt.xlabel('Variance $\\sigma$')\n",
        "plt.ylabel('Mean $\\mu$')\n",
        "plt.show()"
      ],
      "execution_count": 66,
      "outputs": [
        {
          "output_type": "display_data",
          "data": {
            "image/png": "[encoded data removed]",
            "text/plain": [
              "<Figure size 432x288 with 1 Axes>"
            ]
          },
          "metadata": {
            "tags": [],
            "needs_background": "light"
          }
        }
      ]
    },
    {
      "cell_type": "code",
      "metadata": {
        "id": "Odd0nKCa7Krg",
        "outputId": "a57d34ee-60f4-4018-e12c-2c4fa53fc329",
        "colab": {
          "base_uri": "https://localhost:8080/",
          "height": 257
        }
      },
      "source": [
        "import pandas_datareader as pdr\n",
        "\n",
        "tickers = ['AAPL','AMZN','TSLA','GOOG']\n",
        "pdr.get_quote_yahoo(tickers)"
      ],
      "execution_count": 67,
      "outputs": [
        {
          "output_type": "execute_result",
          "data": {
            "text/html": [
              "<div>\n",
              "<style scoped>\n",
              "    .dataframe tbody tr th:only-of-type {\n",
              "        vertical-align: middle;\n",
              "    }\n",
              "\n",
              "    .dataframe tbody tr th {\n",
              "        vertical-align: top;\n",
              "    }\n",
              "\n",
              "    .dataframe thead th {\n",
              "        text-align: right;\n",
              "    }\n",
              "</style>\n",
              "<table border=\"1\" class=\"dataframe\">\n",
              "  <thead>\n",
              "    <tr style=\"text-align: right;\">\n",
              "      <th></th>\n",
              "      <th>language</th>\n",
              "      <th>region</th>\n",
              "      <th>quoteType</th>\n",
              "      <th>quoteSourceName</th>\n",
              "      <th>triggerable</th>\n",
              "      <th>currency</th>\n",
              "      <th>epsTrailingTwelveMonths</th>\n",
              "      <th>epsForward</th>\n",
              "      <th>epsCurrentYear</th>\n",
              "      <th>priceEpsCurrentYear</th>\n",
              "      <th>sharesOutstanding</th>\n",
              "      <th>bookValue</th>\n",
              "      <th>fiftyDayAverage</th>\n",
              "      <th>fiftyDayAverageChange</th>\n",
              "      <th>fiftyDayAverageChangePercent</th>\n",
              "      <th>twoHundredDayAverage</th>\n",
              "      <th>twoHundredDayAverageChange</th>\n",
              "      <th>twoHundredDayAverageChangePercent</th>\n",
              "      <th>marketCap</th>\n",
              "      <th>forwardPE</th>\n",
              "      <th>priceToBook</th>\n",
              "      <th>sourceInterval</th>\n",
              "      <th>exchangeDataDelayedBy</th>\n",
              "      <th>tradeable</th>\n",
              "      <th>firstTradeDateMilliseconds</th>\n",
              "      <th>priceHint</th>\n",
              "      <th>marketState</th>\n",
              "      <th>postMarketChangePercent</th>\n",
              "      <th>postMarketTime</th>\n",
              "      <th>postMarketPrice</th>\n",
              "      <th>postMarketChange</th>\n",
              "      <th>regularMarketChange</th>\n",
              "      <th>regularMarketChangePercent</th>\n",
              "      <th>regularMarketTime</th>\n",
              "      <th>regularMarketPrice</th>\n",
              "      <th>regularMarketDayHigh</th>\n",
              "      <th>regularMarketDayRange</th>\n",
              "      <th>regularMarketDayLow</th>\n",
              "      <th>regularMarketVolume</th>\n",
              "      <th>regularMarketPreviousClose</th>\n",
              "      <th>bid</th>\n",
              "      <th>ask</th>\n",
              "      <th>bidSize</th>\n",
              "      <th>askSize</th>\n",
              "      <th>fullExchangeName</th>\n",
              "      <th>financialCurrency</th>\n",
              "      <th>regularMarketOpen</th>\n",
              "      <th>averageDailyVolume3Month</th>\n",
              "      <th>averageDailyVolume10Day</th>\n",
              "      <th>fiftyTwoWeekLowChange</th>\n",
              "      <th>fiftyTwoWeekLowChangePercent</th>\n",
              "      <th>fiftyTwoWeekRange</th>\n",
              "      <th>fiftyTwoWeekHighChange</th>\n",
              "      <th>fiftyTwoWeekHighChangePercent</th>\n",
              "      <th>fiftyTwoWeekLow</th>\n",
              "      <th>fiftyTwoWeekHigh</th>\n",
              "      <th>dividendDate</th>\n",
              "      <th>earningsTimestamp</th>\n",
              "      <th>earningsTimestampStart</th>\n",
              "      <th>earningsTimestampEnd</th>\n",
              "      <th>trailingAnnualDividendRate</th>\n",
              "      <th>trailingPE</th>\n",
              "      <th>trailingAnnualDividendYield</th>\n",
              "      <th>exchange</th>\n",
              "      <th>shortName</th>\n",
              "      <th>longName</th>\n",
              "      <th>messageBoardId</th>\n",
              "      <th>exchangeTimezoneName</th>\n",
              "      <th>exchangeTimezoneShortName</th>\n",
              "      <th>gmtOffSetMilliseconds</th>\n",
              "      <th>market</th>\n",
              "      <th>esgPopulated</th>\n",
              "      <th>displayName</th>\n",
              "      <th>price</th>\n",
              "    </tr>\n",
              "  </thead>\n",
              "  <tbody>\n",
              "    <tr>\n",
              "      <th>AAPL</th>\n",
              "      <td>en-US</td>\n",
              "      <td>US</td>\n",
              "      <td>EQUITY</td>\n",
              "      <td>Nasdaq Real Time Price</td>\n",
              "      <td>True</td>\n",
              "      <td>USD</td>\n",
              "      <td>328.00%</td>\n",
              "      <td>430.00%</td>\n",
              "      <td>395.00%</td>\n",
              "      <td>3025.06%</td>\n",
              "      <td>17102499840</td>\n",
              "      <td>384.90%</td>\n",
              "      <td>11526.53%</td>\n",
              "      <td>422.47%</td>\n",
              "      <td>3.67%</td>\n",
              "      <td>10134.05%</td>\n",
              "      <td>1814.95%</td>\n",
              "      <td>17.91%</td>\n",
              "      <td>2031544958976</td>\n",
              "      <td>2778.84%</td>\n",
              "      <td>3104.44%</td>\n",
              "      <td>15</td>\n",
              "      <td>0</td>\n",
              "      <td>False</td>\n",
              "      <td>345479400000</td>\n",
              "      <td>2</td>\n",
              "      <td>POSTPOST</td>\n",
              "      <td>-11.72%</td>\n",
              "      <td>1605142798</td>\n",
              "      <td>11935.00%</td>\n",
              "      <td>-14.00%</td>\n",
              "      <td>352.00%</td>\n",
              "      <td>303.53%</td>\n",
              "      <td>1605128402</td>\n",
              "      <td>11949.00%</td>\n",
              "      <td>11962.82%</td>\n",
              "      <td>116.44 - 119.6282</td>\n",
              "      <td>11644.00%</td>\n",
              "      <td>112294954</td>\n",
              "      <td>11597.00%</td>\n",
              "      <td>11931.00%</td>\n",
              "      <td>11935.00%</td>\n",
              "      <td>11</td>\n",
              "      <td>8</td>\n",
              "      <td>NasdaqGS</td>\n",
              "      <td>USD</td>\n",
              "      <td>11719.00%</td>\n",
              "      <td>162108573</td>\n",
              "      <td>128820442</td>\n",
              "      <td>6633.75%</td>\n",
              "      <td>124.81%</td>\n",
              "      <td>53.1525 - 137.98</td>\n",
              "      <td>-1849.00%</td>\n",
              "      <td>-13.40%</td>\n",
              "      <td>5315.25%</td>\n",
              "      <td>13798.00%</td>\n",
              "      <td>160513920000.00%</td>\n",
              "      <td>160398900000.00%</td>\n",
              "      <td>161165874000.00%</td>\n",
              "      <td>161218080000.00%</td>\n",
              "      <td>79.50%</td>\n",
              "      <td>3642.99%</td>\n",
              "      <td>0.69%</td>\n",
              "      <td>NMS</td>\n",
              "      <td>Apple Inc.</td>\n",
              "      <td>Apple Inc.</td>\n",
              "      <td>finmb_24937</td>\n",
              "      <td>America/New_York</td>\n",
              "      <td>EST</td>\n",
              "      <td>-18000000</td>\n",
              "      <td>us_market</td>\n",
              "      <td>False</td>\n",
              "      <td>Apple</td>\n",
              "      <td>11949.00%</td>\n",
              "    </tr>\n",
              "    <tr>\n",
              "      <th>AMZN</th>\n",
              "      <td>en-US</td>\n",
              "      <td>US</td>\n",
              "      <td>EQUITY</td>\n",
              "      <td>Nasdaq Real Time Price</td>\n",
              "      <td>True</td>\n",
              "      <td>USD</td>\n",
              "      <td>3420.20%</td>\n",
              "      <td>4536.00%</td>\n",
              "      <td>3487.00%</td>\n",
              "      <td>8997.39%</td>\n",
              "      <td>500889984</td>\n",
              "      <td>16489.00%</td>\n",
              "      <td>319141.16%</td>\n",
              "      <td>-5402.17%</td>\n",
              "      <td>-1.69%</td>\n",
              "      <td>294886.82%</td>\n",
              "      <td>18852.17%</td>\n",
              "      <td>6.39%</td>\n",
              "      <td>1574188482560</td>\n",
              "      <td>6916.64%</td>\n",
              "      <td>1902.72%</td>\n",
              "      <td>15</td>\n",
              "      <td>0</td>\n",
              "      <td>False</td>\n",
              "      <td>863703000000</td>\n",
              "      <td>2</td>\n",
              "      <td>POSTPOST</td>\n",
              "      <td>-4.40%</td>\n",
              "      <td>1605142634</td>\n",
              "      <td>313601.00%</td>\n",
              "      <td>-137.99%</td>\n",
              "      <td>10236.99%</td>\n",
              "      <td>337.30%</td>\n",
              "      <td>1605128401</td>\n",
              "      <td>313739.00%</td>\n",
              "      <td>313914.50%</td>\n",
              "      <td>3050.09 - 3139.145</td>\n",
              "      <td>305009.00%</td>\n",
              "      <td>4366923</td>\n",
              "      <td>303502.00%</td>\n",
              "      <td>313900.00%</td>\n",
              "      <td>313500.00%</td>\n",
              "      <td>10</td>\n",
              "      <td>9</td>\n",
              "      <td>NasdaqGS</td>\n",
              "      <td>USD</td>\n",
              "      <td>306178.00%</td>\n",
              "      <td>5140767</td>\n",
              "      <td>6169228</td>\n",
              "      <td>151135.99%</td>\n",
              "      <td>92.95%</td>\n",
              "      <td>1626.03 - 3552.25</td>\n",
              "      <td>-41486.01%</td>\n",
              "      <td>-11.68%</td>\n",
              "      <td>162603.00%</td>\n",
              "      <td>355225.00%</td>\n",
              "      <td>nan%</td>\n",
              "      <td>160398726000.00%</td>\n",
              "      <td>161186760000.00%</td>\n",
              "      <td>161221320000.00%</td>\n",
              "      <td>nan%</td>\n",
              "      <td>9173.12%</td>\n",
              "      <td>nan%</td>\n",
              "      <td>NMS</td>\n",
              "      <td>Amazon.com, Inc.</td>\n",
              "      <td>Amazon.com, Inc.</td>\n",
              "      <td>finmb_18749</td>\n",
              "      <td>America/New_York</td>\n",
              "      <td>EST</td>\n",
              "      <td>-18000000</td>\n",
              "      <td>us_market</td>\n",
              "      <td>False</td>\n",
              "      <td>Amazon.com</td>\n",
              "      <td>313739.00%</td>\n",
              "    </tr>\n",
              "    <tr>\n",
              "      <th>TSLA</th>\n",
              "      <td>en-US</td>\n",
              "      <td>US</td>\n",
              "      <td>EQUITY</td>\n",
              "      <td>Nasdaq Real Time Price</td>\n",
              "      <td>True</td>\n",
              "      <td>USD</td>\n",
              "      <td>52.30%</td>\n",
              "      <td>392.00%</td>\n",
              "      <td>230.00%</td>\n",
              "      <td>18136.09%</td>\n",
              "      <td>947900992</td>\n",
              "      <td>1691.00%</td>\n",
              "      <td>42257.39%</td>\n",
              "      <td>-544.39%</td>\n",
              "      <td>-1.29%</td>\n",
              "      <td>30993.00%</td>\n",
              "      <td>10720.00%</td>\n",
              "      <td>34.59%</td>\n",
              "      <td>395397955584</td>\n",
              "      <td>10641.07%</td>\n",
              "      <td>2466.77%</td>\n",
              "      <td>15</td>\n",
              "      <td>0</td>\n",
              "      <td>False</td>\n",
              "      <td>1277818200000</td>\n",
              "      <td>2</td>\n",
              "      <td>POSTPOST</td>\n",
              "      <td>-11.27%</td>\n",
              "      <td>1605142752</td>\n",
              "      <td>41666.00%</td>\n",
              "      <td>-47.00%</td>\n",
              "      <td>677.00%</td>\n",
              "      <td>164.98%</td>\n",
              "      <td>1605128401</td>\n",
              "      <td>41713.00%</td>\n",
              "      <td>41869.50%</td>\n",
              "      <td>410.6 - 418.695</td>\n",
              "      <td>41060.00%</td>\n",
              "      <td>17357722</td>\n",
              "      <td>41036.00%</td>\n",
              "      <td>41674.00%</td>\n",
              "      <td>41745.00%</td>\n",
              "      <td>13</td>\n",
              "      <td>32</td>\n",
              "      <td>NasdaqGS</td>\n",
              "      <td>USD</td>\n",
              "      <td>41645.00%</td>\n",
              "      <td>63321536</td>\n",
              "      <td>30099257</td>\n",
              "      <td>35171.00%</td>\n",
              "      <td>537.62%</td>\n",
              "      <td>65.42 - 502.49</td>\n",
              "      <td>-8536.00%</td>\n",
              "      <td>-16.99%</td>\n",
              "      <td>6542.00%</td>\n",
              "      <td>50249.00%</td>\n",
              "      <td>nan%</td>\n",
              "      <td>160329643600.00%</td>\n",
              "      <td>161174514000.00%</td>\n",
              "      <td>161218080000.00%</td>\n",
              "      <td>nan%</td>\n",
              "      <td>79757.17%</td>\n",
              "      <td>nan%</td>\n",
              "      <td>NMS</td>\n",
              "      <td>Tesla, Inc.</td>\n",
              "      <td>Tesla, Inc.</td>\n",
              "      <td>finmb_27444752</td>\n",
              "      <td>America/New_York</td>\n",
              "      <td>EST</td>\n",
              "      <td>-18000000</td>\n",
              "      <td>us_market</td>\n",
              "      <td>False</td>\n",
              "      <td>Tesla</td>\n",
              "      <td>41713.00%</td>\n",
              "    </tr>\n",
              "    <tr>\n",
              "      <th>GOOG</th>\n",
              "      <td>en-US</td>\n",
              "      <td>US</td>\n",
              "      <td>EQUITY</td>\n",
              "      <td>Delayed Quote</td>\n",
              "      <td>True</td>\n",
              "      <td>USD</td>\n",
              "      <td>5175.20%</td>\n",
              "      <td>6133.00%</td>\n",
              "      <td>5192.00%</td>\n",
              "      <td>3375.79%</td>\n",
              "      <td>329867008</td>\n",
              "      <td>31416.90%</td>\n",
              "      <td>156226.31%</td>\n",
              "      <td>19044.69%</td>\n",
              "      <td>12.19%</td>\n",
              "      <td>149670.64%</td>\n",
              "      <td>25600.35%</td>\n",
              "      <td>17.10%</td>\n",
              "      <td>1184647872512</td>\n",
              "      <td>2857.83%</td>\n",
              "      <td>557.89%</td>\n",
              "      <td>15</td>\n",
              "      <td>0</td>\n",
              "      <td>False</td>\n",
              "      <td>1092922200000</td>\n",
              "      <td>2</td>\n",
              "      <td>POSTPOST</td>\n",
              "      <td>-15.46%</td>\n",
              "      <td>1605137366</td>\n",
              "      <td>175000.00%</td>\n",
              "      <td>-271.00%</td>\n",
              "      <td>1231.99%</td>\n",
              "      <td>70.79%</td>\n",
              "      <td>1605128401</td>\n",
              "      <td>175271.00%</td>\n",
              "      <td>176405.25%</td>\n",
              "      <td>1747.365 - 1764.0525</td>\n",
              "      <td>174736.50%</td>\n",
              "      <td>1263966</td>\n",
              "      <td>174039.00%</td>\n",
              "      <td>174001.00%</td>\n",
              "      <td>175454.00%</td>\n",
              "      <td>9</td>\n",
              "      <td>8</td>\n",
              "      <td>NasdaqGS</td>\n",
              "      <td>USD</td>\n",
              "      <td>175000.00%</td>\n",
              "      <td>1891973</td>\n",
              "      <td>2342528</td>\n",
              "      <td>73917.40%</td>\n",
              "      <td>72.93%</td>\n",
              "      <td>1013.536 - 1818.06</td>\n",
              "      <td>-6535.01%</td>\n",
              "      <td>-3.59%</td>\n",
              "      <td>101353.60%</td>\n",
              "      <td>181806.00%</td>\n",
              "      <td>nan%</td>\n",
              "      <td>nan%</td>\n",
              "      <td>nan%</td>\n",
              "      <td>nan%</td>\n",
              "      <td>nan%</td>\n",
              "      <td>3386.75%</td>\n",
              "      <td>nan%</td>\n",
              "      <td>NMS</td>\n",
              "      <td>Alphabet Inc.</td>\n",
              "      <td>Alphabet Inc.</td>\n",
              "      <td>finmb_29096</td>\n",
              "      <td>America/New_York</td>\n",
              "      <td>EST</td>\n",
              "      <td>-18000000</td>\n",
              "      <td>us_market</td>\n",
              "      <td>False</td>\n",
              "      <td>Alphabet</td>\n",
              "      <td>175271.00%</td>\n",
              "    </tr>\n",
              "  </tbody>\n",
              "</table>\n",
              "</div>"
            ],
            "text/plain": [
              "     language region quoteType  ... esgPopulated  displayName      price\n",
              "AAPL    en-US     US    EQUITY  ...        False        Apple  11949.00%\n",
              "AMZN    en-US     US    EQUITY  ...        False   Amazon.com 313739.00%\n",
              "TSLA    en-US     US    EQUITY  ...        False        Tesla  41713.00%\n",
              "GOOG    en-US     US    EQUITY  ...        False     Alphabet 175271.00%\n",
              "\n",
              "[4 rows x 74 columns]"
            ]
          },
          "metadata": {
            "tags": []
          },
          "execution_count": 67
        }
      ]
    }
  ]
}