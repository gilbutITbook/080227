{
  "nbformat": 4,
  "nbformat_minor": 0,
  "metadata": {
    "colab": {
      "name": "8장. Yahoo_fin패키지를 사용하여 재무데이터 가져오기",
      "provenance": [],
      "collapsed_sections": [],
      "authorship_tag": "ABX9TyOyuS3gg27O0SWisGLIjkMK",
      "include_colab_link": true
    },
    "kernelspec": {
      "name": "python3",
      "display_name": "Python 3"
    }
  },
  "cells": [
    {
      "cell_type": "markdown",
      "metadata": {
        "id": "view-in-github",
        "colab_type": "text"
      },
      "source": [
        "<a href=\"https://colab.research.google.com/github/jimsjoo/gilbut_portfolio/blob/master/8%EC%9E%A5_Yahoo_fin%ED%8C%A8%ED%82%A4%EC%A7%80%EB%A5%BC_%EC%82%AC%EC%9A%A9%ED%95%98%EC%97%AC_%EC%9E%AC%EB%AC%B4%EB%8D%B0%EC%9D%B4%ED%84%B0_%EA%B0%80%EC%A0%B8%EC%98%A4%EA%B8%B0.ipynb\" target=\"_parent\"><img src=\"https://colab.research.google.com/assets/colab-badge.svg\" alt=\"Open In Colab\"/></a>"
      ]
    },
    {
      "cell_type": "markdown",
      "metadata": {
        "id": "E5QYSu8FICFw"
      },
      "source": [
        "####패키지 설치\n",
        "매직명령어(!)를 사용하여 코랩리서치에 필요한 패키지를 설치한다"
      ]
    },
    {
      "cell_type": "code",
      "metadata": {
        "id": "kkDQbXbv_O7V",
        "outputId": "e7e48ed5-5b32-4b82-e8c2-52422069e4b2",
        "colab": {
          "base_uri": "https://localhost:8080/"
        }
      },
      "source": [
        "!pip install yahoo_fin\n",
        "!pip install requests_html"
      ],
      "execution_count": 1,
      "outputs": [
        {
          "output_type": "stream",
          "text": [
            "Collecting yahoo_fin\n",
            "  Downloading https://files.pythonhosted.org/packages/d3/5c/6bf0c0147cc94d643e2a2413d0a9b27967e964ee99f88f26db93a0b963b8/yahoo_fin-0.8.6-py3-none-any.whl\n",
            "Installing collected packages: yahoo-fin\n",
            "Successfully installed yahoo-fin-0.8.6\n",
            "Collecting requests_html\n",
            "  Downloading https://files.pythonhosted.org/packages/24/bc/a4380f09bab3a776182578ce6b2771e57259d0d4dbce178205779abdc347/requests_html-0.10.0-py3-none-any.whl\n",
            "Collecting fake-useragent\n",
            "  Downloading https://files.pythonhosted.org/packages/d1/79/af647635d6968e2deb57a208d309f6069d31cb138066d7e821e575112a80/fake-useragent-0.1.11.tar.gz\n",
            "Collecting parse\n",
            "  Downloading https://files.pythonhosted.org/packages/b8/49/85f19d9ff908817b864deebf7f68211f9a6fc0b48746d372d970f60d01f5/parse-1.18.0.tar.gz\n",
            "Collecting pyppeteer>=0.0.14\n",
            "\u001b[?25l  Downloading https://files.pythonhosted.org/packages/5d/4b/3c2aabdd1b91fa52aa9de6cde33b488b0592b4d48efb0ad9efbf71c49f5b/pyppeteer-0.2.2-py3-none-any.whl (145kB)\n",
            "\u001b[K     |████████████████████████████████| 153kB 6.5MB/s \n",
            "\u001b[?25hCollecting w3lib\n",
            "  Downloading https://files.pythonhosted.org/packages/a3/59/b6b14521090e7f42669cafdb84b0ab89301a42f1f1a82fcf5856661ea3a7/w3lib-1.22.0-py2.py3-none-any.whl\n",
            "Requirement already satisfied: bs4 in /usr/local/lib/python3.6/dist-packages (from requests_html) (0.0.1)\n",
            "Requirement already satisfied: requests in /usr/local/lib/python3.6/dist-packages (from requests_html) (2.23.0)\n",
            "Collecting pyquery\n",
            "  Downloading https://files.pythonhosted.org/packages/78/43/95d42e386c61cb639d1a0b94f0c0b9f0b7d6b981ad3c043a836c8b5bc68b/pyquery-1.4.1-py2.py3-none-any.whl\n",
            "Collecting tqdm<5.0.0,>=4.42.1\n",
            "\u001b[?25l  Downloading https://files.pythonhosted.org/packages/93/3a/96b3dc293aa72443cf9627444c3c221a7ba34bb622e4d8bf1b5d4f2d9d08/tqdm-4.51.0-py2.py3-none-any.whl (70kB)\n",
            "\u001b[K     |████████████████████████████████| 71kB 6.1MB/s \n",
            "\u001b[?25hCollecting urllib3<2.0.0,>=1.25.8\n",
            "\u001b[?25l  Downloading https://files.pythonhosted.org/packages/f5/71/45d36a8df68f3ebb098d6861b2c017f3d094538c0fb98fa61d4dc43e69b9/urllib3-1.26.2-py2.py3-none-any.whl (136kB)\n",
            "\u001b[K     |████████████████████████████████| 143kB 7.7MB/s \n",
            "\u001b[?25hCollecting websockets<9.0,>=8.1\n",
            "\u001b[?25l  Downloading https://files.pythonhosted.org/packages/bb/d9/856af84843912e2853b1b6e898ac8b802989fcf9ecf8e8445a1da263bf3b/websockets-8.1-cp36-cp36m-manylinux2010_x86_64.whl (78kB)\n",
            "\u001b[K     |████████████████████████████████| 81kB 5.8MB/s \n",
            "\u001b[?25hCollecting pyee<8.0.0,>=7.0.1\n",
            "  Downloading https://files.pythonhosted.org/packages/64/f3/90db6276dbc6cb1defa558251acc73c8e436ca8e1e2b38ec75786278de7c/pyee-7.0.4-py2.py3-none-any.whl\n",
            "Collecting appdirs<2.0.0,>=1.4.3\n",
            "  Downloading https://files.pythonhosted.org/packages/3b/00/2344469e2084fb287c2e0b57b72910309874c3245463acd6cf5e3db69324/appdirs-1.4.4-py2.py3-none-any.whl\n",
            "Requirement already satisfied: six>=1.4.1 in /usr/local/lib/python3.6/dist-packages (from w3lib->requests_html) (1.15.0)\n",
            "Requirement already satisfied: beautifulsoup4 in /usr/local/lib/python3.6/dist-packages (from bs4->requests_html) (4.6.3)\n",
            "Requirement already satisfied: chardet<4,>=3.0.2 in /usr/local/lib/python3.6/dist-packages (from requests->requests_html) (3.0.4)\n",
            "Requirement already satisfied: idna<3,>=2.5 in /usr/local/lib/python3.6/dist-packages (from requests->requests_html) (2.10)\n",
            "Requirement already satisfied: certifi>=2017.4.17 in /usr/local/lib/python3.6/dist-packages (from requests->requests_html) (2020.6.20)\n",
            "Collecting cssselect>0.7.9\n",
            "  Downloading https://files.pythonhosted.org/packages/3b/d4/3b5c17f00cce85b9a1e6f91096e1cc8e8ede2e1be8e96b87ce1ed09e92c5/cssselect-1.1.0-py2.py3-none-any.whl\n",
            "Requirement already satisfied: lxml>=2.1 in /usr/local/lib/python3.6/dist-packages (from pyquery->requests_html) (4.2.6)\n",
            "Building wheels for collected packages: fake-useragent, parse\n",
            "  Building wheel for fake-useragent (setup.py) ... \u001b[?25l\u001b[?25hdone\n",
            "  Created wheel for fake-useragent: filename=fake_useragent-0.1.11-cp36-none-any.whl size=13485 sha256=f8e6e6237abbdb838fc9b40210a04865a678f4b1ae9bbd029ca3c025c7a383b2\n",
            "  Stored in directory: /root/.cache/pip/wheels/5e/63/09/d1dc15179f175357d3f5c00cbffbac37f9e8690d80545143ff\n",
            "  Building wheel for parse (setup.py) ... \u001b[?25l\u001b[?25hdone\n",
            "  Created wheel for parse: filename=parse-1.18.0-cp36-none-any.whl size=24133 sha256=0e08a5f05bee79d1f87dfdd971dfcda580cc32ea4ef3a9172d674a3545f41572\n",
            "  Stored in directory: /root/.cache/pip/wheels/2a/53/09/869ca5781ede342254ffac09ca99461b008c3e5f8dd079b0c0\n",
            "Successfully built fake-useragent parse\n",
            "\u001b[31mERROR: requests 2.23.0 has requirement urllib3!=1.25.0,!=1.25.1,<1.26,>=1.21.1, but you'll have urllib3 1.26.2 which is incompatible.\u001b[0m\n",
            "\u001b[31mERROR: datascience 0.10.6 has requirement folium==0.2.1, but you'll have folium 0.8.3 which is incompatible.\u001b[0m\n",
            "Installing collected packages: fake-useragent, parse, tqdm, urllib3, websockets, pyee, appdirs, pyppeteer, w3lib, cssselect, pyquery, requests-html\n",
            "  Found existing installation: tqdm 4.41.1\n",
            "    Uninstalling tqdm-4.41.1:\n",
            "      Successfully uninstalled tqdm-4.41.1\n",
            "  Found existing installation: urllib3 1.24.3\n",
            "    Uninstalling urllib3-1.24.3:\n",
            "      Successfully uninstalled urllib3-1.24.3\n",
            "Successfully installed appdirs-1.4.4 cssselect-1.1.0 fake-useragent-0.1.11 parse-1.18.0 pyee-7.0.4 pyppeteer-0.2.2 pyquery-1.4.1 requests-html-0.10.0 tqdm-4.51.0 urllib3-1.26.2 w3lib-1.22.0 websockets-8.1\n"
          ],
          "name": "stdout"
        }
      ]
    },
    {
      "cell_type": "markdown",
      "metadata": {
        "id": "QzF-b1o5IAW6"
      },
      "source": [
        "####패키지 임포트\n",
        "가장 먼저 할 일은 yahoo_fin에서 stock_info모듈을 임포트하는 것이다. 이 모듈과 함께 같이 필요한 것이  pandas패키지이다."
      ]
    },
    {
      "cell_type": "code",
      "metadata": {
        "id": "OkW5wenN-w1y",
        "outputId": "82176b83-942b-42ba-8efa-a7cad31e0a45",
        "colab": {
          "base_uri": "https://localhost:8080/"
        }
      },
      "source": [
        "import yahoo_fin.stock_info as si\n",
        "import pandas as pd"
      ],
      "execution_count": 2,
      "outputs": [
        {
          "output_type": "stream",
          "text": [
            "/usr/local/lib/python3.6/dist-packages/requests/__init__.py:91: RequestsDependencyWarning: urllib3 (1.26.2) or chardet (3.0.4) doesn't match a supported version!\n",
            "  RequestsDependencyWarning)\n"
          ],
          "name": "stderr"
        }
      ]
    },
    {
      "cell_type": "markdown",
      "metadata": {
        "id": "l5xAYj5f9yZ3"
      },
      "source": [
        "종목 통계정보"
      ]
    },
    {
      "cell_type": "code",
      "metadata": {
        "id": "SKgltfbs58t-",
        "outputId": "102f40e3-8585-4429-d8cd-428c606ac808",
        "colab": {
          "base_uri": "https://localhost:8080/"
        }
      },
      "source": [
        "si.get_analysts_info('nflx')"
      ],
      "execution_count": 139,
      "outputs": [
        {
          "output_type": "execute_result",
          "data": {
            "text/plain": [
              "{'EPS Revisions':        EPS Revisions  ...  Next Year (2021)\n",
              " 0     Up Last 7 Days  ...               1.0\n",
              " 1    Up Last 30 Days  ...              28.0\n",
              " 2   Down Last 7 Days  ...               NaN\n",
              " 3  Down Last 30 Days  ...               NaN\n",
              " \n",
              " [4 rows x 5 columns], 'EPS Trend':           EPS Trend  ...  Next Year (2021)\n",
              " 0  Current Estimate  ...              9.02\n",
              " 1        7 Days Ago  ...              9.01\n",
              " 2       30 Days Ago  ...              8.80\n",
              " 3       60 Days Ago  ...              8.79\n",
              " 4       90 Days Ago  ...              8.80\n",
              " \n",
              " [5 rows x 5 columns], 'Earnings Estimate':   Earnings Estimate  ...  Next Year (2021)\n",
              " 0   No. of Analysts  ...             40.00\n",
              " 1     Avg. Estimate  ...              9.02\n",
              " 2      Low Estimate  ...              8.22\n",
              " 3     High Estimate  ...             10.63\n",
              " 4      Year Ago EPS  ...              6.27\n",
              " \n",
              " [5 rows x 5 columns], 'Earnings History':   Earnings History 12/30/2019 3/30/2020 6/29/2020 9/29/2020\n",
              " 0         EPS Est.       0.53      1.65      1.81      2.14\n",
              " 1       EPS Actual        1.3      1.57      1.59      1.74\n",
              " 2       Difference       0.77     -0.08     -0.22      -0.4\n",
              " 3       Surprise %    145.30%    -4.80%   -12.20%   -18.70%, 'Growth Estimates':            Growth Estimates    NFLX  Industry  Sector(s)  S&P 500\n",
              " 0              Current Qtr.   6.20%       NaN        NaN      NaN\n",
              " 1                 Next Qtr.  32.50%       NaN        NaN      NaN\n",
              " 2              Current Year  51.80%       NaN        NaN      NaN\n",
              " 3                 Next Year  43.90%       NaN        NaN      NaN\n",
              " 4  Next 5 Years (per annum)  40.95%       NaN        NaN      NaN\n",
              " 5  Past 5 Years (per annum)  76.94%       NaN        NaN      NaN, 'Revenue Estimate':           Revenue Estimate  ... Next Year (2021)\n",
              " 0          No. of Analysts  ...               39\n",
              " 1            Avg. Estimate  ...           29.44B\n",
              " 2             Low Estimate  ...           27.88B\n",
              " 3            High Estimate  ...           30.71B\n",
              " 4           Year Ago Sales  ...           24.95B\n",
              " 5  Sales Growth (year/est)  ...           18.00%\n",
              " \n",
              " [6 rows x 5 columns]}"
            ]
          },
          "metadata": {
            "tags": []
          },
          "execution_count": 139
        }
      ]
    },
    {
      "cell_type": "code",
      "metadata": {
        "id": "RXz8Yf9DWbRF",
        "outputId": "cae51ad3-9b6e-427e-8bbc-252a8a329ccb",
        "colab": {
          "base_uri": "https://localhost:8080/",
          "height": 758
        }
      },
      "source": [
        "si.get_balance_sheet('nflx')"
      ],
      "execution_count": 140,
      "outputs": [
        {
          "output_type": "execute_result",
          "data": {
            "text/html": [
              "<div>\n",
              "<style scoped>\n",
              "    .dataframe tbody tr th:only-of-type {\n",
              "        vertical-align: middle;\n",
              "    }\n",
              "\n",
              "    .dataframe tbody tr th {\n",
              "        vertical-align: top;\n",
              "    }\n",
              "\n",
              "    .dataframe thead th {\n",
              "        text-align: right;\n",
              "    }\n",
              "</style>\n",
              "<table border=\"1\" class=\"dataframe\">\n",
              "  <thead>\n",
              "    <tr style=\"text-align: right;\">\n",
              "      <th>endDate</th>\n",
              "      <th>2019-12-31</th>\n",
              "      <th>2018-12-31</th>\n",
              "      <th>2017-12-31</th>\n",
              "      <th>2016-12-31</th>\n",
              "    </tr>\n",
              "    <tr>\n",
              "      <th>Breakdown</th>\n",
              "      <th></th>\n",
              "      <th></th>\n",
              "      <th></th>\n",
              "      <th></th>\n",
              "    </tr>\n",
              "  </thead>\n",
              "  <tbody>\n",
              "    <tr>\n",
              "      <th>intangibleAssets</th>\n",
              "      <td>1.470335e+10</td>\n",
              "      <td>1.495114e+10</td>\n",
              "      <td>1.037106e+10</td>\n",
              "      <td>7.274501e+09</td>\n",
              "    </tr>\n",
              "    <tr>\n",
              "      <th>totalLiab</th>\n",
              "      <td>2.639356e+10</td>\n",
              "      <td>2.073564e+10</td>\n",
              "      <td>1.543079e+10</td>\n",
              "      <td>1.090681e+10</td>\n",
              "    </tr>\n",
              "    <tr>\n",
              "      <th>totalStockholderEquity</th>\n",
              "      <td>7.582157e+09</td>\n",
              "      <td>5.238765e+09</td>\n",
              "      <td>3.581956e+09</td>\n",
              "      <td>2.679800e+09</td>\n",
              "    </tr>\n",
              "    <tr>\n",
              "      <th>otherCurrentLiab</th>\n",
              "      <td>5.338306e+09</td>\n",
              "      <td>5.442461e+09</td>\n",
              "      <td>4.791663e+09</td>\n",
              "      <td>4.076183e+09</td>\n",
              "    </tr>\n",
              "    <tr>\n",
              "      <th>totalAssets</th>\n",
              "      <td>3.397571e+10</td>\n",
              "      <td>2.597440e+10</td>\n",
              "      <td>1.901274e+10</td>\n",
              "      <td>1.358661e+10</td>\n",
              "    </tr>\n",
              "    <tr>\n",
              "      <th>commonStock</th>\n",
              "      <td>2.793929e+09</td>\n",
              "      <td>2.315988e+09</td>\n",
              "      <td>1.871396e+09</td>\n",
              "      <td>1.599762e+09</td>\n",
              "    </tr>\n",
              "    <tr>\n",
              "      <th>retainedEarnings</th>\n",
              "      <td>4.811749e+09</td>\n",
              "      <td>2.942359e+09</td>\n",
              "      <td>1.731117e+09</td>\n",
              "      <td>1.128603e+09</td>\n",
              "    </tr>\n",
              "    <tr>\n",
              "      <th>otherLiab</th>\n",
              "      <td>3.355987e+09</td>\n",
              "      <td>3.888257e+09</td>\n",
              "      <td>3.465042e+09</td>\n",
              "      <td>2.955842e+09</td>\n",
              "    </tr>\n",
              "    <tr>\n",
              "      <th>treasuryStock</th>\n",
              "      <td>-2.352100e+07</td>\n",
              "      <td>-1.958200e+07</td>\n",
              "      <td>-2.055700e+07</td>\n",
              "      <td>-4.856500e+07</td>\n",
              "    </tr>\n",
              "    <tr>\n",
              "      <th>otherAssets</th>\n",
              "      <td>1.099664e+10</td>\n",
              "      <td>9.108430e+08</td>\n",
              "      <td>6.523090e+08</td>\n",
              "      <td>3.399060e+08</td>\n",
              "    </tr>\n",
              "    <tr>\n",
              "      <th>cash</th>\n",
              "      <td>5.018437e+09</td>\n",
              "      <td>3.794483e+09</td>\n",
              "      <td>2.822795e+09</td>\n",
              "      <td>1.467576e+09</td>\n",
              "    </tr>\n",
              "    <tr>\n",
              "      <th>totalCurrentLiabilities</th>\n",
              "      <td>6.855696e+09</td>\n",
              "      <td>6.487320e+09</td>\n",
              "      <td>5.466312e+09</td>\n",
              "      <td>4.586657e+09</td>\n",
              "    </tr>\n",
              "    <tr>\n",
              "      <th>deferredLongTermAssetCharges</th>\n",
              "      <td>6.582060e+08</td>\n",
              "      <td>5.644250e+08</td>\n",
              "      <td>4.782660e+08</td>\n",
              "      <td>2.272480e+08</td>\n",
              "    </tr>\n",
              "    <tr>\n",
              "      <th>otherStockholderEquity</th>\n",
              "      <td>-2.352100e+07</td>\n",
              "      <td>-1.958200e+07</td>\n",
              "      <td>-2.055700e+07</td>\n",
              "      <td>-4.856500e+07</td>\n",
              "    </tr>\n",
              "    <tr>\n",
              "      <th>propertyPlantEquipment</th>\n",
              "      <td>2.097221e+09</td>\n",
              "      <td>4.182810e+08</td>\n",
              "      <td>3.194040e+08</td>\n",
              "      <td>2.503950e+08</td>\n",
              "    </tr>\n",
              "    <tr>\n",
              "      <th>totalCurrentAssets</th>\n",
              "      <td>6.178504e+09</td>\n",
              "      <td>9.694135e+09</td>\n",
              "      <td>7.669974e+09</td>\n",
              "      <td>5.720291e+09</td>\n",
              "    </tr>\n",
              "    <tr>\n",
              "      <th>netTangibleAssets</th>\n",
              "      <td>-7.121195e+09</td>\n",
              "      <td>-9.712376e+09</td>\n",
              "      <td>-6.789099e+09</td>\n",
              "      <td>-4.594701e+09</td>\n",
              "    </tr>\n",
              "    <tr>\n",
              "      <th>netReceivables</th>\n",
              "      <td>9.790680e+08</td>\n",
              "      <td>5.696330e+08</td>\n",
              "      <td>NaN</td>\n",
              "      <td>NaN</td>\n",
              "    </tr>\n",
              "    <tr>\n",
              "      <th>longTermDebt</th>\n",
              "      <td>1.475926e+10</td>\n",
              "      <td>1.036006e+10</td>\n",
              "      <td>6.499432e+09</td>\n",
              "      <td>3.364311e+09</td>\n",
              "    </tr>\n",
              "    <tr>\n",
              "      <th>accountsPayable</th>\n",
              "      <td>6.743470e+08</td>\n",
              "      <td>5.629850e+08</td>\n",
              "      <td>3.595550e+08</td>\n",
              "      <td>3.128420e+08</td>\n",
              "    </tr>\n",
              "    <tr>\n",
              "      <th>otherCurrentAssets</th>\n",
              "      <td>NaN</td>\n",
              "      <td>5.151186e+09</td>\n",
              "      <td>4.847179e+09</td>\n",
              "      <td>3.986509e+09</td>\n",
              "    </tr>\n",
              "    <tr>\n",
              "      <th>longTermInvestments</th>\n",
              "      <td>NaN</td>\n",
              "      <td>NaN</td>\n",
              "      <td>NaN</td>\n",
              "      <td>1.517000e+06</td>\n",
              "    </tr>\n",
              "    <tr>\n",
              "      <th>shortTermInvestments</th>\n",
              "      <td>NaN</td>\n",
              "      <td>NaN</td>\n",
              "      <td>NaN</td>\n",
              "      <td>2.662060e+08</td>\n",
              "    </tr>\n",
              "  </tbody>\n",
              "</table>\n",
              "</div>"
            ],
            "text/plain": [
              "endDate                         2019-12-31  ...    2016-12-31\n",
              "Breakdown                                   ...              \n",
              "intangibleAssets              1.470335e+10  ...  7.274501e+09\n",
              "totalLiab                     2.639356e+10  ...  1.090681e+10\n",
              "totalStockholderEquity        7.582157e+09  ...  2.679800e+09\n",
              "otherCurrentLiab              5.338306e+09  ...  4.076183e+09\n",
              "totalAssets                   3.397571e+10  ...  1.358661e+10\n",
              "commonStock                   2.793929e+09  ...  1.599762e+09\n",
              "retainedEarnings              4.811749e+09  ...  1.128603e+09\n",
              "otherLiab                     3.355987e+09  ...  2.955842e+09\n",
              "treasuryStock                -2.352100e+07  ... -4.856500e+07\n",
              "otherAssets                   1.099664e+10  ...  3.399060e+08\n",
              "cash                          5.018437e+09  ...  1.467576e+09\n",
              "totalCurrentLiabilities       6.855696e+09  ...  4.586657e+09\n",
              "deferredLongTermAssetCharges  6.582060e+08  ...  2.272480e+08\n",
              "otherStockholderEquity       -2.352100e+07  ... -4.856500e+07\n",
              "propertyPlantEquipment        2.097221e+09  ...  2.503950e+08\n",
              "totalCurrentAssets            6.178504e+09  ...  5.720291e+09\n",
              "netTangibleAssets            -7.121195e+09  ... -4.594701e+09\n",
              "netReceivables                9.790680e+08  ...           NaN\n",
              "longTermDebt                  1.475926e+10  ...  3.364311e+09\n",
              "accountsPayable               6.743470e+08  ...  3.128420e+08\n",
              "otherCurrentAssets                     NaN  ...  3.986509e+09\n",
              "longTermInvestments                    NaN  ...  1.517000e+06\n",
              "shortTermInvestments                   NaN  ...  2.662060e+08\n",
              "\n",
              "[23 rows x 4 columns]"
            ]
          },
          "metadata": {
            "tags": []
          },
          "execution_count": 140
        }
      ]
    },
    {
      "cell_type": "code",
      "metadata": {
        "id": "KZTTrlgqXaU4",
        "outputId": "01494f5d-6f55-462a-9e4a-bc1f875d0d72",
        "colab": {
          "base_uri": "https://localhost:8080/",
          "height": 550
        }
      },
      "source": [
        "si.get_cash_flow('nflx')"
      ],
      "execution_count": 141,
      "outputs": [
        {
          "output_type": "execute_result",
          "data": {
            "text/html": [
              "<div>\n",
              "<style scoped>\n",
              "    .dataframe tbody tr th:only-of-type {\n",
              "        vertical-align: middle;\n",
              "    }\n",
              "\n",
              "    .dataframe tbody tr th {\n",
              "        vertical-align: top;\n",
              "    }\n",
              "\n",
              "    .dataframe thead th {\n",
              "        text-align: right;\n",
              "    }\n",
              "</style>\n",
              "<table border=\"1\" class=\"dataframe\">\n",
              "  <thead>\n",
              "    <tr style=\"text-align: right;\">\n",
              "      <th>endDate</th>\n",
              "      <th>2019-12-31</th>\n",
              "      <th>2018-12-31</th>\n",
              "      <th>2017-12-31</th>\n",
              "      <th>2016-12-31</th>\n",
              "    </tr>\n",
              "    <tr>\n",
              "      <th>Breakdown</th>\n",
              "      <th></th>\n",
              "      <th></th>\n",
              "      <th></th>\n",
              "      <th></th>\n",
              "    </tr>\n",
              "  </thead>\n",
              "  <tbody>\n",
              "    <tr>\n",
              "      <th>changeToLiabilities</th>\n",
              "      <td>2.599090e+08</td>\n",
              "      <td>3.414750e+08</td>\n",
              "      <td>2.525330e+08</td>\n",
              "      <td>1.289980e+08</td>\n",
              "    </tr>\n",
              "    <tr>\n",
              "      <th>totalCashflowsFromInvestingActivities</th>\n",
              "      <td>-3.870640e+08</td>\n",
              "      <td>-3.391200e+08</td>\n",
              "      <td>3.432900e+07</td>\n",
              "      <td>4.976500e+07</td>\n",
              "    </tr>\n",
              "    <tr>\n",
              "      <th>netBorrowings</th>\n",
              "      <td>4.469306e+09</td>\n",
              "      <td>3.961852e+09</td>\n",
              "      <td>3.020510e+09</td>\n",
              "      <td>1.000000e+09</td>\n",
              "    </tr>\n",
              "    <tr>\n",
              "      <th>totalCashFromFinancingActivities</th>\n",
              "      <td>4.505662e+09</td>\n",
              "      <td>4.048527e+09</td>\n",
              "      <td>3.076990e+09</td>\n",
              "      <td>1.091630e+09</td>\n",
              "    </tr>\n",
              "    <tr>\n",
              "      <th>changeToOperatingActivities</th>\n",
              "      <td>-2.168660e+08</td>\n",
              "      <td>-4.770800e+07</td>\n",
              "      <td>-1.935560e+08</td>\n",
              "      <td>6.338200e+07</td>\n",
              "    </tr>\n",
              "    <tr>\n",
              "      <th>issuanceOfStock</th>\n",
              "      <td>7.249000e+07</td>\n",
              "      <td>1.245020e+08</td>\n",
              "      <td>8.837800e+07</td>\n",
              "      <td>3.697900e+07</td>\n",
              "    </tr>\n",
              "    <tr>\n",
              "      <th>netIncome</th>\n",
              "      <td>1.866916e+09</td>\n",
              "      <td>1.211242e+09</td>\n",
              "      <td>5.589290e+08</td>\n",
              "      <td>1.866780e+08</td>\n",
              "    </tr>\n",
              "    <tr>\n",
              "      <th>changeInCash</th>\n",
              "      <td>1.231745e+09</td>\n",
              "      <td>9.892460e+08</td>\n",
              "      <td>1.355219e+09</td>\n",
              "      <td>-3.417540e+08</td>\n",
              "    </tr>\n",
              "    <tr>\n",
              "      <th>effectOfExchangeRate</th>\n",
              "      <td>4.690000e+05</td>\n",
              "      <td>-3.968200e+07</td>\n",
              "      <td>2.984800e+07</td>\n",
              "      <td>-9.165000e+06</td>\n",
              "    </tr>\n",
              "    <tr>\n",
              "      <th>totalCashFromOperatingActivities</th>\n",
              "      <td>-2.887322e+09</td>\n",
              "      <td>-2.680479e+09</td>\n",
              "      <td>-1.785948e+09</td>\n",
              "      <td>-1.473984e+09</td>\n",
              "    </tr>\n",
              "    <tr>\n",
              "      <th>depreciation</th>\n",
              "      <td>1.035790e+08</td>\n",
              "      <td>8.315700e+07</td>\n",
              "      <td>7.191100e+07</td>\n",
              "      <td>5.752800e+07</td>\n",
              "    </tr>\n",
              "    <tr>\n",
              "      <th>otherCashflowsFromInvestingActivities</th>\n",
              "      <td>-1.340290e+08</td>\n",
              "      <td>-1.651740e+08</td>\n",
              "      <td>-6.040900e+07</td>\n",
              "      <td>-9.410000e+05</td>\n",
              "    </tr>\n",
              "    <tr>\n",
              "      <th>otherCashflowsFromFinancingActivities</th>\n",
              "      <td>-3.613400e+07</td>\n",
              "      <td>-3.782700e+07</td>\n",
              "      <td>-3.189800e+07</td>\n",
              "      <td>5.465100e+07</td>\n",
              "    </tr>\n",
              "    <tr>\n",
              "      <th>changeToNetincome</th>\n",
              "      <td>-1.411711e+10</td>\n",
              "      <td>-1.180073e+10</td>\n",
              "      <td>-8.673582e+09</td>\n",
              "      <td>-6.778020e+09</td>\n",
              "    </tr>\n",
              "    <tr>\n",
              "      <th>capitalExpenditures</th>\n",
              "      <td>-2.530350e+08</td>\n",
              "      <td>-1.739460e+08</td>\n",
              "      <td>-1.733020e+08</td>\n",
              "      <td>-1.076530e+08</td>\n",
              "    </tr>\n",
              "    <tr>\n",
              "      <th>investments</th>\n",
              "      <td>NaN</td>\n",
              "      <td>NaN</td>\n",
              "      <td>2.680400e+08</td>\n",
              "      <td>2.355360e+08</td>\n",
              "    </tr>\n",
              "  </tbody>\n",
              "</table>\n",
              "</div>"
            ],
            "text/plain": [
              "endDate                                  2019-12-31  ...    2016-12-31\n",
              "Breakdown                                            ...              \n",
              "changeToLiabilities                    2.599090e+08  ...  1.289980e+08\n",
              "totalCashflowsFromInvestingActivities -3.870640e+08  ...  4.976500e+07\n",
              "netBorrowings                          4.469306e+09  ...  1.000000e+09\n",
              "totalCashFromFinancingActivities       4.505662e+09  ...  1.091630e+09\n",
              "changeToOperatingActivities           -2.168660e+08  ...  6.338200e+07\n",
              "issuanceOfStock                        7.249000e+07  ...  3.697900e+07\n",
              "netIncome                              1.866916e+09  ...  1.866780e+08\n",
              "changeInCash                           1.231745e+09  ... -3.417540e+08\n",
              "effectOfExchangeRate                   4.690000e+05  ... -9.165000e+06\n",
              "totalCashFromOperatingActivities      -2.887322e+09  ... -1.473984e+09\n",
              "depreciation                           1.035790e+08  ...  5.752800e+07\n",
              "otherCashflowsFromInvestingActivities -1.340290e+08  ... -9.410000e+05\n",
              "otherCashflowsFromFinancingActivities -3.613400e+07  ...  5.465100e+07\n",
              "changeToNetincome                     -1.411711e+10  ... -6.778020e+09\n",
              "capitalExpenditures                   -2.530350e+08  ... -1.076530e+08\n",
              "investments                                     NaN  ...  2.355360e+08\n",
              "\n",
              "[16 rows x 4 columns]"
            ]
          },
          "metadata": {
            "tags": []
          },
          "execution_count": 141
        }
      ]
    },
    {
      "cell_type": "markdown",
      "metadata": {
        "id": "WVn-olVe9sHD"
      },
      "source": [
        "종목의 과거 주가 데이터"
      ]
    },
    {
      "cell_type": "code",
      "metadata": {
        "id": "F19LjiQX6UVC"
      },
      "source": [
        "msft_data = si.get_data('msft')"
      ],
      "execution_count": 142,
      "outputs": []
    },
    {
      "cell_type": "code",
      "metadata": {
        "id": "O3AxEMzu6kXQ",
        "outputId": "297a5c3a-f022-40bb-aa11-4347cd65c038",
        "colab": {
          "base_uri": "https://localhost:8080/",
          "height": 195
        }
      },
      "source": [
        "msft_data.head()"
      ],
      "execution_count": 143,
      "outputs": [
        {
          "output_type": "execute_result",
          "data": {
            "text/html": [
              "<div>\n",
              "<style scoped>\n",
              "    .dataframe tbody tr th:only-of-type {\n",
              "        vertical-align: middle;\n",
              "    }\n",
              "\n",
              "    .dataframe tbody tr th {\n",
              "        vertical-align: top;\n",
              "    }\n",
              "\n",
              "    .dataframe thead th {\n",
              "        text-align: right;\n",
              "    }\n",
              "</style>\n",
              "<table border=\"1\" class=\"dataframe\">\n",
              "  <thead>\n",
              "    <tr style=\"text-align: right;\">\n",
              "      <th></th>\n",
              "      <th>open</th>\n",
              "      <th>high</th>\n",
              "      <th>low</th>\n",
              "      <th>close</th>\n",
              "      <th>adjclose</th>\n",
              "      <th>volume</th>\n",
              "      <th>ticker</th>\n",
              "    </tr>\n",
              "  </thead>\n",
              "  <tbody>\n",
              "    <tr>\n",
              "      <th>1986-03-13</th>\n",
              "      <td>0.088542</td>\n",
              "      <td>0.101562</td>\n",
              "      <td>0.088542</td>\n",
              "      <td>0.097222</td>\n",
              "      <td>0.062055</td>\n",
              "      <td>1031788800</td>\n",
              "      <td>MSFT</td>\n",
              "    </tr>\n",
              "    <tr>\n",
              "      <th>1986-03-14</th>\n",
              "      <td>0.097222</td>\n",
              "      <td>0.102431</td>\n",
              "      <td>0.097222</td>\n",
              "      <td>0.100694</td>\n",
              "      <td>0.064271</td>\n",
              "      <td>308160000</td>\n",
              "      <td>MSFT</td>\n",
              "    </tr>\n",
              "    <tr>\n",
              "      <th>1986-03-17</th>\n",
              "      <td>0.100694</td>\n",
              "      <td>0.103299</td>\n",
              "      <td>0.100694</td>\n",
              "      <td>0.102431</td>\n",
              "      <td>0.065379</td>\n",
              "      <td>133171200</td>\n",
              "      <td>MSFT</td>\n",
              "    </tr>\n",
              "    <tr>\n",
              "      <th>1986-03-18</th>\n",
              "      <td>0.102431</td>\n",
              "      <td>0.103299</td>\n",
              "      <td>0.098958</td>\n",
              "      <td>0.099826</td>\n",
              "      <td>0.063717</td>\n",
              "      <td>67766400</td>\n",
              "      <td>MSFT</td>\n",
              "    </tr>\n",
              "    <tr>\n",
              "      <th>1986-03-19</th>\n",
              "      <td>0.099826</td>\n",
              "      <td>0.100694</td>\n",
              "      <td>0.097222</td>\n",
              "      <td>0.098090</td>\n",
              "      <td>0.062609</td>\n",
              "      <td>47894400</td>\n",
              "      <td>MSFT</td>\n",
              "    </tr>\n",
              "  </tbody>\n",
              "</table>\n",
              "</div>"
            ],
            "text/plain": [
              "                open      high       low     close  adjclose      volume ticker\n",
              "1986-03-13  0.088542  0.101562  0.088542  0.097222  0.062055  1031788800   MSFT\n",
              "1986-03-14  0.097222  0.102431  0.097222  0.100694  0.064271   308160000   MSFT\n",
              "1986-03-17  0.100694  0.103299  0.100694  0.102431  0.065379   133171200   MSFT\n",
              "1986-03-18  0.102431  0.103299  0.098958  0.099826  0.063717    67766400   MSFT\n",
              "1986-03-19  0.099826  0.100694  0.097222  0.098090  0.062609    47894400   MSFT"
            ]
          },
          "metadata": {
            "tags": []
          },
          "execution_count": 143
        }
      ]
    },
    {
      "cell_type": "code",
      "metadata": {
        "id": "w40_ZQ-aID2C",
        "outputId": "3de5a094-f543-4db9-c7d9-1020bdf55179",
        "colab": {
          "base_uri": "https://localhost:8080/",
          "height": 639
        }
      },
      "source": [
        "si.get_data(\"amzn\", start_date = \"04/01/2020\", end_date = \"04/30/2020\")"
      ],
      "execution_count": 144,
      "outputs": [
        {
          "output_type": "execute_result",
          "data": {
            "text/html": [
              "<div>\n",
              "<style scoped>\n",
              "    .dataframe tbody tr th:only-of-type {\n",
              "        vertical-align: middle;\n",
              "    }\n",
              "\n",
              "    .dataframe tbody tr th {\n",
              "        vertical-align: top;\n",
              "    }\n",
              "\n",
              "    .dataframe thead th {\n",
              "        text-align: right;\n",
              "    }\n",
              "</style>\n",
              "<table border=\"1\" class=\"dataframe\">\n",
              "  <thead>\n",
              "    <tr style=\"text-align: right;\">\n",
              "      <th></th>\n",
              "      <th>open</th>\n",
              "      <th>high</th>\n",
              "      <th>low</th>\n",
              "      <th>close</th>\n",
              "      <th>adjclose</th>\n",
              "      <th>volume</th>\n",
              "      <th>ticker</th>\n",
              "    </tr>\n",
              "  </thead>\n",
              "  <tbody>\n",
              "    <tr>\n",
              "      <th>2020-04-01</th>\n",
              "      <td>1932.969971</td>\n",
              "      <td>1944.959961</td>\n",
              "      <td>1893.000000</td>\n",
              "      <td>1907.699951</td>\n",
              "      <td>1907.699951</td>\n",
              "      <td>4121900</td>\n",
              "      <td>AMZN</td>\n",
              "    </tr>\n",
              "    <tr>\n",
              "      <th>2020-04-02</th>\n",
              "      <td>1901.640015</td>\n",
              "      <td>1927.530029</td>\n",
              "      <td>1890.000000</td>\n",
              "      <td>1918.829956</td>\n",
              "      <td>1918.829956</td>\n",
              "      <td>4336000</td>\n",
              "      <td>AMZN</td>\n",
              "    </tr>\n",
              "    <tr>\n",
              "      <th>2020-04-03</th>\n",
              "      <td>1911.150024</td>\n",
              "      <td>1926.329956</td>\n",
              "      <td>1889.150024</td>\n",
              "      <td>1906.589966</td>\n",
              "      <td>1906.589966</td>\n",
              "      <td>3609900</td>\n",
              "      <td>AMZN</td>\n",
              "    </tr>\n",
              "    <tr>\n",
              "      <th>2020-04-06</th>\n",
              "      <td>1936.000000</td>\n",
              "      <td>1998.520020</td>\n",
              "      <td>1930.020020</td>\n",
              "      <td>1997.589966</td>\n",
              "      <td>1997.589966</td>\n",
              "      <td>5773200</td>\n",
              "      <td>AMZN</td>\n",
              "    </tr>\n",
              "    <tr>\n",
              "      <th>2020-04-07</th>\n",
              "      <td>2017.109985</td>\n",
              "      <td>2035.719971</td>\n",
              "      <td>1997.619995</td>\n",
              "      <td>2011.599976</td>\n",
              "      <td>2011.599976</td>\n",
              "      <td>5114000</td>\n",
              "      <td>AMZN</td>\n",
              "    </tr>\n",
              "    <tr>\n",
              "      <th>2020-04-08</th>\n",
              "      <td>2021.000000</td>\n",
              "      <td>2044.000000</td>\n",
              "      <td>2011.150024</td>\n",
              "      <td>2043.000000</td>\n",
              "      <td>2043.000000</td>\n",
              "      <td>3977300</td>\n",
              "      <td>AMZN</td>\n",
              "    </tr>\n",
              "    <tr>\n",
              "      <th>2020-04-09</th>\n",
              "      <td>2044.300049</td>\n",
              "      <td>2053.000000</td>\n",
              "      <td>2017.660034</td>\n",
              "      <td>2042.760010</td>\n",
              "      <td>2042.760010</td>\n",
              "      <td>4655600</td>\n",
              "      <td>AMZN</td>\n",
              "    </tr>\n",
              "    <tr>\n",
              "      <th>2020-04-13</th>\n",
              "      <td>2040.000000</td>\n",
              "      <td>2180.000000</td>\n",
              "      <td>2038.000000</td>\n",
              "      <td>2168.870117</td>\n",
              "      <td>2168.870117</td>\n",
              "      <td>6716700</td>\n",
              "      <td>AMZN</td>\n",
              "    </tr>\n",
              "    <tr>\n",
              "      <th>2020-04-14</th>\n",
              "      <td>2200.469971</td>\n",
              "      <td>2292.000000</td>\n",
              "      <td>2186.209961</td>\n",
              "      <td>2283.320068</td>\n",
              "      <td>2283.320068</td>\n",
              "      <td>8087200</td>\n",
              "      <td>AMZN</td>\n",
              "    </tr>\n",
              "    <tr>\n",
              "      <th>2020-04-15</th>\n",
              "      <td>2257.679932</td>\n",
              "      <td>2333.370117</td>\n",
              "      <td>2245.000000</td>\n",
              "      <td>2307.679932</td>\n",
              "      <td>2307.679932</td>\n",
              "      <td>6866600</td>\n",
              "      <td>AMZN</td>\n",
              "    </tr>\n",
              "    <tr>\n",
              "      <th>2020-04-16</th>\n",
              "      <td>2346.000000</td>\n",
              "      <td>2461.000000</td>\n",
              "      <td>2335.000000</td>\n",
              "      <td>2408.189941</td>\n",
              "      <td>2408.189941</td>\n",
              "      <td>12038200</td>\n",
              "      <td>AMZN</td>\n",
              "    </tr>\n",
              "    <tr>\n",
              "      <th>2020-04-17</th>\n",
              "      <td>2372.330078</td>\n",
              "      <td>2400.000000</td>\n",
              "      <td>2316.020020</td>\n",
              "      <td>2375.000000</td>\n",
              "      <td>2375.000000</td>\n",
              "      <td>7930000</td>\n",
              "      <td>AMZN</td>\n",
              "    </tr>\n",
              "    <tr>\n",
              "      <th>2020-04-20</th>\n",
              "      <td>2389.949951</td>\n",
              "      <td>2444.979980</td>\n",
              "      <td>2386.050049</td>\n",
              "      <td>2393.610107</td>\n",
              "      <td>2393.610107</td>\n",
              "      <td>5770700</td>\n",
              "      <td>AMZN</td>\n",
              "    </tr>\n",
              "    <tr>\n",
              "      <th>2020-04-21</th>\n",
              "      <td>2416.610107</td>\n",
              "      <td>2428.310059</td>\n",
              "      <td>2279.659912</td>\n",
              "      <td>2328.120117</td>\n",
              "      <td>2328.120117</td>\n",
              "      <td>7476700</td>\n",
              "      <td>AMZN</td>\n",
              "    </tr>\n",
              "    <tr>\n",
              "      <th>2020-04-22</th>\n",
              "      <td>2369.000000</td>\n",
              "      <td>2394.000000</td>\n",
              "      <td>2351.000000</td>\n",
              "      <td>2363.489990</td>\n",
              "      <td>2363.489990</td>\n",
              "      <td>4218300</td>\n",
              "      <td>AMZN</td>\n",
              "    </tr>\n",
              "    <tr>\n",
              "      <th>2020-04-23</th>\n",
              "      <td>2399.979980</td>\n",
              "      <td>2424.219971</td>\n",
              "      <td>2382.080078</td>\n",
              "      <td>2399.449951</td>\n",
              "      <td>2399.449951</td>\n",
              "      <td>5066600</td>\n",
              "      <td>AMZN</td>\n",
              "    </tr>\n",
              "    <tr>\n",
              "      <th>2020-04-24</th>\n",
              "      <td>2417.000000</td>\n",
              "      <td>2420.429932</td>\n",
              "      <td>2382.000000</td>\n",
              "      <td>2410.219971</td>\n",
              "      <td>2410.219971</td>\n",
              "      <td>3831800</td>\n",
              "      <td>AMZN</td>\n",
              "    </tr>\n",
              "    <tr>\n",
              "      <th>2020-04-27</th>\n",
              "      <td>2443.199951</td>\n",
              "      <td>2444.879883</td>\n",
              "      <td>2363.000000</td>\n",
              "      <td>2376.000000</td>\n",
              "      <td>2376.000000</td>\n",
              "      <td>5645600</td>\n",
              "      <td>AMZN</td>\n",
              "    </tr>\n",
              "    <tr>\n",
              "      <th>2020-04-28</th>\n",
              "      <td>2372.100098</td>\n",
              "      <td>2373.500000</td>\n",
              "      <td>2306.000000</td>\n",
              "      <td>2314.080078</td>\n",
              "      <td>2314.080078</td>\n",
              "      <td>5269400</td>\n",
              "      <td>AMZN</td>\n",
              "    </tr>\n",
              "    <tr>\n",
              "      <th>2020-04-29</th>\n",
              "      <td>2330.010010</td>\n",
              "      <td>2391.889893</td>\n",
              "      <td>2310.000000</td>\n",
              "      <td>2372.709961</td>\n",
              "      <td>2372.709961</td>\n",
              "      <td>4591600</td>\n",
              "      <td>AMZN</td>\n",
              "    </tr>\n",
              "  </tbody>\n",
              "</table>\n",
              "</div>"
            ],
            "text/plain": [
              "                   open         high          low  ...     adjclose    volume  ticker\n",
              "2020-04-01  1932.969971  1944.959961  1893.000000  ...  1907.699951   4121900    AMZN\n",
              "2020-04-02  1901.640015  1927.530029  1890.000000  ...  1918.829956   4336000    AMZN\n",
              "2020-04-03  1911.150024  1926.329956  1889.150024  ...  1906.589966   3609900    AMZN\n",
              "2020-04-06  1936.000000  1998.520020  1930.020020  ...  1997.589966   5773200    AMZN\n",
              "2020-04-07  2017.109985  2035.719971  1997.619995  ...  2011.599976   5114000    AMZN\n",
              "2020-04-08  2021.000000  2044.000000  2011.150024  ...  2043.000000   3977300    AMZN\n",
              "2020-04-09  2044.300049  2053.000000  2017.660034  ...  2042.760010   4655600    AMZN\n",
              "2020-04-13  2040.000000  2180.000000  2038.000000  ...  2168.870117   6716700    AMZN\n",
              "2020-04-14  2200.469971  2292.000000  2186.209961  ...  2283.320068   8087200    AMZN\n",
              "2020-04-15  2257.679932  2333.370117  2245.000000  ...  2307.679932   6866600    AMZN\n",
              "2020-04-16  2346.000000  2461.000000  2335.000000  ...  2408.189941  12038200    AMZN\n",
              "2020-04-17  2372.330078  2400.000000  2316.020020  ...  2375.000000   7930000    AMZN\n",
              "2020-04-20  2389.949951  2444.979980  2386.050049  ...  2393.610107   5770700    AMZN\n",
              "2020-04-21  2416.610107  2428.310059  2279.659912  ...  2328.120117   7476700    AMZN\n",
              "2020-04-22  2369.000000  2394.000000  2351.000000  ...  2363.489990   4218300    AMZN\n",
              "2020-04-23  2399.979980  2424.219971  2382.080078  ...  2399.449951   5066600    AMZN\n",
              "2020-04-24  2417.000000  2420.429932  2382.000000  ...  2410.219971   3831800    AMZN\n",
              "2020-04-27  2443.199951  2444.879883  2363.000000  ...  2376.000000   5645600    AMZN\n",
              "2020-04-28  2372.100098  2373.500000  2306.000000  ...  2314.080078   5269400    AMZN\n",
              "2020-04-29  2330.010010  2391.889893  2310.000000  ...  2372.709961   4591600    AMZN\n",
              "\n",
              "[20 rows x 7 columns]"
            ]
          },
          "metadata": {
            "tags": []
          },
          "execution_count": 144
        }
      ]
    },
    {
      "cell_type": "code",
      "metadata": {
        "id": "Xa6zsc9UIUg2"
      },
      "source": [
        "# get list of 'amzn', 'ba', 'msft', 'aapl', 'goog' tickers\n",
        "sp = ['amzn', 'ba', 'msft', 'aapl', 'goog']#si.tickers_sp500()\n",
        " \n",
        "# pull data for each stock\n",
        "price_data = {ticker : si.get_data(ticker, start_date = \"04/01/2020\", end_date = \"04/30/2020\") for ticker in sp}"
      ],
      "execution_count": 145,
      "outputs": []
    },
    {
      "cell_type": "code",
      "metadata": {
        "id": "zBKsQz8GJVII"
      },
      "source": [
        "from functools import reduce\n",
        " \n",
        "combined = reduce(lambda x,y: x.append(y), price_data.values())"
      ],
      "execution_count": 146,
      "outputs": []
    },
    {
      "cell_type": "code",
      "metadata": {
        "id": "cGbRb3xuJXrJ",
        "outputId": "8157c8af-50fc-4414-cee9-310cdfdd141e",
        "colab": {
          "base_uri": "https://localhost:8080/",
          "height": 195
        }
      },
      "source": [
        "combined.head()"
      ],
      "execution_count": 147,
      "outputs": [
        {
          "output_type": "execute_result",
          "data": {
            "text/html": [
              "<div>\n",
              "<style scoped>\n",
              "    .dataframe tbody tr th:only-of-type {\n",
              "        vertical-align: middle;\n",
              "    }\n",
              "\n",
              "    .dataframe tbody tr th {\n",
              "        vertical-align: top;\n",
              "    }\n",
              "\n",
              "    .dataframe thead th {\n",
              "        text-align: right;\n",
              "    }\n",
              "</style>\n",
              "<table border=\"1\" class=\"dataframe\">\n",
              "  <thead>\n",
              "    <tr style=\"text-align: right;\">\n",
              "      <th></th>\n",
              "      <th>open</th>\n",
              "      <th>high</th>\n",
              "      <th>low</th>\n",
              "      <th>close</th>\n",
              "      <th>adjclose</th>\n",
              "      <th>volume</th>\n",
              "      <th>ticker</th>\n",
              "    </tr>\n",
              "  </thead>\n",
              "  <tbody>\n",
              "    <tr>\n",
              "      <th>2020-04-01</th>\n",
              "      <td>1932.969971</td>\n",
              "      <td>1944.959961</td>\n",
              "      <td>1893.000000</td>\n",
              "      <td>1907.699951</td>\n",
              "      <td>1907.699951</td>\n",
              "      <td>4121900</td>\n",
              "      <td>AMZN</td>\n",
              "    </tr>\n",
              "    <tr>\n",
              "      <th>2020-04-02</th>\n",
              "      <td>1901.640015</td>\n",
              "      <td>1927.530029</td>\n",
              "      <td>1890.000000</td>\n",
              "      <td>1918.829956</td>\n",
              "      <td>1918.829956</td>\n",
              "      <td>4336000</td>\n",
              "      <td>AMZN</td>\n",
              "    </tr>\n",
              "    <tr>\n",
              "      <th>2020-04-03</th>\n",
              "      <td>1911.150024</td>\n",
              "      <td>1926.329956</td>\n",
              "      <td>1889.150024</td>\n",
              "      <td>1906.589966</td>\n",
              "      <td>1906.589966</td>\n",
              "      <td>3609900</td>\n",
              "      <td>AMZN</td>\n",
              "    </tr>\n",
              "    <tr>\n",
              "      <th>2020-04-06</th>\n",
              "      <td>1936.000000</td>\n",
              "      <td>1998.520020</td>\n",
              "      <td>1930.020020</td>\n",
              "      <td>1997.589966</td>\n",
              "      <td>1997.589966</td>\n",
              "      <td>5773200</td>\n",
              "      <td>AMZN</td>\n",
              "    </tr>\n",
              "    <tr>\n",
              "      <th>2020-04-07</th>\n",
              "      <td>2017.109985</td>\n",
              "      <td>2035.719971</td>\n",
              "      <td>1997.619995</td>\n",
              "      <td>2011.599976</td>\n",
              "      <td>2011.599976</td>\n",
              "      <td>5114000</td>\n",
              "      <td>AMZN</td>\n",
              "    </tr>\n",
              "  </tbody>\n",
              "</table>\n",
              "</div>"
            ],
            "text/plain": [
              "                   open         high          low  ...     adjclose   volume  ticker\n",
              "2020-04-01  1932.969971  1944.959961  1893.000000  ...  1907.699951  4121900    AMZN\n",
              "2020-04-02  1901.640015  1927.530029  1890.000000  ...  1918.829956  4336000    AMZN\n",
              "2020-04-03  1911.150024  1926.329956  1889.150024  ...  1906.589966  3609900    AMZN\n",
              "2020-04-06  1936.000000  1998.520020  1930.020020  ...  1997.589966  5773200    AMZN\n",
              "2020-04-07  2017.109985  2035.719971  1997.619995  ...  2011.599976  5114000    AMZN\n",
              "\n",
              "[5 rows x 7 columns]"
            ]
          },
          "metadata": {
            "tags": []
          },
          "execution_count": 147
        }
      ]
    },
    {
      "cell_type": "code",
      "metadata": {
        "id": "Cn5BpIrQJj75",
        "outputId": "6c5f2ed8-153e-4c4f-8425-49e5ab058a9c",
        "colab": {
          "base_uri": "https://localhost:8080/",
          "height": 195
        }
      },
      "source": [
        "combined.tail()"
      ],
      "execution_count": 148,
      "outputs": [
        {
          "output_type": "execute_result",
          "data": {
            "text/html": [
              "<div>\n",
              "<style scoped>\n",
              "    .dataframe tbody tr th:only-of-type {\n",
              "        vertical-align: middle;\n",
              "    }\n",
              "\n",
              "    .dataframe tbody tr th {\n",
              "        vertical-align: top;\n",
              "    }\n",
              "\n",
              "    .dataframe thead th {\n",
              "        text-align: right;\n",
              "    }\n",
              "</style>\n",
              "<table border=\"1\" class=\"dataframe\">\n",
              "  <thead>\n",
              "    <tr style=\"text-align: right;\">\n",
              "      <th></th>\n",
              "      <th>open</th>\n",
              "      <th>high</th>\n",
              "      <th>low</th>\n",
              "      <th>close</th>\n",
              "      <th>adjclose</th>\n",
              "      <th>volume</th>\n",
              "      <th>ticker</th>\n",
              "    </tr>\n",
              "  </thead>\n",
              "  <tbody>\n",
              "    <tr>\n",
              "      <th>2020-04-23</th>\n",
              "      <td>1271.550049</td>\n",
              "      <td>1293.310059</td>\n",
              "      <td>1265.670044</td>\n",
              "      <td>1276.310059</td>\n",
              "      <td>1276.310059</td>\n",
              "      <td>1566200</td>\n",
              "      <td>GOOG</td>\n",
              "    </tr>\n",
              "    <tr>\n",
              "      <th>2020-04-24</th>\n",
              "      <td>1261.170044</td>\n",
              "      <td>1280.400024</td>\n",
              "      <td>1249.449951</td>\n",
              "      <td>1279.310059</td>\n",
              "      <td>1279.310059</td>\n",
              "      <td>1640400</td>\n",
              "      <td>GOOG</td>\n",
              "    </tr>\n",
              "    <tr>\n",
              "      <th>2020-04-27</th>\n",
              "      <td>1296.000000</td>\n",
              "      <td>1296.150024</td>\n",
              "      <td>1269.000000</td>\n",
              "      <td>1275.880005</td>\n",
              "      <td>1275.880005</td>\n",
              "      <td>1600600</td>\n",
              "      <td>GOOG</td>\n",
              "    </tr>\n",
              "    <tr>\n",
              "      <th>2020-04-28</th>\n",
              "      <td>1287.930054</td>\n",
              "      <td>1288.050049</td>\n",
              "      <td>1232.199951</td>\n",
              "      <td>1233.670044</td>\n",
              "      <td>1233.670044</td>\n",
              "      <td>2951300</td>\n",
              "      <td>GOOG</td>\n",
              "    </tr>\n",
              "    <tr>\n",
              "      <th>2020-04-29</th>\n",
              "      <td>1341.459961</td>\n",
              "      <td>1359.989990</td>\n",
              "      <td>1325.339966</td>\n",
              "      <td>1341.479980</td>\n",
              "      <td>1341.479980</td>\n",
              "      <td>3793600</td>\n",
              "      <td>GOOG</td>\n",
              "    </tr>\n",
              "  </tbody>\n",
              "</table>\n",
              "</div>"
            ],
            "text/plain": [
              "                   open         high          low  ...     adjclose   volume  ticker\n",
              "2020-04-23  1271.550049  1293.310059  1265.670044  ...  1276.310059  1566200    GOOG\n",
              "2020-04-24  1261.170044  1280.400024  1249.449951  ...  1279.310059  1640400    GOOG\n",
              "2020-04-27  1296.000000  1296.150024  1269.000000  ...  1275.880005  1600600    GOOG\n",
              "2020-04-28  1287.930054  1288.050049  1232.199951  ...  1233.670044  2951300    GOOG\n",
              "2020-04-29  1341.459961  1359.989990  1325.339966  ...  1341.479980  3793600    GOOG\n",
              "\n",
              "[5 rows x 7 columns]"
            ]
          },
          "metadata": {
            "tags": []
          },
          "execution_count": 148
        }
      ]
    },
    {
      "cell_type": "markdown",
      "metadata": {
        "id": "aEPfOW6K9mLm"
      },
      "source": [
        "매매일 현재 상승 상위100개종목"
      ]
    },
    {
      "cell_type": "code",
      "metadata": {
        "id": "xLV5Cm7x6pHG"
      },
      "source": [
        "si.get_day_gainers()"
      ],
      "execution_count": null,
      "outputs": []
    },
    {
      "cell_type": "markdown",
      "metadata": {
        "id": "soga1F-29ebU"
      },
      "source": [
        "매매일 현재 하락 상위100개종목"
      ]
    },
    {
      "cell_type": "code",
      "metadata": {
        "id": "xIpQF4cB6yaA"
      },
      "source": [
        "si.get_day_losers()"
      ],
      "execution_count": null,
      "outputs": []
    },
    {
      "cell_type": "markdown",
      "metadata": {
        "id": "xA4VymbK9ZQO"
      },
      "source": [
        "거래량 상위정보"
      ]
    },
    {
      "cell_type": "code",
      "metadata": {
        "id": "FrlTj5bt64-A"
      },
      "source": [
        "si.get_day_most_active()"
      ],
      "execution_count": null,
      "outputs": []
    },
    {
      "cell_type": "markdown",
      "metadata": {
        "id": "3F6DbNXt9Tmk"
      },
      "source": [
        "종목의 보유정보"
      ]
    },
    {
      "cell_type": "code",
      "metadata": {
        "id": "O-9coUW26-kf"
      },
      "source": [
        "si.get_holders('nflx')"
      ],
      "execution_count": null,
      "outputs": []
    },
    {
      "cell_type": "markdown",
      "metadata": {
        "id": "6l89azAT9Ixt"
      },
      "source": [
        "종목의 현재가격"
      ]
    },
    {
      "cell_type": "code",
      "metadata": {
        "id": "JvcUiMws7Eo4",
        "outputId": "2d9c5436-f3c2-4450-a28c-0e4c408f4f2d",
        "colab": {
          "base_uri": "https://localhost:8080/"
        }
      },
      "source": [
        "si.get_live_price('nflx')"
      ],
      "execution_count": 150,
      "outputs": [
        {
          "output_type": "execute_result",
          "data": {
            "text/plain": [
              "486.7699890136719"
            ]
          },
          "metadata": {
            "tags": []
          },
          "execution_count": 150
        }
      ]
    },
    {
      "cell_type": "markdown",
      "metadata": {
        "id": "jFSBor8E9Ffu"
      },
      "source": [
        "종목의 호가정보"
      ]
    },
    {
      "cell_type": "code",
      "metadata": {
        "id": "S_bVtTAo7JVw",
        "outputId": "53d3d012-76d8-4f09-89bb-738b4771aed9",
        "colab": {
          "base_uri": "https://localhost:8080/"
        }
      },
      "source": [
        "si.get_quote_table('aapl')"
      ],
      "execution_count": 151,
      "outputs": [
        {
          "output_type": "execute_result",
          "data": {
            "text/plain": [
              "{'1y Target Est': 123.11,\n",
              " '52 Week Range': '53.15 - 137.98',\n",
              " 'Ask': '119.00 x 800',\n",
              " 'Avg. Volume': 160946870.0,\n",
              " 'Beta (5Y Monthly)': 1.35,\n",
              " 'Bid': '118.95 x 900',\n",
              " \"Day's Range\": '118.57 - 120.53',\n",
              " 'EPS (TTM)': 3.28,\n",
              " 'Earnings Date': 'Jan 26, 2021 - Feb 01, 2021',\n",
              " 'Ex-Dividend Date': 'Nov 06, 2020',\n",
              " 'Forward Dividend & Yield': '0.82 (0.69%)',\n",
              " 'Market Cap': '2.027T',\n",
              " 'Open': 119.62,\n",
              " 'PE Ratio (TTM)': 36.34,\n",
              " 'Previous Close': 119.49,\n",
              " 'Quote Price': 119.20999908447266,\n",
              " 'Volume': 103350674.0}"
            ]
          },
          "metadata": {
            "tags": []
          },
          "execution_count": 151
        }
      ]
    },
    {
      "cell_type": "markdown",
      "metadata": {
        "id": "3Rf0w6qq9APv"
      },
      "source": [
        "종목의 통계정보"
      ]
    },
    {
      "cell_type": "code",
      "metadata": {
        "id": "JQFB9EEB7O3v",
        "outputId": "4e385b71-f345-4b14-ed8f-8198b136d18b",
        "colab": {
          "base_uri": "https://localhost:8080/",
          "height": 1000
        }
      },
      "source": [
        "si.get_stats('nflx')"
      ],
      "execution_count": 152,
      "outputs": [
        {
          "output_type": "execute_result",
          "data": {
            "text/html": [
              "<div>\n",
              "<style scoped>\n",
              "    .dataframe tbody tr th:only-of-type {\n",
              "        vertical-align: middle;\n",
              "    }\n",
              "\n",
              "    .dataframe tbody tr th {\n",
              "        vertical-align: top;\n",
              "    }\n",
              "\n",
              "    .dataframe thead th {\n",
              "        text-align: right;\n",
              "    }\n",
              "</style>\n",
              "<table border=\"1\" class=\"dataframe\">\n",
              "  <thead>\n",
              "    <tr style=\"text-align: right;\">\n",
              "      <th></th>\n",
              "      <th>Attribute</th>\n",
              "      <th>Value</th>\n",
              "    </tr>\n",
              "  </thead>\n",
              "  <tbody>\n",
              "    <tr>\n",
              "      <th>0</th>\n",
              "      <td>Beta (5Y Monthly)</td>\n",
              "      <td>1.02</td>\n",
              "    </tr>\n",
              "    <tr>\n",
              "      <th>1</th>\n",
              "      <td>52-Week Change 3</td>\n",
              "      <td>69.45%</td>\n",
              "    </tr>\n",
              "    <tr>\n",
              "      <th>2</th>\n",
              "      <td>S&amp;P500 52-Week Change 3</td>\n",
              "      <td>15.37%</td>\n",
              "    </tr>\n",
              "    <tr>\n",
              "      <th>3</th>\n",
              "      <td>52 Week High 3</td>\n",
              "      <td>575.37</td>\n",
              "    </tr>\n",
              "    <tr>\n",
              "      <th>4</th>\n",
              "      <td>52 Week Low 3</td>\n",
              "      <td>283.22</td>\n",
              "    </tr>\n",
              "    <tr>\n",
              "      <th>5</th>\n",
              "      <td>50-Day Moving Average 3</td>\n",
              "      <td>505.06</td>\n",
              "    </tr>\n",
              "    <tr>\n",
              "      <th>6</th>\n",
              "      <td>200-Day Moving Average 3</td>\n",
              "      <td>479.32</td>\n",
              "    </tr>\n",
              "    <tr>\n",
              "      <th>7</th>\n",
              "      <td>Avg Vol (3 month) 3</td>\n",
              "      <td>6.14M</td>\n",
              "    </tr>\n",
              "    <tr>\n",
              "      <th>8</th>\n",
              "      <td>Avg Vol (10 day) 3</td>\n",
              "      <td>5.88M</td>\n",
              "    </tr>\n",
              "    <tr>\n",
              "      <th>9</th>\n",
              "      <td>Shares Outstanding 5</td>\n",
              "      <td>441.8M</td>\n",
              "    </tr>\n",
              "    <tr>\n",
              "      <th>10</th>\n",
              "      <td>Float</td>\n",
              "      <td>435.48M</td>\n",
              "    </tr>\n",
              "    <tr>\n",
              "      <th>11</th>\n",
              "      <td>% Held by Insiders 1</td>\n",
              "      <td>1.64%</td>\n",
              "    </tr>\n",
              "    <tr>\n",
              "      <th>12</th>\n",
              "      <td>% Held by Institutions 1</td>\n",
              "      <td>82.90%</td>\n",
              "    </tr>\n",
              "    <tr>\n",
              "      <th>13</th>\n",
              "      <td>Shares Short (Oct 29, 2020) 4</td>\n",
              "      <td>10.42M</td>\n",
              "    </tr>\n",
              "    <tr>\n",
              "      <th>14</th>\n",
              "      <td>Short Ratio (Oct 29, 2020) 4</td>\n",
              "      <td>1.51</td>\n",
              "    </tr>\n",
              "    <tr>\n",
              "      <th>15</th>\n",
              "      <td>Short % of Float (Oct 29, 2020) 4</td>\n",
              "      <td>2.41%</td>\n",
              "    </tr>\n",
              "    <tr>\n",
              "      <th>16</th>\n",
              "      <td>Short % of Shares Outstanding (Oct 29, 2020) 4</td>\n",
              "      <td>2.36%</td>\n",
              "    </tr>\n",
              "    <tr>\n",
              "      <th>17</th>\n",
              "      <td>Shares Short (prior month Sep 29, 2020) 4</td>\n",
              "      <td>9.44M</td>\n",
              "    </tr>\n",
              "    <tr>\n",
              "      <th>18</th>\n",
              "      <td>Forward Annual Dividend Rate 4</td>\n",
              "      <td>NaN</td>\n",
              "    </tr>\n",
              "    <tr>\n",
              "      <th>19</th>\n",
              "      <td>Forward Annual Dividend Yield 4</td>\n",
              "      <td>NaN</td>\n",
              "    </tr>\n",
              "    <tr>\n",
              "      <th>20</th>\n",
              "      <td>Trailing Annual Dividend Rate 3</td>\n",
              "      <td>NaN</td>\n",
              "    </tr>\n",
              "    <tr>\n",
              "      <th>21</th>\n",
              "      <td>Trailing Annual Dividend Yield 3</td>\n",
              "      <td>NaN</td>\n",
              "    </tr>\n",
              "    <tr>\n",
              "      <th>22</th>\n",
              "      <td>5 Year Average Dividend Yield 4</td>\n",
              "      <td>NaN</td>\n",
              "    </tr>\n",
              "    <tr>\n",
              "      <th>23</th>\n",
              "      <td>Payout Ratio 4</td>\n",
              "      <td>0.00%</td>\n",
              "    </tr>\n",
              "    <tr>\n",
              "      <th>24</th>\n",
              "      <td>Dividend Date 3</td>\n",
              "      <td>NaN</td>\n",
              "    </tr>\n",
              "    <tr>\n",
              "      <th>25</th>\n",
              "      <td>Ex-Dividend Date 4</td>\n",
              "      <td>NaN</td>\n",
              "    </tr>\n",
              "    <tr>\n",
              "      <th>26</th>\n",
              "      <td>Last Split Factor 2</td>\n",
              "      <td>7:1</td>\n",
              "    </tr>\n",
              "    <tr>\n",
              "      <th>27</th>\n",
              "      <td>Last Split Date 3</td>\n",
              "      <td>Jul 14, 2015</td>\n",
              "    </tr>\n",
              "    <tr>\n",
              "      <th>28</th>\n",
              "      <td>Fiscal Year Ends</td>\n",
              "      <td>Dec 30, 2019</td>\n",
              "    </tr>\n",
              "    <tr>\n",
              "      <th>29</th>\n",
              "      <td>Most Recent Quarter (mrq)</td>\n",
              "      <td>Sep 29, 2020</td>\n",
              "    </tr>\n",
              "    <tr>\n",
              "      <th>30</th>\n",
              "      <td>Profit Margin</td>\n",
              "      <td>11.78%</td>\n",
              "    </tr>\n",
              "    <tr>\n",
              "      <th>31</th>\n",
              "      <td>Operating Margin (ttm)</td>\n",
              "      <td>17.17%</td>\n",
              "    </tr>\n",
              "    <tr>\n",
              "      <th>32</th>\n",
              "      <td>Return on Assets (ttm)</td>\n",
              "      <td>7.35%</td>\n",
              "    </tr>\n",
              "    <tr>\n",
              "      <th>33</th>\n",
              "      <td>Return on Equity (ttm)</td>\n",
              "      <td>32.64%</td>\n",
              "    </tr>\n",
              "    <tr>\n",
              "      <th>34</th>\n",
              "      <td>Revenue (ttm)</td>\n",
              "      <td>23.82B</td>\n",
              "    </tr>\n",
              "    <tr>\n",
              "      <th>35</th>\n",
              "      <td>Revenue Per Share (ttm)</td>\n",
              "      <td>54.13</td>\n",
              "    </tr>\n",
              "    <tr>\n",
              "      <th>36</th>\n",
              "      <td>Quarterly Revenue Growth (yoy)</td>\n",
              "      <td>22.70%</td>\n",
              "    </tr>\n",
              "    <tr>\n",
              "      <th>37</th>\n",
              "      <td>Gross Profit (ttm)</td>\n",
              "      <td>7.72B</td>\n",
              "    </tr>\n",
              "    <tr>\n",
              "      <th>38</th>\n",
              "      <td>EBITDA</td>\n",
              "      <td>4.2B</td>\n",
              "    </tr>\n",
              "    <tr>\n",
              "      <th>39</th>\n",
              "      <td>Net Income Avi to Common (ttm)</td>\n",
              "      <td>2.81B</td>\n",
              "    </tr>\n",
              "    <tr>\n",
              "      <th>40</th>\n",
              "      <td>Diluted EPS (ttm)</td>\n",
              "      <td>6.19</td>\n",
              "    </tr>\n",
              "    <tr>\n",
              "      <th>41</th>\n",
              "      <td>Quarterly Earnings Growth (yoy)</td>\n",
              "      <td>18.70%</td>\n",
              "    </tr>\n",
              "    <tr>\n",
              "      <th>42</th>\n",
              "      <td>Total Cash (mrq)</td>\n",
              "      <td>8.39B</td>\n",
              "    </tr>\n",
              "    <tr>\n",
              "      <th>43</th>\n",
              "      <td>Total Cash Per Share (mrq)</td>\n",
              "      <td>19</td>\n",
              "    </tr>\n",
              "    <tr>\n",
              "      <th>44</th>\n",
              "      <td>Total Debt (mrq)</td>\n",
              "      <td>18.14B</td>\n",
              "    </tr>\n",
              "    <tr>\n",
              "      <th>45</th>\n",
              "      <td>Total Debt/Equity (mrq)</td>\n",
              "      <td>175.52</td>\n",
              "    </tr>\n",
              "    <tr>\n",
              "      <th>46</th>\n",
              "      <td>Current Ratio (mrq)</td>\n",
              "      <td>1.24</td>\n",
              "    </tr>\n",
              "    <tr>\n",
              "      <th>47</th>\n",
              "      <td>Book Value Per Share (mrq)</td>\n",
              "      <td>23.39</td>\n",
              "    </tr>\n",
              "    <tr>\n",
              "      <th>48</th>\n",
              "      <td>Operating Cash Flow (ttm)</td>\n",
              "      <td>1.1B</td>\n",
              "    </tr>\n",
              "    <tr>\n",
              "      <th>49</th>\n",
              "      <td>Levered Free Cash Flow (ttm)</td>\n",
              "      <td>12.12B</td>\n",
              "    </tr>\n",
              "  </tbody>\n",
              "</table>\n",
              "</div>"
            ],
            "text/plain": [
              "                                         Attribute         Value\n",
              "0                                Beta (5Y Monthly)          1.02\n",
              "1                                 52-Week Change 3        69.45%\n",
              "2                          S&P500 52-Week Change 3        15.37%\n",
              "3                                   52 Week High 3        575.37\n",
              "4                                    52 Week Low 3        283.22\n",
              "5                          50-Day Moving Average 3        505.06\n",
              "6                         200-Day Moving Average 3        479.32\n",
              "7                              Avg Vol (3 month) 3         6.14M\n",
              "8                               Avg Vol (10 day) 3         5.88M\n",
              "9                             Shares Outstanding 5        441.8M\n",
              "10                                           Float       435.48M\n",
              "11                            % Held by Insiders 1         1.64%\n",
              "12                        % Held by Institutions 1        82.90%\n",
              "13                   Shares Short (Oct 29, 2020) 4        10.42M\n",
              "14                    Short Ratio (Oct 29, 2020) 4          1.51\n",
              "15               Short % of Float (Oct 29, 2020) 4         2.41%\n",
              "16  Short % of Shares Outstanding (Oct 29, 2020) 4         2.36%\n",
              "17       Shares Short (prior month Sep 29, 2020) 4         9.44M\n",
              "18                  Forward Annual Dividend Rate 4           NaN\n",
              "19                 Forward Annual Dividend Yield 4           NaN\n",
              "20                 Trailing Annual Dividend Rate 3           NaN\n",
              "21                Trailing Annual Dividend Yield 3           NaN\n",
              "22                 5 Year Average Dividend Yield 4           NaN\n",
              "23                                  Payout Ratio 4         0.00%\n",
              "24                                 Dividend Date 3           NaN\n",
              "25                              Ex-Dividend Date 4           NaN\n",
              "26                             Last Split Factor 2           7:1\n",
              "27                               Last Split Date 3  Jul 14, 2015\n",
              "28                                Fiscal Year Ends  Dec 30, 2019\n",
              "29                       Most Recent Quarter (mrq)  Sep 29, 2020\n",
              "30                                   Profit Margin        11.78%\n",
              "31                          Operating Margin (ttm)        17.17%\n",
              "32                          Return on Assets (ttm)         7.35%\n",
              "33                          Return on Equity (ttm)        32.64%\n",
              "34                                   Revenue (ttm)        23.82B\n",
              "35                         Revenue Per Share (ttm)         54.13\n",
              "36                  Quarterly Revenue Growth (yoy)        22.70%\n",
              "37                              Gross Profit (ttm)         7.72B\n",
              "38                                          EBITDA          4.2B\n",
              "39                  Net Income Avi to Common (ttm)         2.81B\n",
              "40                               Diluted EPS (ttm)          6.19\n",
              "41                 Quarterly Earnings Growth (yoy)        18.70%\n",
              "42                                Total Cash (mrq)         8.39B\n",
              "43                      Total Cash Per Share (mrq)            19\n",
              "44                                Total Debt (mrq)        18.14B\n",
              "45                         Total Debt/Equity (mrq)        175.52\n",
              "46                             Current Ratio (mrq)          1.24\n",
              "47                      Book Value Per Share (mrq)         23.39\n",
              "48                       Operating Cash Flow (ttm)          1.1B\n",
              "49                    Levered Free Cash Flow (ttm)        12.12B"
            ]
          },
          "metadata": {
            "tags": []
          },
          "execution_count": 152
        }
      ]
    },
    {
      "cell_type": "code",
      "metadata": {
        "id": "q11x1-gEvg2I",
        "outputId": "87bd28a8-85bd-4c5f-f80e-0727db0d952d",
        "colab": {
          "base_uri": "https://localhost:8080/",
          "height": 314
        }
      },
      "source": [
        "si.get_stats_valuation('nflx')"
      ],
      "execution_count": 154,
      "outputs": [
        {
          "output_type": "execute_result",
          "data": {
            "text/html": [
              "<div>\n",
              "<style scoped>\n",
              "    .dataframe tbody tr th:only-of-type {\n",
              "        vertical-align: middle;\n",
              "    }\n",
              "\n",
              "    .dataframe tbody tr th {\n",
              "        vertical-align: top;\n",
              "    }\n",
              "\n",
              "    .dataframe thead th {\n",
              "        text-align: right;\n",
              "    }\n",
              "</style>\n",
              "<table border=\"1\" class=\"dataframe\">\n",
              "  <thead>\n",
              "    <tr style=\"text-align: right;\">\n",
              "      <th></th>\n",
              "      <th>Unnamed: 0</th>\n",
              "      <th>As of Date: 11/11/2020Current</th>\n",
              "      <th>9/30/2020</th>\n",
              "      <th>6/30/2020</th>\n",
              "      <th>3/31/2020</th>\n",
              "      <th>12/31/2019</th>\n",
              "      <th>9/30/2019</th>\n",
              "    </tr>\n",
              "  </thead>\n",
              "  <tbody>\n",
              "    <tr>\n",
              "      <th>0</th>\n",
              "      <td>Market Cap (intraday) 5</td>\n",
              "      <td>212.17B</td>\n",
              "      <td>220.91B</td>\n",
              "      <td>200.68B</td>\n",
              "      <td>165.14B</td>\n",
              "      <td>141.98B</td>\n",
              "      <td>117.28B</td>\n",
              "    </tr>\n",
              "    <tr>\n",
              "      <th>1</th>\n",
              "      <td>Enterprise Value 3</td>\n",
              "      <td>219.82B</td>\n",
              "      <td>229.55B</td>\n",
              "      <td>210.20B</td>\n",
              "      <td>174.88B</td>\n",
              "      <td>149.98B</td>\n",
              "      <td>124.87B</td>\n",
              "    </tr>\n",
              "    <tr>\n",
              "      <th>2</th>\n",
              "      <td>Trailing P/E</td>\n",
              "      <td>77.58</td>\n",
              "      <td>84.46</td>\n",
              "      <td>92.11</td>\n",
              "      <td>90.92</td>\n",
              "      <td>103.71</td>\n",
              "      <td>105.36</td>\n",
              "    </tr>\n",
              "    <tr>\n",
              "      <th>3</th>\n",
              "      <td>Forward P/E 1</td>\n",
              "      <td>55.25</td>\n",
              "      <td>57.47</td>\n",
              "      <td>71.94</td>\n",
              "      <td>62.50</td>\n",
              "      <td>61.73</td>\n",
              "      <td>48.78</td>\n",
              "    </tr>\n",
              "    <tr>\n",
              "      <th>4</th>\n",
              "      <td>PEG Ratio (5 yr expected) 1</td>\n",
              "      <td>2.07</td>\n",
              "      <td>2.18</td>\n",
              "      <td>3.02</td>\n",
              "      <td>2.75</td>\n",
              "      <td>2.23</td>\n",
              "      <td>1.76</td>\n",
              "    </tr>\n",
              "    <tr>\n",
              "      <th>5</th>\n",
              "      <td>Price/Sales (ttm)</td>\n",
              "      <td>9.14</td>\n",
              "      <td>10.00</td>\n",
              "      <td>9.61</td>\n",
              "      <td>8.42</td>\n",
              "      <td>7.74</td>\n",
              "      <td>6.86</td>\n",
              "    </tr>\n",
              "    <tr>\n",
              "      <th>6</th>\n",
              "      <td>Price/Book (mrq)</td>\n",
              "      <td>20.53</td>\n",
              "      <td>23.67</td>\n",
              "      <td>23.86</td>\n",
              "      <td>21.78</td>\n",
              "      <td>20.69</td>\n",
              "      <td>19.21</td>\n",
              "    </tr>\n",
              "    <tr>\n",
              "      <th>7</th>\n",
              "      <td>Enterprise Value/Revenue 3</td>\n",
              "      <td>9.23</td>\n",
              "      <td>35.67</td>\n",
              "      <td>34.19</td>\n",
              "      <td>30.32</td>\n",
              "      <td>27.43</td>\n",
              "      <td>23.81</td>\n",
              "    </tr>\n",
              "    <tr>\n",
              "      <th>8</th>\n",
              "      <td>Enterprise Value/EBITDA 6</td>\n",
              "      <td>15.19</td>\n",
              "      <td>56.30</td>\n",
              "      <td>52.66</td>\n",
              "      <td>50.08</td>\n",
              "      <td>51.51</td>\n",
              "      <td>35.82</td>\n",
              "    </tr>\n",
              "  </tbody>\n",
              "</table>\n",
              "</div>"
            ],
            "text/plain": [
              "                    Unnamed: 0  ... 9/30/2019\n",
              "0      Market Cap (intraday) 5  ...   117.28B\n",
              "1           Enterprise Value 3  ...   124.87B\n",
              "2                 Trailing P/E  ...    105.36\n",
              "3                Forward P/E 1  ...     48.78\n",
              "4  PEG Ratio (5 yr expected) 1  ...      1.76\n",
              "5            Price/Sales (ttm)  ...      6.86\n",
              "6             Price/Book (mrq)  ...     19.21\n",
              "7   Enterprise Value/Revenue 3  ...     23.81\n",
              "8    Enterprise Value/EBITDA 6  ...     35.82\n",
              "\n",
              "[9 rows x 7 columns]"
            ]
          },
          "metadata": {
            "tags": []
          },
          "execution_count": 154
        }
      ]
    },
    {
      "cell_type": "markdown",
      "metadata": {
        "id": "QuZ6fzSk85mO"
      },
      "source": [
        "다우존스지수 종목의 티커"
      ]
    },
    {
      "cell_type": "code",
      "metadata": {
        "id": "ICFIxrrm7r8m",
        "outputId": "bab79c7a-9983-4956-9e0e-a8c05e19e3a1",
        "colab": {
          "base_uri": "https://localhost:8080/"
        }
      },
      "source": [
        "si.tickers_dow()"
      ],
      "execution_count": 155,
      "outputs": [
        {
          "output_type": "execute_result",
          "data": {
            "text/plain": [
              "['AAPL',\n",
              " 'AMGN',\n",
              " 'AXP',\n",
              " 'BA',\n",
              " 'CAT',\n",
              " 'CRM',\n",
              " 'CSCO',\n",
              " 'CVX',\n",
              " 'DIS',\n",
              " 'DOW',\n",
              " 'GS',\n",
              " 'HD',\n",
              " 'HON',\n",
              " 'IBM',\n",
              " 'INTC',\n",
              " 'JNJ',\n",
              " 'JPM',\n",
              " 'KO',\n",
              " 'MCD',\n",
              " 'MMM',\n",
              " 'MRK',\n",
              " 'MSFT',\n",
              " 'NKE',\n",
              " 'PG',\n",
              " 'TRV',\n",
              " 'UNH',\n",
              " 'V',\n",
              " 'VZ',\n",
              " 'WBA',\n",
              " 'WMT']"
            ]
          },
          "metadata": {
            "tags": []
          },
          "execution_count": 155
        }
      ]
    },
    {
      "cell_type": "markdown",
      "metadata": {
        "id": "E19vg7MP8sXW"
      },
      "source": [
        "나스닥종목의 티커"
      ]
    },
    {
      "cell_type": "code",
      "metadata": {
        "id": "AXN1GoCV7yOf"
      },
      "source": [
        "si.tickers_nasdaq()"
      ],
      "execution_count": null,
      "outputs": []
    },
    {
      "cell_type": "markdown",
      "metadata": {
        "id": "czfgfsHE8laj"
      },
      "source": [
        "기타 종목의 티커"
      ]
    },
    {
      "cell_type": "code",
      "metadata": {
        "id": "4_Dy1mVh72D2"
      },
      "source": [
        "si.tickers_other()"
      ],
      "execution_count": null,
      "outputs": []
    },
    {
      "cell_type": "markdown",
      "metadata": {
        "id": "DaKOYmUA8V3d"
      },
      "source": [
        "S&P 500 구성종목을\n",
        "돌려준다( https://en.wikipedia.org/wiki/List_of_S%26P_500_companies )"
      ]
    },
    {
      "cell_type": "code",
      "metadata": {
        "id": "ZoHpfkcM8Lw_"
      },
      "source": [
        "si.tickers_sp500()"
      ],
      "execution_count": null,
      "outputs": []
    },
    {
      "cell_type": "markdown",
      "metadata": {
        "id": "Nv4qGtNE_XKa"
      },
      "source": [
        "암호화 화폐 거래정보"
      ]
    },
    {
      "cell_type": "code",
      "metadata": {
        "id": "9z8i73e1_HMU"
      },
      "source": [
        "si.get_top_crypto()"
      ],
      "execution_count": null,
      "outputs": []
    },
    {
      "cell_type": "markdown",
      "metadata": {
        "id": "gqLWE69mxFHw"
      },
      "source": [
        "###8.4.2\t재무비율 구하기: 주가수익률 비율 "
      ]
    },
    {
      "cell_type": "markdown",
      "metadata": {
        "id": "RmI_FnFmH3KB"
      },
      "source": [
        "개별종목의 호가정보는 get_quote_table를 사용하여 구한다"
      ]
    },
    {
      "cell_type": "code",
      "metadata": {
        "id": "I2TZka_3_nOA"
      },
      "source": [
        "quote = si.get_quote_table(\"aapl\")"
      ],
      "execution_count": 25,
      "outputs": []
    },
    {
      "cell_type": "markdown",
      "metadata": {
        "id": "N9CBMPtzHz0P"
      },
      "source": [
        "get_quote_table 메서드는 다음과 같이 여러 정보가 담긴 딕셔너리를 돌려준다."
      ]
    },
    {
      "cell_type": "code",
      "metadata": {
        "id": "I8EWPMJT_sQm"
      },
      "source": [
        "quote"
      ],
      "execution_count": null,
      "outputs": []
    },
    {
      "cell_type": "markdown",
      "metadata": {
        "id": "1BaJQOmOHvag"
      },
      "source": [
        "다음과 같이 키 값(여기선 \"PE Ratio (TTM)\")을 사용하여 값을 얻을 수 있다.\n"
      ]
    },
    {
      "cell_type": "code",
      "metadata": {
        "id": "Yz-p4i1O_vqA",
        "outputId": "98198646-9cac-4763-a206-40240a0edac8",
        "colab": {
          "base_uri": "https://localhost:8080/"
        }
      },
      "source": [
        "quote[\"PE Ratio (TTM)\"] # 22.71"
      ],
      "execution_count": 27,
      "outputs": [
        {
          "output_type": "execute_result",
          "data": {
            "text/plain": [
              "36.34"
            ]
          },
          "metadata": {
            "tags": []
          },
          "execution_count": 27
        }
      ]
    },
    {
      "cell_type": "markdown",
      "metadata": {
        "id": "RFjPjqntHpqB"
      },
      "source": [
        "PER을 구하는 또 다른 방법은 get_stats_valuation 메서드를 이용하는 것이다. \n",
        "\n",
        "이것은 야후파이낸스의 종목 통계섹션의 내용이다. "
      ]
    },
    {
      "cell_type": "code",
      "metadata": {
        "id": "-xEoJilSARf8"
      },
      "source": [
        "val = si.get_stats_valuation(\"aapl\")"
      ],
      "execution_count": 156,
      "outputs": []
    },
    {
      "cell_type": "code",
      "metadata": {
        "id": "iY4ejDDROmkk",
        "outputId": "ab6a9902-0ed2-4fe6-d455-3af7ebd537d6",
        "colab": {
          "base_uri": "https://localhost:8080/",
          "height": 314
        }
      },
      "source": [
        "val"
      ],
      "execution_count": 157,
      "outputs": [
        {
          "output_type": "execute_result",
          "data": {
            "text/html": [
              "<div>\n",
              "<style scoped>\n",
              "    .dataframe tbody tr th:only-of-type {\n",
              "        vertical-align: middle;\n",
              "    }\n",
              "\n",
              "    .dataframe tbody tr th {\n",
              "        vertical-align: top;\n",
              "    }\n",
              "\n",
              "    .dataframe thead th {\n",
              "        text-align: right;\n",
              "    }\n",
              "</style>\n",
              "<table border=\"1\" class=\"dataframe\">\n",
              "  <thead>\n",
              "    <tr style=\"text-align: right;\">\n",
              "      <th></th>\n",
              "      <th>Unnamed: 0</th>\n",
              "      <th>As of Date: 11/8/2020Current</th>\n",
              "      <th>9/30/2020</th>\n",
              "      <th>6/30/2020</th>\n",
              "      <th>3/31/2020</th>\n",
              "      <th>12/31/2019</th>\n",
              "      <th>9/30/2019</th>\n",
              "    </tr>\n",
              "  </thead>\n",
              "  <tbody>\n",
              "    <tr>\n",
              "      <th>0</th>\n",
              "      <td>Market Cap (intraday) 5</td>\n",
              "      <td>2.02T</td>\n",
              "      <td>1.97T</td>\n",
              "      <td>1.56T</td>\n",
              "      <td>1.10T</td>\n",
              "      <td>1.29T</td>\n",
              "      <td>995.15B</td>\n",
              "    </tr>\n",
              "    <tr>\n",
              "      <th>1</th>\n",
              "      <td>Enterprise Value 3</td>\n",
              "      <td>2.04T</td>\n",
              "      <td>1.99T</td>\n",
              "      <td>1.58T</td>\n",
              "      <td>1.10T</td>\n",
              "      <td>1.30T</td>\n",
              "      <td>1.01T</td>\n",
              "    </tr>\n",
              "    <tr>\n",
              "      <th>2</th>\n",
              "      <td>Trailing P/E</td>\n",
              "      <td>36.19</td>\n",
              "      <td>35.12</td>\n",
              "      <td>28.52</td>\n",
              "      <td>20.02</td>\n",
              "      <td>24.70</td>\n",
              "      <td>19.01</td>\n",
              "    </tr>\n",
              "    <tr>\n",
              "      <th>3</th>\n",
              "      <td>Forward P/E 1</td>\n",
              "      <td>29.94</td>\n",
              "      <td>30.12</td>\n",
              "      <td>24.33</td>\n",
              "      <td>19.65</td>\n",
              "      <td>22.17</td>\n",
              "      <td>17.27</td>\n",
              "    </tr>\n",
              "    <tr>\n",
              "      <th>4</th>\n",
              "      <td>PEG Ratio (5 yr expected) 1</td>\n",
              "      <td>2.98</td>\n",
              "      <td>2.86</td>\n",
              "      <td>2.02</td>\n",
              "      <td>1.58</td>\n",
              "      <td>2.03</td>\n",
              "      <td>2.04</td>\n",
              "    </tr>\n",
              "    <tr>\n",
              "      <th>5</th>\n",
              "      <td>Price/Sales (ttm)</td>\n",
              "      <td>7.58</td>\n",
              "      <td>7.50</td>\n",
              "      <td>6.12</td>\n",
              "      <td>4.34</td>\n",
              "      <td>5.25</td>\n",
              "      <td>4.09</td>\n",
              "    </tr>\n",
              "    <tr>\n",
              "      <th>6</th>\n",
              "      <td>Price/Book (mrq)</td>\n",
              "      <td>30.88</td>\n",
              "      <td>27.20</td>\n",
              "      <td>19.93</td>\n",
              "      <td>12.28</td>\n",
              "      <td>14.23</td>\n",
              "      <td>10.32</td>\n",
              "    </tr>\n",
              "    <tr>\n",
              "      <th>7</th>\n",
              "      <td>Enterprise Value/Revenue 3</td>\n",
              "      <td>7.43</td>\n",
              "      <td>30.69</td>\n",
              "      <td>26.44</td>\n",
              "      <td>18.88</td>\n",
              "      <td>14.11</td>\n",
              "      <td>15.76</td>\n",
              "    </tr>\n",
              "    <tr>\n",
              "      <th>8</th>\n",
              "      <td>Enterprise Value/EBITDA 6</td>\n",
              "      <td>25.17</td>\n",
              "      <td>108.89</td>\n",
              "      <td>95.15</td>\n",
              "      <td>66.00</td>\n",
              "      <td>43.87</td>\n",
              "      <td>50.16</td>\n",
              "    </tr>\n",
              "  </tbody>\n",
              "</table>\n",
              "</div>"
            ],
            "text/plain": [
              "                    Unnamed: 0  ... 9/30/2019\n",
              "0      Market Cap (intraday) 5  ...   995.15B\n",
              "1           Enterprise Value 3  ...     1.01T\n",
              "2                 Trailing P/E  ...     19.01\n",
              "3                Forward P/E 1  ...     17.27\n",
              "4  PEG Ratio (5 yr expected) 1  ...      2.04\n",
              "5            Price/Sales (ttm)  ...      4.09\n",
              "6             Price/Book (mrq)  ...     10.32\n",
              "7   Enterprise Value/Revenue 3  ...     15.76\n",
              "8    Enterprise Value/EBITDA 6  ...     50.16\n",
              "\n",
              "[9 rows x 7 columns]"
            ]
          },
          "metadata": {
            "tags": []
          },
          "execution_count": 157
        }
      ]
    },
    {
      "cell_type": "code",
      "metadata": {
        "id": "VmEjKaAoOokk",
        "outputId": "0e453931-daa9-49d9-d1b2-660dbe470801",
        "colab": {
          "base_uri": "https://localhost:8080/",
          "height": 314
        }
      },
      "source": [
        "val = val.iloc[:,:2]\n",
        "val.columns = [\"Attribute\", \"Recent\"]\n",
        "val"
      ],
      "execution_count": 158,
      "outputs": [
        {
          "output_type": "execute_result",
          "data": {
            "text/html": [
              "<div>\n",
              "<style scoped>\n",
              "    .dataframe tbody tr th:only-of-type {\n",
              "        vertical-align: middle;\n",
              "    }\n",
              "\n",
              "    .dataframe tbody tr th {\n",
              "        vertical-align: top;\n",
              "    }\n",
              "\n",
              "    .dataframe thead th {\n",
              "        text-align: right;\n",
              "    }\n",
              "</style>\n",
              "<table border=\"1\" class=\"dataframe\">\n",
              "  <thead>\n",
              "    <tr style=\"text-align: right;\">\n",
              "      <th></th>\n",
              "      <th>Attribute</th>\n",
              "      <th>Recent</th>\n",
              "    </tr>\n",
              "  </thead>\n",
              "  <tbody>\n",
              "    <tr>\n",
              "      <th>0</th>\n",
              "      <td>Market Cap (intraday) 5</td>\n",
              "      <td>2.02T</td>\n",
              "    </tr>\n",
              "    <tr>\n",
              "      <th>1</th>\n",
              "      <td>Enterprise Value 3</td>\n",
              "      <td>2.04T</td>\n",
              "    </tr>\n",
              "    <tr>\n",
              "      <th>2</th>\n",
              "      <td>Trailing P/E</td>\n",
              "      <td>36.19</td>\n",
              "    </tr>\n",
              "    <tr>\n",
              "      <th>3</th>\n",
              "      <td>Forward P/E 1</td>\n",
              "      <td>29.94</td>\n",
              "    </tr>\n",
              "    <tr>\n",
              "      <th>4</th>\n",
              "      <td>PEG Ratio (5 yr expected) 1</td>\n",
              "      <td>2.98</td>\n",
              "    </tr>\n",
              "    <tr>\n",
              "      <th>5</th>\n",
              "      <td>Price/Sales (ttm)</td>\n",
              "      <td>7.58</td>\n",
              "    </tr>\n",
              "    <tr>\n",
              "      <th>6</th>\n",
              "      <td>Price/Book (mrq)</td>\n",
              "      <td>30.88</td>\n",
              "    </tr>\n",
              "    <tr>\n",
              "      <th>7</th>\n",
              "      <td>Enterprise Value/Revenue 3</td>\n",
              "      <td>7.43</td>\n",
              "    </tr>\n",
              "    <tr>\n",
              "      <th>8</th>\n",
              "      <td>Enterprise Value/EBITDA 6</td>\n",
              "      <td>25.17</td>\n",
              "    </tr>\n",
              "  </tbody>\n",
              "</table>\n",
              "</div>"
            ],
            "text/plain": [
              "                     Attribute Recent\n",
              "0      Market Cap (intraday) 5  2.02T\n",
              "1           Enterprise Value 3  2.04T\n",
              "2                 Trailing P/E  36.19\n",
              "3                Forward P/E 1  29.94\n",
              "4  PEG Ratio (5 yr expected) 1   2.98\n",
              "5            Price/Sales (ttm)   7.58\n",
              "6             Price/Book (mrq)  30.88\n",
              "7   Enterprise Value/Revenue 3   7.43\n",
              "8    Enterprise Value/EBITDA 6  25.17"
            ]
          },
          "metadata": {
            "tags": []
          },
          "execution_count": 158
        }
      ]
    },
    {
      "cell_type": "markdown",
      "metadata": {
        "id": "wQ6pm_GeHkg_"
      },
      "source": [
        " P/E 비율을 추출하면 다음과 같다"
      ]
    },
    {
      "cell_type": "code",
      "metadata": {
        "id": "5QubuNq2AYfi",
        "outputId": "25801ac2-9906-459d-b607-559384476994",
        "colab": {
          "base_uri": "https://localhost:8080/"
        }
      },
      "source": [
        "float(val[val.Attribute.str.contains(\"Trailing P/E\")].iloc[0,1])"
      ],
      "execution_count": 31,
      "outputs": [
        {
          "output_type": "execute_result",
          "data": {
            "text/plain": [
              "36.19"
            ]
          },
          "metadata": {
            "tags": []
          },
          "execution_count": 31
        }
      ]
    },
    {
      "cell_type": "markdown",
      "metadata": {
        "id": "UWP296GsHe0L"
      },
      "source": [
        "주가매출액(Price-to-Sales) 비율"
      ]
    },
    {
      "cell_type": "code",
      "metadata": {
        "id": "E0M1YNa1Ac3M",
        "outputId": "f53927d9-7799-4641-a14f-beea74d4a658",
        "colab": {
          "base_uri": "https://localhost:8080/"
        }
      },
      "source": [
        "float(val[val.Attribute.str.contains(\"Price/Sales\")].iloc[0,1])"
      ],
      "execution_count": 32,
      "outputs": [
        {
          "output_type": "execute_result",
          "data": {
            "text/plain": [
              "7.58"
            ]
          },
          "metadata": {
            "tags": []
          },
          "execution_count": 32
        }
      ]
    },
    {
      "cell_type": "markdown",
      "metadata": {
        "id": "S3VAz88AHXG4"
      },
      "source": [
        "####한번에 여러 재무 데이터 구하기\n",
        "다우지수내 각 종목의 Price-to-Earnings 와  Price-to-Sales 비율을 구해보도록 하자. \n",
        "\n",
        "tickers_dow메서드는 지수를 구성하는 종목의 티커를 돌려준다.\n"
      ]
    },
    {
      "cell_type": "code",
      "metadata": {
        "id": "zOi0LO2FAqMH"
      },
      "source": [
        "# 각 종목 밸류에이션을 가져온다\n",
        "# get_stats_valuation()는 데이터프레임을 돌려주는 데, \n",
        "# 첫 두개의 컬럼만 가져온다\n",
        "dow_stats = {}\n",
        "for ticker in ['amzn', 'ba', 'msft', 'aapl', 'goog']:\n",
        "    temp = si.get_stats_valuation(ticker)\n",
        "    temp = temp.iloc[:,:2]\n",
        "    temp.columns = [\"Attribute\", \"Recent\"]\n",
        " \n",
        "    dow_stats[ticker] = temp \n",
        "# 가져온 각 종목 데이터를 하나로 합친다 \n",
        "combined_stats = pd.concat(dow_stats)\n",
        "combined_stats = combined_stats.reset_index()\n",
        " \n",
        "del combined_stats[\"level_1\"]\n",
        " \n",
        "# 컬럼이름 변경\n",
        "combined_stats.columns = [\"Ticker\", \"Attribute\", \"Recent\"]"
      ],
      "execution_count": 160,
      "outputs": []
    },
    {
      "cell_type": "code",
      "metadata": {
        "id": "zphWzpdOzqMI"
      },
      "source": [
        "combined_stats"
      ],
      "execution_count": null,
      "outputs": []
    },
    {
      "cell_type": "markdown",
      "metadata": {
        "id": "4RVAx5j-HMS5"
      },
      "source": [
        "주가수익률(P/E) 비율"
      ]
    },
    {
      "cell_type": "code",
      "metadata": {
        "id": "ViD2bWt-AxGh",
        "outputId": "dcb81d6d-8142-4641-a305-b6f7d9d286d1",
        "colab": {
          "base_uri": "https://localhost:8080/",
          "height": 195
        }
      },
      "source": [
        "# get P/E ratio for each stock\n",
        "combined_stats[combined_stats.Attribute.str.contains(\"Trailing P/E\")]"
      ],
      "execution_count": 162,
      "outputs": [
        {
          "output_type": "execute_result",
          "data": {
            "text/html": [
              "<div>\n",
              "<style scoped>\n",
              "    .dataframe tbody tr th:only-of-type {\n",
              "        vertical-align: middle;\n",
              "    }\n",
              "\n",
              "    .dataframe tbody tr th {\n",
              "        vertical-align: top;\n",
              "    }\n",
              "\n",
              "    .dataframe thead th {\n",
              "        text-align: right;\n",
              "    }\n",
              "</style>\n",
              "<table border=\"1\" class=\"dataframe\">\n",
              "  <thead>\n",
              "    <tr style=\"text-align: right;\">\n",
              "      <th></th>\n",
              "      <th>Ticker</th>\n",
              "      <th>Attribute</th>\n",
              "      <th>Recent</th>\n",
              "    </tr>\n",
              "  </thead>\n",
              "  <tbody>\n",
              "    <tr>\n",
              "      <th>2</th>\n",
              "      <td>amzn</td>\n",
              "      <td>Trailing P/E</td>\n",
              "      <td>96.82</td>\n",
              "    </tr>\n",
              "    <tr>\n",
              "      <th>11</th>\n",
              "      <td>ba</td>\n",
              "      <td>Trailing P/E</td>\n",
              "      <td>NaN</td>\n",
              "    </tr>\n",
              "    <tr>\n",
              "      <th>20</th>\n",
              "      <td>msft</td>\n",
              "      <td>Trailing P/E</td>\n",
              "      <td>34.93</td>\n",
              "    </tr>\n",
              "    <tr>\n",
              "      <th>29</th>\n",
              "      <td>aapl</td>\n",
              "      <td>Trailing P/E</td>\n",
              "      <td>36.19</td>\n",
              "    </tr>\n",
              "    <tr>\n",
              "      <th>38</th>\n",
              "      <td>goog</td>\n",
              "      <td>Trailing P/E</td>\n",
              "      <td>33.37</td>\n",
              "    </tr>\n",
              "  </tbody>\n",
              "</table>\n",
              "</div>"
            ],
            "text/plain": [
              "   Ticker     Attribute Recent\n",
              "2    amzn  Trailing P/E  96.82\n",
              "11     ba  Trailing P/E    NaN\n",
              "20   msft  Trailing P/E  34.93\n",
              "29   aapl  Trailing P/E  36.19\n",
              "38   goog  Trailing P/E  33.37"
            ]
          },
          "metadata": {
            "tags": []
          },
          "execution_count": 162
        }
      ]
    },
    {
      "cell_type": "markdown",
      "metadata": {
        "id": "oZQBW0uJHKTy"
      },
      "source": [
        "주가매출액비율(Price-to-Sales) 비율\n"
      ]
    },
    {
      "cell_type": "code",
      "metadata": {
        "id": "k58m-Mg6A4YW",
        "outputId": "d33e6b65-cb3c-41be-edae-36a71b79dada",
        "colab": {
          "base_uri": "https://localhost:8080/",
          "height": 195
        }
      },
      "source": [
        "# get P/S ratio for each stock\n",
        "combined_stats[combined_stats.Attribute.str.contains(\"Price/Sales\")]"
      ],
      "execution_count": 163,
      "outputs": [
        {
          "output_type": "execute_result",
          "data": {
            "text/html": [
              "<div>\n",
              "<style scoped>\n",
              "    .dataframe tbody tr th:only-of-type {\n",
              "        vertical-align: middle;\n",
              "    }\n",
              "\n",
              "    .dataframe tbody tr th {\n",
              "        vertical-align: top;\n",
              "    }\n",
              "\n",
              "    .dataframe thead th {\n",
              "        text-align: right;\n",
              "    }\n",
              "</style>\n",
              "<table border=\"1\" class=\"dataframe\">\n",
              "  <thead>\n",
              "    <tr style=\"text-align: right;\">\n",
              "      <th></th>\n",
              "      <th>Ticker</th>\n",
              "      <th>Attribute</th>\n",
              "      <th>Recent</th>\n",
              "    </tr>\n",
              "  </thead>\n",
              "  <tbody>\n",
              "    <tr>\n",
              "      <th>5</th>\n",
              "      <td>amzn</td>\n",
              "      <td>Price/Sales (ttm)</td>\n",
              "      <td>4.84</td>\n",
              "    </tr>\n",
              "    <tr>\n",
              "      <th>14</th>\n",
              "      <td>ba</td>\n",
              "      <td>Price/Sales (ttm)</td>\n",
              "      <td>1.47</td>\n",
              "    </tr>\n",
              "    <tr>\n",
              "      <th>23</th>\n",
              "      <td>msft</td>\n",
              "      <td>Price/Sales (ttm)</td>\n",
              "      <td>11.28</td>\n",
              "    </tr>\n",
              "    <tr>\n",
              "      <th>32</th>\n",
              "      <td>aapl</td>\n",
              "      <td>Price/Sales (ttm)</td>\n",
              "      <td>7.58</td>\n",
              "    </tr>\n",
              "    <tr>\n",
              "      <th>41</th>\n",
              "      <td>goog</td>\n",
              "      <td>Price/Sales (ttm)</td>\n",
              "      <td>6.33</td>\n",
              "    </tr>\n",
              "  </tbody>\n",
              "</table>\n",
              "</div>"
            ],
            "text/plain": [
              "   Ticker          Attribute Recent\n",
              "5    amzn  Price/Sales (ttm)   4.84\n",
              "14     ba  Price/Sales (ttm)   1.47\n",
              "23   msft  Price/Sales (ttm)  11.28\n",
              "32   aapl  Price/Sales (ttm)   7.58\n",
              "41   goog  Price/Sales (ttm)   6.33"
            ]
          },
          "metadata": {
            "tags": []
          },
          "execution_count": 163
        }
      ]
    },
    {
      "cell_type": "markdown",
      "metadata": {
        "id": "hEUIAZxmG61k"
      },
      "source": [
        "주가순자산(Price / Book) 비율"
      ]
    },
    {
      "cell_type": "code",
      "metadata": {
        "id": "dSsaf-OfBD-f",
        "outputId": "b2a91daa-5134-4d3e-f18d-2d5306159794",
        "colab": {
          "base_uri": "https://localhost:8080/",
          "height": 195
        }
      },
      "source": [
        "# get Price-to-Book ratio for each stock\n",
        "combined_stats[combined_stats.Attribute.str.contains(\"Price/Book\")]"
      ],
      "execution_count": 164,
      "outputs": [
        {
          "output_type": "execute_result",
          "data": {
            "text/html": [
              "<div>\n",
              "<style scoped>\n",
              "    .dataframe tbody tr th:only-of-type {\n",
              "        vertical-align: middle;\n",
              "    }\n",
              "\n",
              "    .dataframe tbody tr th {\n",
              "        vertical-align: top;\n",
              "    }\n",
              "\n",
              "    .dataframe thead th {\n",
              "        text-align: right;\n",
              "    }\n",
              "</style>\n",
              "<table border=\"1\" class=\"dataframe\">\n",
              "  <thead>\n",
              "    <tr style=\"text-align: right;\">\n",
              "      <th></th>\n",
              "      <th>Ticker</th>\n",
              "      <th>Attribute</th>\n",
              "      <th>Recent</th>\n",
              "    </tr>\n",
              "  </thead>\n",
              "  <tbody>\n",
              "    <tr>\n",
              "      <th>6</th>\n",
              "      <td>amzn</td>\n",
              "      <td>Price/Book (mrq)</td>\n",
              "      <td>20.07</td>\n",
              "    </tr>\n",
              "    <tr>\n",
              "      <th>15</th>\n",
              "      <td>ba</td>\n",
              "      <td>Price/Book (mrq)</td>\n",
              "      <td>NaN</td>\n",
              "    </tr>\n",
              "    <tr>\n",
              "      <th>24</th>\n",
              "      <td>msft</td>\n",
              "      <td>Price/Book (mrq)</td>\n",
              "      <td>13.27</td>\n",
              "    </tr>\n",
              "    <tr>\n",
              "      <th>33</th>\n",
              "      <td>aapl</td>\n",
              "      <td>Price/Book (mrq)</td>\n",
              "      <td>30.88</td>\n",
              "    </tr>\n",
              "    <tr>\n",
              "      <th>42</th>\n",
              "      <td>goog</td>\n",
              "      <td>Price/Book (mrq)</td>\n",
              "      <td>4.98</td>\n",
              "    </tr>\n",
              "  </tbody>\n",
              "</table>\n",
              "</div>"
            ],
            "text/plain": [
              "   Ticker         Attribute Recent\n",
              "6    amzn  Price/Book (mrq)  20.07\n",
              "15     ba  Price/Book (mrq)    NaN\n",
              "24   msft  Price/Book (mrq)  13.27\n",
              "33   aapl  Price/Book (mrq)  30.88\n",
              "42   goog  Price/Book (mrq)   4.98"
            ]
          },
          "metadata": {
            "tags": []
          },
          "execution_count": 164
        }
      ]
    },
    {
      "cell_type": "markdown",
      "metadata": {
        "id": "K0k3ULFiG3tx"
      },
      "source": [
        "주가이익성장배율(Price / Earnings-to-Growth) 비율"
      ]
    },
    {
      "cell_type": "code",
      "metadata": {
        "id": "qmH0I2Y5BHs3",
        "outputId": "d9f59f5a-6661-470c-d79b-072dfaa4b656",
        "colab": {
          "base_uri": "https://localhost:8080/",
          "height": 195
        }
      },
      "source": [
        "# get PEG ratio for each stock\n",
        "combined_stats[combined_stats.Attribute.str.contains(\"PEG\")]"
      ],
      "execution_count": 165,
      "outputs": [
        {
          "output_type": "execute_result",
          "data": {
            "text/html": [
              "<div>\n",
              "<style scoped>\n",
              "    .dataframe tbody tr th:only-of-type {\n",
              "        vertical-align: middle;\n",
              "    }\n",
              "\n",
              "    .dataframe tbody tr th {\n",
              "        vertical-align: top;\n",
              "    }\n",
              "\n",
              "    .dataframe thead th {\n",
              "        text-align: right;\n",
              "    }\n",
              "</style>\n",
              "<table border=\"1\" class=\"dataframe\">\n",
              "  <thead>\n",
              "    <tr style=\"text-align: right;\">\n",
              "      <th></th>\n",
              "      <th>Ticker</th>\n",
              "      <th>Attribute</th>\n",
              "      <th>Recent</th>\n",
              "    </tr>\n",
              "  </thead>\n",
              "  <tbody>\n",
              "    <tr>\n",
              "      <th>4</th>\n",
              "      <td>amzn</td>\n",
              "      <td>PEG Ratio (5 yr expected) 1</td>\n",
              "      <td>1.28</td>\n",
              "    </tr>\n",
              "    <tr>\n",
              "      <th>13</th>\n",
              "      <td>ba</td>\n",
              "      <td>PEG Ratio (5 yr expected) 1</td>\n",
              "      <td>6.53</td>\n",
              "    </tr>\n",
              "    <tr>\n",
              "      <th>22</th>\n",
              "      <td>msft</td>\n",
              "      <td>PEG Ratio (5 yr expected) 1</td>\n",
              "      <td>2.53</td>\n",
              "    </tr>\n",
              "    <tr>\n",
              "      <th>31</th>\n",
              "      <td>aapl</td>\n",
              "      <td>PEG Ratio (5 yr expected) 1</td>\n",
              "      <td>2.98</td>\n",
              "    </tr>\n",
              "    <tr>\n",
              "      <th>40</th>\n",
              "      <td>goog</td>\n",
              "      <td>PEG Ratio (5 yr expected) 1</td>\n",
              "      <td>1.45</td>\n",
              "    </tr>\n",
              "  </tbody>\n",
              "</table>\n",
              "</div>"
            ],
            "text/plain": [
              "   Ticker                    Attribute Recent\n",
              "4    amzn  PEG Ratio (5 yr expected) 1   1.28\n",
              "13     ba  PEG Ratio (5 yr expected) 1   6.53\n",
              "22   msft  PEG Ratio (5 yr expected) 1   2.53\n",
              "31   aapl  PEG Ratio (5 yr expected) 1   2.98\n",
              "40   goog  PEG Ratio (5 yr expected) 1   1.45"
            ]
          },
          "metadata": {
            "tags": []
          },
          "execution_count": 165
        }
      ]
    },
    {
      "cell_type": "markdown",
      "metadata": {
        "id": "IN9iwIKSG0_r"
      },
      "source": [
        "Forward P/E 비율"
      ]
    },
    {
      "cell_type": "code",
      "metadata": {
        "id": "B7CTRPbOBLKT",
        "outputId": "8b6af087-bc7a-4b74-bf3e-305a20fcad3b",
        "colab": {
          "base_uri": "https://localhost:8080/",
          "height": 195
        }
      },
      "source": [
        "# get forward P/E ratio for each stock\n",
        "combined_stats[combined_stats.Attribute.str.contains(\"Forward P/E\")]"
      ],
      "execution_count": 166,
      "outputs": [
        {
          "output_type": "execute_result",
          "data": {
            "text/html": [
              "<div>\n",
              "<style scoped>\n",
              "    .dataframe tbody tr th:only-of-type {\n",
              "        vertical-align: middle;\n",
              "    }\n",
              "\n",
              "    .dataframe tbody tr th {\n",
              "        vertical-align: top;\n",
              "    }\n",
              "\n",
              "    .dataframe thead th {\n",
              "        text-align: right;\n",
              "    }\n",
              "</style>\n",
              "<table border=\"1\" class=\"dataframe\">\n",
              "  <thead>\n",
              "    <tr style=\"text-align: right;\">\n",
              "      <th></th>\n",
              "      <th>Ticker</th>\n",
              "      <th>Attribute</th>\n",
              "      <th>Recent</th>\n",
              "    </tr>\n",
              "  </thead>\n",
              "  <tbody>\n",
              "    <tr>\n",
              "      <th>3</th>\n",
              "      <td>amzn</td>\n",
              "      <td>Forward P/E 1</td>\n",
              "      <td>62.50</td>\n",
              "    </tr>\n",
              "    <tr>\n",
              "      <th>12</th>\n",
              "      <td>ba</td>\n",
              "      <td>Forward P/E 1</td>\n",
              "      <td>44.05</td>\n",
              "    </tr>\n",
              "    <tr>\n",
              "      <th>21</th>\n",
              "      <td>msft</td>\n",
              "      <td>Forward P/E 1</td>\n",
              "      <td>32.47</td>\n",
              "    </tr>\n",
              "    <tr>\n",
              "      <th>30</th>\n",
              "      <td>aapl</td>\n",
              "      <td>Forward P/E 1</td>\n",
              "      <td>29.94</td>\n",
              "    </tr>\n",
              "    <tr>\n",
              "      <th>39</th>\n",
              "      <td>goog</td>\n",
              "      <td>Forward P/E 1</td>\n",
              "      <td>27.25</td>\n",
              "    </tr>\n",
              "  </tbody>\n",
              "</table>\n",
              "</div>"
            ],
            "text/plain": [
              "   Ticker      Attribute Recent\n",
              "3    amzn  Forward P/E 1  62.50\n",
              "12     ba  Forward P/E 1  44.05\n",
              "21   msft  Forward P/E 1  32.47\n",
              "30   aapl  Forward P/E 1  29.94\n",
              "39   goog  Forward P/E 1  27.25"
            ]
          },
          "metadata": {
            "tags": []
          },
          "execution_count": 166
        }
      ]
    },
    {
      "cell_type": "code",
      "metadata": {
        "id": "T6ZnRiQz0En1",
        "outputId": "2b0b2eed-a06c-42c0-b664-c82e75f45bea",
        "colab": {
          "base_uri": "https://localhost:8080/",
          "height": 1000
        }
      },
      "source": [
        "combined_stats"
      ],
      "execution_count": 167,
      "outputs": [
        {
          "output_type": "execute_result",
          "data": {
            "text/html": [
              "<div>\n",
              "<style scoped>\n",
              "    .dataframe tbody tr th:only-of-type {\n",
              "        vertical-align: middle;\n",
              "    }\n",
              "\n",
              "    .dataframe tbody tr th {\n",
              "        vertical-align: top;\n",
              "    }\n",
              "\n",
              "    .dataframe thead th {\n",
              "        text-align: right;\n",
              "    }\n",
              "</style>\n",
              "<table border=\"1\" class=\"dataframe\">\n",
              "  <thead>\n",
              "    <tr style=\"text-align: right;\">\n",
              "      <th></th>\n",
              "      <th>Ticker</th>\n",
              "      <th>Attribute</th>\n",
              "      <th>Recent</th>\n",
              "    </tr>\n",
              "  </thead>\n",
              "  <tbody>\n",
              "    <tr>\n",
              "      <th>0</th>\n",
              "      <td>amzn</td>\n",
              "      <td>Market Cap (intraday) 5</td>\n",
              "      <td>1.66T</td>\n",
              "    </tr>\n",
              "    <tr>\n",
              "      <th>1</th>\n",
              "      <td>amzn</td>\n",
              "      <td>Enterprise Value 3</td>\n",
              "      <td>1.67T</td>\n",
              "    </tr>\n",
              "    <tr>\n",
              "      <th>2</th>\n",
              "      <td>amzn</td>\n",
              "      <td>Trailing P/E</td>\n",
              "      <td>96.82</td>\n",
              "    </tr>\n",
              "    <tr>\n",
              "      <th>3</th>\n",
              "      <td>amzn</td>\n",
              "      <td>Forward P/E 1</td>\n",
              "      <td>62.50</td>\n",
              "    </tr>\n",
              "    <tr>\n",
              "      <th>4</th>\n",
              "      <td>amzn</td>\n",
              "      <td>PEG Ratio (5 yr expected) 1</td>\n",
              "      <td>1.28</td>\n",
              "    </tr>\n",
              "    <tr>\n",
              "      <th>5</th>\n",
              "      <td>amzn</td>\n",
              "      <td>Price/Sales (ttm)</td>\n",
              "      <td>4.84</td>\n",
              "    </tr>\n",
              "    <tr>\n",
              "      <th>6</th>\n",
              "      <td>amzn</td>\n",
              "      <td>Price/Book (mrq)</td>\n",
              "      <td>20.07</td>\n",
              "    </tr>\n",
              "    <tr>\n",
              "      <th>7</th>\n",
              "      <td>amzn</td>\n",
              "      <td>Enterprise Value/Revenue 3</td>\n",
              "      <td>4.81</td>\n",
              "    </tr>\n",
              "    <tr>\n",
              "      <th>8</th>\n",
              "      <td>amzn</td>\n",
              "      <td>Enterprise Value/EBITDA 6</td>\n",
              "      <td>36.44</td>\n",
              "    </tr>\n",
              "    <tr>\n",
              "      <th>9</th>\n",
              "      <td>ba</td>\n",
              "      <td>Market Cap (intraday) 5</td>\n",
              "      <td>89.05B</td>\n",
              "    </tr>\n",
              "    <tr>\n",
              "      <th>10</th>\n",
              "      <td>ba</td>\n",
              "      <td>Enterprise Value 3</td>\n",
              "      <td>122.89B</td>\n",
              "    </tr>\n",
              "    <tr>\n",
              "      <th>11</th>\n",
              "      <td>ba</td>\n",
              "      <td>Trailing P/E</td>\n",
              "      <td>NaN</td>\n",
              "    </tr>\n",
              "    <tr>\n",
              "      <th>12</th>\n",
              "      <td>ba</td>\n",
              "      <td>Forward P/E 1</td>\n",
              "      <td>44.05</td>\n",
              "    </tr>\n",
              "    <tr>\n",
              "      <th>13</th>\n",
              "      <td>ba</td>\n",
              "      <td>PEG Ratio (5 yr expected) 1</td>\n",
              "      <td>6.53</td>\n",
              "    </tr>\n",
              "    <tr>\n",
              "      <th>14</th>\n",
              "      <td>ba</td>\n",
              "      <td>Price/Sales (ttm)</td>\n",
              "      <td>1.47</td>\n",
              "    </tr>\n",
              "    <tr>\n",
              "      <th>15</th>\n",
              "      <td>ba</td>\n",
              "      <td>Price/Book (mrq)</td>\n",
              "      <td>NaN</td>\n",
              "    </tr>\n",
              "    <tr>\n",
              "      <th>16</th>\n",
              "      <td>ba</td>\n",
              "      <td>Enterprise Value/Revenue 3</td>\n",
              "      <td>2.02</td>\n",
              "    </tr>\n",
              "    <tr>\n",
              "      <th>17</th>\n",
              "      <td>ba</td>\n",
              "      <td>Enterprise Value/EBITDA 6</td>\n",
              "      <td>-29.28</td>\n",
              "    </tr>\n",
              "    <tr>\n",
              "      <th>18</th>\n",
              "      <td>msft</td>\n",
              "      <td>Market Cap (intraday) 5</td>\n",
              "      <td>1.64T</td>\n",
              "    </tr>\n",
              "    <tr>\n",
              "      <th>19</th>\n",
              "      <td>msft</td>\n",
              "      <td>Enterprise Value 3</td>\n",
              "      <td>1.57T</td>\n",
              "    </tr>\n",
              "    <tr>\n",
              "      <th>20</th>\n",
              "      <td>msft</td>\n",
              "      <td>Trailing P/E</td>\n",
              "      <td>34.93</td>\n",
              "    </tr>\n",
              "    <tr>\n",
              "      <th>21</th>\n",
              "      <td>msft</td>\n",
              "      <td>Forward P/E 1</td>\n",
              "      <td>32.47</td>\n",
              "    </tr>\n",
              "    <tr>\n",
              "      <th>22</th>\n",
              "      <td>msft</td>\n",
              "      <td>PEG Ratio (5 yr expected) 1</td>\n",
              "      <td>2.53</td>\n",
              "    </tr>\n",
              "    <tr>\n",
              "      <th>23</th>\n",
              "      <td>msft</td>\n",
              "      <td>Price/Sales (ttm)</td>\n",
              "      <td>11.28</td>\n",
              "    </tr>\n",
              "    <tr>\n",
              "      <th>24</th>\n",
              "      <td>msft</td>\n",
              "      <td>Price/Book (mrq)</td>\n",
              "      <td>13.27</td>\n",
              "    </tr>\n",
              "    <tr>\n",
              "      <th>25</th>\n",
              "      <td>msft</td>\n",
              "      <td>Enterprise Value/Revenue 3</td>\n",
              "      <td>10.68</td>\n",
              "    </tr>\n",
              "    <tr>\n",
              "      <th>26</th>\n",
              "      <td>msft</td>\n",
              "      <td>Enterprise Value/EBITDA 6</td>\n",
              "      <td>21.97</td>\n",
              "    </tr>\n",
              "    <tr>\n",
              "      <th>27</th>\n",
              "      <td>aapl</td>\n",
              "      <td>Market Cap (intraday) 5</td>\n",
              "      <td>2.02T</td>\n",
              "    </tr>\n",
              "    <tr>\n",
              "      <th>28</th>\n",
              "      <td>aapl</td>\n",
              "      <td>Enterprise Value 3</td>\n",
              "      <td>2.04T</td>\n",
              "    </tr>\n",
              "    <tr>\n",
              "      <th>29</th>\n",
              "      <td>aapl</td>\n",
              "      <td>Trailing P/E</td>\n",
              "      <td>36.19</td>\n",
              "    </tr>\n",
              "    <tr>\n",
              "      <th>30</th>\n",
              "      <td>aapl</td>\n",
              "      <td>Forward P/E 1</td>\n",
              "      <td>29.94</td>\n",
              "    </tr>\n",
              "    <tr>\n",
              "      <th>31</th>\n",
              "      <td>aapl</td>\n",
              "      <td>PEG Ratio (5 yr expected) 1</td>\n",
              "      <td>2.98</td>\n",
              "    </tr>\n",
              "    <tr>\n",
              "      <th>32</th>\n",
              "      <td>aapl</td>\n",
              "      <td>Price/Sales (ttm)</td>\n",
              "      <td>7.58</td>\n",
              "    </tr>\n",
              "    <tr>\n",
              "      <th>33</th>\n",
              "      <td>aapl</td>\n",
              "      <td>Price/Book (mrq)</td>\n",
              "      <td>30.88</td>\n",
              "    </tr>\n",
              "    <tr>\n",
              "      <th>34</th>\n",
              "      <td>aapl</td>\n",
              "      <td>Enterprise Value/Revenue 3</td>\n",
              "      <td>7.43</td>\n",
              "    </tr>\n",
              "    <tr>\n",
              "      <th>35</th>\n",
              "      <td>aapl</td>\n",
              "      <td>Enterprise Value/EBITDA 6</td>\n",
              "      <td>25.17</td>\n",
              "    </tr>\n",
              "    <tr>\n",
              "      <th>36</th>\n",
              "      <td>goog</td>\n",
              "      <td>Market Cap (intraday) 5</td>\n",
              "      <td>1.03T</td>\n",
              "    </tr>\n",
              "    <tr>\n",
              "      <th>37</th>\n",
              "      <td>goog</td>\n",
              "      <td>Enterprise Value 3</td>\n",
              "      <td>924.60B</td>\n",
              "    </tr>\n",
              "    <tr>\n",
              "      <th>38</th>\n",
              "      <td>goog</td>\n",
              "      <td>Trailing P/E</td>\n",
              "      <td>33.37</td>\n",
              "    </tr>\n",
              "    <tr>\n",
              "      <th>39</th>\n",
              "      <td>goog</td>\n",
              "      <td>Forward P/E 1</td>\n",
              "      <td>27.25</td>\n",
              "    </tr>\n",
              "    <tr>\n",
              "      <th>40</th>\n",
              "      <td>goog</td>\n",
              "      <td>PEG Ratio (5 yr expected) 1</td>\n",
              "      <td>1.45</td>\n",
              "    </tr>\n",
              "    <tr>\n",
              "      <th>41</th>\n",
              "      <td>goog</td>\n",
              "      <td>Price/Sales (ttm)</td>\n",
              "      <td>6.33</td>\n",
              "    </tr>\n",
              "    <tr>\n",
              "      <th>42</th>\n",
              "      <td>goog</td>\n",
              "      <td>Price/Book (mrq)</td>\n",
              "      <td>4.98</td>\n",
              "    </tr>\n",
              "    <tr>\n",
              "      <th>43</th>\n",
              "      <td>goog</td>\n",
              "      <td>Enterprise Value/Revenue 3</td>\n",
              "      <td>5.57</td>\n",
              "    </tr>\n",
              "    <tr>\n",
              "      <th>44</th>\n",
              "      <td>goog</td>\n",
              "      <td>Enterprise Value/EBITDA 6</td>\n",
              "      <td>19.16</td>\n",
              "    </tr>\n",
              "  </tbody>\n",
              "</table>\n",
              "</div>"
            ],
            "text/plain": [
              "   Ticker                    Attribute   Recent\n",
              "0    amzn      Market Cap (intraday) 5    1.66T\n",
              "1    amzn           Enterprise Value 3    1.67T\n",
              "2    amzn                 Trailing P/E    96.82\n",
              "3    amzn                Forward P/E 1    62.50\n",
              "4    amzn  PEG Ratio (5 yr expected) 1     1.28\n",
              "5    amzn            Price/Sales (ttm)     4.84\n",
              "6    amzn             Price/Book (mrq)    20.07\n",
              "7    amzn   Enterprise Value/Revenue 3     4.81\n",
              "8    amzn    Enterprise Value/EBITDA 6    36.44\n",
              "9      ba      Market Cap (intraday) 5   89.05B\n",
              "10     ba           Enterprise Value 3  122.89B\n",
              "11     ba                 Trailing P/E      NaN\n",
              "12     ba                Forward P/E 1    44.05\n",
              "13     ba  PEG Ratio (5 yr expected) 1     6.53\n",
              "14     ba            Price/Sales (ttm)     1.47\n",
              "15     ba             Price/Book (mrq)      NaN\n",
              "16     ba   Enterprise Value/Revenue 3     2.02\n",
              "17     ba    Enterprise Value/EBITDA 6   -29.28\n",
              "18   msft      Market Cap (intraday) 5    1.64T\n",
              "19   msft           Enterprise Value 3    1.57T\n",
              "20   msft                 Trailing P/E    34.93\n",
              "21   msft                Forward P/E 1    32.47\n",
              "22   msft  PEG Ratio (5 yr expected) 1     2.53\n",
              "23   msft            Price/Sales (ttm)    11.28\n",
              "24   msft             Price/Book (mrq)    13.27\n",
              "25   msft   Enterprise Value/Revenue 3    10.68\n",
              "26   msft    Enterprise Value/EBITDA 6    21.97\n",
              "27   aapl      Market Cap (intraday) 5    2.02T\n",
              "28   aapl           Enterprise Value 3    2.04T\n",
              "29   aapl                 Trailing P/E    36.19\n",
              "30   aapl                Forward P/E 1    29.94\n",
              "31   aapl  PEG Ratio (5 yr expected) 1     2.98\n",
              "32   aapl            Price/Sales (ttm)     7.58\n",
              "33   aapl             Price/Book (mrq)    30.88\n",
              "34   aapl   Enterprise Value/Revenue 3     7.43\n",
              "35   aapl    Enterprise Value/EBITDA 6    25.17\n",
              "36   goog      Market Cap (intraday) 5    1.03T\n",
              "37   goog           Enterprise Value 3  924.60B\n",
              "38   goog                 Trailing P/E    33.37\n",
              "39   goog                Forward P/E 1    27.25\n",
              "40   goog  PEG Ratio (5 yr expected) 1     1.45\n",
              "41   goog            Price/Sales (ttm)     6.33\n",
              "42   goog             Price/Book (mrq)     4.98\n",
              "43   goog   Enterprise Value/Revenue 3     5.57\n",
              "44   goog    Enterprise Value/EBITDA 6    19.16"
            ]
          },
          "metadata": {
            "tags": []
          },
          "execution_count": 167
        }
      ]
    },
    {
      "cell_type": "markdown",
      "metadata": {
        "id": "zylREG9oGp9y"
      },
      "source": [
        "####여러 종목의 기타 통계 구하기\n",
        "야후파이낸스 종목 통계섹션에는“Valuation Measures” 테이블이 있는데 \n",
        "\n",
        "get_stats method를 통해 기타 통계 정보(Return on Equity (ROE), \n",
        "\n",
        "Return on Assets, profit margin)를 구할 수 있다.\n"
      ]
    },
    {
      "cell_type": "code",
      "metadata": {
        "id": "OEodgnFUBOhb"
      },
      "source": [
        "dow_extra_stats = {}\n",
        "for ticker in ['amzn', 'ba', 'msft', 'aapl', 'goog']:\n",
        "    dow_extra_stats[ticker] = si.get_stats(ticker)   \n",
        " \n",
        "combined_extra_stats = pd.concat(dow_extra_stats)\n",
        " \n",
        "combined_extra_stats = combined_extra_stats.reset_index()\n",
        " \n",
        "del combined_extra_stats[\"level_1\"]\n",
        " \n",
        "combined_extra_stats.columns = [\"ticker\", \"Attribute\", \"Value\"]"
      ],
      "execution_count": 168,
      "outputs": []
    },
    {
      "cell_type": "code",
      "metadata": {
        "id": "0ucrDeB80YPY",
        "outputId": "dfb51756-3033-437b-a601-ef1c26cdf5d2",
        "colab": {
          "base_uri": "https://localhost:8080/",
          "height": 402
        }
      },
      "source": [
        "combined_extra_stats"
      ],
      "execution_count": 169,
      "outputs": [
        {
          "output_type": "execute_result",
          "data": {
            "text/html": [
              "<div>\n",
              "<style scoped>\n",
              "    .dataframe tbody tr th:only-of-type {\n",
              "        vertical-align: middle;\n",
              "    }\n",
              "\n",
              "    .dataframe tbody tr th {\n",
              "        vertical-align: top;\n",
              "    }\n",
              "\n",
              "    .dataframe thead th {\n",
              "        text-align: right;\n",
              "    }\n",
              "</style>\n",
              "<table border=\"1\" class=\"dataframe\">\n",
              "  <thead>\n",
              "    <tr style=\"text-align: right;\">\n",
              "      <th></th>\n",
              "      <th>ticker</th>\n",
              "      <th>Attribute</th>\n",
              "      <th>Value</th>\n",
              "    </tr>\n",
              "  </thead>\n",
              "  <tbody>\n",
              "    <tr>\n",
              "      <th>0</th>\n",
              "      <td>amzn</td>\n",
              "      <td>Beta (5Y Monthly)</td>\n",
              "      <td>1.30</td>\n",
              "    </tr>\n",
              "    <tr>\n",
              "      <th>1</th>\n",
              "      <td>amzn</td>\n",
              "      <td>52-Week Change 3</td>\n",
              "      <td>78.81%</td>\n",
              "    </tr>\n",
              "    <tr>\n",
              "      <th>2</th>\n",
              "      <td>amzn</td>\n",
              "      <td>S&amp;P500 52-Week Change 3</td>\n",
              "      <td>15.37%</td>\n",
              "    </tr>\n",
              "    <tr>\n",
              "      <th>3</th>\n",
              "      <td>amzn</td>\n",
              "      <td>52 Week High 3</td>\n",
              "      <td>3552.25</td>\n",
              "    </tr>\n",
              "    <tr>\n",
              "      <th>4</th>\n",
              "      <td>amzn</td>\n",
              "      <td>52 Week Low 3</td>\n",
              "      <td>1626.03</td>\n",
              "    </tr>\n",
              "    <tr>\n",
              "      <th>...</th>\n",
              "      <td>...</td>\n",
              "      <td>...</td>\n",
              "      <td>...</td>\n",
              "    </tr>\n",
              "    <tr>\n",
              "      <th>245</th>\n",
              "      <td>goog</td>\n",
              "      <td>Total Debt/Equity (mrq)</td>\n",
              "      <td>12.94</td>\n",
              "    </tr>\n",
              "    <tr>\n",
              "      <th>246</th>\n",
              "      <td>goog</td>\n",
              "      <td>Current Ratio (mrq)</td>\n",
              "      <td>3.41</td>\n",
              "    </tr>\n",
              "    <tr>\n",
              "      <th>247</th>\n",
              "      <td>goog</td>\n",
              "      <td>Book Value Per Share (mrq)</td>\n",
              "      <td>314.17</td>\n",
              "    </tr>\n",
              "    <tr>\n",
              "      <th>248</th>\n",
              "      <td>goog</td>\n",
              "      <td>Operating Cash Flow (ttm)</td>\n",
              "      <td>56.87B</td>\n",
              "    </tr>\n",
              "    <tr>\n",
              "      <th>249</th>\n",
              "      <td>goog</td>\n",
              "      <td>Levered Free Cash Flow (ttm)</td>\n",
              "      <td>28.15B</td>\n",
              "    </tr>\n",
              "  </tbody>\n",
              "</table>\n",
              "<p>250 rows × 3 columns</p>\n",
              "</div>"
            ],
            "text/plain": [
              "    ticker                     Attribute    Value\n",
              "0     amzn             Beta (5Y Monthly)     1.30\n",
              "1     amzn              52-Week Change 3   78.81%\n",
              "2     amzn       S&P500 52-Week Change 3   15.37%\n",
              "3     amzn                52 Week High 3  3552.25\n",
              "4     amzn                 52 Week Low 3  1626.03\n",
              "..     ...                           ...      ...\n",
              "245   goog       Total Debt/Equity (mrq)    12.94\n",
              "246   goog           Current Ratio (mrq)     3.41\n",
              "247   goog    Book Value Per Share (mrq)   314.17\n",
              "248   goog     Operating Cash Flow (ttm)   56.87B\n",
              "249   goog  Levered Free Cash Flow (ttm)   28.15B\n",
              "\n",
              "[250 rows x 3 columns]"
            ]
          },
          "metadata": {
            "tags": []
          },
          "execution_count": 169
        }
      ]
    },
    {
      "cell_type": "markdown",
      "metadata": {
        "id": "pUer8I7SGkpL"
      },
      "source": [
        "자기자본이익률(ROE)"
      ]
    },
    {
      "cell_type": "code",
      "metadata": {
        "id": "xoe9_r7VBVKP",
        "outputId": "4a3fce49-d683-4c7f-e928-3852d18c000c",
        "colab": {
          "base_uri": "https://localhost:8080/",
          "height": 195
        }
      },
      "source": [
        "combined_extra_stats[combined_extra_stats.Attribute.str.contains(\"Return on Equity\")]"
      ],
      "execution_count": 41,
      "outputs": [
        {
          "output_type": "execute_result",
          "data": {
            "text/html": [
              "<div>\n",
              "<style scoped>\n",
              "    .dataframe tbody tr th:only-of-type {\n",
              "        vertical-align: middle;\n",
              "    }\n",
              "\n",
              "    .dataframe tbody tr th {\n",
              "        vertical-align: top;\n",
              "    }\n",
              "\n",
              "    .dataframe thead th {\n",
              "        text-align: right;\n",
              "    }\n",
              "</style>\n",
              "<table border=\"1\" class=\"dataframe\">\n",
              "  <thead>\n",
              "    <tr style=\"text-align: right;\">\n",
              "      <th></th>\n",
              "      <th>ticker</th>\n",
              "      <th>Attribute</th>\n",
              "      <th>Value</th>\n",
              "    </tr>\n",
              "  </thead>\n",
              "  <tbody>\n",
              "    <tr>\n",
              "      <th>33</th>\n",
              "      <td>amzn</td>\n",
              "      <td>Return on Equity (ttm)</td>\n",
              "      <td>24.95%</td>\n",
              "    </tr>\n",
              "    <tr>\n",
              "      <th>83</th>\n",
              "      <td>ba</td>\n",
              "      <td>Return on Equity (ttm)</td>\n",
              "      <td>NaN</td>\n",
              "    </tr>\n",
              "    <tr>\n",
              "      <th>133</th>\n",
              "      <td>msft</td>\n",
              "      <td>Return on Equity (ttm)</td>\n",
              "      <td>41.40%</td>\n",
              "    </tr>\n",
              "    <tr>\n",
              "      <th>183</th>\n",
              "      <td>aapl</td>\n",
              "      <td>Return on Equity (ttm)</td>\n",
              "      <td>73.69%</td>\n",
              "    </tr>\n",
              "    <tr>\n",
              "      <th>233</th>\n",
              "      <td>goog</td>\n",
              "      <td>Return on Equity (ttm)</td>\n",
              "      <td>17.51%</td>\n",
              "    </tr>\n",
              "  </tbody>\n",
              "</table>\n",
              "</div>"
            ],
            "text/plain": [
              "    ticker               Attribute   Value\n",
              "33    amzn  Return on Equity (ttm)  24.95%\n",
              "83      ba  Return on Equity (ttm)     NaN\n",
              "133   msft  Return on Equity (ttm)  41.40%\n",
              "183   aapl  Return on Equity (ttm)  73.69%\n",
              "233   goog  Return on Equity (ttm)  17.51%"
            ]
          },
          "metadata": {
            "tags": []
          },
          "execution_count": 41
        }
      ]
    },
    {
      "cell_type": "markdown",
      "metadata": {
        "id": "Qk-KJSb6GhoF"
      },
      "source": [
        "총자산이익률(ROA)"
      ]
    },
    {
      "cell_type": "code",
      "metadata": {
        "id": "xSNANyNqB6zW",
        "outputId": "91ec0f69-bfb2-43cf-9e80-15cf472ae41a",
        "colab": {
          "base_uri": "https://localhost:8080/",
          "height": 195
        }
      },
      "source": [
        "combined_extra_stats[combined_extra_stats.Attribute.str.contains(\"Return on Assets\")]"
      ],
      "execution_count": 42,
      "outputs": [
        {
          "output_type": "execute_result",
          "data": {
            "text/html": [
              "<div>\n",
              "<style scoped>\n",
              "    .dataframe tbody tr th:only-of-type {\n",
              "        vertical-align: middle;\n",
              "    }\n",
              "\n",
              "    .dataframe tbody tr th {\n",
              "        vertical-align: top;\n",
              "    }\n",
              "\n",
              "    .dataframe thead th {\n",
              "        text-align: right;\n",
              "    }\n",
              "</style>\n",
              "<table border=\"1\" class=\"dataframe\">\n",
              "  <thead>\n",
              "    <tr style=\"text-align: right;\">\n",
              "      <th></th>\n",
              "      <th>ticker</th>\n",
              "      <th>Attribute</th>\n",
              "      <th>Value</th>\n",
              "    </tr>\n",
              "  </thead>\n",
              "  <tbody>\n",
              "    <tr>\n",
              "      <th>32</th>\n",
              "      <td>amzn</td>\n",
              "      <td>Return on Assets (ttm)</td>\n",
              "      <td>5.17%</td>\n",
              "    </tr>\n",
              "    <tr>\n",
              "      <th>82</th>\n",
              "      <td>ba</td>\n",
              "      <td>Return on Assets (ttm)</td>\n",
              "      <td>-2.92%</td>\n",
              "    </tr>\n",
              "    <tr>\n",
              "      <th>132</th>\n",
              "      <td>msft</td>\n",
              "      <td>Return on Assets (ttm)</td>\n",
              "      <td>12.10%</td>\n",
              "    </tr>\n",
              "    <tr>\n",
              "      <th>182</th>\n",
              "      <td>aapl</td>\n",
              "      <td>Return on Assets (ttm)</td>\n",
              "      <td>12.51%</td>\n",
              "    </tr>\n",
              "    <tr>\n",
              "      <th>232</th>\n",
              "      <td>goog</td>\n",
              "      <td>Return on Assets (ttm)</td>\n",
              "      <td>7.74%</td>\n",
              "    </tr>\n",
              "  </tbody>\n",
              "</table>\n",
              "</div>"
            ],
            "text/plain": [
              "    ticker               Attribute   Value\n",
              "32    amzn  Return on Assets (ttm)   5.17%\n",
              "82      ba  Return on Assets (ttm)  -2.92%\n",
              "132   msft  Return on Assets (ttm)  12.10%\n",
              "182   aapl  Return on Assets (ttm)  12.51%\n",
              "232   goog  Return on Assets (ttm)   7.74%"
            ]
          },
          "metadata": {
            "tags": []
          },
          "execution_count": 42
        }
      ]
    },
    {
      "cell_type": "markdown",
      "metadata": {
        "id": "-3Mgyil_GXW0"
      },
      "source": [
        "이익률(profit margin)"
      ]
    },
    {
      "cell_type": "code",
      "metadata": {
        "id": "zd1Y6L5EB-6R",
        "outputId": "42438b9e-5850-400c-9bdd-5c74b2846b18",
        "colab": {
          "base_uri": "https://localhost:8080/",
          "height": 195
        }
      },
      "source": [
        "combined_extra_stats[combined_extra_stats.Attribute.str.contains(\"Profit Margin\")]"
      ],
      "execution_count": 43,
      "outputs": [
        {
          "output_type": "execute_result",
          "data": {
            "text/html": [
              "<div>\n",
              "<style scoped>\n",
              "    .dataframe tbody tr th:only-of-type {\n",
              "        vertical-align: middle;\n",
              "    }\n",
              "\n",
              "    .dataframe tbody tr th {\n",
              "        vertical-align: top;\n",
              "    }\n",
              "\n",
              "    .dataframe thead th {\n",
              "        text-align: right;\n",
              "    }\n",
              "</style>\n",
              "<table border=\"1\" class=\"dataframe\">\n",
              "  <thead>\n",
              "    <tr style=\"text-align: right;\">\n",
              "      <th></th>\n",
              "      <th>ticker</th>\n",
              "      <th>Attribute</th>\n",
              "      <th>Value</th>\n",
              "    </tr>\n",
              "  </thead>\n",
              "  <tbody>\n",
              "    <tr>\n",
              "      <th>30</th>\n",
              "      <td>amzn</td>\n",
              "      <td>Profit Margin</td>\n",
              "      <td>4.99%</td>\n",
              "    </tr>\n",
              "    <tr>\n",
              "      <th>80</th>\n",
              "      <td>ba</td>\n",
              "      <td>Profit Margin</td>\n",
              "      <td>-7.34%</td>\n",
              "    </tr>\n",
              "    <tr>\n",
              "      <th>130</th>\n",
              "      <td>msft</td>\n",
              "      <td>Profit Margin</td>\n",
              "      <td>32.28%</td>\n",
              "    </tr>\n",
              "    <tr>\n",
              "      <th>180</th>\n",
              "      <td>aapl</td>\n",
              "      <td>Profit Margin</td>\n",
              "      <td>20.91%</td>\n",
              "    </tr>\n",
              "    <tr>\n",
              "      <th>230</th>\n",
              "      <td>goog</td>\n",
              "      <td>Profit Margin</td>\n",
              "      <td>20.80%</td>\n",
              "    </tr>\n",
              "  </tbody>\n",
              "</table>\n",
              "</div>"
            ],
            "text/plain": [
              "    ticker      Attribute   Value\n",
              "30    amzn  Profit Margin   4.99%\n",
              "80      ba  Profit Margin  -7.34%\n",
              "130   msft  Profit Margin  32.28%\n",
              "180   aapl  Profit Margin  20.91%\n",
              "230   goog  Profit Margin  20.80%"
            ]
          },
          "metadata": {
            "tags": []
          },
          "execution_count": 43
        }
      ]
    },
    {
      "cell_type": "markdown",
      "metadata": {
        "id": "5e6ndTG_GOsc"
      },
      "source": [
        "####재무상태표(balance sheets)\n",
        "get_balance_sheet 메서드를 사용하여 재무상태표를 구할 수 있는 데, 유동현금, 자산, 부채등을 알 수 있다.\n"
      ]
    },
    {
      "cell_type": "code",
      "metadata": {
        "id": "bBrERnQjCBv0"
      },
      "source": [
        "sheet = si.get_balance_sheet(\"aapl\")"
      ],
      "execution_count": 170,
      "outputs": []
    },
    {
      "cell_type": "code",
      "metadata": {
        "id": "ISWj97iMNc-a",
        "outputId": "4afbb6b8-087f-46dd-b9ac-a2a53a311799",
        "colab": {
          "base_uri": "https://localhost:8080/",
          "height": 758
        }
      },
      "source": [
        "sheet"
      ],
      "execution_count": 171,
      "outputs": [
        {
          "output_type": "execute_result",
          "data": {
            "text/html": [
              "<div>\n",
              "<style scoped>\n",
              "    .dataframe tbody tr th:only-of-type {\n",
              "        vertical-align: middle;\n",
              "    }\n",
              "\n",
              "    .dataframe tbody tr th {\n",
              "        vertical-align: top;\n",
              "    }\n",
              "\n",
              "    .dataframe thead th {\n",
              "        text-align: right;\n",
              "    }\n",
              "</style>\n",
              "<table border=\"1\" class=\"dataframe\">\n",
              "  <thead>\n",
              "    <tr style=\"text-align: right;\">\n",
              "      <th>endDate</th>\n",
              "      <th>2020-09-26</th>\n",
              "      <th>2019-09-28</th>\n",
              "      <th>2018-09-29</th>\n",
              "      <th>2017-09-30</th>\n",
              "    </tr>\n",
              "    <tr>\n",
              "      <th>Breakdown</th>\n",
              "      <th></th>\n",
              "      <th></th>\n",
              "      <th></th>\n",
              "      <th></th>\n",
              "    </tr>\n",
              "  </thead>\n",
              "  <tbody>\n",
              "    <tr>\n",
              "      <th>totalLiab</th>\n",
              "      <td>258549000000</td>\n",
              "      <td>248028000000</td>\n",
              "      <td>258578000000</td>\n",
              "      <td>241272000000</td>\n",
              "    </tr>\n",
              "    <tr>\n",
              "      <th>totalStockholderEquity</th>\n",
              "      <td>65339000000</td>\n",
              "      <td>90488000000</td>\n",
              "      <td>107147000000</td>\n",
              "      <td>134047000000</td>\n",
              "    </tr>\n",
              "    <tr>\n",
              "      <th>otherCurrentLiab</th>\n",
              "      <td>47867000000</td>\n",
              "      <td>43242000000</td>\n",
              "      <td>39293000000</td>\n",
              "      <td>38099000000</td>\n",
              "    </tr>\n",
              "    <tr>\n",
              "      <th>totalAssets</th>\n",
              "      <td>323888000000</td>\n",
              "      <td>338516000000</td>\n",
              "      <td>365725000000</td>\n",
              "      <td>375319000000</td>\n",
              "    </tr>\n",
              "    <tr>\n",
              "      <th>commonStock</th>\n",
              "      <td>50779000000</td>\n",
              "      <td>45174000000</td>\n",
              "      <td>40201000000</td>\n",
              "      <td>35867000000</td>\n",
              "    </tr>\n",
              "    <tr>\n",
              "      <th>otherCurrentAssets</th>\n",
              "      <td>11264000000</td>\n",
              "      <td>12352000000</td>\n",
              "      <td>12087000000</td>\n",
              "      <td>13936000000</td>\n",
              "    </tr>\n",
              "    <tr>\n",
              "      <th>retainedEarnings</th>\n",
              "      <td>14966000000</td>\n",
              "      <td>45898000000</td>\n",
              "      <td>70400000000</td>\n",
              "      <td>98330000000</td>\n",
              "    </tr>\n",
              "    <tr>\n",
              "      <th>otherLiab</th>\n",
              "      <td>46108000000</td>\n",
              "      <td>50503000000</td>\n",
              "      <td>48914000000</td>\n",
              "      <td>43251000000</td>\n",
              "    </tr>\n",
              "    <tr>\n",
              "      <th>treasuryStock</th>\n",
              "      <td>-406000000</td>\n",
              "      <td>-584000000</td>\n",
              "      <td>-3454000000</td>\n",
              "      <td>-150000000</td>\n",
              "    </tr>\n",
              "    <tr>\n",
              "      <th>otherAssets</th>\n",
              "      <td>33952000000</td>\n",
              "      <td>32978000000</td>\n",
              "      <td>22283000000</td>\n",
              "      <td>18177000000</td>\n",
              "    </tr>\n",
              "    <tr>\n",
              "      <th>cash</th>\n",
              "      <td>38016000000</td>\n",
              "      <td>48844000000</td>\n",
              "      <td>25913000000</td>\n",
              "      <td>20289000000</td>\n",
              "    </tr>\n",
              "    <tr>\n",
              "      <th>totalCurrentLiabilities</th>\n",
              "      <td>105392000000</td>\n",
              "      <td>105718000000</td>\n",
              "      <td>115929000000</td>\n",
              "      <td>100814000000</td>\n",
              "    </tr>\n",
              "    <tr>\n",
              "      <th>shortLongTermDebt</th>\n",
              "      <td>8773000000</td>\n",
              "      <td>10260000000</td>\n",
              "      <td>8784000000</td>\n",
              "      <td>6496000000</td>\n",
              "    </tr>\n",
              "    <tr>\n",
              "      <th>otherStockholderEquity</th>\n",
              "      <td>-406000000</td>\n",
              "      <td>-584000000</td>\n",
              "      <td>-3454000000</td>\n",
              "      <td>-150000000</td>\n",
              "    </tr>\n",
              "    <tr>\n",
              "      <th>propertyPlantEquipment</th>\n",
              "      <td>45336000000</td>\n",
              "      <td>37378000000</td>\n",
              "      <td>41304000000</td>\n",
              "      <td>33783000000</td>\n",
              "    </tr>\n",
              "    <tr>\n",
              "      <th>totalCurrentAssets</th>\n",
              "      <td>143713000000</td>\n",
              "      <td>162819000000</td>\n",
              "      <td>131339000000</td>\n",
              "      <td>128645000000</td>\n",
              "    </tr>\n",
              "    <tr>\n",
              "      <th>longTermInvestments</th>\n",
              "      <td>100887000000</td>\n",
              "      <td>105341000000</td>\n",
              "      <td>170799000000</td>\n",
              "      <td>194714000000</td>\n",
              "    </tr>\n",
              "    <tr>\n",
              "      <th>netTangibleAssets</th>\n",
              "      <td>65339000000</td>\n",
              "      <td>90488000000</td>\n",
              "      <td>107147000000</td>\n",
              "      <td>134047000000</td>\n",
              "    </tr>\n",
              "    <tr>\n",
              "      <th>shortTermInvestments</th>\n",
              "      <td>52927000000</td>\n",
              "      <td>51713000000</td>\n",
              "      <td>40388000000</td>\n",
              "      <td>53892000000</td>\n",
              "    </tr>\n",
              "    <tr>\n",
              "      <th>netReceivables</th>\n",
              "      <td>37445000000</td>\n",
              "      <td>45804000000</td>\n",
              "      <td>48995000000</td>\n",
              "      <td>35673000000</td>\n",
              "    </tr>\n",
              "    <tr>\n",
              "      <th>longTermDebt</th>\n",
              "      <td>98667000000</td>\n",
              "      <td>91807000000</td>\n",
              "      <td>93735000000</td>\n",
              "      <td>97207000000</td>\n",
              "    </tr>\n",
              "    <tr>\n",
              "      <th>inventory</th>\n",
              "      <td>4061000000</td>\n",
              "      <td>4106000000</td>\n",
              "      <td>3956000000</td>\n",
              "      <td>4855000000</td>\n",
              "    </tr>\n",
              "    <tr>\n",
              "      <th>accountsPayable</th>\n",
              "      <td>42296000000</td>\n",
              "      <td>46236000000</td>\n",
              "      <td>55888000000</td>\n",
              "      <td>44242000000</td>\n",
              "    </tr>\n",
              "  </tbody>\n",
              "</table>\n",
              "</div>"
            ],
            "text/plain": [
              "endDate                    2020-09-26    2019-09-28    2018-09-29    2017-09-30\n",
              "Breakdown                                                                      \n",
              "totalLiab                258549000000  248028000000  258578000000  241272000000\n",
              "totalStockholderEquity    65339000000   90488000000  107147000000  134047000000\n",
              "otherCurrentLiab          47867000000   43242000000   39293000000   38099000000\n",
              "totalAssets              323888000000  338516000000  365725000000  375319000000\n",
              "commonStock               50779000000   45174000000   40201000000   35867000000\n",
              "otherCurrentAssets        11264000000   12352000000   12087000000   13936000000\n",
              "retainedEarnings          14966000000   45898000000   70400000000   98330000000\n",
              "otherLiab                 46108000000   50503000000   48914000000   43251000000\n",
              "treasuryStock              -406000000    -584000000   -3454000000    -150000000\n",
              "otherAssets               33952000000   32978000000   22283000000   18177000000\n",
              "cash                      38016000000   48844000000   25913000000   20289000000\n",
              "totalCurrentLiabilities  105392000000  105718000000  115929000000  100814000000\n",
              "shortLongTermDebt          8773000000   10260000000    8784000000    6496000000\n",
              "otherStockholderEquity     -406000000    -584000000   -3454000000    -150000000\n",
              "propertyPlantEquipment    45336000000   37378000000   41304000000   33783000000\n",
              "totalCurrentAssets       143713000000  162819000000  131339000000  128645000000\n",
              "longTermInvestments      100887000000  105341000000  170799000000  194714000000\n",
              "netTangibleAssets         65339000000   90488000000  107147000000  134047000000\n",
              "shortTermInvestments      52927000000   51713000000   40388000000   53892000000\n",
              "netReceivables            37445000000   45804000000   48995000000   35673000000\n",
              "longTermDebt              98667000000   91807000000   93735000000   97207000000\n",
              "inventory                  4061000000    4106000000    3956000000    4855000000\n",
              "accountsPayable           42296000000   46236000000   55888000000   44242000000"
            ]
          },
          "metadata": {
            "tags": []
          },
          "execution_count": 171
        }
      ]
    },
    {
      "cell_type": "markdown",
      "metadata": {
        "id": "6JUckjNhGFnk"
      },
      "source": [
        "총현금(Total cash on hand)"
      ]
    },
    {
      "cell_type": "code",
      "metadata": {
        "id": "sIusOXP-CEkz",
        "outputId": "93ed09b5-98d9-40c0-9226-73a9e5bd77e1",
        "colab": {
          "base_uri": "https://localhost:8080/",
          "height": 106
        }
      },
      "source": [
        "sheet[sheet.index == \"cash\"]"
      ],
      "execution_count": 172,
      "outputs": [
        {
          "output_type": "execute_result",
          "data": {
            "text/html": [
              "<div>\n",
              "<style scoped>\n",
              "    .dataframe tbody tr th:only-of-type {\n",
              "        vertical-align: middle;\n",
              "    }\n",
              "\n",
              "    .dataframe tbody tr th {\n",
              "        vertical-align: top;\n",
              "    }\n",
              "\n",
              "    .dataframe thead th {\n",
              "        text-align: right;\n",
              "    }\n",
              "</style>\n",
              "<table border=\"1\" class=\"dataframe\">\n",
              "  <thead>\n",
              "    <tr style=\"text-align: right;\">\n",
              "      <th>endDate</th>\n",
              "      <th>2020-09-26</th>\n",
              "      <th>2019-09-28</th>\n",
              "      <th>2018-09-29</th>\n",
              "      <th>2017-09-30</th>\n",
              "    </tr>\n",
              "    <tr>\n",
              "      <th>Breakdown</th>\n",
              "      <th></th>\n",
              "      <th></th>\n",
              "      <th></th>\n",
              "      <th></th>\n",
              "    </tr>\n",
              "  </thead>\n",
              "  <tbody>\n",
              "    <tr>\n",
              "      <th>cash</th>\n",
              "      <td>38016000000</td>\n",
              "      <td>48844000000</td>\n",
              "      <td>25913000000</td>\n",
              "      <td>20289000000</td>\n",
              "    </tr>\n",
              "  </tbody>\n",
              "</table>\n",
              "</div>"
            ],
            "text/plain": [
              "endDate     2020-09-26   2019-09-28   2018-09-29   2017-09-30\n",
              "Breakdown                                                    \n",
              "cash       38016000000  48844000000  25913000000  20289000000"
            ]
          },
          "metadata": {
            "tags": []
          },
          "execution_count": 172
        }
      ]
    },
    {
      "cell_type": "markdown",
      "metadata": {
        "id": "BrqNPlEPGAA2"
      },
      "source": [
        "자본(Stockholders’ equity)"
      ]
    },
    {
      "cell_type": "code",
      "metadata": {
        "id": "DPiRSghhCHBn",
        "outputId": "5a7b3e41-a2fa-47d0-af33-65ef410c83f2",
        "colab": {
          "base_uri": "https://localhost:8080/",
          "height": 106
        }
      },
      "source": [
        "sheet[sheet.index == \"totalStockholderEquity\"]"
      ],
      "execution_count": 174,
      "outputs": [
        {
          "output_type": "execute_result",
          "data": {
            "text/html": [
              "<div>\n",
              "<style scoped>\n",
              "    .dataframe tbody tr th:only-of-type {\n",
              "        vertical-align: middle;\n",
              "    }\n",
              "\n",
              "    .dataframe tbody tr th {\n",
              "        vertical-align: top;\n",
              "    }\n",
              "\n",
              "    .dataframe thead th {\n",
              "        text-align: right;\n",
              "    }\n",
              "</style>\n",
              "<table border=\"1\" class=\"dataframe\">\n",
              "  <thead>\n",
              "    <tr style=\"text-align: right;\">\n",
              "      <th>endDate</th>\n",
              "      <th>2020-09-26</th>\n",
              "      <th>2019-09-28</th>\n",
              "      <th>2018-09-29</th>\n",
              "      <th>2017-09-30</th>\n",
              "    </tr>\n",
              "    <tr>\n",
              "      <th>Breakdown</th>\n",
              "      <th></th>\n",
              "      <th></th>\n",
              "      <th></th>\n",
              "      <th></th>\n",
              "    </tr>\n",
              "  </thead>\n",
              "  <tbody>\n",
              "    <tr>\n",
              "      <th>totalStockholderEquity</th>\n",
              "      <td>65339000000</td>\n",
              "      <td>90488000000</td>\n",
              "      <td>107147000000</td>\n",
              "      <td>134047000000</td>\n",
              "    </tr>\n",
              "  </tbody>\n",
              "</table>\n",
              "</div>"
            ],
            "text/plain": [
              "endDate                  2020-09-26   2019-09-28    2018-09-29    2017-09-30\n",
              "Breakdown                                                                   \n",
              "totalStockholderEquity  65339000000  90488000000  107147000000  134047000000"
            ]
          },
          "metadata": {
            "tags": []
          },
          "execution_count": 174
        }
      ]
    },
    {
      "cell_type": "markdown",
      "metadata": {
        "id": "4PsOWXHkFvOM"
      },
      "source": [
        "총자산(Total Assets)"
      ]
    },
    {
      "cell_type": "code",
      "metadata": {
        "id": "dfuk0IG6CLyk",
        "outputId": "a5644818-4aaf-4afc-bc50-0506d18f9b38",
        "colab": {
          "base_uri": "https://localhost:8080/",
          "height": 106
        }
      },
      "source": [
        "sheet[sheet.index == \"totalAssets\"]"
      ],
      "execution_count": 175,
      "outputs": [
        {
          "output_type": "execute_result",
          "data": {
            "text/html": [
              "<div>\n",
              "<style scoped>\n",
              "    .dataframe tbody tr th:only-of-type {\n",
              "        vertical-align: middle;\n",
              "    }\n",
              "\n",
              "    .dataframe tbody tr th {\n",
              "        vertical-align: top;\n",
              "    }\n",
              "\n",
              "    .dataframe thead th {\n",
              "        text-align: right;\n",
              "    }\n",
              "</style>\n",
              "<table border=\"1\" class=\"dataframe\">\n",
              "  <thead>\n",
              "    <tr style=\"text-align: right;\">\n",
              "      <th>endDate</th>\n",
              "      <th>2020-09-26</th>\n",
              "      <th>2019-09-28</th>\n",
              "      <th>2018-09-29</th>\n",
              "      <th>2017-09-30</th>\n",
              "    </tr>\n",
              "    <tr>\n",
              "      <th>Breakdown</th>\n",
              "      <th></th>\n",
              "      <th></th>\n",
              "      <th></th>\n",
              "      <th></th>\n",
              "    </tr>\n",
              "  </thead>\n",
              "  <tbody>\n",
              "    <tr>\n",
              "      <th>totalAssets</th>\n",
              "      <td>323888000000</td>\n",
              "      <td>338516000000</td>\n",
              "      <td>365725000000</td>\n",
              "      <td>375319000000</td>\n",
              "    </tr>\n",
              "  </tbody>\n",
              "</table>\n",
              "</div>"
            ],
            "text/plain": [
              "endDate        2020-09-26    2019-09-28    2018-09-29    2017-09-30\n",
              "Breakdown                                                          \n",
              "totalAssets  323888000000  338516000000  365725000000  375319000000"
            ]
          },
          "metadata": {
            "tags": []
          },
          "execution_count": 175
        }
      ]
    },
    {
      "cell_type": "markdown",
      "metadata": {
        "id": "_a0aLcKzFkdO"
      },
      "source": [
        "####여러 종목의 재무상태표 구하기\n",
        "\n",
        "다우지수 구성종목들의 재무상태표를 다음과 같이 얻을 수 있다.\n"
      ]
    },
    {
      "cell_type": "code",
      "metadata": {
        "id": "wtc4PRNsCPIs"
      },
      "source": [
        "balance_sheets = {}\n",
        "for ticker in ['amzn', 'ba', 'msft', 'aapl', 'goog']:\n",
        "    balance_sheets[ticker] = si.get_balance_sheet(ticker)"
      ],
      "execution_count": 176,
      "outputs": []
    },
    {
      "cell_type": "code",
      "metadata": {
        "id": "L-ZSIdOSGu5u",
        "outputId": "a8c91c80-0c9d-4e08-d5a3-a97189876fcb",
        "colab": {
          "base_uri": "https://localhost:8080/",
          "height": 758
        }
      },
      "source": [
        "balance_sheets['aapl']"
      ],
      "execution_count": 177,
      "outputs": [
        {
          "output_type": "execute_result",
          "data": {
            "text/html": [
              "<div>\n",
              "<style scoped>\n",
              "    .dataframe tbody tr th:only-of-type {\n",
              "        vertical-align: middle;\n",
              "    }\n",
              "\n",
              "    .dataframe tbody tr th {\n",
              "        vertical-align: top;\n",
              "    }\n",
              "\n",
              "    .dataframe thead th {\n",
              "        text-align: right;\n",
              "    }\n",
              "</style>\n",
              "<table border=\"1\" class=\"dataframe\">\n",
              "  <thead>\n",
              "    <tr style=\"text-align: right;\">\n",
              "      <th>endDate</th>\n",
              "      <th>2020-09-26</th>\n",
              "      <th>2019-09-28</th>\n",
              "      <th>2018-09-29</th>\n",
              "      <th>2017-09-30</th>\n",
              "    </tr>\n",
              "    <tr>\n",
              "      <th>Breakdown</th>\n",
              "      <th></th>\n",
              "      <th></th>\n",
              "      <th></th>\n",
              "      <th></th>\n",
              "    </tr>\n",
              "  </thead>\n",
              "  <tbody>\n",
              "    <tr>\n",
              "      <th>totalLiab</th>\n",
              "      <td>258549000000</td>\n",
              "      <td>248028000000</td>\n",
              "      <td>258578000000</td>\n",
              "      <td>241272000000</td>\n",
              "    </tr>\n",
              "    <tr>\n",
              "      <th>totalStockholderEquity</th>\n",
              "      <td>65339000000</td>\n",
              "      <td>90488000000</td>\n",
              "      <td>107147000000</td>\n",
              "      <td>134047000000</td>\n",
              "    </tr>\n",
              "    <tr>\n",
              "      <th>otherCurrentLiab</th>\n",
              "      <td>47867000000</td>\n",
              "      <td>43242000000</td>\n",
              "      <td>39293000000</td>\n",
              "      <td>38099000000</td>\n",
              "    </tr>\n",
              "    <tr>\n",
              "      <th>totalAssets</th>\n",
              "      <td>323888000000</td>\n",
              "      <td>338516000000</td>\n",
              "      <td>365725000000</td>\n",
              "      <td>375319000000</td>\n",
              "    </tr>\n",
              "    <tr>\n",
              "      <th>commonStock</th>\n",
              "      <td>50779000000</td>\n",
              "      <td>45174000000</td>\n",
              "      <td>40201000000</td>\n",
              "      <td>35867000000</td>\n",
              "    </tr>\n",
              "    <tr>\n",
              "      <th>otherCurrentAssets</th>\n",
              "      <td>11264000000</td>\n",
              "      <td>12352000000</td>\n",
              "      <td>12087000000</td>\n",
              "      <td>13936000000</td>\n",
              "    </tr>\n",
              "    <tr>\n",
              "      <th>retainedEarnings</th>\n",
              "      <td>14966000000</td>\n",
              "      <td>45898000000</td>\n",
              "      <td>70400000000</td>\n",
              "      <td>98330000000</td>\n",
              "    </tr>\n",
              "    <tr>\n",
              "      <th>otherLiab</th>\n",
              "      <td>46108000000</td>\n",
              "      <td>50503000000</td>\n",
              "      <td>48914000000</td>\n",
              "      <td>43251000000</td>\n",
              "    </tr>\n",
              "    <tr>\n",
              "      <th>treasuryStock</th>\n",
              "      <td>-406000000</td>\n",
              "      <td>-584000000</td>\n",
              "      <td>-3454000000</td>\n",
              "      <td>-150000000</td>\n",
              "    </tr>\n",
              "    <tr>\n",
              "      <th>otherAssets</th>\n",
              "      <td>33952000000</td>\n",
              "      <td>32978000000</td>\n",
              "      <td>22283000000</td>\n",
              "      <td>18177000000</td>\n",
              "    </tr>\n",
              "    <tr>\n",
              "      <th>cash</th>\n",
              "      <td>38016000000</td>\n",
              "      <td>48844000000</td>\n",
              "      <td>25913000000</td>\n",
              "      <td>20289000000</td>\n",
              "    </tr>\n",
              "    <tr>\n",
              "      <th>totalCurrentLiabilities</th>\n",
              "      <td>105392000000</td>\n",
              "      <td>105718000000</td>\n",
              "      <td>115929000000</td>\n",
              "      <td>100814000000</td>\n",
              "    </tr>\n",
              "    <tr>\n",
              "      <th>shortLongTermDebt</th>\n",
              "      <td>8773000000</td>\n",
              "      <td>10260000000</td>\n",
              "      <td>8784000000</td>\n",
              "      <td>6496000000</td>\n",
              "    </tr>\n",
              "    <tr>\n",
              "      <th>otherStockholderEquity</th>\n",
              "      <td>-406000000</td>\n",
              "      <td>-584000000</td>\n",
              "      <td>-3454000000</td>\n",
              "      <td>-150000000</td>\n",
              "    </tr>\n",
              "    <tr>\n",
              "      <th>propertyPlantEquipment</th>\n",
              "      <td>45336000000</td>\n",
              "      <td>37378000000</td>\n",
              "      <td>41304000000</td>\n",
              "      <td>33783000000</td>\n",
              "    </tr>\n",
              "    <tr>\n",
              "      <th>totalCurrentAssets</th>\n",
              "      <td>143713000000</td>\n",
              "      <td>162819000000</td>\n",
              "      <td>131339000000</td>\n",
              "      <td>128645000000</td>\n",
              "    </tr>\n",
              "    <tr>\n",
              "      <th>longTermInvestments</th>\n",
              "      <td>100887000000</td>\n",
              "      <td>105341000000</td>\n",
              "      <td>170799000000</td>\n",
              "      <td>194714000000</td>\n",
              "    </tr>\n",
              "    <tr>\n",
              "      <th>netTangibleAssets</th>\n",
              "      <td>65339000000</td>\n",
              "      <td>90488000000</td>\n",
              "      <td>107147000000</td>\n",
              "      <td>134047000000</td>\n",
              "    </tr>\n",
              "    <tr>\n",
              "      <th>shortTermInvestments</th>\n",
              "      <td>52927000000</td>\n",
              "      <td>51713000000</td>\n",
              "      <td>40388000000</td>\n",
              "      <td>53892000000</td>\n",
              "    </tr>\n",
              "    <tr>\n",
              "      <th>netReceivables</th>\n",
              "      <td>37445000000</td>\n",
              "      <td>45804000000</td>\n",
              "      <td>48995000000</td>\n",
              "      <td>35673000000</td>\n",
              "    </tr>\n",
              "    <tr>\n",
              "      <th>longTermDebt</th>\n",
              "      <td>98667000000</td>\n",
              "      <td>91807000000</td>\n",
              "      <td>93735000000</td>\n",
              "      <td>97207000000</td>\n",
              "    </tr>\n",
              "    <tr>\n",
              "      <th>inventory</th>\n",
              "      <td>4061000000</td>\n",
              "      <td>4106000000</td>\n",
              "      <td>3956000000</td>\n",
              "      <td>4855000000</td>\n",
              "    </tr>\n",
              "    <tr>\n",
              "      <th>accountsPayable</th>\n",
              "      <td>42296000000</td>\n",
              "      <td>46236000000</td>\n",
              "      <td>55888000000</td>\n",
              "      <td>44242000000</td>\n",
              "    </tr>\n",
              "  </tbody>\n",
              "</table>\n",
              "</div>"
            ],
            "text/plain": [
              "endDate                    2020-09-26    2019-09-28    2018-09-29    2017-09-30\n",
              "Breakdown                                                                      \n",
              "totalLiab                258549000000  248028000000  258578000000  241272000000\n",
              "totalStockholderEquity    65339000000   90488000000  107147000000  134047000000\n",
              "otherCurrentLiab          47867000000   43242000000   39293000000   38099000000\n",
              "totalAssets              323888000000  338516000000  365725000000  375319000000\n",
              "commonStock               50779000000   45174000000   40201000000   35867000000\n",
              "otherCurrentAssets        11264000000   12352000000   12087000000   13936000000\n",
              "retainedEarnings          14966000000   45898000000   70400000000   98330000000\n",
              "otherLiab                 46108000000   50503000000   48914000000   43251000000\n",
              "treasuryStock              -406000000    -584000000   -3454000000    -150000000\n",
              "otherAssets               33952000000   32978000000   22283000000   18177000000\n",
              "cash                      38016000000   48844000000   25913000000   20289000000\n",
              "totalCurrentLiabilities  105392000000  105718000000  115929000000  100814000000\n",
              "shortLongTermDebt          8773000000   10260000000    8784000000    6496000000\n",
              "otherStockholderEquity     -406000000    -584000000   -3454000000    -150000000\n",
              "propertyPlantEquipment    45336000000   37378000000   41304000000   33783000000\n",
              "totalCurrentAssets       143713000000  162819000000  131339000000  128645000000\n",
              "longTermInvestments      100887000000  105341000000  170799000000  194714000000\n",
              "netTangibleAssets         65339000000   90488000000  107147000000  134047000000\n",
              "shortTermInvestments      52927000000   51713000000   40388000000   53892000000\n",
              "netReceivables            37445000000   45804000000   48995000000   35673000000\n",
              "longTermDebt              98667000000   91807000000   93735000000   97207000000\n",
              "inventory                  4061000000    4106000000    3956000000    4855000000\n",
              "accountsPayable           42296000000   46236000000   55888000000   44242000000"
            ]
          },
          "metadata": {
            "tags": []
          },
          "execution_count": 177
        }
      ]
    },
    {
      "cell_type": "markdown",
      "metadata": {
        "id": "42xRYPUHFfD2"
      },
      "source": [
        "각 종목의 재무상태표를 묶어서  최근 데이터를 보여준다."
      ]
    },
    {
      "cell_type": "code",
      "metadata": {
        "id": "qDj46KfVHcos"
      },
      "source": [
        "recent_sheets = {ticker : sheet.iloc[:,:2] for ticker, sheet in balance_sheets.items()}"
      ],
      "execution_count": 178,
      "outputs": []
    },
    {
      "cell_type": "code",
      "metadata": {
        "id": "wyjlhWns8Fag",
        "outputId": "eae120e7-9580-43d0-b2b1-09858587fac0",
        "colab": {
          "base_uri": "https://localhost:8080/"
        }
      },
      "source": [
        "recent_sheets"
      ],
      "execution_count": 188,
      "outputs": [
        {
          "output_type": "execute_result",
          "data": {
            "text/plain": [
              "{'aapl': endDate                    2020-09-26    2019-09-28\n",
              " Breakdown                                          \n",
              " totalLiab                258549000000  248028000000\n",
              " totalStockholderEquity    65339000000   90488000000\n",
              " otherCurrentLiab          47867000000   43242000000\n",
              " totalAssets              323888000000  338516000000\n",
              " commonStock               50779000000   45174000000\n",
              " otherCurrentAssets        11264000000   12352000000\n",
              " retainedEarnings          14966000000   45898000000\n",
              " otherLiab                 46108000000   50503000000\n",
              " treasuryStock              -406000000    -584000000\n",
              " otherAssets               33952000000   32978000000\n",
              " cash                      38016000000   48844000000\n",
              " totalCurrentLiabilities  105392000000  105718000000\n",
              " shortLongTermDebt          8773000000   10260000000\n",
              " otherStockholderEquity     -406000000    -584000000\n",
              " propertyPlantEquipment    45336000000   37378000000\n",
              " totalCurrentAssets       143713000000  162819000000\n",
              " longTermInvestments      100887000000  105341000000\n",
              " netTangibleAssets         65339000000   90488000000\n",
              " shortTermInvestments      52927000000   51713000000\n",
              " netReceivables            37445000000   45804000000\n",
              " longTermDebt              98667000000   91807000000\n",
              " inventory                  4061000000    4106000000\n",
              " accountsPayable           42296000000   46236000000,\n",
              " 'amzn': endDate                    2019-12-31    2018-12-31\n",
              " Breakdown                                          \n",
              " intangibleAssets         4.049000e+09  4.110000e+09\n",
              " capitalSurplus           3.365800e+10  2.679100e+10\n",
              " totalLiab                1.631880e+11  1.190990e+11\n",
              " totalStockholderEquity   6.206000e+10  4.354900e+10\n",
              " otherCurrentLiab         1.220200e+10  9.959000e+09\n",
              " totalAssets              2.252480e+11  1.626480e+11\n",
              " commonStock              5.000000e+06  5.000000e+06\n",
              " otherCurrentAssets       2.760000e+08  4.180000e+08\n",
              " retainedEarnings         3.122000e+10  1.962500e+10\n",
              " otherLiab                1.217100e+10  1.756300e+10\n",
              " goodWill                 1.475400e+10  1.454800e+10\n",
              " treasuryStock           -2.823000e+09 -2.872000e+09\n",
              " otherAssets              1.009600e+10  6.370000e+09\n",
              " cash                     3.609200e+10  3.175000e+10\n",
              " totalCurrentLiabilities  8.781200e+10  6.839100e+10\n",
              " shortLongTermDebt        1.307000e+09  1.371000e+09\n",
              " otherStockholderEquity  -9.860000e+08 -1.035000e+09\n",
              " propertyPlantEquipment   9.784600e+10  6.179700e+10\n",
              " totalCurrentAssets       9.633400e+10  7.510100e+10\n",
              " longTermInvestments      2.169000e+09  7.220000e+08\n",
              " netTangibleAssets        4.325700e+10  2.489100e+10\n",
              " shortTermInvestments     1.892900e+10  9.500000e+09\n",
              " netReceivables           2.054000e+10  1.625900e+10\n",
              " longTermDebt             2.341400e+10  2.349500e+10\n",
              " inventory                2.049700e+10  1.717400e+10\n",
              " accountsPayable          4.718300e+10  3.819200e+10,\n",
              " 'ba': endDate                         2019-12-31    2018-12-31\n",
              " Breakdown                                               \n",
              " intangibleAssets              3.338000e+09  3.429000e+09\n",
              " capitalSurplus                6.745000e+09  6.768000e+09\n",
              " totalLiab                     1.419250e+11  1.169490e+11\n",
              " totalStockholderEquity       -8.617000e+09  3.390000e+08\n",
              " minorityInterest              3.170000e+08  7.100000e+07\n",
              " otherCurrentLiab              6.371700e+10  5.493600e+10\n",
              " totalAssets                   1.336250e+11  1.173590e+11\n",
              " commonStock                   5.061000e+09  5.061000e+09\n",
              " otherCurrentAssets            3.106000e+09  2.335000e+09\n",
              " retainedEarnings              5.064400e+10  5.594100e+10\n",
              " otherLiab                     2.367300e+10  2.470200e+10\n",
              " goodWill                      8.060000e+09  7.840000e+09\n",
              " treasuryStock                -7.106700e+10 -6.743100e+10\n",
              " otherAssets                   3.086000e+09  2.110000e+09\n",
              " cash                          9.485000e+09  7.637000e+09\n",
              " totalCurrentLiabilities       9.731200e+10  8.159000e+10\n",
              " deferredLongTermAssetCharges  6.830000e+08  2.840000e+08\n",
              " shortLongTermDebt             6.840000e+09  2.690000e+09\n",
              " otherStockholderEquity       -1.615300e+10 -1.508300e+10\n",
              " propertyPlantEquipment        1.368400e+10  1.264500e+10\n",
              " totalCurrentAssets            1.022290e+11  8.783000e+10\n",
              " longTermInvestments           1.092000e+09  1.087000e+09\n",
              " netTangibleAssets            -2.001500e+10 -1.093000e+10\n",
              " shortTermInvestments          5.450000e+08  9.270000e+08\n",
              " netReceivables                1.230900e+10  1.390400e+10\n",
              " longTermDebt                  1.823300e+10  8.501000e+09\n",
              " inventory                     7.662200e+10  6.256700e+10\n",
              " accountsPayable               1.555300e+10  1.291600e+10,\n",
              " 'goog': endDate                         2019-12-31    2018-12-31\n",
              " Breakdown                                               \n",
              " intangibleAssets                1979000000    2220000000\n",
              " totalLiab                      74467000000   55164000000\n",
              " totalStockholderEquity        201442000000  177628000000\n",
              " otherCurrentLiab               22159000000   17612000000\n",
              " totalAssets                   275909000000  232792000000\n",
              " commonStock                    50552000000   45049000000\n",
              " otherCurrentAssets              4412000000    4236000000\n",
              " retainedEarnings              152122000000  134885000000\n",
              " otherLiab                      14478000000   16532000000\n",
              " goodWill                       20624000000   17888000000\n",
              " treasuryStock                  -1232000000   -2306000000\n",
              " otherAssets                     3063000000    3430000000\n",
              " cash                           18498000000   16701000000\n",
              " totalCurrentLiabilities        45221000000   34620000000\n",
              " deferredLongTermAssetCharges     721000000     737000000\n",
              " otherStockholderEquity         -1232000000   -2306000000\n",
              " propertyPlantEquipment         84587000000   59719000000\n",
              " totalCurrentAssets            152578000000  135676000000\n",
              " longTermInvestments            13078000000   13859000000\n",
              " netTangibleAssets             178839000000  157520000000\n",
              " shortTermInvestments          101177000000   92439000000\n",
              " netReceivables                 27492000000   21193000000\n",
              " longTermDebt                    3958000000    3950000000\n",
              " inventory                        999000000    1107000000\n",
              " accountsPayable                 5561000000    4378000000,\n",
              " 'msft': endDate                         2020-06-30    2019-06-30\n",
              " Breakdown                                               \n",
              " intangibleAssets                7038000000    7750000000\n",
              " totalLiab                     183007000000  184226000000\n",
              " totalStockholderEquity        118304000000  102330000000\n",
              " otherCurrentLiab               46001000000   45860000000\n",
              " totalAssets                   301311000000  286556000000\n",
              " commonStock                    80552000000   78520000000\n",
              " otherCurrentAssets             11517000000   10133000000\n",
              " retainedEarnings               34566000000   24150000000\n",
              " otherLiab                      34492000000   35699000000\n",
              " goodWill                       43351000000   42026000000\n",
              " treasuryStock                   3186000000    -340000000\n",
              " otherAssets                    13138000000   14723000000\n",
              " cash                           13576000000   11356000000\n",
              " totalCurrentLiabilities        72310000000   69420000000\n",
              " deferredLongTermAssetCharges    6405000000    7536000000\n",
              " shortLongTermDebt               3749000000    5516000000\n",
              " otherStockholderEquity          3186000000    -340000000\n",
              " propertyPlantEquipment         52904000000   43856000000\n",
              " totalCurrentAssets            181915000000  175552000000\n",
              " longTermInvestments             2965000000    2649000000\n",
              " netTangibleAssets              67915000000   52554000000\n",
              " shortTermInvestments          122916000000  122476000000\n",
              " netReceivables                 32011000000   29524000000\n",
              " longTermDebt                   59578000000   66662000000\n",
              " inventory                       1895000000    2063000000\n",
              " accountsPayable                12530000000    9382000000}"
            ]
          },
          "metadata": {
            "tags": []
          },
          "execution_count": 188
        }
      ]
    },
    {
      "cell_type": "code",
      "metadata": {
        "id": "ltObDEDMa4WT",
        "outputId": "bc779ab9-1596-4fb2-c2ad-437c99fc83ac",
        "colab": {
          "base_uri": "https://localhost:8080/",
          "height": 106
        }
      },
      "source": [
        "recent_sheets['aapl'][recent_sheets['aapl'].index=='cash']"
      ],
      "execution_count": 187,
      "outputs": [
        {
          "output_type": "execute_result",
          "data": {
            "text/html": [
              "<div>\n",
              "<style scoped>\n",
              "    .dataframe tbody tr th:only-of-type {\n",
              "        vertical-align: middle;\n",
              "    }\n",
              "\n",
              "    .dataframe tbody tr th {\n",
              "        vertical-align: top;\n",
              "    }\n",
              "\n",
              "    .dataframe thead th {\n",
              "        text-align: right;\n",
              "    }\n",
              "</style>\n",
              "<table border=\"1\" class=\"dataframe\">\n",
              "  <thead>\n",
              "    <tr style=\"text-align: right;\">\n",
              "      <th>endDate</th>\n",
              "      <th>2020-09-26</th>\n",
              "      <th>2019-09-28</th>\n",
              "    </tr>\n",
              "    <tr>\n",
              "      <th>Breakdown</th>\n",
              "      <th></th>\n",
              "      <th></th>\n",
              "    </tr>\n",
              "  </thead>\n",
              "  <tbody>\n",
              "    <tr>\n",
              "      <th>cash</th>\n",
              "      <td>38016000000</td>\n",
              "      <td>48844000000</td>\n",
              "    </tr>\n",
              "  </tbody>\n",
              "</table>\n",
              "</div>"
            ],
            "text/plain": [
              "endDate     2020-09-26   2019-09-28\n",
              "Breakdown                          \n",
              "cash       38016000000  48844000000"
            ]
          },
          "metadata": {
            "tags": []
          },
          "execution_count": 187
        }
      ]
    },
    {
      "cell_type": "markdown",
      "metadata": {
        "id": "sZwswi4DFSo9"
      },
      "source": [
        "####손익계산서(income statements)\n",
        "\n",
        "손익계산서는 get_income_statement 메서드를 사용하여 얻을 수 있다\n"
      ]
    },
    {
      "cell_type": "code",
      "metadata": {
        "id": "6oNEImTXCn0r"
      },
      "source": [
        "income=si.get_income_statement(\"aapl\")"
      ],
      "execution_count": 189,
      "outputs": []
    },
    {
      "cell_type": "code",
      "metadata": {
        "id": "Fc3va2geODTB",
        "outputId": "f4494c87-c74f-4dc6-da34-a9ce10093bdf",
        "colab": {
          "base_uri": "https://localhost:8080/",
          "height": 728
        }
      },
      "source": [
        "income"
      ],
      "execution_count": 194,
      "outputs": [
        {
          "output_type": "execute_result",
          "data": {
            "text/html": [
              "<div>\n",
              "<style scoped>\n",
              "    .dataframe tbody tr th:only-of-type {\n",
              "        vertical-align: middle;\n",
              "    }\n",
              "\n",
              "    .dataframe tbody tr th {\n",
              "        vertical-align: top;\n",
              "    }\n",
              "\n",
              "    .dataframe thead th {\n",
              "        text-align: right;\n",
              "    }\n",
              "</style>\n",
              "<table border=\"1\" class=\"dataframe\">\n",
              "  <thead>\n",
              "    <tr style=\"text-align: right;\">\n",
              "      <th>endDate</th>\n",
              "      <th>2020-09-26</th>\n",
              "      <th>2019-09-28</th>\n",
              "      <th>2018-09-29</th>\n",
              "      <th>2017-09-30</th>\n",
              "    </tr>\n",
              "    <tr>\n",
              "      <th>Breakdown</th>\n",
              "      <th></th>\n",
              "      <th></th>\n",
              "      <th></th>\n",
              "      <th></th>\n",
              "    </tr>\n",
              "  </thead>\n",
              "  <tbody>\n",
              "    <tr>\n",
              "      <th>researchDevelopment</th>\n",
              "      <td>18752000000</td>\n",
              "      <td>16217000000</td>\n",
              "      <td>14236000000</td>\n",
              "      <td>11581000000</td>\n",
              "    </tr>\n",
              "    <tr>\n",
              "      <th>effectOfAccountingCharges</th>\n",
              "      <td>None</td>\n",
              "      <td>None</td>\n",
              "      <td>None</td>\n",
              "      <td>None</td>\n",
              "    </tr>\n",
              "    <tr>\n",
              "      <th>incomeBeforeTax</th>\n",
              "      <td>67091000000</td>\n",
              "      <td>65737000000</td>\n",
              "      <td>72903000000</td>\n",
              "      <td>64089000000</td>\n",
              "    </tr>\n",
              "    <tr>\n",
              "      <th>minorityInterest</th>\n",
              "      <td>None</td>\n",
              "      <td>None</td>\n",
              "      <td>None</td>\n",
              "      <td>None</td>\n",
              "    </tr>\n",
              "    <tr>\n",
              "      <th>netIncome</th>\n",
              "      <td>57411000000</td>\n",
              "      <td>55256000000</td>\n",
              "      <td>59531000000</td>\n",
              "      <td>48351000000</td>\n",
              "    </tr>\n",
              "    <tr>\n",
              "      <th>sellingGeneralAdministrative</th>\n",
              "      <td>19916000000</td>\n",
              "      <td>18245000000</td>\n",
              "      <td>16705000000</td>\n",
              "      <td>15261000000</td>\n",
              "    </tr>\n",
              "    <tr>\n",
              "      <th>grossProfit</th>\n",
              "      <td>104956000000</td>\n",
              "      <td>98392000000</td>\n",
              "      <td>101839000000</td>\n",
              "      <td>88186000000</td>\n",
              "    </tr>\n",
              "    <tr>\n",
              "      <th>ebit</th>\n",
              "      <td>66288000000</td>\n",
              "      <td>63930000000</td>\n",
              "      <td>70898000000</td>\n",
              "      <td>61344000000</td>\n",
              "    </tr>\n",
              "    <tr>\n",
              "      <th>operatingIncome</th>\n",
              "      <td>66288000000</td>\n",
              "      <td>63930000000</td>\n",
              "      <td>70898000000</td>\n",
              "      <td>61344000000</td>\n",
              "    </tr>\n",
              "    <tr>\n",
              "      <th>otherOperatingExpenses</th>\n",
              "      <td>None</td>\n",
              "      <td>None</td>\n",
              "      <td>None</td>\n",
              "      <td>None</td>\n",
              "    </tr>\n",
              "    <tr>\n",
              "      <th>interestExpense</th>\n",
              "      <td>-2873000000</td>\n",
              "      <td>-3576000000</td>\n",
              "      <td>-3240000000</td>\n",
              "      <td>-2323000000</td>\n",
              "    </tr>\n",
              "    <tr>\n",
              "      <th>extraordinaryItems</th>\n",
              "      <td>None</td>\n",
              "      <td>None</td>\n",
              "      <td>None</td>\n",
              "      <td>None</td>\n",
              "    </tr>\n",
              "    <tr>\n",
              "      <th>nonRecurring</th>\n",
              "      <td>None</td>\n",
              "      <td>None</td>\n",
              "      <td>None</td>\n",
              "      <td>None</td>\n",
              "    </tr>\n",
              "    <tr>\n",
              "      <th>otherItems</th>\n",
              "      <td>None</td>\n",
              "      <td>None</td>\n",
              "      <td>None</td>\n",
              "      <td>None</td>\n",
              "    </tr>\n",
              "    <tr>\n",
              "      <th>incomeTaxExpense</th>\n",
              "      <td>9680000000</td>\n",
              "      <td>10481000000</td>\n",
              "      <td>13372000000</td>\n",
              "      <td>15738000000</td>\n",
              "    </tr>\n",
              "    <tr>\n",
              "      <th>totalRevenue</th>\n",
              "      <td>274515000000</td>\n",
              "      <td>260174000000</td>\n",
              "      <td>265595000000</td>\n",
              "      <td>229234000000</td>\n",
              "    </tr>\n",
              "    <tr>\n",
              "      <th>totalOperatingExpenses</th>\n",
              "      <td>208227000000</td>\n",
              "      <td>196244000000</td>\n",
              "      <td>194697000000</td>\n",
              "      <td>167890000000</td>\n",
              "    </tr>\n",
              "    <tr>\n",
              "      <th>costOfRevenue</th>\n",
              "      <td>169559000000</td>\n",
              "      <td>161782000000</td>\n",
              "      <td>163756000000</td>\n",
              "      <td>141048000000</td>\n",
              "    </tr>\n",
              "    <tr>\n",
              "      <th>totalOtherIncomeExpenseNet</th>\n",
              "      <td>803000000</td>\n",
              "      <td>1807000000</td>\n",
              "      <td>2005000000</td>\n",
              "      <td>2745000000</td>\n",
              "    </tr>\n",
              "    <tr>\n",
              "      <th>discontinuedOperations</th>\n",
              "      <td>None</td>\n",
              "      <td>None</td>\n",
              "      <td>None</td>\n",
              "      <td>None</td>\n",
              "    </tr>\n",
              "    <tr>\n",
              "      <th>netIncomeFromContinuingOps</th>\n",
              "      <td>57411000000</td>\n",
              "      <td>55256000000</td>\n",
              "      <td>59531000000</td>\n",
              "      <td>48351000000</td>\n",
              "    </tr>\n",
              "    <tr>\n",
              "      <th>netIncomeApplicableToCommonShares</th>\n",
              "      <td>57411000000</td>\n",
              "      <td>55256000000</td>\n",
              "      <td>59531000000</td>\n",
              "      <td>48351000000</td>\n",
              "    </tr>\n",
              "  </tbody>\n",
              "</table>\n",
              "</div>"
            ],
            "text/plain": [
              "endDate                              2020-09-26  ...    2017-09-30\n",
              "Breakdown                                        ...              \n",
              "researchDevelopment                 18752000000  ...   11581000000\n",
              "effectOfAccountingCharges                  None  ...          None\n",
              "incomeBeforeTax                     67091000000  ...   64089000000\n",
              "minorityInterest                           None  ...          None\n",
              "netIncome                           57411000000  ...   48351000000\n",
              "sellingGeneralAdministrative        19916000000  ...   15261000000\n",
              "grossProfit                        104956000000  ...   88186000000\n",
              "ebit                                66288000000  ...   61344000000\n",
              "operatingIncome                     66288000000  ...   61344000000\n",
              "otherOperatingExpenses                     None  ...          None\n",
              "interestExpense                     -2873000000  ...   -2323000000\n",
              "extraordinaryItems                         None  ...          None\n",
              "nonRecurring                               None  ...          None\n",
              "otherItems                                 None  ...          None\n",
              "incomeTaxExpense                     9680000000  ...   15738000000\n",
              "totalRevenue                       274515000000  ...  229234000000\n",
              "totalOperatingExpenses             208227000000  ...  167890000000\n",
              "costOfRevenue                      169559000000  ...  141048000000\n",
              "totalOtherIncomeExpenseNet            803000000  ...    2745000000\n",
              "discontinuedOperations                     None  ...          None\n",
              "netIncomeFromContinuingOps          57411000000  ...   48351000000\n",
              "netIncomeApplicableToCommonShares   57411000000  ...   48351000000\n",
              "\n",
              "[22 rows x 4 columns]"
            ]
          },
          "metadata": {
            "tags": []
          },
          "execution_count": 194
        }
      ]
    },
    {
      "cell_type": "markdown",
      "metadata": {
        "id": "tPVAR3NOFLau"
      },
      "source": [
        "매출액(total revenue)"
      ]
    },
    {
      "cell_type": "code",
      "metadata": {
        "id": "4cN6o0hwCrBR",
        "outputId": "403e669b-b68e-4138-bb74-6eb25d339bdb",
        "colab": {
          "base_uri": "https://localhost:8080/",
          "height": 106
        }
      },
      "source": [
        "income[income.index == \"totalRevenue\"]"
      ],
      "execution_count": 192,
      "outputs": [
        {
          "output_type": "execute_result",
          "data": {
            "text/html": [
              "<div>\n",
              "<style scoped>\n",
              "    .dataframe tbody tr th:only-of-type {\n",
              "        vertical-align: middle;\n",
              "    }\n",
              "\n",
              "    .dataframe tbody tr th {\n",
              "        vertical-align: top;\n",
              "    }\n",
              "\n",
              "    .dataframe thead th {\n",
              "        text-align: right;\n",
              "    }\n",
              "</style>\n",
              "<table border=\"1\" class=\"dataframe\">\n",
              "  <thead>\n",
              "    <tr style=\"text-align: right;\">\n",
              "      <th>endDate</th>\n",
              "      <th>2020-09-26</th>\n",
              "      <th>2019-09-28</th>\n",
              "      <th>2018-09-29</th>\n",
              "      <th>2017-09-30</th>\n",
              "    </tr>\n",
              "    <tr>\n",
              "      <th>Breakdown</th>\n",
              "      <th></th>\n",
              "      <th></th>\n",
              "      <th></th>\n",
              "      <th></th>\n",
              "    </tr>\n",
              "  </thead>\n",
              "  <tbody>\n",
              "    <tr>\n",
              "      <th>totalRevenue</th>\n",
              "      <td>274515000000</td>\n",
              "      <td>260174000000</td>\n",
              "      <td>265595000000</td>\n",
              "      <td>229234000000</td>\n",
              "    </tr>\n",
              "  </tbody>\n",
              "</table>\n",
              "</div>"
            ],
            "text/plain": [
              "endDate         2020-09-26    2019-09-28    2018-09-29    2017-09-30\n",
              "Breakdown                                                           \n",
              "totalRevenue  274515000000  260174000000  265595000000  229234000000"
            ]
          },
          "metadata": {
            "tags": []
          },
          "execution_count": 192
        }
      ]
    },
    {
      "cell_type": "markdown",
      "metadata": {
        "id": "etRl9bMnFJGP"
      },
      "source": [
        "매출총이익(gross profit)"
      ]
    },
    {
      "cell_type": "code",
      "metadata": {
        "id": "ExIrjU6wCuJb",
        "outputId": "89bf9ac8-9af3-4cb6-81d1-7a815bb18d4d",
        "colab": {
          "base_uri": "https://localhost:8080/",
          "height": 106
        }
      },
      "source": [
        "income[income.index == \"grossProfit\"]"
      ],
      "execution_count": 195,
      "outputs": [
        {
          "output_type": "execute_result",
          "data": {
            "text/html": [
              "<div>\n",
              "<style scoped>\n",
              "    .dataframe tbody tr th:only-of-type {\n",
              "        vertical-align: middle;\n",
              "    }\n",
              "\n",
              "    .dataframe tbody tr th {\n",
              "        vertical-align: top;\n",
              "    }\n",
              "\n",
              "    .dataframe thead th {\n",
              "        text-align: right;\n",
              "    }\n",
              "</style>\n",
              "<table border=\"1\" class=\"dataframe\">\n",
              "  <thead>\n",
              "    <tr style=\"text-align: right;\">\n",
              "      <th>endDate</th>\n",
              "      <th>2020-09-26</th>\n",
              "      <th>2019-09-28</th>\n",
              "      <th>2018-09-29</th>\n",
              "      <th>2017-09-30</th>\n",
              "    </tr>\n",
              "    <tr>\n",
              "      <th>Breakdown</th>\n",
              "      <th></th>\n",
              "      <th></th>\n",
              "      <th></th>\n",
              "      <th></th>\n",
              "    </tr>\n",
              "  </thead>\n",
              "  <tbody>\n",
              "    <tr>\n",
              "      <th>grossProfit</th>\n",
              "      <td>104956000000</td>\n",
              "      <td>98392000000</td>\n",
              "      <td>101839000000</td>\n",
              "      <td>88186000000</td>\n",
              "    </tr>\n",
              "  </tbody>\n",
              "</table>\n",
              "</div>"
            ],
            "text/plain": [
              "endDate        2020-09-26   2019-09-28    2018-09-29   2017-09-30\n",
              "Breakdown                                                        \n",
              "grossProfit  104956000000  98392000000  101839000000  88186000000"
            ]
          },
          "metadata": {
            "tags": []
          },
          "execution_count": 195
        }
      ]
    },
    {
      "cell_type": "markdown",
      "metadata": {
        "id": "PZSEBuw8FEJ9"
      },
      "source": [
        "여러 종목의 손익계산서 구하기"
      ]
    },
    {
      "cell_type": "code",
      "metadata": {
        "id": "JXbZgG1BDG6c"
      },
      "source": [
        "income_statements = {}\n",
        "for ticker in ['amzn', 'ba', 'msft', 'aapl', 'goog'] :\n",
        "    income_statements[ticker] = si.get_income_statement(ticker)"
      ],
      "execution_count": 196,
      "outputs": []
    },
    {
      "cell_type": "code",
      "metadata": {
        "id": "80pIOtJiZauy"
      },
      "source": [
        "income_statements"
      ],
      "execution_count": null,
      "outputs": []
    },
    {
      "cell_type": "code",
      "metadata": {
        "id": "fdN4B2x_Zkvp"
      },
      "source": [
        "recent_income_statements = {ticker : sheet.iloc[:,:2] for ticker,sheet in income_statements.items()}"
      ],
      "execution_count": 199,
      "outputs": []
    },
    {
      "cell_type": "code",
      "metadata": {
        "id": "8LLugToSZp_4",
        "outputId": "4db769e2-6ddc-43e7-fcbe-4ec311520126",
        "colab": {
          "base_uri": "https://localhost:8080/"
        }
      },
      "source": [
        "recent_income_statements"
      ],
      "execution_count": 201,
      "outputs": [
        {
          "output_type": "execute_result",
          "data": {
            "text/plain": [
              "{'aapl': endDate                              2020-09-26    2019-09-28\n",
              " Breakdown                                                    \n",
              " researchDevelopment                 18752000000   16217000000\n",
              " effectOfAccountingCharges                  None          None\n",
              " incomeBeforeTax                     67091000000   65737000000\n",
              " minorityInterest                           None          None\n",
              " netIncome                           57411000000   55256000000\n",
              " sellingGeneralAdministrative        19916000000   18245000000\n",
              " grossProfit                        104956000000   98392000000\n",
              " ebit                                66288000000   63930000000\n",
              " operatingIncome                     66288000000   63930000000\n",
              " otherOperatingExpenses                     None          None\n",
              " interestExpense                     -2873000000   -3576000000\n",
              " extraordinaryItems                         None          None\n",
              " nonRecurring                               None          None\n",
              " otherItems                                 None          None\n",
              " incomeTaxExpense                     9680000000   10481000000\n",
              " totalRevenue                       274515000000  260174000000\n",
              " totalOperatingExpenses             208227000000  196244000000\n",
              " costOfRevenue                      169559000000  161782000000\n",
              " totalOtherIncomeExpenseNet            803000000    1807000000\n",
              " discontinuedOperations                     None          None\n",
              " netIncomeFromContinuingOps          57411000000   55256000000\n",
              " netIncomeApplicableToCommonShares   57411000000   55256000000,\n",
              " 'amzn': endDate                              2019-12-31    2018-12-31\n",
              " Breakdown                                                    \n",
              " researchDevelopment                 35931000000   28837000000\n",
              " effectOfAccountingCharges                  None          None\n",
              " incomeBeforeTax                     13962000000   11270000000\n",
              " minorityInterest                           None          None\n",
              " netIncome                           11588000000   10073000000\n",
              " sellingGeneralAdministrative        64313000000   52177000000\n",
              " grossProfit                        114986000000   93731000000\n",
              " ebit                                14404000000   12421000000\n",
              " operatingIncome                     14404000000   12421000000\n",
              " otherOperatingExpenses                338000000     296000000\n",
              " interestExpense                     -1600000000   -1417000000\n",
              " extraordinaryItems                         None          None\n",
              " nonRecurring                               None          None\n",
              " otherItems                                 None          None\n",
              " incomeTaxExpense                     2374000000    1197000000\n",
              " totalRevenue                       280522000000  232887000000\n",
              " totalOperatingExpenses             266118000000  220466000000\n",
              " costOfRevenue                      165536000000  139156000000\n",
              " totalOtherIncomeExpenseNet           -442000000   -1151000000\n",
              " discontinuedOperations                     None          None\n",
              " netIncomeFromContinuingOps          11588000000   10073000000\n",
              " netIncomeApplicableToCommonShares   11588000000   10073000000,\n",
              " 'ba': endDate                             2019-12-31    2018-12-31\n",
              " Breakdown                                                   \n",
              " researchDevelopment                 3219000000    3269000000\n",
              " effectOfAccountingCharges                 None          None\n",
              " incomeBeforeTax                    -2259000000   11604000000\n",
              " minorityInterest                     317000000      71000000\n",
              " netIncome                           -636000000   10460000000\n",
              " sellingGeneralAdministrative        3642000000    4525000000\n",
              " grossProfit                         4759000000   19637000000\n",
              " ebit                               -2102000000   11843000000\n",
              " operatingIncome                    -2102000000   11843000000\n",
              " otherOperatingExpenses                    None          None\n",
              " interestExpense                     -722000000    -475000000\n",
              " extraordinaryItems                        None          None\n",
              " nonRecurring                              None          None\n",
              " otherItems                                None          None\n",
              " incomeTaxExpense                   -1623000000    1144000000\n",
              " totalRevenue                       76559000000  101127000000\n",
              " totalOperatingExpenses             78661000000   89284000000\n",
              " costOfRevenue                      71800000000   81490000000\n",
              " totalOtherIncomeExpenseNet          -157000000    -239000000\n",
              " discontinuedOperations                    None          None\n",
              " netIncomeFromContinuingOps          -636000000   10460000000\n",
              " netIncomeApplicableToCommonShares   -636000000   10460000000,\n",
              " 'goog': endDate                              2019-12-31    2018-12-31\n",
              " Breakdown                                                    \n",
              " researchDevelopment                 26018000000   21419000000\n",
              " effectOfAccountingCharges                  None          None\n",
              " incomeBeforeTax                     39625000000   34913000000\n",
              " minorityInterest                           None          None\n",
              " netIncome                           34343000000   30736000000\n",
              " sellingGeneralAdministrative        27461000000   23256000000\n",
              " grossProfit                         89961000000   77270000000\n",
              " ebit                                36482000000   32595000000\n",
              " operatingIncome                     36482000000   32595000000\n",
              " otherOperatingExpenses                     None          None\n",
              " interestExpense                      -100000000    -114000000\n",
              " extraordinaryItems                         None          None\n",
              " nonRecurring                               None          None\n",
              " otherItems                                 None          None\n",
              " incomeTaxExpense                     5282000000    4177000000\n",
              " totalRevenue                       161857000000  136819000000\n",
              " totalOperatingExpenses             125375000000  104224000000\n",
              " costOfRevenue                       71896000000   59549000000\n",
              " totalOtherIncomeExpenseNet           3143000000    2318000000\n",
              " discontinuedOperations                     None          None\n",
              " netIncomeFromContinuingOps          34343000000   30736000000\n",
              " netIncomeApplicableToCommonShares   34343000000   30736000000,\n",
              " 'msft': endDate                              2020-06-30    2019-06-30\n",
              " Breakdown                                                    \n",
              " researchDevelopment                 19269000000   16876000000\n",
              " effectOfAccountingCharges                  None          None\n",
              " incomeBeforeTax                     53036000000   43688000000\n",
              " minorityInterest                           None          None\n",
              " netIncome                           44281000000   39240000000\n",
              " sellingGeneralAdministrative        24709000000   23098000000\n",
              " grossProfit                         96937000000   82933000000\n",
              " ebit                                52959000000   42959000000\n",
              " operatingIncome                     52959000000   42959000000\n",
              " otherOperatingExpenses                     None          None\n",
              " interestExpense                     -2591000000   -2686000000\n",
              " extraordinaryItems                         None          None\n",
              " nonRecurring                               None          None\n",
              " otherItems                                 None          None\n",
              " incomeTaxExpense                     8755000000    4448000000\n",
              " totalRevenue                       143015000000  125843000000\n",
              " totalOperatingExpenses              90056000000   82884000000\n",
              " costOfRevenue                       46078000000   42910000000\n",
              " totalOtherIncomeExpenseNet             77000000     729000000\n",
              " discontinuedOperations                     None          None\n",
              " netIncomeFromContinuingOps          44281000000   39240000000\n",
              " netIncomeApplicableToCommonShares   44281000000   39240000000}"
            ]
          },
          "metadata": {
            "tags": []
          },
          "execution_count": 201
        }
      ]
    },
    {
      "cell_type": "code",
      "metadata": {
        "id": "5VU2Nuz8AKmN",
        "outputId": "e9192a88-7b23-4491-cbce-fa5be799a32a",
        "colab": {
          "base_uri": "https://localhost:8080/",
          "height": 106
        }
      },
      "source": [
        "recent_income_statements['aapl'][recent_income_statements['aapl'].index=='netIncome']"
      ],
      "execution_count": 205,
      "outputs": [
        {
          "output_type": "execute_result",
          "data": {
            "text/html": [
              "<div>\n",
              "<style scoped>\n",
              "    .dataframe tbody tr th:only-of-type {\n",
              "        vertical-align: middle;\n",
              "    }\n",
              "\n",
              "    .dataframe tbody tr th {\n",
              "        vertical-align: top;\n",
              "    }\n",
              "\n",
              "    .dataframe thead th {\n",
              "        text-align: right;\n",
              "    }\n",
              "</style>\n",
              "<table border=\"1\" class=\"dataframe\">\n",
              "  <thead>\n",
              "    <tr style=\"text-align: right;\">\n",
              "      <th>endDate</th>\n",
              "      <th>2020-09-26</th>\n",
              "      <th>2019-09-28</th>\n",
              "    </tr>\n",
              "    <tr>\n",
              "      <th>Breakdown</th>\n",
              "      <th></th>\n",
              "      <th></th>\n",
              "    </tr>\n",
              "  </thead>\n",
              "  <tbody>\n",
              "    <tr>\n",
              "      <th>netIncome</th>\n",
              "      <td>57411000000</td>\n",
              "      <td>55256000000</td>\n",
              "    </tr>\n",
              "  </tbody>\n",
              "</table>\n",
              "</div>"
            ],
            "text/plain": [
              "endDate     2020-09-26   2019-09-28\n",
              "Breakdown                          \n",
              "netIncome  57411000000  55256000000"
            ]
          },
          "metadata": {
            "tags": []
          },
          "execution_count": 205
        }
      ]
    },
    {
      "cell_type": "markdown",
      "metadata": {
        "id": "4cF352sdEisI"
      },
      "source": [
        "####개별종목의 현금흐름표 다운로드\n",
        "\n",
        "현금흐름표(cash flow statements)는 get_cash_flow 메서드를 사용하여 구한다"
      ]
    },
    {
      "cell_type": "code",
      "metadata": {
        "id": "3og_QwIhDW5p"
      },
      "source": [
        "flow = si.get_cash_flow(\"aapl\")"
      ],
      "execution_count": 206,
      "outputs": []
    },
    {
      "cell_type": "code",
      "metadata": {
        "id": "9J8yuLkQOH1s",
        "outputId": "fd699e6c-416e-4a51-8de3-bd20642b519f",
        "colab": {
          "base_uri": "https://localhost:8080/"
        }
      },
      "source": [
        "flow.items"
      ],
      "execution_count": 219,
      "outputs": [
        {
          "output_type": "execute_result",
          "data": {
            "text/plain": [
              "<bound method DataFrame.items of endDate                                 2020-09-26  ...   2017-09-30\n",
              "Breakdown                                           ...             \n",
              "investments                             5335000000  ... -33542000000\n",
              "changeToLiabilities                    -1981000000  ...   8373000000\n",
              "totalCashflowsFromInvestingActivities  -4289000000  ... -46446000000\n",
              "netBorrowings                           2499000000  ...  29014000000\n",
              "totalCashFromFinancingActivities      -86820000000  ... -17974000000\n",
              "changeToOperatingActivities              881000000  ...  -8480000000\n",
              "issuanceOfStock                          880000000  ...    555000000\n",
              "netIncome                              57411000000  ...  48351000000\n",
              "changeInCash                          -10435000000  ...   -195000000\n",
              "repurchaseOfStock                     -75992000000  ... -34774000000\n",
              "totalCashFromOperatingActivities       80674000000  ...  64225000000\n",
              "depreciation                           11056000000  ...  10157000000\n",
              "otherCashflowsFromInvestingActivities   -791000000  ...   -124000000\n",
              "dividendsPaid                         -14081000000  ... -12769000000\n",
              "changeToInventory                       -127000000  ...  -2723000000\n",
              "changeToAccountReceivables              6917000000  ...  -2093000000\n",
              "otherCashflowsFromFinancingActivities   -126000000  ...   -105000000\n",
              "changeToNetincome                       6517000000  ...  10640000000\n",
              "capitalExpenditures                    -7309000000  ... -12451000000\n",
              "\n",
              "[19 rows x 4 columns]>"
            ]
          },
          "metadata": {
            "tags": []
          },
          "execution_count": 219
        }
      ]
    },
    {
      "cell_type": "markdown",
      "metadata": {
        "id": "FzLSpj9wEVNa"
      },
      "source": [
        "여러 종목의 현금흐름표 다운로드"
      ]
    },
    {
      "cell_type": "code",
      "metadata": {
        "id": "kawdFwv4DaR1"
      },
      "source": [
        "cash_flows = {}\n",
        "for ticker in ['amzn', 'ba', 'msft', 'aapl', 'goog']:\n",
        "    cash_flows[ticker] = si.get_cash_flow(ticker)"
      ],
      "execution_count": 208,
      "outputs": []
    },
    {
      "cell_type": "markdown",
      "metadata": {
        "id": "BL04X8mLEL03"
      },
      "source": [
        "다운받은 현금흐름표 묶기"
      ]
    },
    {
      "cell_type": "code",
      "metadata": {
        "id": "EqmEkqfPDdP6"
      },
      "source": [
        "recent_cash_flows = {ticker : flow.iloc[:,:2] for ticker,flow in cash_flows.items()}"
      ],
      "execution_count": 209,
      "outputs": []
    },
    {
      "cell_type": "code",
      "metadata": {
        "id": "LfTV3GT83ssg",
        "outputId": "9e0339de-eb48-4cad-8bf2-2a6fc48adcc3",
        "colab": {
          "base_uri": "https://localhost:8080/",
          "height": 106
        }
      },
      "source": [
        "recent_cash_flows['amzn'][recent_cash_flows['amzn'].index=='depreciation']"
      ],
      "execution_count": 212,
      "outputs": [
        {
          "output_type": "execute_result",
          "data": {
            "text/html": [
              "<div>\n",
              "<style scoped>\n",
              "    .dataframe tbody tr th:only-of-type {\n",
              "        vertical-align: middle;\n",
              "    }\n",
              "\n",
              "    .dataframe tbody tr th {\n",
              "        vertical-align: top;\n",
              "    }\n",
              "\n",
              "    .dataframe thead th {\n",
              "        text-align: right;\n",
              "    }\n",
              "</style>\n",
              "<table border=\"1\" class=\"dataframe\">\n",
              "  <thead>\n",
              "    <tr style=\"text-align: right;\">\n",
              "      <th>endDate</th>\n",
              "      <th>2019-12-31</th>\n",
              "      <th>2018-12-31</th>\n",
              "    </tr>\n",
              "    <tr>\n",
              "      <th>Breakdown</th>\n",
              "      <th></th>\n",
              "      <th></th>\n",
              "    </tr>\n",
              "  </thead>\n",
              "  <tbody>\n",
              "    <tr>\n",
              "      <th>depreciation</th>\n",
              "      <td>2.178900e+10</td>\n",
              "      <td>1.534100e+10</td>\n",
              "    </tr>\n",
              "  </tbody>\n",
              "</table>\n",
              "</div>"
            ],
            "text/plain": [
              "endDate         2019-12-31    2018-12-31\n",
              "Breakdown                               \n",
              "depreciation  2.178900e+10  1.534100e+10"
            ]
          },
          "metadata": {
            "tags": []
          },
          "execution_count": 212
        }
      ]
    }
  ]
}