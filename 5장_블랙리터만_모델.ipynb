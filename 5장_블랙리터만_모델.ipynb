{
  "nbformat": 4,
  "nbformat_minor": 0,
  "metadata": {
    "anaconda-cloud": {},
    "kernelspec": {
      "display_name": "Python [Root]",
      "language": "python",
      "name": "Python [Root]"
    },
    "language_info": {
      "codemirror_mode": {
        "name": "ipython",
        "version": 3
      },
      "file_extension": ".py",
      "mimetype": "text/x-python",
      "name": "python",
      "nbconvert_exporter": "python",
      "pygments_lexer": "ipython3",
      "version": "3.5.2"
    },
    "colab": {
      "name": "5장 블랙리터만 모델",
      "provenance": [],
      "collapsed_sections": [],
      "include_colab_link": true
    }
  },
  "cells": [
    {
      "cell_type": "markdown",
      "metadata": {
        "id": "view-in-github",
        "colab_type": "text"
      },
      "source": [
        "<a href=\"https://colab.research.google.com/github/jimsjoo/gilbut_portfolio/blob/master/5%EC%9E%A5_%EB%B8%94%EB%9E%99%EB%A6%AC%ED%84%B0%EB%A7%8C_%EB%AA%A8%EB%8D%B8.ipynb\" target=\"_parent\"><img src=\"https://colab.research.google.com/assets/colab-badge.svg\" alt=\"Open In Colab\"/></a>"
      ]
    },
    {
      "cell_type": "markdown",
      "metadata": {
        "id": "JCZE0nymlzkP",
        "colab_type": "text"
      },
      "source": [
        "#5장. 블랙-리터만 모델(Black-Litterman)"
      ]
    },
    {
      "cell_type": "markdown",
      "metadata": {
        "id": "QNUiVzJy6SjS",
        "colab_type": "text"
      },
      "source": [
        "# 필요한 라이브러리 임포트"
      ]
    },
    {
      "cell_type": "code",
      "metadata": {
        "id": "2RLIKfHMlzkT",
        "colab_type": "code",
        "colab": {}
      },
      "source": [
        "%matplotlib inline\n",
        "import matplotlib.pylab as plt\n",
        "plt.rcParams[\"figure.figsize\"] = (10, 9)\n",
        "import scipy.optimize\n",
        "import pandas as pd \n",
        "import numpy as np\n",
        "from numpy.linalg import inv"
      ],
      "execution_count": 0,
      "outputs": []
    },
    {
      "cell_type": "markdown",
      "metadata": {
        "id": "mEPbtor9lzka",
        "colab_type": "text"
      },
      "source": [
        "## 기타 계산과 출력을 위한 함수"
      ]
    },
    {
      "cell_type": "code",
      "metadata": {
        "id": "gOA5Zud0lzkc",
        "colab_type": "code",
        "colab": {}
      },
      "source": [
        "# Calculates portfolio mean return\n",
        "def get_mean(W, R):\n",
        "    return sum(R * W)\n",
        "\n",
        "# Calculates portfolio variance of returns\n",
        "def get_var(W, C):\n",
        "    return dot(dot(W, C), W)\n",
        "    \n",
        "# 포트폴리오 수익률 평균 및 분산\n",
        "def get_mean_var(W, R, C):\n",
        "    return sum(R * W), np.dot(np.dot(W, C), W)"
      ],
      "execution_count": 0,
      "outputs": []
    },
    {
      "cell_type": "code",
      "metadata": {
        "id": "bBkthw7Dlzkh",
        "colab_type": "code",
        "colab": {}
      },
      "source": [
        "# 무위험수익률, 수익률,공분산으로 평균-분산 프런티어 계산\n",
        "def solveFrontier(R, C, rf):\n",
        "    def fitness(W, R, C, r):\n",
        "        # 주어진 수익률에서 분산을 최소로 하는 비중 계산\n",
        "        mean = sum(R * W)\n",
        "        var = np.dot(np.dot(W, C), W)\n",
        "        # 최적화 제약조건 페널티\n",
        "        penalty = 100 * abs(mean - r)             \n",
        "        return var + penalty\n",
        "\n",
        "    frontier_mean, frontier_var = [], []\n",
        "    n = len(R)  # 투자자산 갯수\n",
        "    # 수익률 최저~최대 사이를 반복한다\n",
        "    for r in linspace(min(R), max(R), num=20):  # Iterate through the range of returns on Y axis\n",
        "        # 최적화 함수에 전달할 초기값으로 동일비중으로 시작한다\n",
        "        W = np.ones([n]) / n \n",
        "        # 최적화 함수에 전달할 제약조건을 미리 준비한다\n",
        "        b_ = [(0, 1) for i in range(n)]\n",
        "        c_ = ({'type': 'eq', 'fun': lambda W: sum(W) - 1.})\n",
        "        # 최적화 함수 minimize()은 최적화할 함수와 최적화를 시작할 초깃값을 인수로 받는다. \n",
        "        # fitness가 최적화할 함수이다.\n",
        "        optimized = scipy.optimize.minimize(fitness, W, (R, C, r), method='SLSQP', constraints=c_, bounds=b_)\n",
        "        if not optimized.success:\n",
        "            raise BaseException(optimized.message)\n",
        "        # add point to the efficient frontier [x,y] = [optimized.x, r]\n",
        "        # 효율적 프런티어에 포트폴리오 하나를 추가\n",
        "        frontier_mean.append(r)\n",
        "        frontier_var.append(get_var(optimized.x, C))\n",
        "    return array(frontier_mean), array(frontier_var)"
      ],
      "execution_count": 0,
      "outputs": []
    },
    {
      "cell_type": "code",
      "metadata": {
        "id": "i-tp-CbTlzkm",
        "colab_type": "code",
        "colab": {}
      },
      "source": [
        "# 무위험수익률, 수익률,공분산으로\n",
        "# 샤프비율을 최대로 하는 접점포트폴리오 비중 계산 \n",
        "def solveWeights(R, C, rf):\n",
        "    def fitness(W, R, C, rf):\n",
        "        mean, var = get_mean_var(W, R, C)  # calculate mean/variance of the portfolio\n",
        "        util = (mean - rf) / sqrt(var)  # utility = Sharpe ratio\n",
        "        return 1 / util  # maximize the utility, minimize its inverse value\n",
        "    n = len(R)\n",
        "    W = np.ones([n]) / n  # start optimization with equal weights\n",
        "    b_ = [(0., 1.) for i in range(n)]  # weights for boundaries between 0%..100%. No leverage, no shorting\n",
        "    c_ = ({'type': 'eq', 'fun': lambda W: sum(W) - 1.})  # Sum of weights must be 100%\n",
        "    optimized = scipy.optimize.minimize(fitness, W, (R, C, rf), method='SLSQP', constraints=c_, bounds=b_)\n",
        "    if not optimized.success: \n",
        "      raise BaseException(optimized.message)\n",
        "    return optimized.x"
      ],
      "execution_count": 0,
      "outputs": []
    },
    {
      "cell_type": "code",
      "metadata": {
        "id": "oz2xgEj9lzkr",
        "colab_type": "code",
        "colab": {}
      },
      "source": [
        "# 여러 개의 값을 한 번에 돌려주기 위한 클래스, \n",
        "# 즉 여러 개의 물건을 한번에 옮기기 위한 상자로 생각하면 된다\n",
        "class Result:\n",
        "    def __init__(self, W, tan_mean, tan_var, front_mean, front_var):\n",
        "        self.W=W\n",
        "        self.tan_mean=tan_mean\n",
        "        self.tan_var=tan_var\n",
        "        self.front_mean=front_mean\n",
        "        self.front_var=front_var\n",
        "\n",
        "# 효율적 포트폴리오 최적화        \n",
        "def optimize_frontier(R, C, rf):\n",
        "    W = solveWeights(R, C, rf)\n",
        "    tan_mean, tan_var = get_mean_var(W, R, C)  # calculate tangency portfolio\n",
        "    front_mean, front_var = solveFrontier(R, C, rf)  # calculate efficient frontier\n",
        "    # Weights, Tangency portfolio asset means and variances, Efficient frontier means and variances\n",
        "    return Result(W, tan_mean, tan_var, front_mean, front_var)\n",
        "\n",
        "def display_assets(names, R, C, color='black'):\n",
        "    n = len(names)\n",
        "    scatter([C[i, i] ** .5 for i in range(n)], R, marker='x', color=color), grid(True)  # draw assets\n",
        "    for i in range(n): \n",
        "        text(C[i, i] ** .5, R[i], '  %s' % names[i], verticalalignment='center', color=color) # draw labels\n",
        "\n",
        "def display_frontier(result, label=None, color='black'):\n",
        "    text(result.tan_var ** .5, result.tan_mean, '   tangent', verticalalignment='center', color=color)\n",
        "    scatter(result.tan_var ** .5, result.tan_mean, marker='o', color=color), grid(True)\n",
        "    plot(result.front_var ** .5, result.front_mean, label=label, color=color), grid(True)  # draw efficient frontier"
      ],
      "execution_count": 0,
      "outputs": []
    },
    {
      "cell_type": "code",
      "metadata": {
        "id": "S0IxjR--Lc2o",
        "colab_type": "code",
        "colab": {}
      },
      "source": [
        ""
      ],
      "execution_count": 0,
      "outputs": []
    },
    {
      "cell_type": "markdown",
      "metadata": {
        "id": "DpU47GLWlzkw",
        "colab_type": "text"
      },
      "source": [
        "## 1. 과거 데이터 읽어오기"
      ]
    },
    {
      "cell_type": "code",
      "metadata": {
        "id": "ITV2wzSQlzkx",
        "colab_type": "code",
        "colab": {}
      },
      "source": [
        "# Function loads historical stock prices of nine major S&P companies and returns them together\n",
        "# with their market capitalizations, as of 2013-07-01\n",
        "def load_data():\n",
        "    symbols = ['XOM', 'AAPL', 'MSFT', 'JNJ', 'GE', 'GOOG', 'CVX', 'PG', 'WFC']\n",
        "    cap = {'XOM': 403.02e9, 'AAPL': 392.90e9, 'MSFT': 283.60e9, 'JNJ': 243.17e9, 'GE': 236.79e9,\n",
        "           'GOOG': 292.72e9, 'CVX': 231.03e9, 'PG': 214.99e9, 'WFC': 218.79e9}\n",
        "    n = len(symbols)\n",
        "    prices_out, caps_out = [], []\n",
        "    for s in symbols:\n",
        "        dataframe = pd.read_csv('https://raw.githubusercontent.com/jimsjoo/gilbut_portfolio/master/Data/%s.csv' % s, index_col=None, parse_dates=['date'])\n",
        "        prices = list(dataframe['close'])[-500:] # trailing window 500 days\n",
        "        prices_out.append(prices)\n",
        "        caps_out.append(cap[s])\n",
        "    return symbols, prices_out, caps_out\n",
        "\n",
        "names, prices, caps = load_data()\n",
        "n = len(names)"
      ],
      "execution_count": 0,
      "outputs": []
    },
    {
      "cell_type": "markdown",
      "metadata": {
        "id": "I9tFgCaQlzk2",
        "colab_type": "text"
      },
      "source": [
        "## 2. 과거 수익률과 공분산 추정"
      ]
    },
    {
      "cell_type": "code",
      "metadata": {
        "id": "qrUce_FLlzk4",
        "colab_type": "code",
        "colab": {}
      },
      "source": [
        "# Function takes historical stock prices together with market capitalizations and\n",
        "# calculates weights, historical returns and historical covariances\n",
        "# 포트폴리오 수익률의 평균과 공분산 계산\n",
        "def assets_historical_returns_and_covariances(prices):\n",
        "    prices = matrix(prices)  # create numpy matrix from prices\n",
        "    # create matrix of historical returns\n",
        "    rows, cols = prices.shape\n",
        "    returns = empty([rows, cols - 1])\n",
        "    for r in range(rows):\n",
        "        for c in range(cols - 1):\n",
        "            p0, p1 = prices[r, c], prices[r, c + 1]\n",
        "            returns[r, c] = (p1 / p0) - 1\n",
        "    # calculate returns\n",
        "    expreturns = array([])\n",
        "    for r in range(rows):\n",
        "        expreturns = append(expreturns, numpy.mean(returns[r]))\n",
        "    # calculate covariances\n",
        "    covars = cov(returns)\n",
        "    expreturns = (1 + expreturns) ** 250 - 1  # Annualize returns\n",
        "    covars = covars * 250  # Annualize covariances\n",
        "    return expreturns, covars\n",
        "\n",
        "W = array(caps) / sum(caps) # calculate market weights from capitalizations\n",
        "R, C = assets_historical_returns_and_covariances(prices)\n",
        "rf = .015  # Risk-free rate"
      ],
      "execution_count": 0,
      "outputs": []
    },
    {
      "cell_type": "markdown",
      "metadata": {
        "id": "VSfQI8iSlzk9",
        "colab_type": "text"
      },
      "source": [
        "##### 2.1 포트폴리오 자산 수익률과 비중"
      ]
    },
    {
      "cell_type": "code",
      "metadata": {
        "id": "-Qh5hzkFlzk_",
        "colab_type": "code",
        "outputId": "e1bcdc00-9cc7-48ec-c017-067af238cd4d",
        "colab": {
          "base_uri": "https://localhost:8080/",
          "height": 108
        }
      },
      "source": [
        "display(pd.DataFrame({'Return': R, 'Weight (based on market cap)': W}, index=names).T)"
      ],
      "execution_count": 0,
      "outputs": [
        {
          "output_type": "display_data",
          "data": {
            "text/html": [
              "<div>\n",
              "<style scoped>\n",
              "    .dataframe tbody tr th:only-of-type {\n",
              "        vertical-align: middle;\n",
              "    }\n",
              "\n",
              "    .dataframe tbody tr th {\n",
              "        vertical-align: top;\n",
              "    }\n",
              "\n",
              "    .dataframe thead th {\n",
              "        text-align: right;\n",
              "    }\n",
              "</style>\n",
              "<table border=\"1\" class=\"dataframe\">\n",
              "  <thead>\n",
              "    <tr style=\"text-align: right;\">\n",
              "      <th></th>\n",
              "      <th>XOM</th>\n",
              "      <th>AAPL</th>\n",
              "      <th>MSFT</th>\n",
              "      <th>JNJ</th>\n",
              "      <th>GE</th>\n",
              "      <th>GOOG</th>\n",
              "      <th>CVX</th>\n",
              "      <th>PG</th>\n",
              "      <th>WFC</th>\n",
              "    </tr>\n",
              "  </thead>\n",
              "  <tbody>\n",
              "    <tr>\n",
              "      <th>Return</th>\n",
              "      <td>0.072993</td>\n",
              "      <td>0.129536</td>\n",
              "      <td>0.172047</td>\n",
              "      <td>0.143764</td>\n",
              "      <td>0.140385</td>\n",
              "      <td>0.331958</td>\n",
              "      <td>0.092131</td>\n",
              "      <td>0.112222</td>\n",
              "      <td>0.268935</td>\n",
              "    </tr>\n",
              "    <tr>\n",
              "      <th>Weight (based on market cap)</th>\n",
              "      <td>0.160119</td>\n",
              "      <td>0.156098</td>\n",
              "      <td>0.112673</td>\n",
              "      <td>0.096611</td>\n",
              "      <td>0.094076</td>\n",
              "      <td>0.116297</td>\n",
              "      <td>0.091787</td>\n",
              "      <td>0.085415</td>\n",
              "      <td>0.086925</td>\n",
              "    </tr>\n",
              "  </tbody>\n",
              "</table>\n",
              "</div>"
            ],
            "text/plain": [
              "                                   XOM      AAPL  ...        PG       WFC\n",
              "Return                        0.072993  0.129536  ...  0.112222  0.268935\n",
              "Weight (based on market cap)  0.160119  0.156098  ...  0.085415  0.086925\n",
              "\n",
              "[2 rows x 9 columns]"
            ]
          },
          "metadata": {
            "tags": []
          }
        }
      ]
    },
    {
      "cell_type": "markdown",
      "metadata": {
        "id": "uFzIRpCJlzlL",
        "colab_type": "text"
      },
      "source": [
        "##### 2.2 포트폴리오 자산 수익률의 공분산"
      ]
    },
    {
      "cell_type": "code",
      "metadata": {
        "id": "SX-HPQA1lzlM",
        "colab_type": "code",
        "outputId": "52aa9aa5-099b-44e7-b3bc-8a3e3594d156",
        "colab": {
          "base_uri": "https://localhost:8080/",
          "height": 318
        }
      },
      "source": [
        "display(pd.DataFrame(C, columns=names, index=names))"
      ],
      "execution_count": 0,
      "outputs": [
        {
          "output_type": "display_data",
          "data": {
            "text/html": [
              "<div>\n",
              "<style scoped>\n",
              "    .dataframe tbody tr th:only-of-type {\n",
              "        vertical-align: middle;\n",
              "    }\n",
              "\n",
              "    .dataframe tbody tr th {\n",
              "        vertical-align: top;\n",
              "    }\n",
              "\n",
              "    .dataframe thead th {\n",
              "        text-align: right;\n",
              "    }\n",
              "</style>\n",
              "<table border=\"1\" class=\"dataframe\">\n",
              "  <thead>\n",
              "    <tr style=\"text-align: right;\">\n",
              "      <th></th>\n",
              "      <th>XOM</th>\n",
              "      <th>AAPL</th>\n",
              "      <th>MSFT</th>\n",
              "      <th>JNJ</th>\n",
              "      <th>GE</th>\n",
              "      <th>GOOG</th>\n",
              "      <th>CVX</th>\n",
              "      <th>PG</th>\n",
              "      <th>WFC</th>\n",
              "    </tr>\n",
              "  </thead>\n",
              "  <tbody>\n",
              "    <tr>\n",
              "      <th>XOM</th>\n",
              "      <td>0.039015</td>\n",
              "      <td>0.022296</td>\n",
              "      <td>0.027982</td>\n",
              "      <td>0.019595</td>\n",
              "      <td>0.036647</td>\n",
              "      <td>0.026728</td>\n",
              "      <td>0.038245</td>\n",
              "      <td>0.018216</td>\n",
              "      <td>0.042972</td>\n",
              "    </tr>\n",
              "    <tr>\n",
              "      <th>AAPL</th>\n",
              "      <td>0.022296</td>\n",
              "      <td>0.091844</td>\n",
              "      <td>0.024599</td>\n",
              "      <td>0.011578</td>\n",
              "      <td>0.027814</td>\n",
              "      <td>0.033249</td>\n",
              "      <td>0.028240</td>\n",
              "      <td>0.011532</td>\n",
              "      <td>0.036756</td>\n",
              "    </tr>\n",
              "    <tr>\n",
              "      <th>MSFT</th>\n",
              "      <td>0.027982</td>\n",
              "      <td>0.024599</td>\n",
              "      <td>0.051014</td>\n",
              "      <td>0.016842</td>\n",
              "      <td>0.032649</td>\n",
              "      <td>0.026231</td>\n",
              "      <td>0.030815</td>\n",
              "      <td>0.013724</td>\n",
              "      <td>0.040321</td>\n",
              "    </tr>\n",
              "    <tr>\n",
              "      <th>JNJ</th>\n",
              "      <td>0.019595</td>\n",
              "      <td>0.011578</td>\n",
              "      <td>0.016842</td>\n",
              "      <td>0.019456</td>\n",
              "      <td>0.021048</td>\n",
              "      <td>0.015547</td>\n",
              "      <td>0.021005</td>\n",
              "      <td>0.013196</td>\n",
              "      <td>0.026861</td>\n",
              "    </tr>\n",
              "    <tr>\n",
              "      <th>GE</th>\n",
              "      <td>0.036647</td>\n",
              "      <td>0.027814</td>\n",
              "      <td>0.032649</td>\n",
              "      <td>0.021048</td>\n",
              "      <td>0.059233</td>\n",
              "      <td>0.031083</td>\n",
              "      <td>0.040677</td>\n",
              "      <td>0.019377</td>\n",
              "      <td>0.053928</td>\n",
              "    </tr>\n",
              "    <tr>\n",
              "      <th>GOOG</th>\n",
              "      <td>0.026728</td>\n",
              "      <td>0.033249</td>\n",
              "      <td>0.026231</td>\n",
              "      <td>0.015547</td>\n",
              "      <td>0.031083</td>\n",
              "      <td>0.066899</td>\n",
              "      <td>0.030258</td>\n",
              "      <td>0.015123</td>\n",
              "      <td>0.039019</td>\n",
              "    </tr>\n",
              "    <tr>\n",
              "      <th>CVX</th>\n",
              "      <td>0.038245</td>\n",
              "      <td>0.028240</td>\n",
              "      <td>0.030815</td>\n",
              "      <td>0.021005</td>\n",
              "      <td>0.040677</td>\n",
              "      <td>0.030258</td>\n",
              "      <td>0.050857</td>\n",
              "      <td>0.019587</td>\n",
              "      <td>0.048326</td>\n",
              "    </tr>\n",
              "    <tr>\n",
              "      <th>PG</th>\n",
              "      <td>0.018216</td>\n",
              "      <td>0.011532</td>\n",
              "      <td>0.013724</td>\n",
              "      <td>0.013196</td>\n",
              "      <td>0.019377</td>\n",
              "      <td>0.015123</td>\n",
              "      <td>0.019587</td>\n",
              "      <td>0.025152</td>\n",
              "      <td>0.022479</td>\n",
              "    </tr>\n",
              "    <tr>\n",
              "      <th>WFC</th>\n",
              "      <td>0.042972</td>\n",
              "      <td>0.036756</td>\n",
              "      <td>0.040321</td>\n",
              "      <td>0.026861</td>\n",
              "      <td>0.053928</td>\n",
              "      <td>0.039019</td>\n",
              "      <td>0.048326</td>\n",
              "      <td>0.022479</td>\n",
              "      <td>0.089826</td>\n",
              "    </tr>\n",
              "  </tbody>\n",
              "</table>\n",
              "</div>"
            ],
            "text/plain": [
              "           XOM      AAPL      MSFT  ...       CVX        PG       WFC\n",
              "XOM   0.039015  0.022296  0.027982  ...  0.038245  0.018216  0.042972\n",
              "AAPL  0.022296  0.091844  0.024599  ...  0.028240  0.011532  0.036756\n",
              "MSFT  0.027982  0.024599  0.051014  ...  0.030815  0.013724  0.040321\n",
              "JNJ   0.019595  0.011578  0.016842  ...  0.021005  0.013196  0.026861\n",
              "GE    0.036647  0.027814  0.032649  ...  0.040677  0.019377  0.053928\n",
              "GOOG  0.026728  0.033249  0.026231  ...  0.030258  0.015123  0.039019\n",
              "CVX   0.038245  0.028240  0.030815  ...  0.050857  0.019587  0.048326\n",
              "PG    0.018216  0.011532  0.013724  ...  0.019587  0.025152  0.022479\n",
              "WFC   0.042972  0.036756  0.040321  ...  0.048326  0.022479  0.089826\n",
              "\n",
              "[9 rows x 9 columns]"
            ]
          },
          "metadata": {
            "tags": []
          }
        }
      ]
    },
    {
      "cell_type": "markdown",
      "metadata": {
        "id": "DJrGp-VnlzlQ",
        "colab_type": "text"
      },
      "source": [
        "## 3. 과거 주가를 바탕으로 평균-분산 포트폴리오(Mean-Variance) 최적화"
      ]
    },
    {
      "cell_type": "code",
      "metadata": {
        "id": "nPbFcQohlzlR",
        "colab_type": "code",
        "outputId": "6a2b8b86-c127-4731-d009-739c16c50737",
        "colab": {
          "base_uri": "https://localhost:8080/",
          "height": 615
        }
      },
      "source": [
        "res1 = optimize_frontier(R, C, rf)\n",
        "\n",
        "display_assets(names, R, C, color='blue')\n",
        "display_frontier(res1, color='blue')\n",
        "xlabel('variance $\\sigma$'), ylabel('mean $\\mu$'), show()\n",
        "display(pd.DataFrame({'Weight': res1.W}, index=names).T)"
      ],
      "execution_count": 0,
      "outputs": [
        {
          "output_type": "display_data",
          "data": {
            "image/png": "[encoded data removed]",
            "text/plain": [
              "<Figure size 720x648 with 1 Axes>"
            ]
          },
          "metadata": {
            "tags": []
          }
        },
        {
          "output_type": "display_data",
          "data": {
            "text/html": [
              "<div>\n",
              "<style scoped>\n",
              "    .dataframe tbody tr th:only-of-type {\n",
              "        vertical-align: middle;\n",
              "    }\n",
              "\n",
              "    .dataframe tbody tr th {\n",
              "        vertical-align: top;\n",
              "    }\n",
              "\n",
              "    .dataframe thead th {\n",
              "        text-align: right;\n",
              "    }\n",
              "</style>\n",
              "<table border=\"1\" class=\"dataframe\">\n",
              "  <thead>\n",
              "    <tr style=\"text-align: right;\">\n",
              "      <th></th>\n",
              "      <th>XOM</th>\n",
              "      <th>AAPL</th>\n",
              "      <th>MSFT</th>\n",
              "      <th>JNJ</th>\n",
              "      <th>GE</th>\n",
              "      <th>GOOG</th>\n",
              "      <th>CVX</th>\n",
              "      <th>PG</th>\n",
              "      <th>WFC</th>\n",
              "    </tr>\n",
              "  </thead>\n",
              "  <tbody>\n",
              "    <tr>\n",
              "      <th>Weight</th>\n",
              "      <td>1.528002e-16</td>\n",
              "      <td>0.0</td>\n",
              "      <td>1.684932e-17</td>\n",
              "      <td>0.450921</td>\n",
              "      <td>5.244599e-17</td>\n",
              "      <td>0.528356</td>\n",
              "      <td>0.0</td>\n",
              "      <td>0.0</td>\n",
              "      <td>0.020723</td>\n",
              "    </tr>\n",
              "  </tbody>\n",
              "</table>\n",
              "</div>"
            ],
            "text/plain": [
              "                 XOM  AAPL          MSFT  ...  CVX   PG       WFC\n",
              "Weight  1.528002e-16   0.0  1.684932e-17  ...  0.0  0.0  0.020723\n",
              "\n",
              "[1 rows x 9 columns]"
            ]
          },
          "metadata": {
            "tags": []
          }
        }
      ]
    },
    {
      "cell_type": "markdown",
      "metadata": {
        "id": "WUhr1Z9ClzlV",
        "colab_type": "text"
      },
      "source": [
        "## 4. 블랙-리터만 역최적화(Black-litterman reverse optimization)"
      ]
    },
    {
      "cell_type": "code",
      "metadata": {
        "id": "3IfJCDOdlzlW",
        "colab_type": "code",
        "colab": {}
      },
      "source": [
        "# Calculate portfolio historical return and variance\n",
        "mean, var = port_mean_var(W, R, C)\n",
        "\n",
        "lmb = (mean - rf) / var  # Calculate risk aversion\n",
        "Pi = np.dot(np.dot(lmb, C), W)  # Calculate equilibrium excess returns"
      ],
      "execution_count": 0,
      "outputs": []
    },
    {
      "cell_type": "markdown",
      "metadata": {
        "id": "xPKIo5qulzlb",
        "colab_type": "text"
      },
      "source": [
        "##### Mean-variance Optimization (based on equilibrium returns)\n",
        "##### 4.1 균형수익률을 바탕으로 평균-분산 포트폴리오(Mean-Variance) 최적화"
      ]
    },
    {
      "cell_type": "code",
      "metadata": {
        "id": "0RBEEdHrlzlc",
        "colab_type": "code",
        "outputId": "8c3abdd1-7b8e-402b-ebc1-3713c78dbcba",
        "colab": {
          "base_uri": "https://localhost:8080/",
          "height": 615
        }
      },
      "source": [
        "res2 = optimize_frontier(Pi+rf, C, rf)\n",
        "\n",
        "display_assets(names, R, C, color='red')\n",
        "display_frontier(res1, label='Historical returns', color='red')\n",
        "display_assets(names, Pi+rf, C, color='green')\n",
        "display_frontier(res2, label='Implied returns', color='green')\n",
        "xlabel('variance $\\sigma$'), ylabel('mean $\\mu$'), legend(), show()\n",
        "display(pd.DataFrame({'Weight': res2.W}, index=names).T)"
      ],
      "execution_count": 0,
      "outputs": [
        {
          "output_type": "display_data",
          "data": {
            "image/png": "[encoded data removed]",
            "text/plain": [
              "<Figure size 720x648 with 1 Axes>"
            ]
          },
          "metadata": {
            "tags": []
          }
        },
        {
          "output_type": "display_data",
          "data": {
            "text/html": [
              "<div>\n",
              "<style scoped>\n",
              "    .dataframe tbody tr th:only-of-type {\n",
              "        vertical-align: middle;\n",
              "    }\n",
              "\n",
              "    .dataframe tbody tr th {\n",
              "        vertical-align: top;\n",
              "    }\n",
              "\n",
              "    .dataframe thead th {\n",
              "        text-align: right;\n",
              "    }\n",
              "</style>\n",
              "<table border=\"1\" class=\"dataframe\">\n",
              "  <thead>\n",
              "    <tr style=\"text-align: right;\">\n",
              "      <th></th>\n",
              "      <th>XOM</th>\n",
              "      <th>AAPL</th>\n",
              "      <th>MSFT</th>\n",
              "      <th>JNJ</th>\n",
              "      <th>GE</th>\n",
              "      <th>GOOG</th>\n",
              "      <th>CVX</th>\n",
              "      <th>PG</th>\n",
              "      <th>WFC</th>\n",
              "    </tr>\n",
              "  </thead>\n",
              "  <tbody>\n",
              "    <tr>\n",
              "      <th>Weight</th>\n",
              "      <td>0.160429</td>\n",
              "      <td>0.15617</td>\n",
              "      <td>0.112453</td>\n",
              "      <td>0.097424</td>\n",
              "      <td>0.093807</td>\n",
              "      <td>0.116209</td>\n",
              "      <td>0.091813</td>\n",
              "      <td>0.084692</td>\n",
              "      <td>0.087002</td>\n",
              "    </tr>\n",
              "  </tbody>\n",
              "</table>\n",
              "</div>"
            ],
            "text/plain": [
              "             XOM     AAPL      MSFT  ...       CVX        PG       WFC\n",
              "Weight  0.160429  0.15617  0.112453  ...  0.091813  0.084692  0.087002\n",
              "\n",
              "[1 rows x 9 columns]"
            ]
          },
          "metadata": {
            "tags": []
          }
        }
      ]
    },
    {
      "cell_type": "markdown",
      "metadata": {
        "id": "osLANxCnlzlh",
        "colab_type": "text"
      },
      "source": [
        "##### Determine views to the equilibrium returns and prepare views (Q) and link (P) matrices\n",
        "##### 4.2 "
      ]
    },
    {
      "cell_type": "code",
      "metadata": {
        "id": "8ofxilbblzli",
        "colab_type": "code",
        "outputId": "d7651b78-9405-4601-cca9-cae7032872e0",
        "colab": {
          "base_uri": "https://localhost:8080/",
          "height": 235
        }
      },
      "source": [
        "def create_views_and_link_matrix(names, views):\n",
        "    r, c = len(views), len(names)\n",
        "    Q = [views[i][3] for i in range(r)]  # view matrix\n",
        "    P = zeros([r, c])\n",
        "    nameToIndex = dict()\n",
        "    for i, n in enumerate(names):\n",
        "        nameToIndex[n] = i\n",
        "    for i, v in enumerate(views):\n",
        "        name1, name2 = views[i][0], views[i][2]\n",
        "        P[i, nameToIndex[name1]] = +1 if views[i][1] == '>' else -1\n",
        "        P[i, nameToIndex[name2]] = -1 if views[i][1] == '>' else +1\n",
        "    return array(Q), P\n",
        "\n",
        "views = [('MSFT', '>', 'GE', 0.02),\n",
        "         ('AAPL', '<', 'JNJ', 0.02)]\n",
        "\n",
        "Q, P = create_views_and_link_matrix(names, views)\n",
        "print('Views Matrix')\n",
        "display(DataFrame({'Views':Q}))\n",
        "print('Link Matrix')\n",
        "display(DataFrame(P))"
      ],
      "execution_count": 0,
      "outputs": [
        {
          "output_type": "stream",
          "text": [
            "Views Matrix\n"
          ],
          "name": "stdout"
        },
        {
          "output_type": "display_data",
          "data": {
            "text/html": [
              "<div>\n",
              "<style scoped>\n",
              "    .dataframe tbody tr th:only-of-type {\n",
              "        vertical-align: middle;\n",
              "    }\n",
              "\n",
              "    .dataframe tbody tr th {\n",
              "        vertical-align: top;\n",
              "    }\n",
              "\n",
              "    .dataframe thead th {\n",
              "        text-align: right;\n",
              "    }\n",
              "</style>\n",
              "<table border=\"1\" class=\"dataframe\">\n",
              "  <thead>\n",
              "    <tr style=\"text-align: right;\">\n",
              "      <th></th>\n",
              "      <th>Views</th>\n",
              "    </tr>\n",
              "  </thead>\n",
              "  <tbody>\n",
              "    <tr>\n",
              "      <th>0</th>\n",
              "      <td>0.02</td>\n",
              "    </tr>\n",
              "    <tr>\n",
              "      <th>1</th>\n",
              "      <td>0.02</td>\n",
              "    </tr>\n",
              "  </tbody>\n",
              "</table>\n",
              "</div>"
            ],
            "text/plain": [
              "   Views\n",
              "0   0.02\n",
              "1   0.02"
            ]
          },
          "metadata": {
            "tags": []
          }
        },
        {
          "output_type": "stream",
          "text": [
            "Link Matrix\n"
          ],
          "name": "stdout"
        },
        {
          "output_type": "display_data",
          "data": {
            "text/html": [
              "<div>\n",
              "<style scoped>\n",
              "    .dataframe tbody tr th:only-of-type {\n",
              "        vertical-align: middle;\n",
              "    }\n",
              "\n",
              "    .dataframe tbody tr th {\n",
              "        vertical-align: top;\n",
              "    }\n",
              "\n",
              "    .dataframe thead th {\n",
              "        text-align: right;\n",
              "    }\n",
              "</style>\n",
              "<table border=\"1\" class=\"dataframe\">\n",
              "  <thead>\n",
              "    <tr style=\"text-align: right;\">\n",
              "      <th></th>\n",
              "      <th>0</th>\n",
              "      <th>1</th>\n",
              "      <th>2</th>\n",
              "      <th>3</th>\n",
              "      <th>4</th>\n",
              "      <th>5</th>\n",
              "      <th>6</th>\n",
              "      <th>7</th>\n",
              "      <th>8</th>\n",
              "    </tr>\n",
              "  </thead>\n",
              "  <tbody>\n",
              "    <tr>\n",
              "      <th>0</th>\n",
              "      <td>0.0</td>\n",
              "      <td>0.0</td>\n",
              "      <td>1.0</td>\n",
              "      <td>0.0</td>\n",
              "      <td>-1.0</td>\n",
              "      <td>0.0</td>\n",
              "      <td>0.0</td>\n",
              "      <td>0.0</td>\n",
              "      <td>0.0</td>\n",
              "    </tr>\n",
              "    <tr>\n",
              "      <th>1</th>\n",
              "      <td>0.0</td>\n",
              "      <td>-1.0</td>\n",
              "      <td>0.0</td>\n",
              "      <td>1.0</td>\n",
              "      <td>0.0</td>\n",
              "      <td>0.0</td>\n",
              "      <td>0.0</td>\n",
              "      <td>0.0</td>\n",
              "      <td>0.0</td>\n",
              "    </tr>\n",
              "  </tbody>\n",
              "</table>\n",
              "</div>"
            ],
            "text/plain": [
              "     0    1    2    3    4    5    6    7    8\n",
              "0  0.0  0.0  1.0  0.0 -1.0  0.0  0.0  0.0  0.0\n",
              "1  0.0 -1.0  0.0  1.0  0.0  0.0  0.0  0.0  0.0"
            ]
          },
          "metadata": {
            "tags": []
          }
        }
      ]
    },
    {
      "cell_type": "markdown",
      "metadata": {
        "id": "G3t2LxRUlzln",
        "colab_type": "text"
      },
      "source": [
        "##### Optimization based on Equilibrium returns with adjusted views\n",
        "##### 4.3 조정된 의견에 따른 균형수익률을 바탕으로 최적화"
      ]
    },
    {
      "cell_type": "code",
      "metadata": {
        "id": "W1KVdMPBlzlo",
        "colab_type": "code",
        "outputId": "f393b6e4-1dd0-41ef-f3e6-d7a52ba76559",
        "colab": {
          "base_uri": "https://localhost:8080/",
          "height": 537
        }
      },
      "source": [
        "tau = .025  # scaling factor\n",
        "\n",
        "# Calculate omega - uncertainty matrix about views\n",
        "omega = np.dot(np.dot(np.dot(tau, P), C), np.transpose(P))  # 0.025 * P * C * transpose(P)\n",
        "# Calculate equilibrium excess returns with views incorporated\n",
        "sub_a = inv(np.dot(tau, C))\n",
        "sub_b = np.dot(dot(np.transpose(P), inv(omega)), P)\n",
        "sub_c = np.dot(inv(np.dot(tau, C)), Pi)\n",
        "sub_d = np.dot(np.dot(np.transpose(P), inv(omega)), Q)\n",
        "Pi_adj = np.dot(inv(sub_a + sub_b), (sub_c + sub_d))\n",
        "\n",
        "res3 = optimize_frontier(Pi + rf, C, rf)\n",
        "\n",
        "display_assets(names, Pi+rf, C, color='green')\n",
        "# display_frontier(res2, label='Implied returns', color='green')\n",
        "# display_assets(names, Pi_adj+rf, C, color='blue')\n",
        "# display_frontier(res3, label='Implied returns (adjusted views)', color='blue')\n",
        "# xlabel('variance $\\sigma$'), ylabel('mean $\\mu$'), legend(), show()\n",
        "# display(pd.DataFrame({'Weight': res2.W}, index=names).T)"
      ],
      "execution_count": 0,
      "outputs": [
        {
          "output_type": "display_data",
          "data": {
            "image/png": "[encoded data removed]",
            "text/plain": [
              "<Figure size 720x648 with 1 Axes>"
            ]
          },
          "metadata": {
            "tags": []
          }
        }
      ]
    }
  ]
}