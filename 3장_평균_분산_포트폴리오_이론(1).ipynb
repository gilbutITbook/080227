{
  "nbformat": 4,
  "nbformat_minor": 0,
  "metadata": {
    "colab": {
      "name": "3장 평균-분산 포트폴리오 이론(1).ipynb",
      "provenance": [],
      "collapsed_sections": [],
      "include_colab_link": true
    },
    "kernelspec": {
      "name": "python3",
      "display_name": "Python 3"
    }
  },
  "cells": [
    {
      "cell_type": "markdown",
      "metadata": {
        "id": "view-in-github",
        "colab_type": "text"
      },
      "source": [
        "<a href=\"https://colab.research.google.com/github/jimsjoo/gilbut_portfolio/blob/master/3%EC%9E%A5_%ED%8F%89%EA%B7%A0_%EB%B6%84%EC%82%B0_%ED%8F%AC%ED%8A%B8%ED%8F%B4%EB%A6%AC%EC%98%A4_%EC%9D%B4%EB%A1%A0(1).ipynb\" target=\"_parent\"><img src=\"https://colab.research.google.com/assets/colab-badge.svg\" alt=\"Open In Colab\"/></a>"
      ]
    },
    {
      "cell_type": "markdown",
      "metadata": {
        "id": "fPmRbmAxACN7",
        "colab_type": "text"
      },
      "source": [
        "3.1\t포트폴리오의 기대수익률과 위험"
      ]
    },
    {
      "cell_type": "markdown",
      "metadata": {
        "id": "RM0K46dYA2rh",
        "colab_type": "text"
      },
      "source": [
        "3.1.1\t두 개의 주식으로 구성된 포트폴리오"
      ]
    },
    {
      "cell_type": "markdown",
      "metadata": {
        "id": "H-QVGVi2EjZi",
        "colab_type": "text"
      },
      "source": [
        "포트폴리오의 기대수익률"
      ]
    },
    {
      "cell_type": "code",
      "metadata": {
        "id": "sUbMpMR9socB",
        "colab_type": "code",
        "outputId": "2af17888-b590-496c-fa9e-e8e1a3f97a8d",
        "colab": {
          "base_uri": "https://localhost:8080/",
          "height": 122
        }
      },
      "source": [
        "# 경기국면별 확률과 주식의 기대수익률\n",
        "stock_a = [ 0.07, 0.04, 0.01 ]\n",
        "stock_b = [ 0.13, 0.04, -0.05 ]\n",
        "prob = [ 1/3, 1/3, 1/3 ]\n",
        "\n",
        "ex_a = 0.0\n",
        "ex_b = 0.0\n",
        "wgt_a = 0.5\n",
        "wgt_b = 0.5\n",
        "\n",
        "# for s, p in zip(stock_a, prob):\n",
        "#   ex_a = ex_a + s*p\n",
        "\n",
        "ex_a = sum(s*p for s, p in zip(stock_a, prob)) \n",
        "\n",
        "# for s, p in zip(stock_b, prob):\n",
        "#   ex_b = ex_b + s*p\n",
        "  \n",
        "ex_b = sum(s*p for s, p in zip(stock_b, prob))   \n",
        "\n",
        "\n",
        "ex_p = wgt_a * ex_a + wgt_b * ex_b\n",
        "\n",
        "print('주식A의 기대수익률은 {:.2%}'.format(ex_a))\n",
        "print('주식B의 기대수익률은 {:.2%}'.format(ex_b))\n",
        "print('포트폴리오의 기대수익률은 {:.2%}'.format(ex_p))\n",
        "\n",
        "var_a = 0.0\n",
        "var_b = 0.0\n",
        "\n",
        "\n",
        "# for s, p in zip(stock_a, prob):\n",
        "#   var_a = var_a + p*(s-ex_a)**2\n",
        "\n",
        "var_a = sum(p*(s-ex_b)**2 for s,p in zip(stock_a, prob))  \n",
        "\n",
        "# for s, p in zip(stock_b, prob):\n",
        "#   var_b = var_b + p*(s-ex_b)**2\n",
        "\n",
        "var_b = sum(p*(s-ex_b)**2 for s,p in zip(stock_b, prob))\n",
        "\n",
        "print('주식A의 분산은 {:.2%}'.format(var_a))\n",
        "print('주식B의 분산은 {:.2%}'.format(var_b))\n",
        "\n",
        "cov = sum(p*(a-ex_a)*(b-ex_b) for a,b,p in zip(stock_a,stock_b,prob))\n",
        "\n",
        "var_p = wgt_a**2 * var_a + wgt_b**2 * var_b + 2*wgt_a*wgt_b*cov\n",
        "\n",
        "print('포트폴리오의 분산은 {:.2%}'.format(var_p))"
      ],
      "execution_count": 0,
      "outputs": [
        {
          "output_type": "stream",
          "text": [
            "주식A의 기대수익률은 4.00%\n",
            "주식B의 기대수익률은 4.00%\n",
            "포트폴리오의 기대수익률은 4.00%\n",
            "주식A의 분산은 0.06%\n",
            "주식B의 분산은 0.54%\n",
            "포트폴리오의 분산은 0.24%\n"
          ],
          "name": "stdout"
        }
      ]
    },
    {
      "cell_type": "code",
      "metadata": {
        "id": "9Qs7MUDZ5Ehb",
        "colab_type": "code",
        "outputId": "6c768489-371d-4f63-8070-8d4efe65bad7",
        "colab": {
          "base_uri": "https://localhost:8080/",
          "height": 70
        }
      },
      "source": [
        "import numpy as np\n",
        "\n",
        "prob = np.matrix( [ [1/3, 1/3, 1/3] ] )\n",
        "stock_a = np.matrix( [ [7, 4, 1] ] )\n",
        "stock_b = np.matrix( [ [13, 4, -5] ] )\n",
        "\n",
        "ex_a = prob * stock_a.T\n",
        "ex_b = prob * stock_b.T\n",
        "print('주식A의 기대수익율은 %.2f%%' % ex_a)\n",
        "print('주식B의 기대수익율은 %.2f%%' % ex_b)\n",
        "\n",
        "weight = np.matrix([[0.5, 0.5]])\n",
        "ex_ab = np.matrix([\n",
        "    [ np.asscalar(ex_a) , np.asscalar(ex_b) ]\n",
        "])\n",
        "ex_p  = weight * ex_ab.T\n",
        "print('포트폴리오의 기대수익율은 %.2f%%' % ex_p)"
      ],
      "execution_count": 0,
      "outputs": [
        {
          "output_type": "stream",
          "text": [
            "주식A의 기대수익율은 4.00%\n",
            "주식B의 기대수익율은 4.00%\n",
            "포트폴리오의 기대수익율은 4.00%\n"
          ],
          "name": "stdout"
        }
      ]
    },
    {
      "cell_type": "code",
      "metadata": {
        "id": "E4aaTL816bmo",
        "colab_type": "code",
        "outputId": "3bde409f-1a56-4bfd-f493-8323a3770957",
        "colab": {
          "base_uri": "https://localhost:8080/",
          "height": 70
        }
      },
      "source": [
        "import numpy as np\n",
        "\n",
        "prob = np.matrix( [ [1/3, 1/3, 1/3] ] )\n",
        "\n",
        "stock_a = np.matrix( [ \n",
        "    [7], \n",
        "    [4], \n",
        "    [1] \n",
        "] )\n",
        "\n",
        "stock_b = np.matrix( [ \n",
        "    [13], \n",
        "    [ 4], \n",
        "    [-5] \n",
        "] )\n",
        "\n",
        "ex_a = prob * stock_a\n",
        "ex_b = prob * stock_b\n",
        "\n",
        "print('주식A의 기대수익율은 %.2f%%' % ex_a)\n",
        "print('주식B의 기대수익율은 %.2f%%' % ex_b)\n",
        "\n",
        "weight = np.matrix([[0.5, 0.5]])\n",
        "\n",
        "ex_ab = np.matrix([\n",
        "    [ np.asscalar(ex_a) ],\n",
        "    [ np.asscalar(ex_b) ]\n",
        "\n",
        "\n",
        "ex_p  = weight * ex_ab\n",
        "print('포트폴리오의 기대수익율은 %.2f%%' % ex_p)"
      ],
      "execution_count": 0,
      "outputs": [
        {
          "output_type": "stream",
          "text": [
            "주식A의 기대수익율은 4.00%\n",
            "주식B의 기대수익율은 4.00%\n",
            "포트폴리오의 기대수익율은 4.00%\n"
          ],
          "name": "stdout"
        }
      ]
    },
    {
      "cell_type": "markdown",
      "metadata": {
        "id": "Avi5b8IFBN6Q",
        "colab_type": "text"
      },
      "source": [
        "포트폴리오의 위험"
      ]
    },
    {
      "cell_type": "code",
      "metadata": {
        "id": "9Atw__ANBSZf",
        "colab_type": "code",
        "outputId": "76611dc7-49be-4921-b7f1-eb781027e0e8",
        "colab": {
          "base_uri": "https://localhost:8080/",
          "height": 87
        }
      },
      "source": [
        "import math\n",
        "\n",
        "stock_a = [ 0.07, 0.04, 0.01 ]\n",
        "stock_b = [ 0.13, 0.04, -0.05 ]\n",
        "prob = [ 1/3, 1/3, 1/3 ]\n",
        "ex_a = 0.0\n",
        "ex_b = 0.0\n",
        "\n",
        "for s, p in zip(stock_a, prob):\n",
        "  ex_a = ex_a + s*p\n",
        "\n",
        "for s, p in zip(stock_b, prob):\n",
        "  ex_b = ex_b + s*p\n",
        "\n",
        "var_a = 0.0\n",
        "var_b = 0.0\n",
        "wgt_a = 0.5\n",
        "wgt_b = 0.5\n",
        "for s, p in zip(stock_a, prob):\n",
        "   var_a = var_a + p*(s-ex_a)**2\n",
        "    \n",
        "for s, p in zip(stock_b, prob):\n",
        "  var_b = var_b + p*(s-ex_b)**2\n",
        "  \n",
        "print('주식A의 분산은 {:.2%}'.format(var_a))\n",
        "print('주식B의 분산은 {:.2%}'.format(var_b))\n",
        "\n",
        "cov = sum(p*(a-ex_a)*(b-ex_b) for a, b, p in zip(stock_a, stock_b, prob))\n",
        "var_p = wgt_a**2 * var_a + wgt_b**2 * var_b + 2*wgt_a*wgt_b*cov\n",
        "std_p = math.sqrt(var_p)\n",
        "print('포트폴리오의 분산은 {:.2%}'.format(var_p))\n",
        "print('포트폴리오의 표준편차는 {:.2%}'.format(std_p))"
      ],
      "execution_count": 0,
      "outputs": [
        {
          "output_type": "stream",
          "text": [
            "주식A의 분산은 0.06%\n",
            "주식B의 분산은 0.54%\n",
            "포트폴리오의 분산은 0.24%\n",
            "포트폴리오의 표준편차는 4.90%\n"
          ],
          "name": "stdout"
        }
      ]
    },
    {
      "cell_type": "markdown",
      "metadata": {
        "id": "GzXu_El0elJO",
        "colab_type": "text"
      },
      "source": [
        "3.1.2\t n개 주식으로 만든 포트폴리오"
      ]
    },
    {
      "cell_type": "code",
      "metadata": {
        "id": "Y6R6tJuZNclE",
        "colab_type": "code",
        "outputId": "ac0dbf35-1ee8-4a38-ce5e-df2aba9c254f",
        "colab": {
          "base_uri": "https://localhost:8080/",
          "height": 298
        }
      },
      "source": [
        "import numpy as np\n",
        "\n",
        "rnd = np.random.rand(10, 2)\n",
        "print(rnd)\n",
        "\n",
        "rnd = np.random.randn(3, 10)\n",
        "print(rnd)"
      ],
      "execution_count": 0,
      "outputs": [
        {
          "output_type": "stream",
          "text": [
            "[[0.57403308 0.85574668]\n",
            " [0.96373518 0.20181315]\n",
            " [0.90500488 0.96982676]\n",
            " [0.84802789 0.25654038]\n",
            " [0.01815102 0.85113699]\n",
            " [0.01662986 0.46049268]\n",
            " [0.71023153 0.18689373]\n",
            " [0.74376683 0.48822548]\n",
            " [0.58177434 0.98270369]\n",
            " [0.71647177 0.72061599]]\n",
            "[[ 1.23332804 -1.66862387  2.36218329 -1.37447663  0.5196521   0.18708745\n",
            "  -0.8224515  -0.26497787 -0.45074736  0.38500167]\n",
            " [ 0.48703573 -0.14262162  0.94235176  2.25372525 -2.14574509  0.1418736\n",
            "  -0.10983454 -0.00274475 -0.52119783 -0.62268819]\n",
            " [-0.76994329  0.69018206 -0.7258714   0.22687705  1.71132287  1.02711095\n",
            "   1.73866552  0.58775154 -0.79179237 -0.88367587]]\n"
          ],
          "name": "stdout"
        }
      ]
    },
    {
      "cell_type": "markdown",
      "metadata": {
        "id": "V7usbPUuWZdg",
        "colab_type": "text"
      },
      "source": [
        "난수로 생성한 수익률과 투자비중으로 포트폴리오 수익률 계산"
      ]
    },
    {
      "cell_type": "code",
      "metadata": {
        "id": "J7KO95poej6s",
        "colab_type": "code",
        "outputId": "7db41cc8-3af8-42c2-ba8a-191d95774506",
        "colab": {
          "base_uri": "https://localhost:8080/",
          "height": 246
        }
      },
      "source": [
        "import numpy as np\n",
        "\n",
        "# 자산의 갯수\n",
        "numStocks = 3\n",
        "\n",
        "# 세 가지 경기국면별로 자산의 갯수만큼 주식의 수익률을 난수로 생성한다\n",
        "returns = np.random.randn(3, numStocks)\n",
        "print('1. 난수로 만드는 국면별 주식의 수익률: \\n', returns)\n",
        "\n",
        "# 세 가지 경기국면 확률을 만든다. 이 역시 전체 합이 1.0이 되도록 한다.\n",
        "prob = np.random.rand(3)\n",
        "prob /= prob.sum()\n",
        "print('2. 경기국면별 각 확률: \\n', prob)\n",
        "\n",
        "# 경기국면별 확률과 수익률을 행렬곱셈한다\n",
        "# prob.T는 prob 전치행렬이며\n",
        "# 두 행렬의 곱은 np.matmul()함수을 사용할 수도 있다\n",
        "# expectedReturns = prob.T * returns\n",
        "expectedReturns = np.matmul(prob.T, returns)\n",
        "\n",
        "print('3. 각 주식의 기대수익률: \\n', expectedReturns)\n",
        "\n",
        "# 자산의 투자비중을 만든다.  n개의 난수를 만든 후 이를 난수의 합으로 \n",
        "# 다시 나누어 전체투자비중의 합(100%)이 1.0이 되도록 한다.\n",
        "weights = np.random.rand(numStocks)\n",
        "weights /= weights.sum()\n",
        "print('4. 투자비중*기대수익률: \\n', weights)\n",
        "\n",
        "# 포트폴리오의 기대수익률을 계산한다\n",
        "portReturnsExpected = np.sum(weights*expectedReturns)\n",
        "print('5. 포트폴리오의 기대수익률: {:.2%}'.format(portReturnsExpected))"
      ],
      "execution_count": 0,
      "outputs": [
        {
          "output_type": "stream",
          "text": [
            "1. 난수로 만드는 국면별 주식의 수익률: \n",
            " [[-0.35124454 -0.57091145 -0.24204323]\n",
            " [-0.26972675 -0.44466763  1.11457122]\n",
            " [ 0.24307381 -0.33480876  0.83154655]]\n",
            "2. 경기국면별 각 확률: \n",
            " [0.49884072 0.07291398 0.4282453 ]\n",
            "3. 각 주식의 기대수익률: \n",
            " [[-0.17521508 -0.04162742 -0.10365387]\n",
            " [-0.13455069 -0.03242249  0.47730989]\n",
            " [ 0.12125511 -0.02441224  0.3561059 ]]\n",
            "4. 투자비중*기대수익률: \n",
            " [0.14356239 0.55821189 0.29822572]\n",
            "5. 포트폴리오의 기대수익률: 13.56%\n"
          ],
          "name": "stdout"
        }
      ]
    },
    {
      "cell_type": "markdown",
      "metadata": {
        "id": "bLvvJ4PrWkg3",
        "colab_type": "text"
      },
      "source": [
        "실제 미국주가를 다운받아 포트폴리오 수익률 계산하기"
      ]
    },
    {
      "cell_type": "code",
      "metadata": {
        "id": "PhTEJ_gnWQdT",
        "colab_type": "code",
        "colab": {}
      },
      "source": [
        "import numpy as np\n",
        "import pandas as pd\n",
        "from pandas_datareader import data as web\n",
        "import random"
      ],
      "execution_count": 0,
      "outputs": []
    },
    {
      "cell_type": "code",
      "metadata": {
        "id": "Pso937zpXA_w",
        "colab_type": "code",
        "outputId": "3d8ca44b-2d13-4ca9-ba09-b8165daf38f8",
        "colab": {
          "base_uri": "https://localhost:8080/",
          "height": 34
        }
      },
      "source": [
        "tickers = ['MMM', 'ADBE', 'AMD', 'GOOGL', 'GOOG', 'AMZN']\n",
        "len(tickers)"
      ],
      "execution_count": 0,
      "outputs": [
        {
          "output_type": "execute_result",
          "data": {
            "text/plain": [
              "6"
            ]
          },
          "metadata": {
            "tags": []
          },
          "execution_count": 29
        }
      ]
    },
    {
      "cell_type": "code",
      "metadata": {
        "id": "L0raA-DcZR-e",
        "colab_type": "code",
        "outputId": "89beac8d-3054-4dff-8ace-648dc3790aa6",
        "colab": {
          "base_uri": "https://localhost:8080/",
          "height": 225
        }
      },
      "source": [
        "adjClose = pd.DataFrame()\n",
        "\n",
        "for item in tickers:\n",
        "    adjClose[item] = web.DataReader(item, data_source='yahoo', start='15-09-2018')['Adj Close']\n",
        "\n",
        "adjClose.head()"
      ],
      "execution_count": 0,
      "outputs": [
        {
          "output_type": "execute_result",
          "data": {
            "text/html": [
              "<div>\n",
              "<style scoped>\n",
              "    .dataframe tbody tr th:only-of-type {\n",
              "        vertical-align: middle;\n",
              "    }\n",
              "\n",
              "    .dataframe tbody tr th {\n",
              "        vertical-align: top;\n",
              "    }\n",
              "\n",
              "    .dataframe thead th {\n",
              "        text-align: right;\n",
              "    }\n",
              "</style>\n",
              "<table border=\"1\" class=\"dataframe\">\n",
              "  <thead>\n",
              "    <tr style=\"text-align: right;\">\n",
              "      <th></th>\n",
              "      <th>MMM</th>\n",
              "      <th>ADBE</th>\n",
              "      <th>AMD</th>\n",
              "      <th>GOOGL</th>\n",
              "      <th>GOOG</th>\n",
              "      <th>AMZN</th>\n",
              "    </tr>\n",
              "    <tr>\n",
              "      <th>Date</th>\n",
              "      <th></th>\n",
              "      <th></th>\n",
              "      <th></th>\n",
              "      <th></th>\n",
              "      <th></th>\n",
              "      <th></th>\n",
              "    </tr>\n",
              "  </thead>\n",
              "  <tbody>\n",
              "    <tr>\n",
              "      <th>2018-09-17</th>\n",
              "      <td>203.068329</td>\n",
              "      <td>268.250000</td>\n",
              "      <td>32.430000</td>\n",
              "      <td>1159.829956</td>\n",
              "      <td>1156.050049</td>\n",
              "      <td>1908.030029</td>\n",
              "    </tr>\n",
              "    <tr>\n",
              "      <th>2018-09-18</th>\n",
              "      <td>205.006668</td>\n",
              "      <td>270.790009</td>\n",
              "      <td>31.930000</td>\n",
              "      <td>1167.109985</td>\n",
              "      <td>1161.219971</td>\n",
              "      <td>1941.050049</td>\n",
              "    </tr>\n",
              "    <tr>\n",
              "      <th>2018-09-19</th>\n",
              "      <td>206.547638</td>\n",
              "      <td>264.880005</td>\n",
              "      <td>31.209999</td>\n",
              "      <td>1174.270020</td>\n",
              "      <td>1171.089966</td>\n",
              "      <td>1926.420044</td>\n",
              "    </tr>\n",
              "    <tr>\n",
              "      <th>2018-09-20</th>\n",
              "      <td>208.631348</td>\n",
              "      <td>266.339996</td>\n",
              "      <td>31.180000</td>\n",
              "      <td>1191.569946</td>\n",
              "      <td>1186.869995</td>\n",
              "      <td>1944.300049</td>\n",
              "    </tr>\n",
              "    <tr>\n",
              "      <th>2018-09-21</th>\n",
              "      <td>209.658646</td>\n",
              "      <td>260.880005</td>\n",
              "      <td>31.020000</td>\n",
              "      <td>1172.119995</td>\n",
              "      <td>1166.089966</td>\n",
              "      <td>1915.010010</td>\n",
              "    </tr>\n",
              "  </tbody>\n",
              "</table>\n",
              "</div>"
            ],
            "text/plain": [
              "                   MMM        ADBE  ...         GOOG         AMZN\n",
              "Date                                ...                          \n",
              "2018-09-17  203.068329  268.250000  ...  1156.050049  1908.030029\n",
              "2018-09-18  205.006668  270.790009  ...  1161.219971  1941.050049\n",
              "2018-09-19  206.547638  264.880005  ...  1171.089966  1926.420044\n",
              "2018-09-20  208.631348  266.339996  ...  1186.869995  1944.300049\n",
              "2018-09-21  209.658646  260.880005  ...  1166.089966  1915.010010\n",
              "\n",
              "[5 rows x 6 columns]"
            ]
          },
          "metadata": {
            "tags": []
          },
          "execution_count": 32
        }
      ]
    },
    {
      "cell_type": "code",
      "metadata": {
        "id": "jNtXIqzCZlYk",
        "colab_type": "code",
        "outputId": "0e9ac800-0b27-4cdb-cfb4-101092f4c3e4",
        "colab": {
          "base_uri": "https://localhost:8080/",
          "height": 225
        }
      },
      "source": [
        "dailySimpleReturns = adjClose.pct_change()\n",
        "dailySimpleReturns.head()"
      ],
      "execution_count": 0,
      "outputs": [
        {
          "output_type": "execute_result",
          "data": {
            "text/html": [
              "<div>\n",
              "<style scoped>\n",
              "    .dataframe tbody tr th:only-of-type {\n",
              "        vertical-align: middle;\n",
              "    }\n",
              "\n",
              "    .dataframe tbody tr th {\n",
              "        vertical-align: top;\n",
              "    }\n",
              "\n",
              "    .dataframe thead th {\n",
              "        text-align: right;\n",
              "    }\n",
              "</style>\n",
              "<table border=\"1\" class=\"dataframe\">\n",
              "  <thead>\n",
              "    <tr style=\"text-align: right;\">\n",
              "      <th></th>\n",
              "      <th>MMM</th>\n",
              "      <th>ADBE</th>\n",
              "      <th>AMD</th>\n",
              "      <th>GOOGL</th>\n",
              "      <th>GOOG</th>\n",
              "      <th>AMZN</th>\n",
              "    </tr>\n",
              "    <tr>\n",
              "      <th>Date</th>\n",
              "      <th></th>\n",
              "      <th></th>\n",
              "      <th></th>\n",
              "      <th></th>\n",
              "      <th></th>\n",
              "      <th></th>\n",
              "    </tr>\n",
              "  </thead>\n",
              "  <tbody>\n",
              "    <tr>\n",
              "      <th>2018-09-17</th>\n",
              "      <td>NaN</td>\n",
              "      <td>NaN</td>\n",
              "      <td>NaN</td>\n",
              "      <td>NaN</td>\n",
              "      <td>NaN</td>\n",
              "      <td>NaN</td>\n",
              "    </tr>\n",
              "    <tr>\n",
              "      <th>2018-09-18</th>\n",
              "      <td>0.009545</td>\n",
              "      <td>0.009469</td>\n",
              "      <td>-0.015418</td>\n",
              "      <td>0.006277</td>\n",
              "      <td>0.004472</td>\n",
              "      <td>0.017306</td>\n",
              "    </tr>\n",
              "    <tr>\n",
              "      <th>2018-09-19</th>\n",
              "      <td>0.007517</td>\n",
              "      <td>-0.021825</td>\n",
              "      <td>-0.022549</td>\n",
              "      <td>0.006135</td>\n",
              "      <td>0.008500</td>\n",
              "      <td>-0.007537</td>\n",
              "    </tr>\n",
              "    <tr>\n",
              "      <th>2018-09-20</th>\n",
              "      <td>0.010088</td>\n",
              "      <td>0.005512</td>\n",
              "      <td>-0.000961</td>\n",
              "      <td>0.014732</td>\n",
              "      <td>0.013475</td>\n",
              "      <td>0.009281</td>\n",
              "    </tr>\n",
              "    <tr>\n",
              "      <th>2018-09-21</th>\n",
              "      <td>0.004924</td>\n",
              "      <td>-0.020500</td>\n",
              "      <td>-0.005131</td>\n",
              "      <td>-0.016323</td>\n",
              "      <td>-0.017508</td>\n",
              "      <td>-0.015065</td>\n",
              "    </tr>\n",
              "  </tbody>\n",
              "</table>\n",
              "</div>"
            ],
            "text/plain": [
              "                 MMM      ADBE       AMD     GOOGL      GOOG      AMZN\n",
              "Date                                                                  \n",
              "2018-09-17       NaN       NaN       NaN       NaN       NaN       NaN\n",
              "2018-09-18  0.009545  0.009469 -0.015418  0.006277  0.004472  0.017306\n",
              "2018-09-19  0.007517 -0.021825 -0.022549  0.006135  0.008500 -0.007537\n",
              "2018-09-20  0.010088  0.005512 -0.000961  0.014732  0.013475  0.009281\n",
              "2018-09-21  0.004924 -0.020500 -0.005131 -0.016323 -0.017508 -0.015065"
            ]
          },
          "metadata": {
            "tags": []
          },
          "execution_count": 33
        }
      ]
    },
    {
      "cell_type": "code",
      "metadata": {
        "id": "lV1Mla84Zwn6",
        "colab_type": "code",
        "outputId": "997f6c79-8fa8-4067-a432-66ae1c019f29",
        "colab": {
          "base_uri": "https://localhost:8080/",
          "height": 140
        }
      },
      "source": [
        "# annualise daily returns. 250 trading days in a year\n",
        "meanReturns = np.matrix(dailySimpleReturns.mean())\n",
        "annualReturns = dailySimpleReturns.mean() * 250"
      ],
      "execution_count": 0,
      "outputs": [
        {
          "output_type": "execute_result",
          "data": {
            "text/plain": [
              "MMM     -0.170851\n",
              "ADBE     0.101239\n",
              "AMD      0.166432\n",
              "GOOGL    0.081186\n",
              "GOOG     0.085152\n",
              "AMZN     0.021106\n",
              "dtype: float64"
            ]
          },
          "metadata": {
            "tags": []
          },
          "execution_count": 47
        }
      ]
    },
    {
      "cell_type": "code",
      "metadata": {
        "id": "E1DXlGc6Z4TK",
        "colab_type": "code",
        "outputId": "c2ae32c8-7ff6-4d8d-eead-f2c61a15d01e",
        "colab": {
          "base_uri": "https://localhost:8080/",
          "height": 34
        }
      },
      "source": [
        "# number of assets in the randomly selected portfolio\n",
        "\n",
        "numAssets = len(tickers)\n",
        "numAssets"
      ],
      "execution_count": 0,
      "outputs": [
        {
          "output_type": "execute_result",
          "data": {
            "text/plain": [
              "6"
            ]
          },
          "metadata": {
            "tags": []
          },
          "execution_count": 34
        }
      ]
    },
    {
      "cell_type": "code",
      "metadata": {
        "id": "2j2lTKl_ZkSG",
        "colab_type": "code",
        "outputId": "5ce6e21c-768d-4fad-88ac-e9fcee358028",
        "colab": {
          "base_uri": "https://localhost:8080/",
          "height": 52
        }
      },
      "source": [
        "# sum of weights must equal 1. \n",
        "# (a / a+b) + (b / a+b) = 1 \n",
        "# applying this logic above\n",
        "\n",
        "weights = np.random.random(numAssets)\n",
        "weights = weights / sum(weights)\n",
        "weights"
      ],
      "execution_count": 0,
      "outputs": [
        {
          "output_type": "execute_result",
          "data": {
            "text/plain": [
              "array([0.18615716, 0.03586349, 0.20486578, 0.20571787, 0.17323248,\n",
              "       0.19416322])"
            ]
          },
          "metadata": {
            "tags": []
          },
          "execution_count": 35
        }
      ]
    },
    {
      "cell_type": "code",
      "metadata": {
        "id": "fI33gCjAaHzi",
        "colab_type": "code",
        "outputId": "00009044-8041-422a-bf2a-6fc93ce02a4a",
        "colab": {
          "base_uri": "https://localhost:8080/",
          "height": 34
        }
      },
      "source": [
        "# check if the sum of weights is indeed = 1\n",
        "sum(weights)"
      ],
      "execution_count": 0,
      "outputs": [
        {
          "output_type": "execute_result",
          "data": {
            "text/plain": [
              "1.0"
            ]
          },
          "metadata": {
            "tags": []
          },
          "execution_count": 37
        }
      ]
    },
    {
      "cell_type": "code",
      "metadata": {
        "id": "RSI3uGOsaLAa",
        "colab_type": "code",
        "outputId": "b652e4b3-5250-48b9-aa62-9f1ee9ce4e5c",
        "colab": {
          "base_uri": "https://localhost:8080/",
          "height": 34
        }
      },
      "source": [
        "# calculate expected returns of the portfolio \n",
        "\n",
        "portReturnsExpected = np.sum(weights * meanReturns.T)\n",
        "portReturnsExpected"
      ],
      "execution_count": 0,
      "outputs": [
        {
          "output_type": "execute_result",
          "data": {
            "text/plain": [
              "0.00021275286880687738"
            ]
          },
          "metadata": {
            "tags": []
          },
          "execution_count": 51
        }
      ]
    },
    {
      "cell_type": "markdown",
      "metadata": {
        "id": "HNRoIJMdu0F6",
        "colab_type": "text"
      },
      "source": [
        "\tN개 주식 포트폴리오의 위험"
      ]
    },
    {
      "cell_type": "code",
      "metadata": {
        "id": "SqWRQXnbu5UM",
        "colab_type": "code",
        "colab": {}
      },
      "source": [
        "import numpy as np\n",
        "import pandas as pd\n",
        "from pandas_datareader import data as web\n",
        "import random\n",
        "\n",
        "tickers = ['MMM', 'ADBE', 'AMD', 'GOOGL', 'GOOG', 'AMZN']\n",
        "adjClose = pd.DataFrame()\n",
        "\n",
        "for item in tickers:\n",
        "    adjClose[item] = web.DataReader(item, data_source='yahoo', start='15-09-2018')['Adj Close']\n",
        "\n",
        "dailySimpleReturns = adjClose.pct_change()"
      ],
      "execution_count": 0,
      "outputs": []
    },
    {
      "cell_type": "code",
      "metadata": {
        "id": "S6PaJeQxwK7G",
        "colab_type": "code",
        "outputId": "25f406d2-b502-451a-e0d2-5442e36a6931",
        "colab": {
          "base_uri": "https://localhost:8080/",
          "height": 70
        }
      },
      "source": [
        "# 행렬연산을 위하여 weights를 matirx 데이터형으로 변환\n",
        "weights = np.matrix(weights)\n",
        "\n",
        "# dailySimpleReturns는 pandas의 DataFrame개체이다\n",
        "print('dailySimpleReturns의 데이터형: ',type(dailySimpleReturns))\n",
        "\n",
        "# DataFrame 개체는 공분산을 계산해주는 cov함수를 제공한다.\n",
        "# cov 함수는 DataFrame을 돌려준다\n",
        "print('dailySimpleReturns.cov() 결과의 데이터형: ',type(dailySimpleReturns.cov()))\n",
        "\n",
        "# 행렬연산을 위하여 cov()함수로 공분산한 결과를 \n",
        "# 바로 values함수를 사용하여 행렬로 변환한다\n",
        "pcov=dailySimpleReturns.cov().values\n",
        "\n",
        "# 행렬연산으로 분산을 계산한다\n",
        "varp = weights*pcov*weights.T \n",
        "print('포트폴리오 분산은 ', varp)"
      ],
      "execution_count": 0,
      "outputs": [
        {
          "output_type": "stream",
          "text": [
            "dailySimpleReturns의 데이터형:  <class 'pandas.core.frame.DataFrame'>\n",
            "dailySimpleReturns.cov() 결과의 데이터형:  <class 'pandas.core.frame.DataFrame'>\n",
            "포트폴리오 분산은  [[0.00045244]]\n"
          ],
          "name": "stdout"
        }
      ]
    },
    {
      "cell_type": "markdown",
      "metadata": {
        "id": "OPWQjvkAfFkc",
        "colab_type": "text"
      },
      "source": [
        "한국의 주가 사용하기"
      ]
    },
    {
      "cell_type": "code",
      "metadata": {
        "id": "hjV8uVTdfIMj",
        "colab_type": "code",
        "outputId": "fedab6fd-7777-4f94-f8ea-5ba3c4b83aa0",
        "colab": {
          "base_uri": "https://localhost:8080/",
          "height": 306
        }
      },
      "source": [
        "from datetime import datetime\n",
        "import pandas_datareader.data as wb\n",
        " \n",
        "start = datetime(2019,8,1)\n",
        "end = datetime(2019,8,30)\n",
        " \n",
        "df = wb.DataReader('005930.KS', 'yahoo',start,end)\n",
        "df.head()\n",
        "\n",
        "%matplotlib inline\n",
        "df['Close'].plot()"
      ],
      "execution_count": 0,
      "outputs": [
        {
          "output_type": "execute_result",
          "data": {
            "text/plain": [
              "<matplotlib.axes._subplots.AxesSubplot at 0x7f43e1995e48>"
            ]
          },
          "metadata": {
            "tags": []
          },
          "execution_count": 7
        },
        {
          "output_type": "display_data",
          "data": {
            "image/png": "[encoded data removed]",
            "text/plain": [
              "<Figure size 432x288 with 1 Axes>"
            ]
          },
          "metadata": {
            "tags": []
          }
        }
      ]
    }
  ]
}