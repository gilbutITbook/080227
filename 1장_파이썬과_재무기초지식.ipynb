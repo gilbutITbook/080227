{
  "nbformat": 4,
  "nbformat_minor": 0,
  "metadata": {
    "colab": {
      "name": "1장 파이썬과 재무기초지식.ipynb",
      "provenance": [],
      "collapsed_sections": [],
      "include_colab_link": true
    },
    "kernelspec": {
      "name": "python3",
      "display_name": "Python 3"
    }
  },
  "cells": [
    {
      "cell_type": "markdown",
      "metadata": {
        "id": "view-in-github",
        "colab_type": "text"
      },
      "source": [
        "<a href=\"https://colab.research.google.com/github/jimsjoo/gilbut_portfolio/blob/master/1%EC%9E%A5_%ED%8C%8C%EC%9D%B4%EC%8D%AC%EA%B3%BC_%EC%9E%AC%EB%AC%B4%EA%B8%B0%EC%B4%88%EC%A7%80%EC%8B%9D.ipynb\" target=\"_parent\"><img src=\"https://colab.research.google.com/assets/colab-badge.svg\" alt=\"Open In Colab\"/></a>"
      ]
    },
    {
      "cell_type": "markdown",
      "metadata": {
        "id": "BaNKlPaoKeSP",
        "colab_type": "text"
      },
      "source": [
        "# 파이썬의 기초"
      ]
    },
    {
      "cell_type": "code",
      "metadata": {
        "id": "VHk_deljuwHy",
        "colab_type": "code",
        "colab": {}
      },
      "source": [
        "# 코멘트\n",
        "# i am a comment!\n",
        "# single line!!!!\n",
        "# print(‘hello world’) <- hello world 를 출력하는 print()함수 실행을 막아둔다"
      ],
      "execution_count": 0,
      "outputs": []
    },
    {
      "cell_type": "code",
      "metadata": {
        "id": "C-bwlGYTnTMj",
        "colab_type": "code",
        "outputId": "aa2c061a-7687-467c-dfaf-3353a43251a1",
        "colab": {
          "base_uri": "https://localhost:8080/",
          "height": 34
        }
      },
      "source": [
        "'''\n",
        "i am a comment!\n",
        "multiline!!!!\n",
        "'''"
      ],
      "execution_count": 0,
      "outputs": [
        {
          "output_type": "execute_result",
          "data": {
            "text/plain": [
              "'\\ni am a comment!\\nmultiline!!!!\\n'"
            ]
          },
          "metadata": {
            "tags": []
          },
          "execution_count": 22
        }
      ]
    },
    {
      "cell_type": "code",
      "metadata": {
        "id": "1eP4NC09nVaM",
        "colab_type": "code",
        "outputId": "bbcaee00-1673-4ee9-ad0f-7a907f2f1c21",
        "colab": {
          "base_uri": "https://localhost:8080/",
          "height": 34
        }
      },
      "source": [
        "# 파이썬에서 들여쓰기는 중요하다\n",
        "# 들여쓰기를 통해 특정 코드 블럭을 알 수 있다\n",
        "# def는 함수를 정의하는 문으로 들여쓰기를 통해\n",
        "# 함수정의가 어디까지 인지 알 수 있다\n",
        "def fib(n): # 피보나치 수열을 만드는 함수\n",
        "  a, b = 0, 1\n",
        "  \n",
        "  # while은 일부 코드를 반복하는 문장인데 \n",
        "  # 들여쓰기가 없다면 어디까지 반복해야 하는 지 \n",
        "  # 파이썬도, 사람도 알기 어렵다.\n",
        "  # 들여쓰기를 통해 while ~ a, b = b, a+b 사이가\n",
        "  # 반복되는 부분임을 알 수 있다\n",
        "  while a < n: \n",
        "    print(a, end=' ') \n",
        "    a, b = b, a+b \n",
        "  print() \n",
        "\n",
        "# 위의 함수를 실행한다\n",
        "print( fib(1000) )"
      ],
      "execution_count": 0,
      "outputs": [
        {
          "output_type": "stream",
          "text": [
            "0 1 1 2 3 5 8 13 21 34 55 89 144 233 377 610 987 \n"
          ],
          "name": "stdout"
        }
      ]
    },
    {
      "cell_type": "code",
      "metadata": {
        "id": "b8auF7h73Y-N",
        "colab_type": "code",
        "colab": {}
      },
      "source": [
        "# 들여쓰기를 하지 않으면 코드블럭을 확인하기 어려워\n",
        "# 나중에 수정하기도 어렵고 파이썬을 Unindentation Error 에러를 발생한다\n",
        "def fib(n): # 피보나치 수열을 만드는 함수\n",
        "a, b = 0, 1 \n",
        "while a < n: \n",
        "print(a, end=' ') \n",
        "a, b = b, a+b \n",
        "print() \n",
        "print( fib(1000) )"
      ],
      "execution_count": 0,
      "outputs": []
    },
    {
      "cell_type": "code",
      "metadata": {
        "id": "x15x4p3Inra6",
        "colab_type": "code",
        "outputId": "7660619f-fe4f-4957-b1c0-dec35ea9535d",
        "colab": {
          "base_uri": "https://localhost:8080/",
          "height": 210
        }
      },
      "source": [
        "# = 은 할당연산자인데, 같은 변수에 여러 가지 값을 할당할 수 있다\n",
        "a = 1027 # 정수값\n",
        "print(a)\n",
        "\n",
        "a='portfolio' # 문자열\n",
        "print(a)\n",
        "a=\"portfolio\" # 문자열\n",
        "print(a)\n",
        "a='\"portfolio\"' # 쌍따옴표가 포함된 문자열\n",
        "print(a)\n",
        "a=\"'portfolio'\" # 작은 따옴표가 포함된 문자열\n",
        "print(a)\n",
        "\n",
        "print('\"\"') # 쌍따옴표 표시\n",
        "print(\"''\") # 작은 따옴표 표시\n",
        "\n",
        "# 문자에는 눈에 보이는 글자가 아닌 문자(엔터, 탭)도 있으며 \n",
        "# 이들을 표시하기 위해 \\로 시작한다. 이들을 이스케이프(escape) 문자라고 한다\n",
        "# \\n 은 엔터(줄바꿈) \\t 는 TAB문자를 의미한다 \n",
        "print('There is a real Tab among TAB\\tTAB ')\n",
        "print('A real Enter is between \\nline\\nline ')"
      ],
      "execution_count": 0,
      "outputs": [
        {
          "output_type": "stream",
          "text": [
            "1027\n",
            "portfolio\n",
            "portfolio\n",
            "\"portfolio\"\n",
            "'portfolio'\n",
            "\"\"\n",
            "''\n",
            "There is a real Tab among TAB\tTAB \n",
            "A real Enter is between \n",
            "line\n",
            "line \n"
          ],
          "name": "stdout"
        }
      ]
    },
    {
      "cell_type": "code",
      "metadata": {
        "id": "9crIjB8zu4Zq",
        "colab_type": "code",
        "outputId": "b97aa19a-c1fe-438c-908a-4c9f818d218a",
        "colab": {
          "base_uri": "https://localhost:8080/",
          "height": 140
        }
      },
      "source": [
        "# = 은 할당연산자인데, 5라는 값을 변수 x에 할당한다는 의미이다\n",
        "x = 5\n",
        "\n",
        "# 변수 x 출력\n",
        "print(x)\n",
        "\n",
        "# 여러 산술연산자 예\n",
        "print( x+2 ) # 더하기\n",
        "print( x-2 ) # 빼기\n",
        "print( x*2 ) # 곱하기\n",
        "print( x**2 ) # 거듭제곱\n",
        "print( x/2 ) # 나눗셈\n",
        "print( x%2 ) # 나눗셈의 나머지"
      ],
      "execution_count": 0,
      "outputs": [
        {
          "output_type": "stream",
          "text": [
            "5\n",
            "7\n",
            "3\n",
            "10\n",
            "25\n",
            "2.5\n",
            "1\n"
          ],
          "name": "stdout"
        }
      ]
    },
    {
      "cell_type": "code",
      "metadata": {
        "id": "gr78oYLhJIzG",
        "colab_type": "code",
        "outputId": "1b3d2189-880e-4ed5-a9b0-e75b074d5dd9",
        "colab": {
          "base_uri": "https://localhost:8080/",
          "height": 52
        }
      },
      "source": [
        "# = 은 할당연산자인데, 여러 개의 변수에 값을 할당할 수도 있다\n",
        "# 할당된 순서대로 x에 10을, y에 20을 할당한다\n",
        "x, y = 10, 20\n",
        "print(x, y) \n",
        "\n",
        "# 같은 변수들의 위치를 바꾸면 \n",
        "# 두 개의 변수가 서로 값을 바꾸는 결과가 된다\n",
        "x, y = y, x \n",
        "print(x, y) \n"
      ],
      "execution_count": 0,
      "outputs": [
        {
          "output_type": "stream",
          "text": [
            "10 20\n",
            "20 10\n"
          ],
          "name": "stdout"
        }
      ]
    },
    {
      "cell_type": "code",
      "metadata": {
        "id": "6XKA_vp8Dhyc",
        "colab_type": "code",
        "outputId": "3ef9cf35-2b89-4a81-d8dc-277d3f821adb",
        "colab": {
          "base_uri": "https://localhost:8080/",
          "height": 52
        }
      },
      "source": [
        "# + 연산자는 숫자만 더하는 것이 아니다\n",
        "# 문자열과 문자열을 합쳐 새로운 문자열을 만들기도 한다\n",
        "x = ' portfolio ' + ' allocation '\n",
        "print(x)\n",
        "\n",
        "# * 연산자가 문자열에 사용되면 문자열을 곱한 것만큼\n",
        "# 반복하여 새로운 문자열을 만든다\n",
        "x = x * 2\n",
        "print(x)"
      ],
      "execution_count": 0,
      "outputs": [
        {
          "output_type": "stream",
          "text": [
            " portfolio  allocation \n",
            " portfolio  allocation  portfolio  allocation \n"
          ],
          "name": "stdout"
        }
      ]
    },
    {
      "cell_type": "code",
      "metadata": {
        "id": "EJXyAx9XJdit",
        "colab_type": "code",
        "outputId": "35d9ec2a-a5ec-486b-a3a9-87885acab549",
        "colab": {
          "base_uri": "https://localhost:8080/",
          "height": 105
        }
      },
      "source": [
        "# 문자열 개체의 join함수는 리스트와 문자열을\n",
        "# 합쳐 새로운 문자열은 만든다\n",
        "x = [\"Python\", \"For\", \"Portfolio\"] \n",
        "\n",
        "# 공백문자열과 리스트 조인\n",
        "print(\" \".join(x)) \n",
        "\n",
        "# 이스케이프 문자열과 리스트 조인\n",
        "print(\"\\t\".join(x))\n",
        "print(\"\\n\".join(x))"
      ],
      "execution_count": 0,
      "outputs": [
        {
          "output_type": "stream",
          "text": [
            "Python For Portfolio\n",
            "Python\tFor\tPortfolio\n",
            "Python\n",
            "For\n",
            "Portfolio\n"
          ],
          "name": "stdout"
        }
      ]
    },
    {
      "cell_type": "code",
      "metadata": {
        "id": "F9fyg0NPJPaV",
        "colab_type": "code",
        "outputId": "91a0c12b-211a-46f9-ab9e-13d609ae541c",
        "colab": {
          "base_uri": "https://localhost:8080/",
          "height": 34
        }
      },
      "source": [
        "# 문자열\n",
        "x ='Portfolio Allocation'\n",
        "print(\"Reverse is\", x[::-1]) \n"
      ],
      "execution_count": 0,
      "outputs": [
        {
          "output_type": "stream",
          "text": [
            "Reverse is noitacollA oiloftroP\n"
          ],
          "name": "stdout"
        }
      ]
    },
    {
      "cell_type": "code",
      "metadata": {
        "id": "_Iisn7-eUTXR",
        "colab_type": "code",
        "outputId": "af501045-3bdd-4ea7-e81e-21554f0844a6",
        "colab": {
          "base_uri": "https://localhost:8080/",
          "height": 87
        }
      },
      "source": [
        "# 비어 있는 리스트 a를 만든다\n",
        "a = []\n",
        "print(a)\n",
        "\n",
        "# 1,2,3,4,5 다섯 개의 항목이 있는 리스트 a를 만든다\n",
        "a = [1, 2, 3, 4, 5] \n",
        "print(a)\n",
        "\n",
        "# 두 개의 리스트 [1 ,2, 3] 과 [6, 5, 4] 를 합쳐서 [1 ,2, 3, 6, 5, 4] 을 만든다\n",
        "a = [1 ,2, 3] + [6, 5, 4]\n",
        "print(a)\n",
        "\n",
        "# 리스트 [1 ,2, 3]가 두 번 반복된 리스트를 만든다. 곱하기 2가 아니다. \n",
        "a = [1 ,2, 3] * 2\n",
        "print(a)"
      ],
      "execution_count": 0,
      "outputs": [
        {
          "output_type": "stream",
          "text": [
            "[]\n",
            "[1, 2, 3, 4, 5]\n",
            "[1, 2, 3, 6, 5, 4]\n",
            "[1, 2, 3, 1, 2, 3]\n"
          ],
          "name": "stdout"
        }
      ]
    },
    {
      "cell_type": "code",
      "metadata": {
        "id": "B9YylST6Vvzc",
        "colab_type": "code",
        "outputId": "6df73b87-bc2e-4a86-aa77-033b6c15c853",
        "colab": {
          "base_uri": "https://localhost:8080/",
          "height": 87
        }
      },
      "source": [
        "# 리스트의 인덱스번호를 이용하여 항목을 참조하는 것을\n",
        "# 인덱싱(indexing)이라고 한다.\n",
        "# 인덱스는 0부터 시작하며 마이너스(-)는 반대방향의 인덱싱이다.\n",
        "# 가령 -1은 마지막 항목에 대한 인덱스이며\n",
        "# -2는 마지막에서 두번째 항목의 인덱스이다.\n",
        "a = [1, 2, 3, 4, 5, 6]\n",
        "\n",
        "# 리스트 a에서 인덱스값이 0인 첫 번째 항목 1을 출력한다\n",
        "print(a[0]) \n",
        "\n",
        "# 리스트 a에서 인덱스값이 5인 첫 번째 항목 6을 출력한다\n",
        "print(a[5]) \n",
        "\n",
        "#리스트 a에서 인덱스값이 -1인 마지막 항목 6을 출력한다\n",
        "print(a[-1]) \n",
        "\n",
        "#리스트 a에서 인덱스값이 -2인 마지막에서 두 번째 항목 5을 출력한다\n",
        "print(a[-2]) "
      ],
      "execution_count": 0,
      "outputs": [
        {
          "output_type": "stream",
          "text": [
            "1\n",
            "6\n",
            "6\n",
            "5\n"
          ],
          "name": "stdout"
        }
      ]
    },
    {
      "cell_type": "code",
      "metadata": {
        "id": "ixUvOWuBeeRe",
        "colab_type": "code",
        "outputId": "bf861885-cfdc-4002-b04e-ca0246e04047",
        "colab": {
          "base_uri": "https://localhost:8080/",
          "height": 87
        }
      },
      "source": [
        "# 리스트의 일부분을 잘라내듯이 콜론(:)을 사용하여 추출하는 것을\n",
        "# 슬라이싱(slicing)이라고 한다.\n",
        "# [시작:끝]의 형식으로 사용한다.\n",
        "a = [1, 2, 3, 4, 5, 6]\n",
        "\n",
        "# 인덱스 0부터 2 이전까지의 항목을 슬라이싱한다.\n",
        "print(a[0:2])\n",
        "\n",
        "# 시작 인덱스가 생략되면 0으로 판단한다.\n",
        "print(a[:2])\n",
        "\n",
        "# 끝 인덱스가 생략되면 마지막 인덱스로 판단한다.\n",
        "print(a[2:])\n",
        "\n",
        "print(a)"
      ],
      "execution_count": 0,
      "outputs": [
        {
          "output_type": "stream",
          "text": [
            "[1, 2]\n",
            "[1, 2]\n",
            "[3, 4, 5, 6]\n",
            "[1, 2, 3, 4, 5, 6]\n"
          ],
          "name": "stdout"
        }
      ]
    },
    {
      "cell_type": "code",
      "metadata": {
        "id": "hTh8EecLggLO",
        "colab_type": "code",
        "outputId": "fb8f14c6-41c5-4985-bbd3-47f64b0e4c16",
        "colab": {
          "base_uri": "https://localhost:8080/",
          "height": 257
        }
      },
      "source": [
        "# 리스트의 항목은 인덱스를 지정하여 수정할 수 있다.\n",
        "a = [1, 2, 3, 4, 5, 6]\n",
        "\n",
        "# 2번 인덱스의 항목인 3을 4로 변경한다\n",
        "a[2] = 4\n",
        "print(a)\n",
        "\n",
        "# 리스트를 지우려면 del 함수를 사용한다\n",
        "# 1번 인덱스를 삭제한다.그러므로 리스트내 2가 없어진다\n",
        "del a[1]\n",
        "print(a)\n",
        "\n",
        "# 2번 인덱스부터 마지막까지 지운다.\n",
        "# 앞서 1번 인덱스를 지웠으므로 두 번째 4번부터 마지막까지\n",
        "# 지우고 [1, 4]만 남을 것이다.\n",
        "del a[2:]\n",
        "print(a)\n",
        "\n",
        "# 리스트를 통째 지정하면 리스트라는 개체 자체가 사라진다.\n",
        "# 그래서 리스트 a를 출력하면 \n",
        "# NameError: name 'a' is not defined \n",
        "# 에러가 발생한다\n",
        "del a\n",
        "print(a)"
      ],
      "execution_count": 0,
      "outputs": [
        {
          "output_type": "stream",
          "text": [
            "[1, 2, 4, 4, 5, 6]\n",
            "[1, 4, 4, 5, 6]\n",
            "[1, 4]\n"
          ],
          "name": "stdout"
        },
        {
          "output_type": "error",
          "ename": "NameError",
          "evalue": "ignored",
          "traceback": [
            "\u001b[0;31m---------------------------------------------------------------------------\u001b[0m",
            "\u001b[0;31mNameError\u001b[0m                                 Traceback (most recent call last)",
            "\u001b[0;32m<ipython-input-23-b6061f5d17c7>\u001b[0m in \u001b[0;36m<module>\u001b[0;34m()\u001b[0m\n\u001b[1;32m     17\u001b[0m \u001b[0;34m\u001b[0m\u001b[0m\n\u001b[1;32m     18\u001b[0m \u001b[0;32mdel\u001b[0m \u001b[0ma\u001b[0m\u001b[0;34m\u001b[0m\u001b[0;34m\u001b[0m\u001b[0m\n\u001b[0;32m---> 19\u001b[0;31m \u001b[0mprint\u001b[0m\u001b[0;34m(\u001b[0m\u001b[0ma\u001b[0m\u001b[0;34m)\u001b[0m\u001b[0;34m\u001b[0m\u001b[0;34m\u001b[0m\u001b[0m\n\u001b[0m",
            "\u001b[0;31mNameError\u001b[0m: name 'a' is not defined"
          ]
        }
      ]
    },
    {
      "cell_type": "code",
      "metadata": {
        "id": "FvDQaMgh7wFJ",
        "colab_type": "code",
        "outputId": "68430458-bb71-4891-9476-966dbdc25647",
        "colab": {
          "base_uri": "https://localhost:8080/",
          "height": 34
        }
      },
      "source": [
        "a = [1, 2, 3, 4, 5, 6]\n",
        "\n",
        "length = len(a)\n",
        "\n",
        "print(length)"
      ],
      "execution_count": 0,
      "outputs": [
        {
          "output_type": "stream",
          "text": [
            "6\n"
          ],
          "name": "stdout"
        }
      ]
    },
    {
      "cell_type": "code",
      "metadata": {
        "id": "aeNqkU2UUrfQ",
        "colab_type": "code",
        "outputId": "fe91eec5-9392-45ac-acdd-9b88b9399880",
        "colab": {
          "base_uri": "https://localhost:8080/",
          "height": 87
        }
      },
      "source": [
        "# ()를 이용하여 튜플을 만들 수 있다\n",
        "# 내용이 없는 빈 튜플을 만든다\n",
        "a = ()\n",
        "\n",
        "# 여섯 개의 숫자가 포함된 튜플을 만든다\n",
        "a = ( 1, 2, 3, 4, 5, 6 )\n",
        "print(a)\n",
        "\n",
        "# ()없이 컴마로 나열만 해도 튜플이 된다\n",
        "a =  1, 2, 3, 4, 5, 6 \n",
        "print(a)\n",
        "\n",
        "# 튜플끼리 더하기\n",
        "a = (1, 2, 3) + (4, 5, 6)\n",
        "print(a)\n",
        "\n",
        "# 튜플 곱하기 즉 반복하기\n",
        "a = (1, 2, 3) * 2\n",
        "print(a)\n"
      ],
      "execution_count": 0,
      "outputs": [
        {
          "output_type": "stream",
          "text": [
            "(1, 2, 3, 4, 5, 6)\n",
            "(1, 2, 3, 4, 5, 6)\n",
            "(1, 2, 3, 4, 5, 6)\n",
            "(1, 2, 3, 1, 2, 3)\n"
          ],
          "name": "stdout"
        }
      ]
    },
    {
      "cell_type": "code",
      "metadata": {
        "id": "NWSpFNd08qz-",
        "colab_type": "code",
        "outputId": "5ddd9cdc-bbf9-4184-f5fc-5f4319ac8667",
        "colab": {
          "base_uri": "https://localhost:8080/",
          "height": 87
        }
      },
      "source": [
        "a = ( 1, 2, 3, 4, 5, 6 )\n",
        "\n",
        "# 튜플 a에서 인덱스값이 0인 첫 번째 항목 1을 출력한다\n",
        "print(a[0]) \n",
        "\n",
        "# 튜플 a에서 인덱스값이 5인 첫 번째 항목 6을 출력한다\n",
        "print(a[5]) \n",
        "\n",
        "# 튜플 a에서 인덱스값이 -1인 마지막 항목 6을 출력한다\n",
        "print(a[-1]) \n",
        "\n",
        "# 튜플 a에서 인덱스값이 -2인 마지막에서 두 번째 항목 5을 출력한다\n",
        "print(a[-2])"
      ],
      "execution_count": 0,
      "outputs": [
        {
          "output_type": "stream",
          "text": [
            "1\n",
            "6\n",
            "6\n",
            "5\n"
          ],
          "name": "stdout"
        }
      ]
    },
    {
      "cell_type": "code",
      "metadata": {
        "id": "ocj0UhOn-ajz",
        "colab_type": "code",
        "outputId": "2a82f656-cbaf-4ddf-a11c-34c044730e7c",
        "colab": {
          "base_uri": "https://localhost:8080/",
          "height": 70
        }
      },
      "source": [
        "# 튜플의 일부분을 잘라내듯이 콜론(:)을 사용하여 추출하는 것을\n",
        "# 슬라이싱(slicing)이라고 한다.\n",
        "# [시작:끝]의 형식으로 사용한다.\n",
        "a = (1, 2, 3, 4, 5, 6)\n",
        "\n",
        "# 인덱스 0부터 2 이전까지의 항목을 슬라이싱한다.\n",
        "print(a[0:2])\n",
        "\n",
        "# 시작 인덱스가 생략되면 0으로 판단한다.\n",
        "print(a[:2])\n",
        "\n",
        "# 끝 인덱스가 생략되면 마지막 인덱스로 판단한다.\n",
        "print(a[2:])\n"
      ],
      "execution_count": 0,
      "outputs": [
        {
          "output_type": "stream",
          "text": [
            "(1, 2)\n",
            "(1, 2)\n",
            "(3, 4, 5, 6)\n"
          ],
          "name": "stdout"
        }
      ]
    },
    {
      "cell_type": "code",
      "metadata": {
        "id": "t2craYR--nsC",
        "colab_type": "code",
        "outputId": "dcd3584e-d0e7-4199-818b-d051b32a5060",
        "colab": {
          "base_uri": "https://localhost:8080/",
          "height": 34
        }
      },
      "source": [
        "a = 1, 2, 3, 4, 5, 6\n",
        "length = len(a)\n",
        "print(length)"
      ],
      "execution_count": 0,
      "outputs": [
        {
          "output_type": "stream",
          "text": [
            "6\n"
          ],
          "name": "stdout"
        }
      ]
    },
    {
      "cell_type": "code",
      "metadata": {
        "id": "_Zq4WjZ7-2BS",
        "colab_type": "code",
        "outputId": "0f516718-0a9f-4ad8-f7d9-2ef46ccc91d7",
        "colab": {
          "base_uri": "https://localhost:8080/",
          "height": 105
        }
      },
      "source": [
        "# 딕셔너리는 {} 안에 키:값 의 형식으로 만든다\n",
        "a = {'one':1, 'two':2, 'three':3, 'four':4, 'five':5, 'six':6}\n",
        "print(a)\n",
        "\n",
        "# 딕셔너리에 새로운 키-값을 추가하려면 새로운 키를 딕셔너리에 넣고 값을 할당한다\n",
        "a['seven'] = 8\n",
        "print(a)\n",
        "\n",
        "# 딕셔너리 수정을 하는 경우 인덱스가 아닌 키를 사용한다\n",
        "a['seven'] = 7\n",
        "print(a)\n",
        "\n",
        "# 딕셔너리 항목 삭제의 경우에도 키를 사용한다\n",
        "del a['one']\n",
        "print(a)\n",
        "\n",
        "# 모든 항목을 지우려면 clear함수를 사용한다\n",
        "a.clear()\n",
        "print(a)"
      ],
      "execution_count": 0,
      "outputs": [
        {
          "output_type": "stream",
          "text": [
            "{'one': 1, 'two': 2, 'three': 3, 'four': 4, 'five': 5, 'six': 6}\n",
            "{'one': 1, 'two': 2, 'three': 3, 'four': 4, 'five': 5, 'six': 6, 'seven': 8}\n",
            "{'one': 1, 'two': 2, 'three': 3, 'four': 4, 'five': 5, 'six': 6, 'seven': 7}\n",
            "{'two': 2, 'three': 3, 'four': 4, 'five': 5, 'six': 6, 'seven': 7}\n",
            "{}\n"
          ],
          "name": "stdout"
        }
      ]
    },
    {
      "cell_type": "code",
      "metadata": {
        "id": "WBj3v5GSA5wi",
        "colab_type": "code",
        "outputId": "98f0b701-7380-4d7e-c940-7d86d7f60e32",
        "colab": {
          "base_uri": "https://localhost:8080/",
          "height": 34
        }
      },
      "source": [
        "a = {'one':1, 'two':2, 'three':3, 'four':4, 'five':5, 'six':6}\n",
        "\n",
        "length = len(a)\n",
        "print(length)"
      ],
      "execution_count": 0,
      "outputs": [
        {
          "output_type": "stream",
          "text": [
            "6\n"
          ],
          "name": "stdout"
        }
      ]
    },
    {
      "cell_type": "code",
      "metadata": {
        "id": "0escoQDJCDCZ",
        "colab_type": "code",
        "outputId": "0d93f28e-f392-49c5-fd1e-b88113c9f458",
        "colab": {
          "base_uri": "https://localhost:8080/",
          "height": 369
        }
      },
      "source": [
        "# 딕셔너리의 몇 가지 함수들\n",
        "a = {'one':1, 'two':2, 'three':3, 'four':4, 'five':5, 'six':6}\n",
        "\n",
        "# 딕셔너리의 키를 모두 얻으려면 keys함수를 사용한다\n",
        "keys = a.keys()\n",
        "for k in keys:\n",
        "  print(k)\n",
        "\n",
        "# 딕셔너리의 값을 모두 얻으려면 values함수를 사용한다\n",
        "values = a.values()\n",
        "for v in values:\n",
        "  print(v)\n",
        "\n",
        "# 딕셔너리의 키와 값을 모두 얻으려면 items함수를 사용한다\n",
        "items = a.items()\n",
        "for k,v in items:\n",
        "  print(k,v)\n",
        "\n",
        "# 딕셔너리내 키가 있는 지 확인하려면 in을 사용한다\n",
        "# 키가 있으면 True, 아니면 False 이다\n",
        "bln =  'six' in a\n",
        "print(bln)\n",
        "\n",
        "bln =  'seven' in a\n",
        "print(bln)"
      ],
      "execution_count": 0,
      "outputs": [
        {
          "output_type": "stream",
          "text": [
            "one\n",
            "two\n",
            "three\n",
            "four\n",
            "five\n",
            "six\n",
            "1\n",
            "2\n",
            "3\n",
            "4\n",
            "5\n",
            "6\n",
            "one 1\n",
            "two 2\n",
            "three 3\n",
            "four 4\n",
            "five 5\n",
            "six 6\n",
            "True\n",
            "False\n"
          ],
          "name": "stdout"
        }
      ]
    },
    {
      "cell_type": "code",
      "metadata": {
        "id": "swskTLetvDyv",
        "colab_type": "code",
        "outputId": "c3e94431-328e-4404-afee-2c1be054c2ed",
        "colab": {
          "base_uri": "https://localhost:8080/",
          "height": 122
        }
      },
      "source": [
        "# 비교연산자는 크다, 작다, 같다, 같지 않다 등의 연산을 수행하는 연산자이다\n",
        "# 연산의 결과는 True 또는 False이다\n",
        "one = 1\n",
        "two = 2\n",
        "three = 3\n",
        "\n",
        "# one 이 two 보다 작은 가?\n",
        "print( one < two )\n",
        "\n",
        "# one 이 two 보다 큰 가?\n",
        "print( one > two )\n",
        "\n",
        "# one 이 two 보다 작거나 같은 가?\n",
        "print( one <= one )\n",
        "\n",
        "# one 이 two 보다 크거나 같은 가?\n",
        "print( one >= two ) \n",
        "\n",
        "# two 와 three 와 같은 가?\n",
        "print( two == three )\n",
        "\n",
        "# two 와 three 가 같지 않은 가?\n",
        "print( two != three )"
      ],
      "execution_count": 0,
      "outputs": [
        {
          "output_type": "stream",
          "text": [
            "True\n",
            "False\n",
            "True\n",
            "False\n",
            "True\n",
            "True\n"
          ],
          "name": "stdout"
        }
      ]
    },
    {
      "cell_type": "code",
      "metadata": {
        "id": "K-Xv_6xGIhLR",
        "colab_type": "code",
        "outputId": "f674f5f6-6127-460a-cb5e-b4bfa8aed209",
        "colab": {
          "base_uri": "https://localhost:8080/",
          "height": 52
        }
      },
      "source": [
        "# 여러 개의 비교연산을 수학책에 나온 것처럼 하나로 처리할 수 도 있다\n",
        "n = 10\n",
        "\n",
        "# n이 1보다 큰 가를 확인하는 비교연산과\n",
        "# n이 10보다 작은 가를 확인하는 비교연산을 하나로 합쳐 표현할 수 있다\n",
        "result = 1 < n < 20\n",
        "print(result) "
      ],
      "execution_count": 0,
      "outputs": [
        {
          "output_type": "stream",
          "text": [
            "True\n",
            "False\n"
          ],
          "name": "stdout"
        }
      ]
    },
    {
      "cell_type": "code",
      "metadata": {
        "id": "GGWC-3gtiebW",
        "colab_type": "code",
        "outputId": "a8dfc480-7c64-4570-fce2-5b5d0704d761",
        "colab": {
          "base_uri": "https://localhost:8080/",
          "height": 158
        }
      },
      "source": [
        "# True 또는 False 와 같은 형태의 데이터를 불린(boolean)이라 한다\n",
        "# t와 f는 True와 False 값을 가지는 불린형 변수이다\n",
        "t = True\n",
        "f = False\n",
        "\n",
        "# not 는 True를 False로, False를 True로 바꾸는 논리연산자이다\n",
        "print(not t)\n",
        "print(not f)\n",
        "\n",
        "# and 는 논리곱 연산자이다. 연산의 대상이 모두 True일 때만 True값을 가진다\n",
        "print(t and t)\n",
        "print(t and f)\n",
        "print(f and f)\n",
        "\n",
        "# or 는 논리합 연산자이다. 연산의 대상중 하나가 True이면 True값을 가진다\n",
        "print(t or t)\n",
        "print(t or f)\n",
        "print(f or f)"
      ],
      "execution_count": 0,
      "outputs": [
        {
          "output_type": "stream",
          "text": [
            "False\n",
            "True\n",
            "True\n",
            "False\n",
            "False\n",
            "True\n",
            "True\n",
            "False\n"
          ],
          "name": "stdout"
        }
      ]
    },
    {
      "cell_type": "code",
      "metadata": {
        "id": "5wwuM-rrRusR",
        "colab_type": "code",
        "outputId": "b1d02003-2cd4-47f8-a8f2-52759f6e4838",
        "colab": {
          "base_uri": "https://localhost:8080/",
          "height": 34
        }
      },
      "source": [
        "total = 512\n",
        "\n",
        "if total > 100:\n",
        "  print('total은 100보다 큽니다')\n",
        "elif total == 100:\n",
        "  print('total은 100입니다')\n",
        "elif total >=50 and total < 100:\n",
        "  print('total은 50이상 100미만입니다')\n",
        "else:\n",
        "  print('total은 50미만입니다')\n"
      ],
      "execution_count": 0,
      "outputs": [
        {
          "output_type": "stream",
          "text": [
            "total은 100보다 큽니다\n"
          ],
          "name": "stdout"
        }
      ]
    },
    {
      "cell_type": "code",
      "metadata": {
        "id": "9QVIRjl6Vo8W",
        "colab_type": "code",
        "outputId": "f3f74aa8-3eab-4e40-8769-794b613c85ad",
        "colab": {
          "base_uri": "https://localhost:8080/",
          "height": 35
        }
      },
      "source": [
        "# 다음은 2,4,6,8 네 개의 숫자를 곱하는 예이다\n",
        "# nums는 2,4,6,8 네 개의 숫자를 가진 리스트이다\n",
        "nums = [ 2, 4, 6, 8 ]\n",
        "\n",
        "# 곱셈의 결과를 저장할 변수 p를 만들고\n",
        "# 미리 1을 저장한다\n",
        "p = 1\n",
        "\n",
        "# 리스트를 반복하는 동안 n은 각 숫자를 가리킨다\n",
        "for n in nums:\n",
        "  # 미리 준비한 변수 p에 숫자 n을 계속 곱한다\n",
        "  # 곱셈의 결과는 p가 되고 다시 반복하면 \n",
        "  # n과 곱셈을 할 p가 된다\n",
        "  p = p * n\n",
        "print('The product is:', p)"
      ],
      "execution_count": 0,
      "outputs": [
        {
          "output_type": "stream",
          "text": [
            "The product is: 384\n"
          ],
          "name": "stdout"
        }
      ]
    },
    {
      "cell_type": "code",
      "metadata": {
        "id": "yac3o7yeQiDb",
        "colab_type": "code",
        "outputId": "b650ee90-6d6f-4ef7-cff4-46dea4a97784",
        "colab": {
          "base_uri": "https://localhost:8080/",
          "height": 35
        }
      },
      "source": [
        "# 다음은 1~9까지 숫자에 2를 곱한 목록으로 만드는 예이다\n",
        "# nums는 1~9까지의 숫자를 가진 리스트이다\n",
        "nums = [ 1, 2, 3, 4, 5, 6, 7, 8, 9 ]\n",
        "\n",
        "# 인라인 for 루프를 사용하여 리스트를 반복하면서\n",
        "# 1~9의 숫자는 반복할 때마다 n에 저장되고\n",
        "# 2를 곱한다. []는 리스트를 만드는 명령이고 \n",
        "# 인라인 for 루프를 []사이에 두어\n",
        "# list 개체가 만들어 진다. \n",
        "doubled = [ n*2 for n in nums ]\n",
        "\n",
        "print('The list*2 is:', doubled )"
      ],
      "execution_count": 0,
      "outputs": [
        {
          "output_type": "stream",
          "text": [
            "The list*2 is: [2, 4, 6, 8, 10, 12, 14, 16, 18]\n"
          ],
          "name": "stdout"
        }
      ]
    },
    {
      "cell_type": "code",
      "metadata": {
        "id": "opTeGB3tW6Cz",
        "colab_type": "code",
        "outputId": "88c01f57-cced-42ea-80b1-72f4bb62fe4d",
        "colab": {
          "base_uri": "https://localhost:8080/",
          "height": 35
        }
      },
      "source": [
        "# 다음은 1~9에서 짝수만 추려 목록으로 만드는 예이다\n",
        "# nums는 1~9까지의 숫자를 가진 리스트이다\n",
        "nums = [ 1, 2, 3, 4, 5, 6, 7, 8, 9 ]\n",
        "\n",
        "# 인라인 for 루프를 사용하여 리스트를 반복하면서\n",
        "# if 다음에 짝수를 판변하는 수식(n%2==0)을 두어\n",
        "# 짝수이면 목록으로 추가하고(n) 아니면 다음 루프로 반복한다\n",
        "# []는 리스트를 만드는 명령이고 인라인 for 루프를 []사이에 두어\n",
        "# list 개체가 만들어 진다.\n",
        "evens =  [n for n in nums if n % 2 == 0 ]\n",
        "\n",
        "print('The even list is', evens)"
      ],
      "execution_count": 0,
      "outputs": [
        {
          "output_type": "stream",
          "text": [
            "The even list is [2, 4, 6, 8]\n"
          ],
          "name": "stdout"
        }
      ]
    },
    {
      "cell_type": "code",
      "metadata": {
        "id": "wfodMB-1lNVN",
        "colab_type": "code",
        "outputId": "99b3ad6c-3c29-4473-e604-50652166d5e4",
        "colab": {
          "base_uri": "https://localhost:8080/",
          "height": 175
        }
      },
      "source": [
        "# even()는 짝수여부를 논리값(True, False)알려주는 함수이다.\n",
        "# 짝수이면 True, 아니면 False를 돌려준다\n",
        "\n",
        "def even(n):\n",
        "  # %는 나눗셈의 나머지를 돌려준다. 짝수이면 나머지가 0이므로 \n",
        "  # ==(같음) 연산자를 이용하여 0과 비교한다\n",
        "  # 짝수의 나머지 0 == 0 이므로 n이 짝수이면 True를 돌려준다\n",
        "  return n % 2 == 0 \n",
        "\n",
        "# range()함수를 이용하여 1~9까지의 숫자를 반복한다\n",
        "# n은 반복하는 동안 1~9까지의 숫자를 가리키는 변수이다\n",
        "for n in range(1,10):\n",
        "  \n",
        "  # 반복하는 동안 even()함수에 n을 입력하고 그결과를 \n",
        "  # print()함수에 주어 결과를 출력하게 한다\n",
        "  print(n, even(n))"
      ],
      "execution_count": 0,
      "outputs": [
        {
          "output_type": "stream",
          "text": [
            "1 False\n",
            "2 True\n",
            "3 False\n",
            "4 True\n",
            "5 False\n",
            "6 True\n",
            "7 False\n",
            "8 True\n",
            "9 False\n"
          ],
          "name": "stdout"
        }
      ]
    },
    {
      "cell_type": "code",
      "metadata": {
        "id": "JHyhrjIRJxOE",
        "colab_type": "code",
        "outputId": "2b69c688-eab4-4b5e-e56c-cab3b33b62c9",
        "colab": {
          "base_uri": "https://localhost:8080/",
          "height": 34
        }
      },
      "source": [
        "# return은 여러 개의 값을 돌려줄 수 있다\n",
        "# 아래의 함수 x()는 4개의 값을 돌려주면\n",
        "# 돌려주는 값을 변수 4개가 받는다\n",
        "\n",
        "def x(): \n",
        "\treturn 1, 2, 3, 4\n",
        "\n",
        "a, b, c, d = x() \n",
        "\n",
        "print(a, b, c, d) "
      ],
      "execution_count": 0,
      "outputs": [
        {
          "output_type": "stream",
          "text": [
            "1 2 3 4\n"
          ],
          "name": "stdout"
        }
      ]
    },
    {
      "cell_type": "markdown",
      "metadata": {
        "id": "_MgQCiubKPE_",
        "colab_type": "text"
      },
      "source": [
        "# 재무관련 실습"
      ]
    },
    {
      "cell_type": "markdown",
      "metadata": {
        "id": "GOv-tp6m5Ldt",
        "colab_type": "text"
      },
      "source": [
        "단리이자계산"
      ]
    },
    {
      "cell_type": "code",
      "metadata": {
        "id": "wat9UktN_4fn",
        "colab_type": "code",
        "outputId": "f3728ca4-9a63-47cb-e698-598527e21367",
        "colab": {
          "base_uri": "https://localhost:8080/",
          "height": 35
        }
      },
      "source": [
        "# 은행에 1천만원을 예금하고 1년후에 인출하기로 하였다. 1년후 받는 금액은 다음과 같다\n",
        "a = 1000\n",
        "n = 1\n",
        "r = 0.05\n",
        "\n",
        "s_simple = a*(1+r*n)\n",
        "print(s_simple)"
      ],
      "execution_count": 0,
      "outputs": [
        {
          "output_type": "execute_result",
          "data": {
            "text/plain": [
              "1050.0"
            ]
          },
          "metadata": {
            "tags": []
          },
          "execution_count": 2
        }
      ]
    },
    {
      "cell_type": "code",
      "metadata": {
        "id": "mzjNC-hOLD9w",
        "colab_type": "code",
        "outputId": "613dc63c-15c4-4db4-d9de-d1023dc07be6",
        "colab": {
          "base_uri": "https://localhost:8080/",
          "height": 35
        }
      },
      "source": [
        "import scipy as sp\n",
        "\n",
        "a = 1000\n",
        "n = 1\n",
        "r = 0.05\n",
        "\n",
        "s_simple = sp.fv(r, n, 0, a)\n",
        "print(s_simple)"
      ],
      "execution_count": 0,
      "outputs": [
        {
          "output_type": "execute_result",
          "data": {
            "text/plain": [
              "-1050.0"
            ]
          },
          "metadata": {
            "tags": []
          },
          "execution_count": 11
        }
      ]
    },
    {
      "cell_type": "code",
      "metadata": {
        "id": "GSNcPZHmByPe",
        "colab_type": "code",
        "outputId": "d1f5e737-fc6a-49fa-a42f-af1b1e26b404",
        "colab": {
          "base_uri": "https://localhost:8080/",
          "height": 34
        }
      },
      "source": [
        "# 월단위로 이자율을 계산하면 다음과 같다.\n",
        "a = 1000\n",
        "n = 12\n",
        "r = 0.05/n\n",
        "\n",
        "s_simple = a*(1+r*n)\n",
        "print(s_simple)"
      ],
      "execution_count": 0,
      "outputs": [
        {
          "output_type": "stream",
          "text": [
            "1050.0\n"
          ],
          "name": "stdout"
        }
      ]
    },
    {
      "cell_type": "markdown",
      "metadata": {
        "id": "pQNdBh-L5HR0",
        "colab_type": "text"
      },
      "source": [
        "복리이자계산"
      ]
    },
    {
      "cell_type": "code",
      "metadata": {
        "id": "5BRP-tm3LdOp",
        "colab_type": "code",
        "outputId": "4f3992bd-5b3c-4c6a-9779-df3c8cd6c91a",
        "colab": {
          "base_uri": "https://localhost:8080/",
          "height": 34
        }
      },
      "source": [
        "import scipy as sp\n",
        "\n",
        "a = 1000\n",
        "n = 12\n",
        "r = 0.05\n",
        "\n",
        "s_simple = sp.fv(r/n, n, 0, a)\n",
        "print(s_simple)"
      ],
      "execution_count": 0,
      "outputs": [
        {
          "output_type": "stream",
          "text": [
            "-1051.161897881733\n"
          ],
          "name": "stdout"
        }
      ]
    },
    {
      "cell_type": "code",
      "metadata": {
        "id": "jjxIXgGoCNz5",
        "colab_type": "code",
        "outputId": "fb47df51-8f57-4600-b182-2be04144df89",
        "colab": {
          "base_uri": "https://localhost:8080/",
          "height": 34
        }
      },
      "source": [
        "# 5% 이자율을 월단위로 복리계산하는 경우\n",
        "a = 1000\n",
        "n = 12\n",
        "r = 0.05\n",
        "\n",
        "s_compound=a*(1+(r/n))**n\n",
        "print(s_compound)"
      ],
      "execution_count": 0,
      "outputs": [
        {
          "output_type": "stream",
          "text": [
            "1051.161897881733\n"
          ],
          "name": "stdout"
        }
      ]
    },
    {
      "cell_type": "code",
      "metadata": {
        "id": "z7TmPodC-jQq",
        "colab_type": "code",
        "outputId": "d7a1fa7f-8823-461f-b5f7-d37ac3865708",
        "colab": {
          "base_uri": "https://localhost:8080/",
          "height": 176
        }
      },
      "source": [
        "a = 1\n",
        "r = 1.0\n",
        "\n",
        "n = 1\n",
        "c_compound = a*(1+r/n)**n\n",
        "print(c_compound)\n",
        "\n",
        "n = 2\n",
        "c_compound = a*(1+r/n)**n\n",
        "print(c_compound)\n",
        "\n",
        "n = 4\n",
        "c_compound = a*(1+r/n)**n\n",
        "print(c_compound)\n",
        "\n",
        "n = 12\n",
        "c_compound = a*(1+r/n)**n\n",
        "print(c_compound)\n",
        "\n",
        "n = 52\n",
        "c_compound = a*(1+r/n)**n\n",
        "print(c_compound)\n",
        "\n",
        "n = 365\n",
        "c_compound = a*(1+r/n)**n\n",
        "print(c_compound)\n",
        "\n",
        "n = 8760\n",
        "c_compound = a*(1+r/n)**n\n",
        "print(c_compound)\n",
        "\n",
        "n = 525600\n",
        "c_compound = a*(1+r/n)**n\n",
        "print(c_compound)\n",
        "\n",
        "n = 31536000\n",
        "c_compound = a*(1+r/n)**n\n",
        "print(c_compound)\n"
      ],
      "execution_count": 0,
      "outputs": [
        {
          "output_type": "stream",
          "text": [
            "2.0\n",
            "2.25\n",
            "2.44140625\n",
            "2.613035290224676\n",
            "2.692596954437168\n",
            "2.7145674820219727\n",
            "2.7181266916179077\n",
            "2.7182792426663553\n",
            "2.7182817784689974\n"
          ],
          "name": "stdout"
        }
      ]
    },
    {
      "cell_type": "code",
      "metadata": {
        "id": "yt0Y6K3NzVzh",
        "colab_type": "code",
        "outputId": "5298e6b0-d4d9-4359-fd06-fada4854d597",
        "colab": {
          "base_uri": "https://localhost:8080/",
          "height": 52
        }
      },
      "source": [
        "import math\n",
        "\n",
        "a = 1\n",
        "r = 1.0\n",
        "c_compound = a*math.e**r\n",
        "print(c_compound)"
      ],
      "execution_count": 0,
      "outputs": [
        {
          "output_type": "stream",
          "text": [
            "2.718281828459045\n",
            "2.718281828459045\n"
          ],
          "name": "stdout"
        }
      ]
    },
    {
      "cell_type": "markdown",
      "metadata": {
        "id": "bUgiAc6EyLon",
        "colab_type": "text"
      },
      "source": [
        "순현재가치(NPV)"
      ]
    },
    {
      "cell_type": "code",
      "metadata": {
        "colab_type": "code",
        "outputId": "489dc2da-908f-42c6-fd59-9c24b38f0420",
        "id": "dAu2cCr5yZ87",
        "colab": {
          "base_uri": "https://localhost:8080/",
          "height": 34
        }
      },
      "source": [
        "cashflows = [ 12000 , 15000 , 18000 , 21000 , 26000 ]\n",
        "\n",
        "i = 0\n",
        "r = 0.015\n",
        "npv = -70000\n",
        "\n",
        "for c in cashflows:  \n",
        "    i = i + 1\n",
        "    npv = npv + c/(1+r)**i\n",
        "    \n",
        "print(npv)"
      ],
      "execution_count": 0,
      "outputs": [
        {
          "output_type": "stream",
          "text": [
            "17516.929512135568\n"
          ],
          "name": "stdout"
        }
      ]
    },
    {
      "cell_type": "code",
      "metadata": {
        "id": "OvO0yTm9PE1z",
        "colab_type": "code",
        "outputId": "701052b6-02e5-4ef2-9c76-5648e366ba28",
        "colab": {
          "base_uri": "https://localhost:8080/",
          "height": 35
        }
      },
      "source": [
        "import scipy as sp\n",
        "\n",
        "cashflows = [ -70000, 12000 , 15000 , 18000 , 21000 , 26000 ]\n",
        "r = 0.015\n",
        "\n",
        "npv = sp.npv(r, cashflows)\n",
        "print(npv)"
      ],
      "execution_count": 0,
      "outputs": [
        {
          "output_type": "execute_result",
          "data": {
            "text/plain": [
              "17516.929512135568"
            ]
          },
          "metadata": {
            "tags": []
          },
          "execution_count": 14
        }
      ]
    },
    {
      "cell_type": "markdown",
      "metadata": {
        "id": "mEQ3f0pmx1Ug",
        "colab_type": "text"
      },
      "source": [
        "NPV와 IRR의 관계"
      ]
    },
    {
      "cell_type": "code",
      "metadata": {
        "id": "B_EgBe2dQ2T3",
        "colab_type": "code",
        "outputId": "fd62e17d-1088-46cf-be1d-a7a93589b24f",
        "colab": {
          "base_uri": "https://localhost:8080/",
          "height": 53
        }
      },
      "source": [
        "import scipy as sp\n",
        "\n",
        "# 현금흐름을 cashflows 리스트에 저장한다\n",
        "cashflows = [ -70000, 12000 , 15000 , 18000 , 21000 , 26000 ]\n",
        "\n",
        "# scipy 라이브러리의 irr함수를 사용하여 내부수익률을 계산한다\n",
        "irr = sp.irr(cashflows)\n",
        "\n",
        "# 구한 IRR을 npv의 할인율로 사용하여 NPV를 구한다. 정확하다면 NPV는 0이다\n",
        "npv = sp.npv(irr, cashflows)\n",
        "\n",
        "# 결과를 출력한다. 결과는 문자열의 서식기능을 이용한다\n",
        "print('IRR {0:.1%} makes NPV {1:.2f} '.format(irr,npv))"
      ],
      "execution_count": 0,
      "outputs": [
        {
          "output_type": "stream",
          "text": [
            "IRR 8.7% makes NPV 0.00 \n",
            "IRR 8.7% makes NPV 0.00 \n"
          ],
          "name": "stdout"
        }
      ]
    },
    {
      "cell_type": "markdown",
      "metadata": {
        "id": "OImmhZI3UsDp",
        "colab_type": "text"
      },
      "source": [
        "산술평균과 기하편균"
      ]
    },
    {
      "cell_type": "code",
      "metadata": {
        "id": "1YVPTxapWtTY",
        "colab_type": "code",
        "outputId": "e752061b-125e-4c49-fc1b-9b0a3047ead0",
        "colab": {
          "base_uri": "https://localhost:8080/",
          "height": 52
        }
      },
      "source": [
        "returns = [ 0.1, 0.06, 0.05 ]\n",
        "\n",
        "arimean = 0.0\n",
        "geomean = 1.0\n",
        "n = len(returns)\n",
        "\n",
        "for r in returns:\n",
        "  arimean =  arimean + r\n",
        "  \n",
        "arimean = arimean /3  \n",
        "arimean = sum(returns) /3\n",
        "print('AriMean is {:.2%}'.format(arimean))\n",
        "\n",
        "for r in returns:\n",
        "  geomean = geomean * (1+r)\n",
        "  \n",
        "geomean = geomean ** (1/n) - 1\n",
        "print('GeoMean is {:.2%}'.format(geomean))"
      ],
      "execution_count": 0,
      "outputs": [
        {
          "output_type": "stream",
          "text": [
            "AriMean is 7.00%\n",
            "GeoMean is 6.98%\n"
          ],
          "name": "stdout"
        }
      ]
    },
    {
      "cell_type": "markdown",
      "metadata": {
        "id": "mHLxEwaqf6u4",
        "colab_type": "text"
      },
      "source": [
        "평균과 기대값"
      ]
    },
    {
      "cell_type": "code",
      "metadata": {
        "id": "nGINF8hXUHTQ",
        "colab_type": "code",
        "outputId": "62d1e322-7d36-48cb-f122-818a23fa63ab",
        "colab": {
          "base_uri": "https://localhost:8080/",
          "height": 53
        }
      },
      "source": [
        "nums = [1, 2, 3, 4, 5, 6]\n",
        "print( sum(nums)/len(nums) )"
      ],
      "execution_count": 0,
      "outputs": [
        {
          "output_type": "stream",
          "text": [
            "3.5\n",
            "3.0\n"
          ],
          "name": "stdout"
        }
      ]
    },
    {
      "cell_type": "code",
      "metadata": {
        "id": "hfOxCDAmWikg",
        "colab_type": "code",
        "outputId": "5a3c01a9-966d-492d-9904-4186208f45a9",
        "colab": {
          "base_uri": "https://localhost:8080/",
          "height": 35
        }
      },
      "source": [
        "import numpy as np\n",
        "\n",
        "a = np.array([1,2,3,4,5,6])\n",
        "print( a.mean() )"
      ],
      "execution_count": 0,
      "outputs": [
        {
          "output_type": "stream",
          "text": [
            "3.5\n"
          ],
          "name": "stdout"
        }
      ]
    },
    {
      "cell_type": "code",
      "metadata": {
        "id": "6RcYL9SeawRY",
        "colab_type": "code",
        "outputId": "00f9bf1f-cfd7-4aae-d802-4bb6bbf5c8ae",
        "colab": {
          "base_uri": "https://localhost:8080/",
          "height": 52
        }
      },
      "source": [
        "case  = [1,2,3,4,5,6] \n",
        "prob = [1/6,1/6,1/6,1/6,1/6,1/6]\n",
        "\n",
        "ex = 0.0\n",
        "for c, p in zip(case, prob):\n",
        "  ex = ex + c*p\n",
        "print(ex) \n",
        "\n",
        "ex = sum( c*p for c, p in zip(case, prob) )\n",
        "print(ex)  "
      ],
      "execution_count": 0,
      "outputs": [
        {
          "output_type": "stream",
          "text": [
            "3.5\n",
            "3.5\n"
          ],
          "name": "stdout"
        }
      ]
    },
    {
      "cell_type": "markdown",
      "metadata": {
        "id": "o2rHqb4xgS07",
        "colab_type": "text"
      },
      "source": [
        "이동평균"
      ]
    },
    {
      "cell_type": "code",
      "metadata": {
        "id": "J42raDlKhd0p",
        "colab_type": "code",
        "outputId": "80389d00-24c0-4c9f-d3bd-7371b5c18bd9",
        "colab": {
          "base_uri": "https://localhost:8080/",
          "height": 287
        }
      },
      "source": [
        "# 이동평균\n",
        "# 주가를 prices 리스트에 저장한다\n",
        "prices =[44800,44850,44600,43750,44000,43900,44350,45350,45500,45700]\n",
        "\n",
        "# 5일 이동평균으로 계산한다\n",
        "n = 5\n",
        "\n",
        "# prices 리스트를 반복하여 평균을 계산한다. \n",
        "# 다만 prices의 처음이 아닌 n번째부터 끝까지 반복한다.\n",
        "# 반복할 때마다 앞의 5개의 값을 가져와서 합계를 내고 평균을 계산한다.\n",
        "for p in prices[n:]:\n",
        "  # end_index는 prices 에서 \n",
        "  \n",
        "  end_index = prices.index(p)\n",
        "  begin_index = end_index - n\n",
        "  print(begin_index, end_index)\n",
        "\n",
        "for p in prices[n:]:\n",
        "  end_index = prices.index(p)\n",
        "  begin_index = end_index - n\n",
        "  print(prices[begin_index:end_index])\n",
        "  \n",
        "for p in prices[n:]:\n",
        "  end_index = prices.index(p)\n",
        "  begin_index = end_index - n\n",
        "  print(sum(prices[begin_index:end_index])/n)"
      ],
      "execution_count": 0,
      "outputs": [
        {
          "output_type": "stream",
          "text": [
            "0 5\n",
            "1 6\n",
            "2 7\n",
            "3 8\n",
            "4 9\n",
            "[44800, 44850, 44600, 43750, 44000]\n",
            "[44850, 44600, 43750, 44000, 43900]\n",
            "[44600, 43750, 44000, 43900, 44350]\n",
            "[43750, 44000, 43900, 44350, 45350]\n",
            "[44000, 43900, 44350, 45350, 45500]\n",
            "44400.0\n",
            "44220.0\n",
            "44120.0\n",
            "44270.0\n",
            "44620.0\n"
          ],
          "name": "stdout"
        }
      ]
    },
    {
      "cell_type": "markdown",
      "metadata": {
        "id": "E1uPBjZogbAN",
        "colab_type": "text"
      },
      "source": [
        "가중평균"
      ]
    },
    {
      "cell_type": "code",
      "metadata": {
        "id": "_0dmA-ShJ7So",
        "colab_type": "code",
        "outputId": "01c0234d-dce7-413a-ef8d-1b08132e2568",
        "colab": {
          "base_uri": "https://localhost:8080/",
          "height": 35
        }
      },
      "source": [
        "# 가중평균\n",
        "scores = [ 82, 90, 76 ]\n",
        "weight = [ 0.2, 0.35, 0.45 ]\n",
        "wgt_avg = 0.0\n",
        "\n",
        "for s,w in zip(scores, weight):\n",
        "  wgt_avg = wgt_avg + s*w\n",
        "\n",
        "print (wgt_avg)\n",
        "\n",
        "wgt_avg = sum( s*w for s, w in zip(scores, weight) )  \n",
        "print (wgt_avg)"
      ],
      "execution_count": 0,
      "outputs": [
        {
          "output_type": "stream",
          "text": [
            "82.1\n"
          ],
          "name": "stdout"
        }
      ]
    },
    {
      "cell_type": "markdown",
      "metadata": {
        "id": "_FHmdbqLgr56",
        "colab_type": "text"
      },
      "source": [
        "분산과 표준편차"
      ]
    },
    {
      "cell_type": "code",
      "metadata": {
        "id": "SzF5KL4sLzy1",
        "colab_type": "code",
        "outputId": "f3d2a7ac-5b6a-4a53-b1ec-6ce3f6763bd8",
        "colab": {
          "base_uri": "https://localhost:8080/",
          "height": 70
        }
      },
      "source": [
        "# 분산\n",
        "nums = [ 1, 2, 3, 4, 5 ]\n",
        "\n",
        "avg = sum(nums) / len(nums)\n",
        "sumsquare = 0.0\n",
        "\n",
        "for n in nums:\n",
        "  sumsquare = sumsquare + (n - avg)**2\n",
        "\n",
        "var = sumsquare / (len(nums)-1)\n",
        "print(var)\n",
        "\n",
        "sumsquare = sum( (n-avg)**2 for n in nums )\n",
        "var = sumsquare / (len(nums)-1)\n",
        "\n",
        "print(var)\n",
        "\n",
        "import math\n",
        "\n",
        "stdev = math.sqrt(var) \n",
        "print(stdev)"
      ],
      "execution_count": 0,
      "outputs": [
        {
          "output_type": "stream",
          "text": [
            "2.5\n",
            "2.5\n",
            "1.5811388300841898\n"
          ],
          "name": "stdout"
        }
      ]
    },
    {
      "cell_type": "markdown",
      "metadata": {
        "id": "3xOgbbJGyJ5n",
        "colab_type": "text"
      },
      "source": [
        "1.5.5\t정규분포에서 표준편차와 평균"
      ]
    },
    {
      "cell_type": "code",
      "metadata": {
        "id": "KSRU6cA8yL9i",
        "colab_type": "code",
        "outputId": "ec2f22d2-3c7c-4c73-c66f-b6af29ae1d29",
        "colab": {
          "base_uri": "https://localhost:8080/",
          "height": 269
        }
      },
      "source": [
        "import matplotlib.pyplot as plt\n",
        "import numpy as np\n",
        "import scipy.stats as stats\n",
        "import math\n",
        "\n",
        "mu = 0\n",
        "variance = 1\n",
        "sigma = math.sqrt(variance)\n",
        "x = np.linspace(mu - 3*sigma, mu + 3*sigma, 100)\n",
        "plt.plot(x, stats.norm.pdf(x, mu, sigma))\n",
        "plt.show()"
      ],
      "execution_count": 0,
      "outputs": [
        {
          "output_type": "display_data",
          "data": {
            "image/png": "[encoded data removed]",
            "text/plain": [
              "<Figure size 432x288 with 1 Axes>"
            ]
          },
          "metadata": {
            "tags": []
          }
        }
      ]
    },
    {
      "cell_type": "code",
      "metadata": {
        "id": "ensI6dHAyXbr",
        "colab_type": "code",
        "outputId": "1c866974-0c96-422d-ea9e-c70e7fe06428",
        "colab": {
          "base_uri": "https://localhost:8080/",
          "height": 269
        }
      },
      "source": [
        "import numpy as np\n",
        "import matplotlib.pyplot as plt\n",
        "from scipy.stats import norm\n",
        "\n",
        "# Plot between -10 and 10 with .001 steps.\n",
        "x_axis = np.arange(-10, 10, 0.001)\n",
        "# Mean = 0, SD = 2.\n",
        "plt.plot(x_axis, norm.pdf(x_axis,0,2))\n",
        "plt.show()"
      ],
      "execution_count": 0,
      "outputs": [
        {
          "output_type": "display_data",
          "data": {
            "image/png": "[encoded data removed]",
            "text/plain": [
              "<Figure size 432x288 with 1 Axes>"
            ]
          },
          "metadata": {
            "tags": []
          }
        }
      ]
    },
    {
      "cell_type": "markdown",
      "metadata": {
        "id": "H5_RYAZYinq5",
        "colab_type": "text"
      },
      "source": [
        "상관계수"
      ]
    },
    {
      "cell_type": "code",
      "metadata": {
        "id": "_xFO0Z9_oyX5",
        "colab_type": "code",
        "outputId": "7c80ddb5-3f5b-42e6-9783-395574bfb72c",
        "colab": {
          "base_uri": "https://localhost:8080/",
          "height": 71
        }
      },
      "source": [
        "# 상관계수\n",
        "import math\n",
        "\n",
        "def mean(x): \n",
        "  return sum(x) / len(x)\n",
        "\n",
        "def sum_of_product(v,w): \n",
        "  return sum(v_i * w_i for v_i, w_i in zip(v,w)) \n",
        "\n",
        "def sum_of_squares(v): \n",
        "  return sum_of_product(v,v) \n",
        "\n",
        "def deviation(x):  \n",
        "  x_bar = mean(x) \n",
        "  return [x_i - x_bar for x_i in x] \n",
        "\n",
        "def variance(x): \n",
        "  n = len(x) \n",
        "  deviations = deviation(x) \n",
        "  return sum_of_squares(deviations) / (n-1) \n",
        "\n",
        "def covariance(x,y): \n",
        "  n = len(x) \n",
        "  return sum_of_product(deviation(x), deviation(y)) / (n-1) \n",
        "\n",
        "def standard_deviation(x): \n",
        "  return math.sqrt(variance(x)) \n",
        "\n",
        "def correlation(x,y): \n",
        "  stdev_x = standard_deviation(x) \n",
        "  stdev_y = standard_deviation(y) \n",
        "  if stdev_x > 0 and stdev_y > 0: \n",
        "    return covariance(x,y) / (stdev_x * stdev_y)\n",
        "  else : \n",
        "    return 0 # 편차가 존재하지 않는다면 상관관계는 0\n",
        "\n",
        "x=[41,43,38,37]\n",
        "y=[61,63,56,55]\n",
        "print(correlation(x,y))\n",
        "\n",
        "x=[35,45,35,34]\n",
        "y=[65,54,64,67]\n",
        "print(correlation(x,y))\n",
        "\n",
        "x=[35,45,35,34]\n",
        "y=[65,66,64,68]\n",
        "print(correlation(x,y))\n"
      ],
      "execution_count": 0,
      "outputs": [
        {
          "output_type": "stream",
          "text": [
            "0.9950765901904326\n",
            "-0.9910397700847882\n",
            "0.009405128133399419\n"
          ],
          "name": "stdout"
        }
      ]
    },
    {
      "cell_type": "markdown",
      "metadata": {
        "id": "Gdux3I4VMMqA",
        "colab_type": "text"
      },
      "source": [
        "3장 평균-분산 포트폴리오 이론"
      ]
    },
    {
      "cell_type": "code",
      "metadata": {
        "id": "8TWeDX4cNIT3",
        "colab_type": "code",
        "outputId": "25fa3d2b-9068-4fb7-b64c-28f5ae1618ae",
        "colab": {
          "base_uri": "https://localhost:8080/",
          "height": 70
        }
      },
      "source": [
        "stock_a = [ 0.07, 0.04, 0.01 ]\n",
        "stock_b = [ 0.13, 0.04, -0.05 ]\n",
        "prob  = [ 1/3, 1/3, 1/3 ]\n",
        "ex_a  = 0.0\n",
        "ex_b  = 0.0\n",
        "wgt_a = 0.5\n",
        "wgt_b = 0.5\n",
        "for s, p in zip(stock_a, prob):\n",
        "  ex_a = ex_a + s*p\n",
        "for s, p in zip(stock_b, prob):\n",
        "  ex_b = ex_b + s*p\n",
        "ex_p = wgt_a * ex_a + wgt_b * ex_b\n",
        "print('주식A의 기대수익률은 {:.2%}'.format(ex_a))\n",
        "print('주식B의 기대수익률은 {:.2%}'.format(ex_b))\n",
        "print('포트폴리오의 기대수익률은 {:.2%}'.format(ex_p))\n"
      ],
      "execution_count": 0,
      "outputs": [
        {
          "output_type": "stream",
          "text": [
            "주식A의 기대수익률은 4.00%\n",
            "주식B의 기대수익률은 4.00%\n",
            "포트폴리오의 기대수익률은 4.00%\n"
          ],
          "name": "stdout"
        }
      ]
    },
    {
      "cell_type": "code",
      "metadata": {
        "id": "6Hz7NcL9Rs18",
        "colab_type": "code",
        "outputId": "a0469711-3456-44b1-ee2b-5688319b9dff",
        "colab": {
          "base_uri": "https://localhost:8080/",
          "height": 87
        }
      },
      "source": [
        "s1='abc'\n",
        "s2='def'\n",
        "\n",
        "\n",
        "print(list(zip(a1,a2)))\n",
        "\n",
        "for x, y in zip(a1, a2):\n",
        "  print(x,y)"
      ],
      "execution_count": 0,
      "outputs": [
        {
          "output_type": "stream",
          "text": [
            "[('a', 'd'), ('b', 'e'), ('c', 'f')]\n",
            "a d\n",
            "b e\n",
            "c f\n"
          ],
          "name": "stdout"
        }
      ]
    },
    {
      "cell_type": "code",
      "metadata": {
        "id": "vJL7vEAqZvw0",
        "colab_type": "code",
        "outputId": "4b7ed605-57ae-426b-c933-d0d284e9572e",
        "colab": {
          "base_uri": "https://localhost:8080/",
          "height": 263
        }
      },
      "source": [
        "import numpy as np\n",
        "\n",
        "a = np.matrix( [ [1, 2], [3, 4] ] )\n",
        "a = np.matrix( '1 2; 3 4' )\n",
        "ap = a + a\n",
        "am = a - a\n",
        "aa = a * a\n",
        "amul = np.multiply(a, a)\n",
        "ad = a / a\n",
        "print(ap)\n",
        "print(am)\n",
        "print(aa)\n",
        "print(amul)\n",
        "print(ad)\n",
        "\n",
        "aT = a.T\n",
        "print(aT)\n",
        "aI = a.I\n",
        "print(aI)"
      ],
      "execution_count": 0,
      "outputs": [
        {
          "output_type": "stream",
          "text": [
            "[[2 4]\n",
            " [6 8]]\n",
            "[[0 0]\n",
            " [0 0]]\n",
            "[[ 7 10]\n",
            " [15 22]]\n",
            "[[ 1  4]\n",
            " [ 9 16]]\n",
            "[[1. 1.]\n",
            " [1. 1.]]\n",
            "[[1 3]\n",
            " [2 4]]\n",
            "[[-2.   1. ]\n",
            " [ 1.5 -0.5]]\n"
          ],
          "name": "stdout"
        }
      ]
    },
    {
      "cell_type": "code",
      "metadata": {
        "id": "dOAtP829NJwS",
        "colab_type": "code",
        "outputId": "92f1029b-745c-4647-acf8-0cb3138e4aff",
        "colab": {
          "base_uri": "https://localhost:8080/",
          "height": 125
        }
      },
      "source": [
        "\n",
        "\n",
        "# 경기국면별 확률과 주식의 기대수익률\n",
        "stock_a = [ 0.07, 0.04, 0.01 ]\n",
        "stock_b = [ 0.13, 0.04, -0.05 ]\n",
        "prob = [ 1/3, 1/3, 1/3 ]\n",
        "\n",
        "ex_a = 0.0\n",
        "ex_b = 0.0\n",
        "wgt_a = 0.5\n",
        "wgt_b = 1.0 - wgt_a\n",
        "\n",
        "# for s, p in zip(stock_a, prob):\n",
        "#   ex_a = ex_a + s*p\n",
        "\n",
        "ex_a = sum(s*p for s, p in zip(stock_a, prob)) \n",
        "\n",
        "# for s, p in zip(stock_b, prob):\n",
        "#   ex_b = ex_b + s*p\n",
        "  \n",
        "ex_b = sum(s*p for s, p in zip(stock_b, prob))   \n",
        "\n",
        "\n",
        "ex_p = wgt_a * ex_a + wgt_b * ex_b\n",
        "\n",
        "print('주식A의 기대수익률은 {:.2%}'.format(ex_a))\n",
        "print('주식B의 기대수익률은 {:.2%}'.format(ex_b))\n",
        "print('포트폴리오의 기대수익률은 {:.2%}'.format(ex_p))\n",
        "\n",
        "var_a = 0.0\n",
        "var_b = 0.0\n",
        "\n",
        "\n",
        "# for s, p in zip(stock_a, prob):\n",
        "#   var_a = var_a + p*(s-ex_a)**2\n",
        "\n",
        "var_a = sum(p*(s-ex_b)**2 for s,p in zip(stock_a, prob))  \n",
        "\n",
        "# for s, p in zip(stock_b, prob):\n",
        "#   var_b = var_b + p*(s-ex_b)**2\n",
        "\n",
        "var_b = sum(p*(s-ex_b)**2 for s,p in zip(stock_b, prob))\n",
        "\n",
        "print('주식A의 분산은 {:.2%}'.format(var_a))\n",
        "print('주식B의 분산은 {:.2%}'.format(var_b))\n",
        "\n",
        "cov = sum(p*(a-ex_a)*(b-ex_b) for a,b,p in zip(stock_a, stock_b, prob))\n",
        "\n",
        "var_p = wgt_a**2 * var_a + wgt_b**2 * var_b + 2*wgt_a*wgt_b*cov\n",
        "\n",
        "print('포트폴리오의 분산은 {:.2%}'.format(var_p))"
      ],
      "execution_count": 0,
      "outputs": [
        {
          "output_type": "stream",
          "text": [
            "주식A의 기대수익률은 4.00%\n",
            "주식B의 기대수익률은 4.00%\n",
            "포트폴리오의 기대수익률은 4.00%\n",
            "주식A의 분산은 0.06%\n",
            "주식B의 분산은 0.54%\n",
            "포트폴리오의 분산은 0.24%\n"
          ],
          "name": "stdout"
        }
      ]
    },
    {
      "cell_type": "markdown",
      "metadata": {
        "id": "ZfiY30ZYwZJF",
        "colab_type": "text"
      },
      "source": [
        "Numpy array  기본사용방법"
      ]
    },
    {
      "cell_type": "code",
      "metadata": {
        "id": "bOiOhb04Hsa-",
        "colab_type": "code",
        "outputId": "59f4337a-3570-4310-cf08-511fbcbaa64f",
        "colab": {
          "base_uri": "https://localhost:8080/",
          "height": 510
        }
      },
      "source": [
        "import numpy as np\n",
        "\n",
        "\n",
        "a1 = np.array([1,2,3,4])\n",
        "a2 = np.array([[1,2],[3,4]])\n",
        "\n",
        "print('a1의 값:')\n",
        "print(a1)\n",
        "\n",
        "print('a1의 값:(각 원소)')\n",
        "print(a1[0], a1[1], a1[2], a1[3])\n",
        "\n",
        "print('a1의 차원은? ', a1.ndim)\n",
        "print('a1의 행의 갯수? ', len(a1))\n",
        "print('a1의 크기는?', a1.shape)\n",
        "print()\n",
        "\n",
        "print('a2의 값:(모든 값)')\n",
        "print(a2)\n",
        "\n",
        "print('a2의 값:(각 원소)')\n",
        "print(a2[0][0], a2[0][1])\n",
        "print(a2[1][0], a2[1][1])\n",
        "\n",
        "print('a2의 값:(각 원소)')\n",
        "print(a2[0,0], a2[0,1])\n",
        "print(a2[1,0], a2[1,1])\n",
        "\n",
        "print('a2의 차원은? ', a2.ndim)\n",
        "print('a2의 행의 갯수? ', len(a2))\n",
        "print('a2의 열의 갯수? ', len(a2[0]))\n",
        "print('a2의 크기는? ', a2.shape)\n",
        "\n",
        "print()\n",
        "\n",
        "a0 = np.zeros(9)\n",
        "print('zero 벡터:\\n', a0)\n",
        "\n",
        "a0 = np.zeros((3,3))\n",
        "print('3x3의 zero 행렬:\\n', a0)"
      ],
      "execution_count": 0,
      "outputs": [
        {
          "output_type": "stream",
          "text": [
            "a1의 값:\n",
            "[1 2 3 4]\n",
            "a1의 값:(각 원소)\n",
            "1 2 3 4\n",
            "a1의 차원은?  1\n",
            "a1의 행의 갯수?  4\n",
            "a1의 크기는? (4,)\n",
            "\n",
            "a2의 값:(모든 값)\n",
            "[[1 2]\n",
            " [3 4]]\n",
            "a2의 값:(각 원소)\n",
            "1 2\n",
            "3 4\n",
            "a2의 값:(각 원소)\n",
            "1 2\n",
            "3 4\n",
            "a2의 차원은?  2\n",
            "a2의 행의 갯수?  2\n",
            "a2의 열의 갯수?  2\n",
            "a2의 크기는?  (2, 2)\n",
            "\n",
            "zero 벡터:\n",
            " [0. 0. 0. 0. 0. 0. 0. 0. 0.]\n",
            "3x3의 zero 행렬:\n",
            " [[0. 0. 0.]\n",
            " [0. 0. 0.]\n",
            " [0. 0. 0.]]\n"
          ],
          "name": "stdout"
        }
      ]
    },
    {
      "cell_type": "code",
      "metadata": {
        "id": "ADcvy0SExLcd",
        "colab_type": "code",
        "outputId": "f5e90e05-567a-4660-e40b-64c00d03c4a8",
        "colab": {
          "base_uri": "https://localhost:8080/",
          "height": 246
        }
      },
      "source": [
        "import numpy as np\n",
        "\n",
        "a3 = np.array([1, 2, 3, 4, 5, 6, 7, 8, 9])\n",
        "print(a3)\n",
        "\n",
        "a33 = a3.reshape(3, 3)\n",
        "print('3x3 행렬로 바꾸면: \\n', a33)\n",
        "\n",
        "a33T = a33.T\n",
        "print('전치행렬은 : \\n', a33T)"
      ],
      "execution_count": 0,
      "outputs": [
        {
          "output_type": "stream",
          "text": [
            "[1 2 3 4 5 6 7 8 9]\n",
            "3x3 행렬로 바꾸면: \n",
            " [[1 2 3]\n",
            " [4 5 6]\n",
            " [7 8 9]]\n",
            "전치행렬은 : \n",
            " [[1 4 7]\n",
            " [2 5 8]\n",
            " [3 6 9]]\n",
            "[ 2  4  6  8 10 12 14 16 18]\n",
            "[[ 2  4  6]\n",
            " [ 8 10 12]\n",
            " [14 16 18]]\n"
          ],
          "name": "stdout"
        }
      ]
    },
    {
      "cell_type": "code",
      "metadata": {
        "id": "UPZaxEoB-Cll",
        "colab_type": "code",
        "outputId": "2182425c-de22-47bc-e648-e1f1403611b8",
        "colab": {
          "base_uri": "https://localhost:8080/",
          "height": 334
        }
      },
      "source": [
        "import numpy as np\n",
        "\n",
        "a1 = np.array([[1, 2], [3, 4]])\n",
        "a2 = np.array([[0, 1], [2, 3]])\n",
        "\n",
        "a11 = a1 * 2\n",
        "print('a1*2의 결과는:\\n', a11)\n",
        "\n",
        "a3 = a1 + a2\n",
        "print('a1+a2의 결과는:\\n', a3)\n",
        "\n",
        "a4 = a1 - a2\n",
        "print('a1-a2의 결과는:\\n', a4)\n",
        "\n",
        "a5 = a1 * a2\n",
        "print('a1*a2의 결과는:\\n', a5)\n",
        "\n",
        "a6 = np.matmul(a1, a2)\n",
        "print('matmul(a1,a2)의 결과는:\\n', a6)\n",
        "\n",
        "a7 = np.dot(a1, a2)\n",
        "print('dot(a1,a2)의 결과는:\\n', a7)\n",
        "\n",
        "# print(np.dot(2, a3))\n",
        "# print(np.dot(2, a33))\n"
      ],
      "execution_count": 0,
      "outputs": [
        {
          "output_type": "stream",
          "text": [
            "a1*2의 결과는:\n",
            " [[2 4]\n",
            " [6 8]]\n",
            "a1+a2의 결과는:\n",
            " [[1 3]\n",
            " [5 7]]\n",
            "a1-a2의 결과는:\n",
            " [[1 1]\n",
            " [1 1]]\n",
            "a1*a2의 결과는:\n",
            " [[ 0  2]\n",
            " [ 6 12]]\n",
            "matmul(a1,a2)의 결과는:\n",
            " [[ 4  7]\n",
            " [ 8 15]]\n",
            "dot(a1,a2)의 결과는:\n",
            " [[ 4  7]\n",
            " [ 8 15]]\n"
          ],
          "name": "stdout"
        }
      ]
    },
    {
      "cell_type": "code",
      "metadata": {
        "id": "rzZeeM1JGKch",
        "colab_type": "code",
        "outputId": "c815d849-cd55-490d-80dd-313f3976a719",
        "colab": {
          "base_uri": "https://localhost:8080/",
          "height": 122
        }
      },
      "source": [
        "import numpy as np\n",
        "\n",
        "# 경기국면별 확률과 주식의 기대수익률\n",
        "stock_a = np.array([ 0.07, 0.04, 0.01 ])\n",
        "stock_b = np.array([ 0.13, 0.04, -0.05 ])\n",
        "prob =np.array( [ 1/3, 1/3, 1/3 ])\n",
        "\n",
        "wgt_a = 0.5\n",
        "wgt_b = 1.0 - wgt_a\n",
        "wgt_ab = np.array([wgt_a, wgt_b])\n",
        "\n",
        "ex_a = np.dot(prob, stock_a)\n",
        "ex_b = np.dot(prob, stock_b)\n",
        "ex_ab = np.array([ex_a, ex_b])\n",
        "ex_p = np.dot(wgt_ab, ex_ab)\n",
        "\n",
        "print('주식A의 기대수익률은 {:.2%}'.format(ex_a))\n",
        "print('주식B의 기대수익률은 {:.2%}'.format(ex_b))\n",
        "print('포트폴리오의 기대수익률은 {:.2%}'.format(ex_p))\n",
        "\n",
        "var_a = 0.0\n",
        "var_b = 0.0\n",
        "\n",
        "\n",
        "# for s, p in zip(stock_a, prob):\n",
        "#   var_a = var_a + p*(s-ex_a)**2\n",
        "\n",
        "var_a = sum(p*(s-ex_b)**2 for s,p in zip(stock_a, prob))  \n",
        "\n",
        "# for s, p in zip(stock_b, prob):\n",
        "#   var_b = var_b + p*(s-ex_b)**2\n",
        "\n",
        "var_b = sum(p*(s-ex_b)**2 for s,p in zip(stock_b, prob))\n",
        "\n",
        "print('주식A의 표준편차는 {:.2%}'.format(np.sqrt(var_a)))\n",
        "print('주식B의 표준편차는 {:.2%}'.format(np.sqrt(var_b)))\n",
        "\n",
        "cov = sum(p*(a-ex_a)*(b-ex_b) for a,b,p in zip(stock_a,stock_b,prob))\n",
        "var_p = np.dot(wgt_ab.T,np.dot(cov,wgt_ab))\n",
        "# var_p = wgt_a**2 * var_a + wgt_b**2 * var_b + 2*wgt_a*wgt_b*cov\n",
        "# print(np.dot([0.5,0.5],np.dot(cov,[0.5,0.5])))\n",
        "print('포트폴리오의 분산은 {:.2%}'.format(var_p))\n"
      ],
      "execution_count": 0,
      "outputs": [
        {
          "output_type": "stream",
          "text": [
            "주식A의 기대수익률은 4.00%\n",
            "주식B의 기대수익률은 4.00%\n",
            "포트폴리오의 기대수익률은 4.00%\n",
            "주식A의 표준편차는 2.45%\n",
            "주식B의 표준편차는 7.35%\n",
            "포트폴리오의 분산은 0.09%\n"
          ],
          "name": "stdout"
        }
      ]
    },
    {
      "cell_type": "code",
      "metadata": {
        "id": "V95bzEs2P4U2",
        "colab_type": "code",
        "outputId": "ec10a4e1-70b1-4f7d-8605-199a140056f7",
        "colab": {
          "base_uri": "https://localhost:8080/",
          "height": 52
        }
      },
      "source": [
        ""
      ],
      "execution_count": 0,
      "outputs": [
        {
          "output_type": "stream",
          "text": [
            "[[0.4, 0.6]]\n",
            "[[0.4], [0.6]]\n"
          ],
          "name": "stdout"
        }
      ]
    }
  ]
}